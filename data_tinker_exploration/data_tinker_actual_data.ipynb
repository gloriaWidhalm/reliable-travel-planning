{
 "cells": [
  {
   "cell_type": "code",
   "execution_count": 1,
   "metadata": {
    "ExecuteTime": {
     "end_time": "2025-02-13T22:40:58.487530200Z",
     "start_time": "2025-02-13T22:40:57.493290Z"
    },
    "collapsed": false
   },
   "outputs": [],
   "source": [
    "import duckdb\n",
    "import pandas as pd\n",
    "\n",
    "# Connect to the database\n",
    "connection = duckdb.connect(\"../data/transport_data.db\", read_only=False)\n",
    "\n",
    "\n",
    "query = \"\"\" CREATE TABLE IF NOT EXISTS services AS SELECT * FROM '../data/delay_data/*.csv'\"\"\"\n",
    "# @TODO: Add logic to rename the columns\n",
    "connection.execute(query)\n",
    "\n",
    "r = connection.sql(\"DESCRIBE services\")"
   ]
  },
  {
   "cell_type": "code",
   "execution_count": 2,
   "metadata": {
    "ExecuteTime": {
     "end_time": "2025-02-13T22:41:03.747166500Z",
     "start_time": "2025-02-13T22:41:03.666213600Z"
    },
    "collapsed": false
   },
   "outputs": [],
   "source": [
    "import duckdb\n",
    "\n",
    "connection = duckdb.connect(\"../transport_data.db\", read_only=False)"
   ]
  },
  {
   "cell_type": "code",
   "execution_count": 5,
   "metadata": {
    "ExecuteTime": {
     "end_time": "2025-01-30T20:58:24.874732400Z",
     "start_time": "2025-01-30T20:58:24.790363400Z"
    },
    "collapsed": false
   },
   "outputs": [
    {
     "data": {
      "text/html": "<div>\n<style scoped>\n    .dataframe tbody tr th:only-of-type {\n        vertical-align: middle;\n    }\n\n    .dataframe tbody tr th {\n        vertical-align: top;\n    }\n\n    .dataframe thead th {\n        text-align: right;\n    }\n</style>\n<table border=\"1\" class=\"dataframe\">\n  <thead>\n    <tr style=\"text-align: right;\">\n      <th></th>\n      <th>OPERATING_DAY</th>\n      <th>TRIP_IDENTIFIER</th>\n      <th>OPERATOR_ID</th>\n      <th>OPERATOR_ABK</th>\n      <th>OPERATOR_NAME</th>\n      <th>PRODUCT_ID</th>\n      <th>LINE_ID</th>\n      <th>LINE_TEXT</th>\n      <th>CYCLE_ID</th>\n      <th>TRANSPORT_MODE_TEXT</th>\n      <th>...</th>\n      <th>CANCELLED_TF</th>\n      <th>BPUIC</th>\n      <th>STOP_NAME</th>\n      <th>ARRIVAL_TIME</th>\n      <th>ARRIVAL_PREDICTION</th>\n      <th>ARRIVAL_PREDICTION_STATUS</th>\n      <th>DEPARTURE_TIME</th>\n      <th>DEPARTURE_PREDICTION</th>\n      <th>DEPARTURE_PREDICTION_STATUS</th>\n      <th>THROUGH_TF</th>\n    </tr>\n  </thead>\n  <tbody>\n    <tr>\n      <th>0</th>\n      <td>2024-05-01</td>\n      <td>70681-8006C5-8000774-165900</td>\n      <td>80:06____</td>\n      <td>DB</td>\n      <td>DB Regio AG Baden-Württemberg</td>\n      <td>Zug</td>\n      <td>70681</td>\n      <td>RE7</td>\n      <td>None</td>\n      <td>RE</td>\n      <td>...</td>\n      <td>True</td>\n      <td>8500090</td>\n      <td>Basel Bad Bf</td>\n      <td>01.05.2024 19:23</td>\n      <td>NaT</td>\n      <td>UNBEKANNT</td>\n      <td>None</td>\n      <td>NaT</td>\n      <td>UNBEKANNT</td>\n      <td>False</td>\n    </tr>\n    <tr>\n      <th>1</th>\n      <td>2024-05-01</td>\n      <td>80:800631:17238:000</td>\n      <td>80:800631</td>\n      <td>DB</td>\n      <td>DB Regio AG Baden-Württemberg</td>\n      <td>Zug</td>\n      <td>17238</td>\n      <td>RB</td>\n      <td>None</td>\n      <td>RB</td>\n      <td>...</td>\n      <td>False</td>\n      <td>8500090</td>\n      <td>Basel Bad Bf</td>\n      <td>01.05.2024 07:05</td>\n      <td>2024-05-01 07:06:00</td>\n      <td>PROGNOSE</td>\n      <td>None</td>\n      <td>NaT</td>\n      <td>None</td>\n      <td>False</td>\n    </tr>\n    <tr>\n      <th>2</th>\n      <td>2024-05-01</td>\n      <td>80:800631:17239:000</td>\n      <td>80:800631</td>\n      <td>DB</td>\n      <td>DB Regio AG Baden-Württemberg</td>\n      <td>Zug</td>\n      <td>17239</td>\n      <td>RB</td>\n      <td>None</td>\n      <td>RB</td>\n      <td>...</td>\n      <td>False</td>\n      <td>8500090</td>\n      <td>Basel Bad Bf</td>\n      <td>None</td>\n      <td>NaT</td>\n      <td>None</td>\n      <td>01.05.2024 07:53</td>\n      <td>2024-05-01 07:53:00</td>\n      <td>PROGNOSE</td>\n      <td>False</td>\n    </tr>\n    <tr>\n      <th>3</th>\n      <td>2024-05-01</td>\n      <td>80:800631:17241:000</td>\n      <td>80:800631</td>\n      <td>DB</td>\n      <td>DB Regio AG Baden-Württemberg</td>\n      <td>Zug</td>\n      <td>17241</td>\n      <td>RB</td>\n      <td>None</td>\n      <td>RB</td>\n      <td>...</td>\n      <td>False</td>\n      <td>8500090</td>\n      <td>Basel Bad Bf</td>\n      <td>None</td>\n      <td>NaT</td>\n      <td>None</td>\n      <td>01.05.2024 08:53</td>\n      <td>2024-05-01 08:53:00</td>\n      <td>PROGNOSE</td>\n      <td>False</td>\n    </tr>\n    <tr>\n      <th>4</th>\n      <td>2024-05-01</td>\n      <td>80:800631:17243:000</td>\n      <td>80:800631</td>\n      <td>DB</td>\n      <td>DB Regio AG Baden-Württemberg</td>\n      <td>Zug</td>\n      <td>17243</td>\n      <td>RB</td>\n      <td>None</td>\n      <td>RB</td>\n      <td>...</td>\n      <td>True</td>\n      <td>8500090</td>\n      <td>Basel Bad Bf</td>\n      <td>None</td>\n      <td>NaT</td>\n      <td>UNBEKANNT</td>\n      <td>01.05.2024 09:53</td>\n      <td>NaT</td>\n      <td>UNBEKANNT</td>\n      <td>False</td>\n    </tr>\n    <tr>\n      <th>5</th>\n      <td>2024-05-01</td>\n      <td>80:800631:17244:000</td>\n      <td>80:800631</td>\n      <td>DB</td>\n      <td>DB Regio AG Baden-Württemberg</td>\n      <td>Zug</td>\n      <td>17244</td>\n      <td>RB</td>\n      <td>None</td>\n      <td>RB</td>\n      <td>...</td>\n      <td>False</td>\n      <td>8500090</td>\n      <td>Basel Bad Bf</td>\n      <td>01.05.2024 08:08</td>\n      <td>2024-05-01 08:08:00</td>\n      <td>PROGNOSE</td>\n      <td>None</td>\n      <td>NaT</td>\n      <td>None</td>\n      <td>False</td>\n    </tr>\n    <tr>\n      <th>6</th>\n      <td>2024-05-01</td>\n      <td>80:800631:17245:000</td>\n      <td>80:800631</td>\n      <td>DB</td>\n      <td>DB Regio AG Baden-Württemberg</td>\n      <td>Zug</td>\n      <td>17245</td>\n      <td>RB</td>\n      <td>None</td>\n      <td>RB</td>\n      <td>...</td>\n      <td>False</td>\n      <td>8500090</td>\n      <td>Basel Bad Bf</td>\n      <td>None</td>\n      <td>NaT</td>\n      <td>None</td>\n      <td>01.05.2024 10:53</td>\n      <td>2024-05-01 10:53:00</td>\n      <td>PROGNOSE</td>\n      <td>False</td>\n    </tr>\n    <tr>\n      <th>7</th>\n      <td>2024-05-01</td>\n      <td>80:800631:17248:000</td>\n      <td>80:800631</td>\n      <td>DB</td>\n      <td>DB Regio AG Baden-Württemberg</td>\n      <td>Zug</td>\n      <td>17248</td>\n      <td>RB</td>\n      <td>None</td>\n      <td>RB</td>\n      <td>...</td>\n      <td>True</td>\n      <td>8500090</td>\n      <td>Basel Bad Bf</td>\n      <td>01.05.2024 09:08</td>\n      <td>NaT</td>\n      <td>UNBEKANNT</td>\n      <td>None</td>\n      <td>NaT</td>\n      <td>UNBEKANNT</td>\n      <td>False</td>\n    </tr>\n    <tr>\n      <th>8</th>\n      <td>2024-05-01</td>\n      <td>80:800631:17249:000</td>\n      <td>80:800631</td>\n      <td>DB</td>\n      <td>DB Regio AG Baden-Württemberg</td>\n      <td>Zug</td>\n      <td>17249</td>\n      <td>RB</td>\n      <td>None</td>\n      <td>RB</td>\n      <td>...</td>\n      <td>False</td>\n      <td>8500090</td>\n      <td>Basel Bad Bf</td>\n      <td>None</td>\n      <td>NaT</td>\n      <td>None</td>\n      <td>01.05.2024 11:53</td>\n      <td>2024-05-01 11:54:00</td>\n      <td>PROGNOSE</td>\n      <td>False</td>\n    </tr>\n    <tr>\n      <th>9</th>\n      <td>2024-05-01</td>\n      <td>80:800631:17250:000</td>\n      <td>80:800631</td>\n      <td>DB</td>\n      <td>DB Regio AG Baden-Württemberg</td>\n      <td>Zug</td>\n      <td>17250</td>\n      <td>RB</td>\n      <td>None</td>\n      <td>RB</td>\n      <td>...</td>\n      <td>False</td>\n      <td>8500090</td>\n      <td>Basel Bad Bf</td>\n      <td>01.05.2024 10:08</td>\n      <td>2024-05-01 10:09:00</td>\n      <td>PROGNOSE</td>\n      <td>None</td>\n      <td>NaT</td>\n      <td>None</td>\n      <td>False</td>\n    </tr>\n  </tbody>\n</table>\n<p>10 rows × 21 columns</p>\n</div>",
      "text/plain": "  OPERATING_DAY              TRIP_IDENTIFIER OPERATOR_ID OPERATOR_ABK  \\\n0    2024-05-01  70681-8006C5-8000774-165900   80:06____           DB   \n1    2024-05-01          80:800631:17238:000   80:800631           DB   \n2    2024-05-01          80:800631:17239:000   80:800631           DB   \n3    2024-05-01          80:800631:17241:000   80:800631           DB   \n4    2024-05-01          80:800631:17243:000   80:800631           DB   \n5    2024-05-01          80:800631:17244:000   80:800631           DB   \n6    2024-05-01          80:800631:17245:000   80:800631           DB   \n7    2024-05-01          80:800631:17248:000   80:800631           DB   \n8    2024-05-01          80:800631:17249:000   80:800631           DB   \n9    2024-05-01          80:800631:17250:000   80:800631           DB   \n\n                   OPERATOR_NAME PRODUCT_ID LINE_ID LINE_TEXT CYCLE_ID  \\\n0  DB Regio AG Baden-Württemberg        Zug   70681       RE7     None   \n1  DB Regio AG Baden-Württemberg        Zug   17238        RB     None   \n2  DB Regio AG Baden-Württemberg        Zug   17239        RB     None   \n3  DB Regio AG Baden-Württemberg        Zug   17241        RB     None   \n4  DB Regio AG Baden-Württemberg        Zug   17243        RB     None   \n5  DB Regio AG Baden-Württemberg        Zug   17244        RB     None   \n6  DB Regio AG Baden-Württemberg        Zug   17245        RB     None   \n7  DB Regio AG Baden-Württemberg        Zug   17248        RB     None   \n8  DB Regio AG Baden-Württemberg        Zug   17249        RB     None   \n9  DB Regio AG Baden-Württemberg        Zug   17250        RB     None   \n\n  TRANSPORT_MODE_TEXT  ...  CANCELLED_TF    BPUIC     STOP_NAME  \\\n0                  RE  ...          True  8500090  Basel Bad Bf   \n1                  RB  ...         False  8500090  Basel Bad Bf   \n2                  RB  ...         False  8500090  Basel Bad Bf   \n3                  RB  ...         False  8500090  Basel Bad Bf   \n4                  RB  ...          True  8500090  Basel Bad Bf   \n5                  RB  ...         False  8500090  Basel Bad Bf   \n6                  RB  ...         False  8500090  Basel Bad Bf   \n7                  RB  ...          True  8500090  Basel Bad Bf   \n8                  RB  ...         False  8500090  Basel Bad Bf   \n9                  RB  ...         False  8500090  Basel Bad Bf   \n\n       ARRIVAL_TIME  ARRIVAL_PREDICTION ARRIVAL_PREDICTION_STATUS  \\\n0  01.05.2024 19:23                 NaT                 UNBEKANNT   \n1  01.05.2024 07:05 2024-05-01 07:06:00                  PROGNOSE   \n2              None                 NaT                      None   \n3              None                 NaT                      None   \n4              None                 NaT                 UNBEKANNT   \n5  01.05.2024 08:08 2024-05-01 08:08:00                  PROGNOSE   \n6              None                 NaT                      None   \n7  01.05.2024 09:08                 NaT                 UNBEKANNT   \n8              None                 NaT                      None   \n9  01.05.2024 10:08 2024-05-01 10:09:00                  PROGNOSE   \n\n     DEPARTURE_TIME DEPARTURE_PREDICTION DEPARTURE_PREDICTION_STATUS  \\\n0              None                  NaT                   UNBEKANNT   \n1              None                  NaT                        None   \n2  01.05.2024 07:53  2024-05-01 07:53:00                    PROGNOSE   \n3  01.05.2024 08:53  2024-05-01 08:53:00                    PROGNOSE   \n4  01.05.2024 09:53                  NaT                   UNBEKANNT   \n5              None                  NaT                        None   \n6  01.05.2024 10:53  2024-05-01 10:53:00                    PROGNOSE   \n7              None                  NaT                   UNBEKANNT   \n8  01.05.2024 11:53  2024-05-01 11:54:00                    PROGNOSE   \n9              None                  NaT                        None   \n\n  THROUGH_TF  \n0      False  \n1      False  \n2      False  \n3      False  \n4      False  \n5      False  \n6      False  \n7      False  \n8      False  \n9      False  \n\n[10 rows x 21 columns]"
     },
     "execution_count": 5,
     "metadata": {},
     "output_type": "execute_result"
    }
   ],
   "source": [
    "# Get the count of all entries\n",
    "query = \"\"\"\n",
    "SELECT *\n",
    "FROM services\n",
    "LIMIT 10\n",
    "\"\"\"\n",
    "result = connection.sql(query).df()\n",
    "result"
   ]
  },
  {
   "cell_type": "code",
   "execution_count": 2,
   "metadata": {
    "ExecuteTime": {
     "end_time": "2025-01-30T09:44:00.441985200Z",
     "start_time": "2025-01-30T09:44:00.426206300Z"
    },
    "collapsed": false
   },
   "outputs": [],
   "source": [
    "# Rename the columns -> for later use (use when creating the table in the DB)\n",
    "df = pd.DataFrame()\n",
    "df.rename(\n",
    "    columns={\n",
    "        \"BETRIEBSTAG\": \"OPERATING_DAY\",\n",
    "        \"FAHRT_BEZEICHNER\": \"TRIP_IDENTIFIER\",\n",
    "        \"BETREIBER_ID\": \"OPERATOR_ID\",\n",
    "        \"BETREIBER_ABK\": \"OPERATOR_ABK\",\n",
    "        \"BETREIBER_NAME\": \"OPERATOR_NAME\",\n",
    "        \"PRODUKT_ID\": \"PRODUCT_ID\",\n",
    "        \"LINIEN_ID\": \"LINE_ID\",\n",
    "        \"LINIEN_TEXT\": \"LINE_TEXT\",\n",
    "        \"UMLAUF_ID\": \"CYCLE_ID\",\n",
    "        \"VERKEHRSMITTEL_TEXT\": \"TRANSPORT_MODE_TEXT\",\n",
    "        \"ZUSATZFAHRT_TF\": \"ADDITIONAL_TRIP_TF\",\n",
    "        \"FAELLT_AUS_TF\": \"CANCELLED_TF\",\n",
    "        \"BPUIC\": \"BPUIC\",\n",
    "        \"HALTESTELLEN_NAME\": \"STOP_NAME\",\n",
    "        \"ANKUNFTSZEIT\": \"ARRIVAL_TIME\",\n",
    "        \"AN_PROGNOSE\": \"ARRIVAL_PREDICTION\",\n",
    "        \"AN_PROGNOSE_STATUS\": \"ARRIVAL_PREDICTION_STATUS\",\n",
    "        \"ABFAHRTSZEIT\": \"DEPARTURE_TIME\",\n",
    "        \"AB_PROGNOSE\": \"DEPARTURE_PREDICTION\",\n",
    "        \"AB_PROGNOSE_STATUS\": \"DEPARTURE_PREDICTION_STATUS\",\n",
    "        \"DURCHFAHRT_TF\": \"THROUGH_TF\",\n",
    "    },\n",
    "    inplace=True,\n",
    ")"
   ]
  },
  {
   "cell_type": "code",
   "execution_count": 3,
   "metadata": {
    "ExecuteTime": {
     "end_time": "2025-01-30T09:44:02.811888Z",
     "start_time": "2025-01-30T09:44:02.712090600Z"
    },
    "collapsed": false
   },
   "outputs": [
    {
     "name": "stdout",
     "output_type": "stream",
     "text": [
      "count:\n",
      "   count_star()\n",
      "0       4772714\n"
     ]
    }
   ],
   "source": [
    "# Get the count of all entries\n",
    "query = \"\"\"\n",
    "SELECT count(*)\n",
    "FROM services\n",
    "WHERE PRODUKT_ID='Zug'\n",
    "\"\"\"\n",
    "result = connection.sql(query).df()\n",
    "\n",
    "# Print the result\n",
    "print(\"count:\")\n",
    "print(result)"
   ]
  },
  {
   "cell_type": "code",
   "execution_count": 4,
   "metadata": {
    "ExecuteTime": {
     "end_time": "2025-01-30T09:44:04.881681200Z",
     "start_time": "2025-01-30T09:44:04.627798100Z"
    },
    "collapsed": false
   },
   "outputs": [
    {
     "name": "stdout",
     "output_type": "stream",
     "text": [
      "20 most delayed trains:\n"
     ]
    },
    {
     "data": {
      "text/html": "<div>\n<style scoped>\n    .dataframe tbody tr th:only-of-type {\n        vertical-align: middle;\n    }\n\n    .dataframe tbody tr th {\n        vertical-align: top;\n    }\n\n    .dataframe thead th {\n        text-align: right;\n    }\n</style>\n<table border=\"1\" class=\"dataframe\">\n  <thead>\n    <tr style=\"text-align: right;\">\n      <th></th>\n      <th>LINIEN_ID</th>\n      <th>avg_delay</th>\n      <th>count</th>\n    </tr>\n  </thead>\n  <tbody>\n    <tr>\n      <th>0</th>\n      <td>17790</td>\n      <td>1.846713</td>\n      <td>6</td>\n    </tr>\n    <tr>\n      <th>1</th>\n      <td>17786</td>\n      <td>1.442500</td>\n      <td>4</td>\n    </tr>\n    <tr>\n      <th>2</th>\n      <td>466</td>\n      <td>1.420501</td>\n      <td>66</td>\n    </tr>\n    <tr>\n      <th>3</th>\n      <td>13491</td>\n      <td>1.254611</td>\n      <td>5</td>\n    </tr>\n    <tr>\n      <th>4</th>\n      <td>17788</td>\n      <td>1.085722</td>\n      <td>5</td>\n    </tr>\n    <tr>\n      <th>5</th>\n      <td>31216</td>\n      <td>1.030556</td>\n      <td>1</td>\n    </tr>\n    <tr>\n      <th>6</th>\n      <td>17784</td>\n      <td>0.968056</td>\n      <td>2</td>\n    </tr>\n    <tr>\n      <th>7</th>\n      <td>31438</td>\n      <td>0.906815</td>\n      <td>15</td>\n    </tr>\n    <tr>\n      <th>8</th>\n      <td>70196</td>\n      <td>0.848472</td>\n      <td>2</td>\n    </tr>\n    <tr>\n      <th>9</th>\n      <td>73290</td>\n      <td>0.830625</td>\n      <td>8</td>\n    </tr>\n    <tr>\n      <th>10</th>\n      <td>17794</td>\n      <td>0.828843</td>\n      <td>6</td>\n    </tr>\n    <tr>\n      <th>11</th>\n      <td>70316</td>\n      <td>0.828730</td>\n      <td>7</td>\n    </tr>\n    <tr>\n      <th>12</th>\n      <td>84392</td>\n      <td>0.799333</td>\n      <td>5</td>\n    </tr>\n    <tr>\n      <th>13</th>\n      <td>31630</td>\n      <td>0.789583</td>\n      <td>10</td>\n    </tr>\n    <tr>\n      <th>14</th>\n      <td>70869</td>\n      <td>0.777014</td>\n      <td>4</td>\n    </tr>\n    <tr>\n      <th>15</th>\n      <td>205</td>\n      <td>0.734352</td>\n      <td>3</td>\n    </tr>\n    <tr>\n      <th>16</th>\n      <td>2558</td>\n      <td>0.664306</td>\n      <td>4</td>\n    </tr>\n    <tr>\n      <th>17</th>\n      <td>162</td>\n      <td>0.648579</td>\n      <td>43</td>\n    </tr>\n    <tr>\n      <th>18</th>\n      <td>340</td>\n      <td>0.624569</td>\n      <td>49</td>\n    </tr>\n    <tr>\n      <th>19</th>\n      <td>95518</td>\n      <td>0.598583</td>\n      <td>10</td>\n    </tr>\n    <tr>\n      <th>20</th>\n      <td>160</td>\n      <td>0.574799</td>\n      <td>47</td>\n    </tr>\n    <tr>\n      <th>21</th>\n      <td>166</td>\n      <td>0.549428</td>\n      <td>68</td>\n    </tr>\n    <tr>\n      <th>22</th>\n      <td>17782</td>\n      <td>0.541296</td>\n      <td>3</td>\n    </tr>\n    <tr>\n      <th>23</th>\n      <td>72543</td>\n      <td>0.514815</td>\n      <td>3</td>\n    </tr>\n    <tr>\n      <th>24</th>\n      <td>403</td>\n      <td>0.512783</td>\n      <td>58</td>\n    </tr>\n    <tr>\n      <th>25</th>\n      <td>2879</td>\n      <td>0.498889</td>\n      <td>1</td>\n    </tr>\n    <tr>\n      <th>26</th>\n      <td>36</td>\n      <td>0.483308</td>\n      <td>77</td>\n    </tr>\n    <tr>\n      <th>27</th>\n      <td>56</td>\n      <td>0.481337</td>\n      <td>232</td>\n    </tr>\n    <tr>\n      <th>28</th>\n      <td>98</td>\n      <td>0.449827</td>\n      <td>119</td>\n    </tr>\n    <tr>\n      <th>29</th>\n      <td>42</td>\n      <td>0.446142</td>\n      <td>36</td>\n    </tr>\n    <tr>\n      <th>30</th>\n      <td>196</td>\n      <td>0.444184</td>\n      <td>98</td>\n    </tr>\n    <tr>\n      <th>31</th>\n      <td>2875</td>\n      <td>0.428333</td>\n      <td>1</td>\n    </tr>\n    <tr>\n      <th>32</th>\n      <td>31734</td>\n      <td>0.419167</td>\n      <td>1</td>\n    </tr>\n    <tr>\n      <th>33</th>\n      <td>194</td>\n      <td>0.399692</td>\n      <td>112</td>\n    </tr>\n    <tr>\n      <th>34</th>\n      <td>89229</td>\n      <td>0.395167</td>\n      <td>5</td>\n    </tr>\n    <tr>\n      <th>35</th>\n      <td>95672</td>\n      <td>0.375833</td>\n      <td>1</td>\n    </tr>\n    <tr>\n      <th>36</th>\n      <td>88674</td>\n      <td>0.372659</td>\n      <td>7</td>\n    </tr>\n    <tr>\n      <th>37</th>\n      <td>31160</td>\n      <td>0.367500</td>\n      <td>1</td>\n    </tr>\n    <tr>\n      <th>38</th>\n      <td>89228</td>\n      <td>0.356528</td>\n      <td>8</td>\n    </tr>\n    <tr>\n      <th>39</th>\n      <td>89128</td>\n      <td>0.356167</td>\n      <td>5</td>\n    </tr>\n  </tbody>\n</table>\n</div>",
      "text/plain": "   LINIEN_ID  avg_delay  count\n0      17790   1.846713      6\n1      17786   1.442500      4\n2        466   1.420501     66\n3      13491   1.254611      5\n4      17788   1.085722      5\n5      31216   1.030556      1\n6      17784   0.968056      2\n7      31438   0.906815     15\n8      70196   0.848472      2\n9      73290   0.830625      8\n10     17794   0.828843      6\n11     70316   0.828730      7\n12     84392   0.799333      5\n13     31630   0.789583     10\n14     70869   0.777014      4\n15       205   0.734352      3\n16      2558   0.664306      4\n17       162   0.648579     43\n18       340   0.624569     49\n19     95518   0.598583     10\n20       160   0.574799     47\n21       166   0.549428     68\n22     17782   0.541296      3\n23     72543   0.514815      3\n24       403   0.512783     58\n25      2879   0.498889      1\n26        36   0.483308     77\n27        56   0.481337    232\n28        98   0.449827    119\n29        42   0.446142     36\n30       196   0.444184     98\n31      2875   0.428333      1\n32     31734   0.419167      1\n33       194   0.399692    112\n34     89229   0.395167      5\n35     95672   0.375833      1\n36     88674   0.372659      7\n37     31160   0.367500      1\n38     89228   0.356528      8\n39     89128   0.356167      5"
     },
     "execution_count": 4,
     "metadata": {},
     "output_type": "execute_result"
    }
   ],
   "source": [
    "# Get the 20 most delayed trains\n",
    "query = \"\"\"\n",
    "SELECT LINIEN_ID, AVG(epoch((AN_PROGNOSE - try_strptime(ANKUNFTSZEIT, '%d.%m.%Y %H:%M'))))/3600 as avg_delay, count(*) as count\n",
    "FROM services\n",
    "WHERE PRODUKT_ID='Zug'\n",
    "AND BETREIBER_NAME='Schweizerische Bundesbahnen SBB'\n",
    "AND AN_PROGNOSE_STATUS='REAL'\n",
    "GROUP BY LINIEN_ID\n",
    "ORDER BY 2 DESC\n",
    "LIMIT 40\n",
    "\"\"\"\n",
    "result = connection.sql(query).df()\n",
    "\n",
    "pd.set_option(\"display.max_columns\", None)\n",
    "print(\"20 most delayed trains:\")\n",
    "result"
   ]
  },
  {
   "cell_type": "code",
   "execution_count": 5,
   "metadata": {
    "ExecuteTime": {
     "end_time": "2025-01-30T09:44:13.635509300Z",
     "start_time": "2025-01-30T09:44:11.096713500Z"
    },
    "collapsed": false
   },
   "outputs": [
    {
     "data": {
      "text/html": "<div>\n<style scoped>\n    .dataframe tbody tr th:only-of-type {\n        vertical-align: middle;\n    }\n\n    .dataframe tbody tr th {\n        vertical-align: top;\n    }\n\n    .dataframe thead th {\n        text-align: right;\n    }\n</style>\n<table border=\"1\" class=\"dataframe\">\n  <thead>\n    <tr style=\"text-align: right;\">\n      <th></th>\n      <th>OPERATING_DAY</th>\n      <th>TRIP_IDENTIFIER</th>\n      <th>OPERATOR_ID</th>\n      <th>OPERATOR_ABK</th>\n      <th>OPERATOR_NAME</th>\n      <th>PRODUCT_ID</th>\n      <th>LINE_ID</th>\n      <th>LINE_TEXT</th>\n      <th>CYCLE_ID</th>\n      <th>TRANSPORT_MODE_TEXT</th>\n      <th>ADDITIONAL_TRIP_TF</th>\n      <th>CANCELLED_TF</th>\n      <th>BPUIC</th>\n      <th>STOP_NAME</th>\n      <th>ARRIVAL_TIME</th>\n      <th>ARRIVAL_PREDICTION</th>\n      <th>ARRIVAL_PREDICTION_STATUS</th>\n      <th>DEPARTURE_TIME</th>\n      <th>DEPARTURE_PREDICTION</th>\n      <th>DEPARTURE_PREDICTION_STATUS</th>\n      <th>THROUGH_TF</th>\n    </tr>\n  </thead>\n  <tbody>\n    <tr>\n      <th>0</th>\n      <td>2024-09-01</td>\n      <td>ch:1:sjyid:100001:1007-001</td>\n      <td>85:11</td>\n      <td>SBB</td>\n      <td>Schweizerische Bundesbahnen SBB</td>\n      <td>Zug</td>\n      <td>1007</td>\n      <td>IC</td>\n      <td>None</td>\n      <td>IC</td>\n      <td>False</td>\n      <td>False</td>\n      <td>8503424</td>\n      <td>Schaffhausen</td>\n      <td>None</td>\n      <td>NaT</td>\n      <td>None</td>\n      <td>01.09.2024 05:47</td>\n      <td>2024-09-01 05:47:34</td>\n      <td>REAL</td>\n      <td>False</td>\n    </tr>\n    <tr>\n      <th>1</th>\n      <td>2024-09-01</td>\n      <td>ch:1:sjyid:100001:1007-001</td>\n      <td>85:11</td>\n      <td>SBB</td>\n      <td>Schweizerische Bundesbahnen SBB</td>\n      <td>Zug</td>\n      <td>1007</td>\n      <td>IC</td>\n      <td>None</td>\n      <td>IC</td>\n      <td>False</td>\n      <td>False</td>\n      <td>8503000</td>\n      <td>Zürich HB</td>\n      <td>01.09.2024 06:26</td>\n      <td>2024-09-01 06:26:05</td>\n      <td>REAL</td>\n      <td>None</td>\n      <td>NaT</td>\n      <td>None</td>\n      <td>False</td>\n    </tr>\n    <tr>\n      <th>2</th>\n      <td>2024-09-01</td>\n      <td>ch:1:sjyid:100001:1009-001</td>\n      <td>85:11</td>\n      <td>SBB</td>\n      <td>Schweizerische Bundesbahnen SBB</td>\n      <td>Zug</td>\n      <td>1009</td>\n      <td>IC</td>\n      <td>None</td>\n      <td>IC</td>\n      <td>False</td>\n      <td>False</td>\n      <td>8503424</td>\n      <td>Schaffhausen</td>\n      <td>None</td>\n      <td>NaT</td>\n      <td>None</td>\n      <td>01.09.2024 06:47</td>\n      <td>2024-09-01 06:47:18</td>\n      <td>REAL</td>\n      <td>False</td>\n    </tr>\n    <tr>\n      <th>3</th>\n      <td>2024-09-01</td>\n      <td>ch:1:sjyid:100001:1009-001</td>\n      <td>85:11</td>\n      <td>SBB</td>\n      <td>Schweizerische Bundesbahnen SBB</td>\n      <td>Zug</td>\n      <td>1009</td>\n      <td>IC</td>\n      <td>None</td>\n      <td>IC</td>\n      <td>False</td>\n      <td>False</td>\n      <td>8503000</td>\n      <td>Zürich HB</td>\n      <td>01.09.2024 07:26</td>\n      <td>2024-09-01 07:26:36</td>\n      <td>REAL</td>\n      <td>None</td>\n      <td>NaT</td>\n      <td>None</td>\n      <td>False</td>\n    </tr>\n    <tr>\n      <th>4</th>\n      <td>2024-09-01</td>\n      <td>ch:1:sjyid:100001:1011-001</td>\n      <td>85:11</td>\n      <td>SBB</td>\n      <td>Schweizerische Bundesbahnen SBB</td>\n      <td>Zug</td>\n      <td>1011</td>\n      <td>IC</td>\n      <td>None</td>\n      <td>IC</td>\n      <td>False</td>\n      <td>False</td>\n      <td>8503424</td>\n      <td>Schaffhausen</td>\n      <td>None</td>\n      <td>NaT</td>\n      <td>None</td>\n      <td>01.09.2024 07:47</td>\n      <td>2024-09-01 07:47:42</td>\n      <td>REAL</td>\n      <td>False</td>\n    </tr>\n    <tr>\n      <th>...</th>\n      <td>...</td>\n      <td>...</td>\n      <td>...</td>\n      <td>...</td>\n      <td>...</td>\n      <td>...</td>\n      <td>...</td>\n      <td>...</td>\n      <td>...</td>\n      <td>...</td>\n      <td>...</td>\n      <td>...</td>\n      <td>...</td>\n      <td>...</td>\n      <td>...</td>\n      <td>...</td>\n      <td>...</td>\n      <td>...</td>\n      <td>...</td>\n      <td>...</td>\n      <td>...</td>\n    </tr>\n    <tr>\n      <th>1895692</th>\n      <td>2024-09-30</td>\n      <td>ch:1:sjyid:100001:992-001</td>\n      <td>85:11</td>\n      <td>SBB</td>\n      <td>Schweizerische Bundesbahnen SBB</td>\n      <td>Zug</td>\n      <td>992</td>\n      <td>IC61</td>\n      <td>None</td>\n      <td>IC</td>\n      <td>False</td>\n      <td>False</td>\n      <td>8507492</td>\n      <td>Interlaken Ost</td>\n      <td>None</td>\n      <td>NaT</td>\n      <td>None</td>\n      <td>30.09.2024 23:00</td>\n      <td>2024-09-30 23:00:50</td>\n      <td>REAL</td>\n      <td>False</td>\n    </tr>\n    <tr>\n      <th>1895693</th>\n      <td>2024-09-30</td>\n      <td>ch:1:sjyid:100001:992-001</td>\n      <td>85:11</td>\n      <td>SBB</td>\n      <td>Schweizerische Bundesbahnen SBB</td>\n      <td>Zug</td>\n      <td>992</td>\n      <td>IC61</td>\n      <td>None</td>\n      <td>IC</td>\n      <td>False</td>\n      <td>False</td>\n      <td>8507493</td>\n      <td>Interlaken West</td>\n      <td>30.09.2024 23:04</td>\n      <td>2024-09-30 23:04:20</td>\n      <td>REAL</td>\n      <td>30.09.2024 23:05</td>\n      <td>2024-09-30 23:06:01</td>\n      <td>REAL</td>\n      <td>False</td>\n    </tr>\n    <tr>\n      <th>1895694</th>\n      <td>2024-09-30</td>\n      <td>ch:1:sjyid:100001:992-001</td>\n      <td>85:11</td>\n      <td>SBB</td>\n      <td>Schweizerische Bundesbahnen SBB</td>\n      <td>Zug</td>\n      <td>992</td>\n      <td>IC61</td>\n      <td>None</td>\n      <td>IC</td>\n      <td>False</td>\n      <td>False</td>\n      <td>8507483</td>\n      <td>Spiez</td>\n      <td>30.09.2024 23:22</td>\n      <td>2024-09-30 23:21:32</td>\n      <td>REAL</td>\n      <td>30.09.2024 23:22</td>\n      <td>2024-09-30 23:22:54</td>\n      <td>REAL</td>\n      <td>False</td>\n    </tr>\n    <tr>\n      <th>1895695</th>\n      <td>2024-09-30</td>\n      <td>ch:1:sjyid:100001:992-001</td>\n      <td>85:11</td>\n      <td>SBB</td>\n      <td>Schweizerische Bundesbahnen SBB</td>\n      <td>Zug</td>\n      <td>992</td>\n      <td>IC61</td>\n      <td>None</td>\n      <td>IC</td>\n      <td>False</td>\n      <td>False</td>\n      <td>8507100</td>\n      <td>Thun</td>\n      <td>30.09.2024 23:32</td>\n      <td>2024-09-30 23:31:30</td>\n      <td>REAL</td>\n      <td>30.09.2024 23:33</td>\n      <td>2024-09-30 23:33:53</td>\n      <td>REAL</td>\n      <td>False</td>\n    </tr>\n    <tr>\n      <th>1895696</th>\n      <td>2024-09-30</td>\n      <td>ch:1:sjyid:100001:992-001</td>\n      <td>85:11</td>\n      <td>SBB</td>\n      <td>Schweizerische Bundesbahnen SBB</td>\n      <td>Zug</td>\n      <td>992</td>\n      <td>IC61</td>\n      <td>None</td>\n      <td>IC</td>\n      <td>False</td>\n      <td>False</td>\n      <td>8507000</td>\n      <td>Bern</td>\n      <td>30.09.2024 23:52</td>\n      <td>2024-09-30 23:52:17</td>\n      <td>REAL</td>\n      <td>None</td>\n      <td>NaT</td>\n      <td>None</td>\n      <td>False</td>\n    </tr>\n  </tbody>\n</table>\n<p>1895697 rows × 21 columns</p>\n</div>",
      "text/plain": "        OPERATING_DAY             TRIP_IDENTIFIER OPERATOR_ID OPERATOR_ABK  \\\n0          2024-09-01  ch:1:sjyid:100001:1007-001       85:11          SBB   \n1          2024-09-01  ch:1:sjyid:100001:1007-001       85:11          SBB   \n2          2024-09-01  ch:1:sjyid:100001:1009-001       85:11          SBB   \n3          2024-09-01  ch:1:sjyid:100001:1009-001       85:11          SBB   \n4          2024-09-01  ch:1:sjyid:100001:1011-001       85:11          SBB   \n...               ...                         ...         ...          ...   \n1895692    2024-09-30   ch:1:sjyid:100001:992-001       85:11          SBB   \n1895693    2024-09-30   ch:1:sjyid:100001:992-001       85:11          SBB   \n1895694    2024-09-30   ch:1:sjyid:100001:992-001       85:11          SBB   \n1895695    2024-09-30   ch:1:sjyid:100001:992-001       85:11          SBB   \n1895696    2024-09-30   ch:1:sjyid:100001:992-001       85:11          SBB   \n\n                           OPERATOR_NAME PRODUCT_ID LINE_ID LINE_TEXT  \\\n0        Schweizerische Bundesbahnen SBB        Zug    1007        IC   \n1        Schweizerische Bundesbahnen SBB        Zug    1007        IC   \n2        Schweizerische Bundesbahnen SBB        Zug    1009        IC   \n3        Schweizerische Bundesbahnen SBB        Zug    1009        IC   \n4        Schweizerische Bundesbahnen SBB        Zug    1011        IC   \n...                                  ...        ...     ...       ...   \n1895692  Schweizerische Bundesbahnen SBB        Zug     992      IC61   \n1895693  Schweizerische Bundesbahnen SBB        Zug     992      IC61   \n1895694  Schweizerische Bundesbahnen SBB        Zug     992      IC61   \n1895695  Schweizerische Bundesbahnen SBB        Zug     992      IC61   \n1895696  Schweizerische Bundesbahnen SBB        Zug     992      IC61   \n\n        CYCLE_ID TRANSPORT_MODE_TEXT  ADDITIONAL_TRIP_TF  CANCELLED_TF  \\\n0           None                  IC               False         False   \n1           None                  IC               False         False   \n2           None                  IC               False         False   \n3           None                  IC               False         False   \n4           None                  IC               False         False   \n...          ...                 ...                 ...           ...   \n1895692     None                  IC               False         False   \n1895693     None                  IC               False         False   \n1895694     None                  IC               False         False   \n1895695     None                  IC               False         False   \n1895696     None                  IC               False         False   \n\n           BPUIC        STOP_NAME      ARRIVAL_TIME  ARRIVAL_PREDICTION  \\\n0        8503424     Schaffhausen              None                 NaT   \n1        8503000        Zürich HB  01.09.2024 06:26 2024-09-01 06:26:05   \n2        8503424     Schaffhausen              None                 NaT   \n3        8503000        Zürich HB  01.09.2024 07:26 2024-09-01 07:26:36   \n4        8503424     Schaffhausen              None                 NaT   \n...          ...              ...               ...                 ...   \n1895692  8507492   Interlaken Ost              None                 NaT   \n1895693  8507493  Interlaken West  30.09.2024 23:04 2024-09-30 23:04:20   \n1895694  8507483            Spiez  30.09.2024 23:22 2024-09-30 23:21:32   \n1895695  8507100             Thun  30.09.2024 23:32 2024-09-30 23:31:30   \n1895696  8507000             Bern  30.09.2024 23:52 2024-09-30 23:52:17   \n\n        ARRIVAL_PREDICTION_STATUS    DEPARTURE_TIME DEPARTURE_PREDICTION  \\\n0                            None  01.09.2024 05:47  2024-09-01 05:47:34   \n1                            REAL              None                  NaT   \n2                            None  01.09.2024 06:47  2024-09-01 06:47:18   \n3                            REAL              None                  NaT   \n4                            None  01.09.2024 07:47  2024-09-01 07:47:42   \n...                           ...               ...                  ...   \n1895692                      None  30.09.2024 23:00  2024-09-30 23:00:50   \n1895693                      REAL  30.09.2024 23:05  2024-09-30 23:06:01   \n1895694                      REAL  30.09.2024 23:22  2024-09-30 23:22:54   \n1895695                      REAL  30.09.2024 23:33  2024-09-30 23:33:53   \n1895696                      REAL              None                  NaT   \n\n        DEPARTURE_PREDICTION_STATUS  THROUGH_TF  \n0                              REAL       False  \n1                              None       False  \n2                              REAL       False  \n3                              None       False  \n4                              REAL       False  \n...                             ...         ...  \n1895692                        REAL       False  \n1895693                        REAL       False  \n1895694                        REAL       False  \n1895695                        REAL       False  \n1895696                        None       False  \n\n[1895697 rows x 21 columns]"
     },
     "execution_count": 5,
     "metadata": {},
     "output_type": "execute_result"
    }
   ],
   "source": [
    "# get the Betreiber with name 'Schweizerische Bundesbahnen SBB'\n",
    "query = \"\"\"\n",
    "SELECT *\n",
    "FROM services\n",
    "WHERE PRODUKT_ID='Zug'\n",
    "AND BETREIBER_NAME='Schweizerische Bundesbahnen SBB'\n",
    "\"\"\"\n",
    "result = connection.sql(query).df()\n",
    "result.rename(\n",
    "    columns={\n",
    "        \"BETRIEBSTAG\": \"OPERATING_DAY\",\n",
    "        \"FAHRT_BEZEICHNER\": \"TRIP_IDENTIFIER\",\n",
    "        \"BETREIBER_ID\": \"OPERATOR_ID\",\n",
    "        \"BETREIBER_ABK\": \"OPERATOR_ABK\",\n",
    "        \"BETREIBER_NAME\": \"OPERATOR_NAME\",\n",
    "        \"PRODUKT_ID\": \"PRODUCT_ID\",\n",
    "        \"LINIEN_ID\": \"LINE_ID\",\n",
    "        \"LINIEN_TEXT\": \"LINE_TEXT\",\n",
    "        \"UMLAUF_ID\": \"CYCLE_ID\",\n",
    "        \"VERKEHRSMITTEL_TEXT\": \"TRANSPORT_MODE_TEXT\",\n",
    "        \"ZUSATZFAHRT_TF\": \"ADDITIONAL_TRIP_TF\",\n",
    "        \"FAELLT_AUS_TF\": \"CANCELLED_TF\",\n",
    "        \"BPUIC\": \"BPUIC\",\n",
    "        \"HALTESTELLEN_NAME\": \"STOP_NAME\",\n",
    "        \"ANKUNFTSZEIT\": \"ARRIVAL_TIME\",\n",
    "        \"AN_PROGNOSE\": \"ARRIVAL_PREDICTION\",\n",
    "        \"AN_PROGNOSE_STATUS\": \"ARRIVAL_PREDICTION_STATUS\",\n",
    "        \"ABFAHRTSZEIT\": \"DEPARTURE_TIME\",\n",
    "        \"AB_PROGNOSE\": \"DEPARTURE_PREDICTION\",\n",
    "        \"AB_PROGNOSE_STATUS\": \"DEPARTURE_PREDICTION_STATUS\",\n",
    "        \"DURCHFAHRT_TF\": \"THROUGH_TF\",\n",
    "    },\n",
    "    inplace=True,\n",
    ")\n",
    "result"
   ]
  },
  {
   "cell_type": "code",
   "execution_count": 18,
   "metadata": {
    "ExecuteTime": {
     "end_time": "2024-11-19T10:57:22.949127100Z",
     "start_time": "2024-11-19T10:57:22.690179700Z"
    },
    "collapsed": false
   },
   "outputs": [
    {
     "data": {
      "text/html": "<div>\n<style scoped>\n    .dataframe tbody tr th:only-of-type {\n        vertical-align: middle;\n    }\n\n    .dataframe tbody tr th {\n        vertical-align: top;\n    }\n\n    .dataframe thead th {\n        text-align: right;\n    }\n</style>\n<table border=\"1\" class=\"dataframe\">\n  <thead>\n    <tr style=\"text-align: right;\">\n      <th></th>\n      <th>LINIEN_ID</th>\n      <th>HALTESTELLEN_NAME</th>\n      <th>BPUIC</th>\n    </tr>\n  </thead>\n  <tbody>\n    <tr>\n      <th>0</th>\n      <td>17790</td>\n      <td>St. Margrethen SG</td>\n      <td>8506314</td>\n    </tr>\n    <tr>\n      <th>1</th>\n      <td>17790</td>\n      <td>Winterthur</td>\n      <td>8506000</td>\n    </tr>\n    <tr>\n      <th>2</th>\n      <td>17790</td>\n      <td>Zürich HB</td>\n      <td>8503000</td>\n    </tr>\n    <tr>\n      <th>3</th>\n      <td>17790</td>\n      <td>St. Margrethen SG</td>\n      <td>8506314</td>\n    </tr>\n    <tr>\n      <th>4</th>\n      <td>17790</td>\n      <td>Winterthur</td>\n      <td>8506000</td>\n    </tr>\n    <tr>\n      <th>5</th>\n      <td>17790</td>\n      <td>Zürich HB</td>\n      <td>8503000</td>\n    </tr>\n  </tbody>\n</table>\n</div>",
      "text/plain": "  LINIEN_ID  HALTESTELLEN_NAME    BPUIC\n0     17790  St. Margrethen SG  8506314\n1     17790         Winterthur  8506000\n2     17790          Zürich HB  8503000\n3     17790  St. Margrethen SG  8506314\n4     17790         Winterthur  8506000\n5     17790          Zürich HB  8503000"
     },
     "execution_count": 18,
     "metadata": {},
     "output_type": "execute_result"
    }
   ],
   "source": [
    "query = \"\"\"\n",
    "SELECT LINIEN_ID, HALTESTELLEN_NAME, BPUIC\n",
    "FROM services\n",
    "WHERE LINIEN_ID IN ['17790']\n",
    "--AND AN_PROGNOSE_STATUS='REAL'\n",
    "LIMIT 40\n",
    "\"\"\"\n",
    "result = connection.sql(query).df()\n",
    "\n",
    "pd.set_option(\"display.max_columns\", None)\n",
    "result"
   ]
  },
  {
   "cell_type": "code",
   "execution_count": 24,
   "metadata": {
    "ExecuteTime": {
     "end_time": "2024-11-19T11:10:58.902779900Z",
     "start_time": "2024-11-19T11:10:58.823803300Z"
    },
    "collapsed": false
   },
   "outputs": [
    {
     "data": {
      "text/html": "<div>\n<style scoped>\n    .dataframe tbody tr th:only-of-type {\n        vertical-align: middle;\n    }\n\n    .dataframe tbody tr th {\n        vertical-align: top;\n    }\n\n    .dataframe thead th {\n        text-align: right;\n    }\n</style>\n<table border=\"1\" class=\"dataframe\">\n  <thead>\n    <tr style=\"text-align: right;\">\n      <th></th>\n      <th>BPUIC</th>\n      <th>HALTESTELLEN_NAME</th>\n      <th>LINIEN_ID</th>\n    </tr>\n  </thead>\n  <tbody>\n    <tr>\n      <th>0</th>\n      <td>8503000</td>\n      <td>Zürich HB</td>\n      <td>1007</td>\n    </tr>\n    <tr>\n      <th>1</th>\n      <td>8503000</td>\n      <td>Zürich HB</td>\n      <td>1009</td>\n    </tr>\n    <tr>\n      <th>2</th>\n      <td>8503000</td>\n      <td>Zürich HB</td>\n      <td>1011</td>\n    </tr>\n    <tr>\n      <th>3</th>\n      <td>8503000</td>\n      <td>Zürich HB</td>\n      <td>10318</td>\n    </tr>\n    <tr>\n      <th>4</th>\n      <td>8503000</td>\n      <td>Zürich HB</td>\n      <td>10320</td>\n    </tr>\n    <tr>\n      <th>5</th>\n      <td>8503000</td>\n      <td>Zürich HB</td>\n      <td>10322</td>\n    </tr>\n    <tr>\n      <th>6</th>\n      <td>8503000</td>\n      <td>Zürich HB</td>\n      <td>10328</td>\n    </tr>\n    <tr>\n      <th>7</th>\n      <td>8503000</td>\n      <td>Zürich HB</td>\n      <td>10334</td>\n    </tr>\n    <tr>\n      <th>8</th>\n      <td>8503000</td>\n      <td>Zürich HB</td>\n      <td>10340</td>\n    </tr>\n    <tr>\n      <th>9</th>\n      <td>8503000</td>\n      <td>Zürich HB</td>\n      <td>10368</td>\n    </tr>\n    <tr>\n      <th>10</th>\n      <td>8503000</td>\n      <td>Zürich HB</td>\n      <td>10370</td>\n    </tr>\n    <tr>\n      <th>11</th>\n      <td>8503000</td>\n      <td>Zürich HB</td>\n      <td>10480</td>\n    </tr>\n    <tr>\n      <th>12</th>\n      <td>8503000</td>\n      <td>Zürich HB</td>\n      <td>10482</td>\n    </tr>\n    <tr>\n      <th>13</th>\n      <td>8503000</td>\n      <td>Zürich HB</td>\n      <td>10486</td>\n    </tr>\n    <tr>\n      <th>14</th>\n      <td>8503000</td>\n      <td>Zürich HB</td>\n      <td>10488</td>\n    </tr>\n    <tr>\n      <th>15</th>\n      <td>8503000</td>\n      <td>Zürich HB</td>\n      <td>10882</td>\n    </tr>\n    <tr>\n      <th>16</th>\n      <td>8503000</td>\n      <td>Zürich HB</td>\n      <td>10886</td>\n    </tr>\n    <tr>\n      <th>17</th>\n      <td>8503000</td>\n      <td>Zürich HB</td>\n      <td>10890</td>\n    </tr>\n    <tr>\n      <th>18</th>\n      <td>8503000</td>\n      <td>Zürich HB</td>\n      <td>1251</td>\n    </tr>\n    <tr>\n      <th>19</th>\n      <td>8503000</td>\n      <td>Zürich HB</td>\n      <td>1253</td>\n    </tr>\n    <tr>\n      <th>20</th>\n      <td>8503000</td>\n      <td>Zürich HB</td>\n      <td>1255</td>\n    </tr>\n    <tr>\n      <th>21</th>\n      <td>8503000</td>\n      <td>Zürich HB</td>\n      <td>1258</td>\n    </tr>\n    <tr>\n      <th>22</th>\n      <td>8503000</td>\n      <td>Zürich HB</td>\n      <td>1260</td>\n    </tr>\n    <tr>\n      <th>23</th>\n      <td>8503000</td>\n      <td>Zürich HB</td>\n      <td>1333</td>\n    </tr>\n    <tr>\n      <th>24</th>\n      <td>8503000</td>\n      <td>Zürich HB</td>\n      <td>13710</td>\n    </tr>\n    <tr>\n      <th>25</th>\n      <td>8503000</td>\n      <td>Zürich HB</td>\n      <td>13711</td>\n    </tr>\n    <tr>\n      <th>26</th>\n      <td>8503000</td>\n      <td>Zürich HB</td>\n      <td>13712</td>\n    </tr>\n    <tr>\n      <th>27</th>\n      <td>8503000</td>\n      <td>Zürich HB</td>\n      <td>13713</td>\n    </tr>\n    <tr>\n      <th>28</th>\n      <td>8503000</td>\n      <td>Zürich HB</td>\n      <td>13714</td>\n    </tr>\n    <tr>\n      <th>29</th>\n      <td>8503000</td>\n      <td>Zürich HB</td>\n      <td>13715</td>\n    </tr>\n    <tr>\n      <th>30</th>\n      <td>8503000</td>\n      <td>Zürich HB</td>\n      <td>13716</td>\n    </tr>\n    <tr>\n      <th>31</th>\n      <td>8503000</td>\n      <td>Zürich HB</td>\n      <td>13717</td>\n    </tr>\n    <tr>\n      <th>32</th>\n      <td>8503000</td>\n      <td>Zürich HB</td>\n      <td>13750</td>\n    </tr>\n    <tr>\n      <th>33</th>\n      <td>8503000</td>\n      <td>Zürich HB</td>\n      <td>13751</td>\n    </tr>\n    <tr>\n      <th>34</th>\n      <td>8503000</td>\n      <td>Zürich HB</td>\n      <td>13752</td>\n    </tr>\n    <tr>\n      <th>35</th>\n      <td>8503000</td>\n      <td>Zürich HB</td>\n      <td>13753</td>\n    </tr>\n    <tr>\n      <th>36</th>\n      <td>8503000</td>\n      <td>Zürich HB</td>\n      <td>13754</td>\n    </tr>\n    <tr>\n      <th>37</th>\n      <td>8503000</td>\n      <td>Zürich HB</td>\n      <td>13755</td>\n    </tr>\n    <tr>\n      <th>38</th>\n      <td>8503000</td>\n      <td>Zürich HB</td>\n      <td>13756</td>\n    </tr>\n    <tr>\n      <th>39</th>\n      <td>8503000</td>\n      <td>Zürich HB</td>\n      <td>13757</td>\n    </tr>\n  </tbody>\n</table>\n</div>",
      "text/plain": "      BPUIC HALTESTELLEN_NAME LINIEN_ID\n0   8503000         Zürich HB      1007\n1   8503000         Zürich HB      1009\n2   8503000         Zürich HB      1011\n3   8503000         Zürich HB     10318\n4   8503000         Zürich HB     10320\n5   8503000         Zürich HB     10322\n6   8503000         Zürich HB     10328\n7   8503000         Zürich HB     10334\n8   8503000         Zürich HB     10340\n9   8503000         Zürich HB     10368\n10  8503000         Zürich HB     10370\n11  8503000         Zürich HB     10480\n12  8503000         Zürich HB     10482\n13  8503000         Zürich HB     10486\n14  8503000         Zürich HB     10488\n15  8503000         Zürich HB     10882\n16  8503000         Zürich HB     10886\n17  8503000         Zürich HB     10890\n18  8503000         Zürich HB      1251\n19  8503000         Zürich HB      1253\n20  8503000         Zürich HB      1255\n21  8503000         Zürich HB      1258\n22  8503000         Zürich HB      1260\n23  8503000         Zürich HB      1333\n24  8503000         Zürich HB     13710\n25  8503000         Zürich HB     13711\n26  8503000         Zürich HB     13712\n27  8503000         Zürich HB     13713\n28  8503000         Zürich HB     13714\n29  8503000         Zürich HB     13715\n30  8503000         Zürich HB     13716\n31  8503000         Zürich HB     13717\n32  8503000         Zürich HB     13750\n33  8503000         Zürich HB     13751\n34  8503000         Zürich HB     13752\n35  8503000         Zürich HB     13753\n36  8503000         Zürich HB     13754\n37  8503000         Zürich HB     13755\n38  8503000         Zürich HB     13756\n39  8503000         Zürich HB     13757"
     },
     "execution_count": 24,
     "metadata": {},
     "output_type": "execute_result"
    }
   ],
   "source": [
    "stops = [8503000]\n",
    "query = f\"\"\"\n",
    "SELECT BPUIC, HALTESTELLEN_NAME, LINIEN_ID\n",
    "FROM services\n",
    "WHERE BPUIC IN {stops}\n",
    "AND HALTESTELLEN_NAME NOT NULL\n",
    "AND PRODUKT_ID='Zug'\n",
    "LIMIT 40\n",
    "\"\"\"\n",
    "result = connection.sql(query).df()\n",
    "\n",
    "pd.set_option(\"display.max_columns\", None)\n",
    "result"
   ]
  },
  {
   "cell_type": "code",
   "execution_count": 29,
   "metadata": {
    "ExecuteTime": {
     "end_time": "2024-11-19T11:36:45.284388700Z",
     "start_time": "2024-11-19T11:36:45.202394300Z"
    },
    "collapsed": false
   },
   "outputs": [
    {
     "data": {
      "text/html": "<div>\n<style scoped>\n    .dataframe tbody tr th:only-of-type {\n        vertical-align: middle;\n    }\n\n    .dataframe tbody tr th {\n        vertical-align: top;\n    }\n\n    .dataframe thead th {\n        text-align: right;\n    }\n</style>\n<table border=\"1\" class=\"dataframe\">\n  <thead>\n    <tr style=\"text-align: right;\">\n      <th></th>\n      <th>BPUIC</th>\n      <th>\"first\"(HALTESTELLEN_NAME)</th>\n      <th>LINIEN_ID</th>\n    </tr>\n  </thead>\n  <tbody>\n    <tr>\n      <th>0</th>\n      <td>8503400</td>\n      <td>Bülach</td>\n      <td>1007</td>\n    </tr>\n    <tr>\n      <th>1</th>\n      <td>8503404</td>\n      <td>Rafz</td>\n      <td>1007</td>\n    </tr>\n    <tr>\n      <th>2</th>\n      <td>8503000</td>\n      <td>Zürich HB</td>\n      <td>1007</td>\n    </tr>\n    <tr>\n      <th>3</th>\n      <td>8503421</td>\n      <td>Jestetten</td>\n      <td>1007</td>\n    </tr>\n    <tr>\n      <th>4</th>\n      <td>8503424</td>\n      <td>Schaffhausen</td>\n      <td>1007</td>\n    </tr>\n  </tbody>\n</table>\n</div>",
      "text/plain": "     BPUIC \"first\"(HALTESTELLEN_NAME) LINIEN_ID\n0  8503400                     Bülach      1007\n1  8503404                       Rafz      1007\n2  8503000                  Zürich HB      1007\n3  8503421                  Jestetten      1007\n4  8503424               Schaffhausen      1007"
     },
     "execution_count": 29,
     "metadata": {},
     "output_type": "execute_result"
    }
   ],
   "source": [
    "query = \"\"\"\n",
    "SELECT BPUIC, FIRST(HALTESTELLEN_NAME), LINIEN_ID\n",
    "FROM services\n",
    "WHERE LINIEN_ID='1007'\n",
    "AND HALTESTELLEN_NAME NOT NULL\n",
    "AND PRODUKT_ID='Zug'\n",
    "GROUP BY 3, 1\n",
    "LIMIT 40\n",
    "\"\"\"\n",
    "result = connection.sql(query).df()\n",
    "\n",
    "result"
   ]
  },
  {
   "cell_type": "code",
   "execution_count": 14,
   "metadata": {
    "ExecuteTime": {
     "end_time": "2025-02-13T22:46:24.827691600Z",
     "start_time": "2025-02-13T22:46:22.908821900Z"
    },
    "collapsed": false
   },
   "outputs": [],
   "source": [
    "stop_name = \"Zürich\"\n",
    "query = f\"\"\"SELECT STOP_NAME, count() FROM services WHERE STOP_NAME  LIKE '%{stop_name}%' and STOP_NAME NOT LIKE '%,%' group by 1\"\"\"\n",
    "df = connection.execute(query).df()"
   ]
  },
  {
   "cell_type": "code",
   "execution_count": 15,
   "metadata": {
    "ExecuteTime": {
     "end_time": "2025-02-13T22:46:24.838651300Z",
     "start_time": "2025-02-13T22:46:24.827691600Z"
    },
    "collapsed": false
   },
   "outputs": [
    {
     "data": {
      "text/html": "<div>\n<style scoped>\n    .dataframe tbody tr th:only-of-type {\n        vertical-align: middle;\n    }\n\n    .dataframe tbody tr th {\n        vertical-align: top;\n    }\n\n    .dataframe thead th {\n        text-align: right;\n    }\n</style>\n<table border=\"1\" class=\"dataframe\">\n  <thead>\n    <tr style=\"text-align: right;\">\n      <th></th>\n      <th>STOP_NAME</th>\n      <th>count_star()</th>\n    </tr>\n  </thead>\n  <tbody>\n    <tr>\n      <th>0</th>\n      <td>Zürich HB</td>\n      <td>349924</td>\n    </tr>\n    <tr>\n      <th>1</th>\n      <td>Zürich Giesshübel</td>\n      <td>25219</td>\n    </tr>\n    <tr>\n      <th>2</th>\n      <td>Zürich Binz</td>\n      <td>25999</td>\n    </tr>\n    <tr>\n      <th>3</th>\n      <td>Zürich Tiefenbrunnen</td>\n      <td>28576</td>\n    </tr>\n    <tr>\n      <th>4</th>\n      <td>Zürich Wollishofen</td>\n      <td>28279</td>\n    </tr>\n    <tr>\n      <th>5</th>\n      <td>Zürich Wiedikon</td>\n      <td>40715</td>\n    </tr>\n    <tr>\n      <th>6</th>\n      <td>Zürich Stadelhofen</td>\n      <td>125545</td>\n    </tr>\n    <tr>\n      <th>7</th>\n      <td>Zürich Wipkingen</td>\n      <td>13234</td>\n    </tr>\n    <tr>\n      <th>8</th>\n      <td>Zürich Leimbach</td>\n      <td>25240</td>\n    </tr>\n    <tr>\n      <th>9</th>\n      <td>Zürich Manegg</td>\n      <td>25219</td>\n    </tr>\n    <tr>\n      <th>10</th>\n      <td>Zürich Selnau</td>\n      <td>50862</td>\n    </tr>\n    <tr>\n      <th>11</th>\n      <td>Zürich Affoltern</td>\n      <td>15052</td>\n    </tr>\n    <tr>\n      <th>12</th>\n      <td>Zürich Brunau</td>\n      <td>25219</td>\n    </tr>\n    <tr>\n      <th>13</th>\n      <td>Zürich Saalsporthalle</td>\n      <td>25241</td>\n    </tr>\n    <tr>\n      <th>14</th>\n      <td>Zürich Seebach</td>\n      <td>13960</td>\n    </tr>\n    <tr>\n      <th>15</th>\n      <td>Zürich Flughafen</td>\n      <td>82479</td>\n    </tr>\n    <tr>\n      <th>16</th>\n      <td>Winkel am Zürichsee</td>\n      <td>25704</td>\n    </tr>\n    <tr>\n      <th>17</th>\n      <td>Zürich Altstetten</td>\n      <td>76522</td>\n    </tr>\n    <tr>\n      <th>18</th>\n      <td>Zürich HB SZU</td>\n      <td>50862</td>\n    </tr>\n    <tr>\n      <th>19</th>\n      <td>Zürich Friesenberg</td>\n      <td>25999</td>\n    </tr>\n    <tr>\n      <th>20</th>\n      <td>Zürich Schweighof</td>\n      <td>25999</td>\n    </tr>\n    <tr>\n      <th>21</th>\n      <td>Zürich Triemli</td>\n      <td>25999</td>\n    </tr>\n    <tr>\n      <th>22</th>\n      <td>Zürich Hardbrücke</td>\n      <td>126882</td>\n    </tr>\n    <tr>\n      <th>23</th>\n      <td>Zürich Oerlikon</td>\n      <td>160984</td>\n    </tr>\n    <tr>\n      <th>24</th>\n      <td>Zürich Enge</td>\n      <td>41503</td>\n    </tr>\n  </tbody>\n</table>\n</div>",
      "text/plain": "                STOP_NAME  count_star()\n0               Zürich HB        349924\n1       Zürich Giesshübel         25219\n2             Zürich Binz         25999\n3    Zürich Tiefenbrunnen         28576\n4      Zürich Wollishofen         28279\n5         Zürich Wiedikon         40715\n6      Zürich Stadelhofen        125545\n7        Zürich Wipkingen         13234\n8         Zürich Leimbach         25240\n9           Zürich Manegg         25219\n10          Zürich Selnau         50862\n11       Zürich Affoltern         15052\n12          Zürich Brunau         25219\n13  Zürich Saalsporthalle         25241\n14         Zürich Seebach         13960\n15       Zürich Flughafen         82479\n16    Winkel am Zürichsee         25704\n17      Zürich Altstetten         76522\n18          Zürich HB SZU         50862\n19     Zürich Friesenberg         25999\n20      Zürich Schweighof         25999\n21         Zürich Triemli         25999\n22      Zürich Hardbrücke        126882\n23        Zürich Oerlikon        160984\n24            Zürich Enge         41503"
     },
     "execution_count": 15,
     "metadata": {},
     "output_type": "execute_result"
    }
   ],
   "source": [
    "df"
   ]
  },
  {
   "cell_type": "code",
   "execution_count": null,
   "metadata": {
    "collapsed": false
   },
   "outputs": [],
   "source": [
    "# Close the connection\n",
    "connection.close()"
   ]
  }
 ],
 "metadata": {
  "kernelspec": {
   "display_name": "Python 3",
   "language": "python",
   "name": "python3"
  },
  "language_info": {
   "codemirror_mode": {
    "name": "ipython",
    "version": 2
   },
   "file_extension": ".py",
   "mimetype": "text/x-python",
   "name": "python",
   "nbconvert_exporter": "python",
   "pygments_lexer": "ipython2",
   "version": "2.7.6"
  }
 },
 "nbformat": 4,
 "nbformat_minor": 0
}
