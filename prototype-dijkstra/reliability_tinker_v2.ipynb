{
 "cells": [
  {
   "cell_type": "code",
   "execution_count": 123,
   "outputs": [],
   "source": [
    "# @todo -> do we get the trips or the graph as input?\n",
    "# define our trips as list of departure nodes and their connections\n",
    "trips = {\n",
    "    # departure node, then as list the array of connections with the planned departure time, the neighbor station, the planned arrival time, the trip identifier and the tuple of actual departure and arrival times\n",
    "    'Zurich': [(5, 'Olten', 15, 'IC6', [(5, 15), (6, 16), (10, 20)])],\n",
    "    'Olten': [(20, 'Bern', 30, 'IC6', [(20, 30), (20, 32), (25, 35)])],\n",
    "    'Bern': [(35, 'Brig', 45, 'IC6', [(35, 45), (37, 47), (40, 50)])],\n",
    "    'Brig': [(55, 'Milan', 65, 'IC6', [(55, 65), (57, 67), (60, 70)])]\n",
    "}\n",
    "\n",
    "# use a dictionary structure for each trip, so we can extend it with additional information\n",
    "station_trips_dict = {\n",
    "    'Zurich': [\n",
    "        { \"from\": \"Zurich\", \"planned_departure\": 5, \"to\": \"Olten\", \"planned_arrival\": 15, \"trip_id\": \"IC6\", \"actual_times\": [(5, 15), (6, 15), (10, 20)] }\n",
    "    ],\n",
    "    'Olten': [\n",
    "        { \"from\": \"Olten\", \"planned_departure\": 20, \"to\": \"Bern\", \"planned_arrival\": 30, \"trip_id\": \"IC6\", \"actual_times\": [(20, 30), (20, 32), (25, 35)] }\n",
    "    ],\n",
    "    'Bern': [\n",
    "        { \"from\": \"Bern\", \"planned_departure\": 35, \"to\": \"Brig\", \"planned_arrival\": 45, \"trip_id\": \"IC6\", \"actual_times\": [(35, 45), (37, 47), (40, 50)] }\n",
    "    ],\n",
    "    'Brig': [\n",
    "        { \"from\": \"Brig\", \"planned_departure\": 55, \"to\": \"Milan\", \"planned_arrival\": 65, \"trip_id\": \"IC6\", \"actual_times\": [(55, 65), (57, 67), (60, 70)] }\n",
    "    ]\n",
    "}"
   ],
   "metadata": {
    "collapsed": false,
    "ExecuteTime": {
     "end_time": "2025-01-28T19:56:20.234748900Z",
     "start_time": "2025-01-28T19:56:20.215162500Z"
    }
   }
  },
  {
   "cell_type": "code",
   "execution_count": 124,
   "metadata": {
    "collapsed": true,
    "ExecuteTime": {
     "end_time": "2025-01-28T19:56:20.308147600Z",
     "start_time": "2025-01-28T19:56:20.215669300Z"
    }
   },
   "outputs": [],
   "source": [
    "from typing import List\n",
    "\n",
    "\n",
    "def compute_probability(time: int, time_distribution: List[int]) -> float:\n",
    "    \"\"\"\n",
    "    Compute the probability of a train departing or arriving at a given time\n",
    "    given a list of departure times or arrival times\n",
    "    \"\"\"\n",
    "    # count the number of trains departing/arriving at the given time\n",
    "    count = time_distribution.count(time)\n",
    "    # count the total number of trains\n",
    "    total = len(time_distribution)\n",
    "    # compute the probability\n",
    "    probability = count / total\n",
    "    return probability\n",
    "\n",
    "def compute_probability_to_arrive_at_or_before(time_limit: int, arrival_times: List[int] | None, arrival_probabilities=None) -> float:\n",
    "    \"\"\"\n",
    "    Compute the probability of arriving at or before a given time\n",
    "    given a list of arrival times\n",
    "    \"\"\"\n",
    "    # if we have arrival probabilities given, we can use them directly (e.g., probability to arrive at time t' given that we made the connection)\n",
    "    if arrival_probabilities is not None:\n",
    "        # use arrival times from the probabilities\n",
    "        arrival_times = [arrival_time[0] for arrival_time in arrival_probabilities]\n",
    "    # get first (minimum) arrival time\n",
    "    min_arrival_time = min(arrival_times) # note: should be the first, we assume we get a sorted list\n",
    "    # get last (maximum) arrival time -> either the latest arrival time or the time limit if that is earlier\n",
    "    max_arrival_time = min(max(arrival_times), time_limit)\n",
    "\n",
    "    if arrival_probabilities is not None:\n",
    "        # if we have arrival probabilities given, we can use them directly (e.g., probability to arrive at time t' given that we made the connection)\n",
    "        probabilities = [\n",
    "            arrival_time[1]\n",
    "            for arrival_time in arrival_probabilities\n",
    "            if arrival_time[0] <= max_arrival_time\n",
    "        ]\n",
    "        # sum the probabilities\n",
    "        probability = sum(probabilities)\n",
    "        return probability\n",
    "\n",
    "    # computation of probabilities, if we have only the arrival times\n",
    "\n",
    "    # for each arrival time, compute the probability of arriving at that time (which is the probability of arriving at or before the time limit)\n",
    "    probabilities = [\n",
    "        compute_probability(time, arrival_times)\n",
    "        for time in range(min_arrival_time, max_arrival_time + 1)\n",
    "    ]\n",
    "    # sum the probabilities\n",
    "    probability = sum(probabilities)\n",
    "    return probability"
   ]
  },
  {
   "cell_type": "code",
   "execution_count": 125,
   "outputs": [
    {
     "data": {
      "text/plain": "{'Zurich': [{'from': 'Zurich',\n   'planned_departure': 5,\n   'to': 'Olten',\n   'planned_arrival': 15,\n   'trip_id': 'IC6',\n   'actual_times': [(5, 15), (6, 15), (10, 20)],\n   'departure_probabilities': [(5, 0.3333333333333333),\n    (6, 0.3333333333333333),\n    (10, 0.3333333333333333)]}],\n 'Olten': [{'from': 'Olten',\n   'planned_departure': 20,\n   'to': 'Bern',\n   'planned_arrival': 30,\n   'trip_id': 'IC6',\n   'actual_times': [(20, 30), (20, 32), (25, 35)],\n   'departure_probabilities': [(20, 0.6666666666666666),\n    (20, 0.6666666666666666),\n    (25, 0.3333333333333333)]}],\n 'Bern': [{'from': 'Bern',\n   'planned_departure': 35,\n   'to': 'Brig',\n   'planned_arrival': 45,\n   'trip_id': 'IC6',\n   'actual_times': [(35, 45), (37, 47), (40, 50)],\n   'departure_probabilities': [(35, 0.3333333333333333),\n    (37, 0.3333333333333333),\n    (40, 0.3333333333333333)]}],\n 'Brig': [{'from': 'Brig',\n   'planned_departure': 55,\n   'to': 'Milan',\n   'planned_arrival': 65,\n   'trip_id': 'IC6',\n   'actual_times': [(55, 65), (57, 67), (60, 70)],\n   'departure_probabilities': [(55, 0.3333333333333333),\n    (57, 0.3333333333333333),\n    (60, 0.3333333333333333)]}]}"
     },
     "execution_count": 125,
     "metadata": {},
     "output_type": "execute_result"
    }
   ],
   "source": [
    "# Add the departure time probabilities to the data\n",
    "def add_departure_probabilities(station_trips: dict):\n",
    "    \"\"\"\n",
    "    Add the departure time probabilities to the data\n",
    "    \"\"\"\n",
    "    for station_trips in station_trips.values():\n",
    "        # loop through the trips in the station\n",
    "        for trip in station_trips:\n",
    "            # get the actual departure times\n",
    "            actual_departure_times = [actual_time[0] for actual_time in trip[\"actual_times\"]]\n",
    "            # for each actual departure time, compute the probability of departing at that time\n",
    "            departure_probabilities = [\n",
    "                (time, compute_probability(time, actual_departure_times))\n",
    "                for time in actual_departure_times\n",
    "            ]\n",
    "            # add the departure probabilities to the trip\n",
    "            trip[\"departure_probabilities\"] = departure_probabilities\n",
    "\n",
    "add_departure_probabilities(station_trips_dict)\n",
    "\n",
    "station_trips_dict"
   ],
   "metadata": {
    "collapsed": false,
    "ExecuteTime": {
     "end_time": "2025-01-28T19:56:20.308147600Z",
     "start_time": "2025-01-28T19:56:20.226171900Z"
    }
   }
  },
  {
   "cell_type": "code",
   "execution_count": 126,
   "outputs": [
    {
     "name": "stdout",
     "output_type": "stream",
     "text": [
      "departure probabilities: [(20, 0.6666666666666666), (25, 0.3333333333333333)]\n",
      "probability of making connection from Olten to Bern: 0.7777777777777777\n"
     ]
    }
   ],
   "source": [
    "def compute_connection_probability(departure_time_probabilities: List[int], arrival_time_probabilities: List[float] | None, trip: dict, transfer_time=5) -> float:\n",
    "    # @todo -> refactor a bit (to make it useful for the next steps, e.g. how the parameters are passed and how the data is stored)\n",
    "    \"\"\"\n",
    "    Compute the probability of making a connection given a list of departure times and a list of arrival time probabilities\n",
    "    \"\"\"\n",
    "    # for each departure time, compute the probability of making a connection\n",
    "    probabilities = []\n",
    "    # multiply probability of departing at time t with the probability of arriving at or before time (t - transfer time)\n",
    "    for i in range(len(departure_time_probabilities)):\n",
    "        # only consider the arrival time probabilities that are before the departure time\n",
    "        # @todo -> solve this with a precomputed list of probabilities (since we need it more often)\n",
    "        # @todo -> maybe use combined (multiplied) probability that a certain train departs at time t' when it arrives at or before time t\n",
    "        if arrival_time_probabilities is not None:\n",
    "            arrival_probability = compute_probability_to_arrive_at_or_before(departure_time_probabilities[i][0] - transfer_time, None, arrival_time_probabilities)\n",
    "        else:\n",
    "            # actual arrival times for the trip (only if arrival probabilities are not given) -> for the connection between first and second trip\n",
    "            actual_arrival_times = [actual_time[1] for actual_time in trip['actual_times']]\n",
    "            arrival_probability = compute_probability_to_arrive_at_or_before(departure_time_probabilities[i][0] - transfer_time, actual_arrival_times)\n",
    "        probabilities.append(departure_time_probabilities[i][1] * arrival_probability)\n",
    "    # sum the probabilities\n",
    "    probability = sum(probabilities)\n",
    "    return probability\n",
    "\n",
    "# we assume that we already have unique lists of tuples representing the departure and arrival times and their probabilities\n",
    "# sort the lists by time\n",
    "departure_probabilities = list(set(station_trips_dict['Olten'][0]['departure_probabilities']))\n",
    "print(\"departure probabilities:\", departure_probabilities)\n",
    "departure_probabilities.sort(key=lambda x: x[0])\n",
    "arrival_probabilities = []\n",
    "#arrival_probabilities.sort(key=lambda x: x[0])\n",
    "made_connection_1_2 = compute_connection_probability(departure_probabilities, None, station_trips_dict['Zurich'][0])\n",
    "print(\"probability of making connection from Olten to Bern:\", made_connection_1_2)"
   ],
   "metadata": {
    "collapsed": false,
    "ExecuteTime": {
     "end_time": "2025-01-28T19:56:20.308147600Z",
     "start_time": "2025-01-28T19:56:20.244850700Z"
    }
   }
  },
  {
   "cell_type": "code",
   "execution_count": 127,
   "outputs": [
    {
     "data": {
      "text/plain": "[(30, 0.28571428571428575),\n (32, 0.28571428571428575),\n (35, 0.4285714285714286)]"
     },
     "execution_count": 127,
     "metadata": {},
     "output_type": "execute_result"
    }
   ],
   "source": [
    "# Now compute probability that trip 2 arrives at the third station given that we make the connection between the first and second trip (=between first and second station)\n",
    "\n",
    "t = 30\n",
    "departure_probabilities = list(set(station_trips_dict['Olten'][0]['departure_probabilities']))\n",
    "departure_probabilities.sort(key=lambda x: x[0])\n",
    "arrival_probabilities_second_stop = []\n",
    "arrival_times_first_stop = [actual_time[1] for actual_time in station_trips_dict['Zurich'][0]['actual_times']]\n",
    "\n",
    "arrival_departure_tuples_second_trip = station_trips_dict['Olten'][0]['actual_times']\n",
    "\n",
    "def compute_probability_to_arrive_at_t_given_made_connection(time: int, departure_probabilities: List, arrival_probabilities: List | None, arrival_times_first_stop: List[int], probability_connection_made: float, arrival_departure_tuples_second_station: List, transfer_time=5) -> float:\n",
    "    \"\"\" Compute the probability of arriving at time t given that we made the connection.\"\"\"\n",
    "    probabilities = []\n",
    "    # loop through all possible departure times\n",
    "    for t_dep in departure_probabilities:\n",
    "        # probability of arriving at time t given the departure at t'\n",
    "        # we need to count how often an arrival-departure pair occurs (divided by total number of arrival-departure pairs) and then divide by the probability that we depart at t'\n",
    "        occurence_arrival_departure_pair = 0\n",
    "        for pair in arrival_departure_tuples_second_station:\n",
    "            if t_dep[0] == pair[0] and time == pair[1]:\n",
    "                occurence_arrival_departure_pair += 1\n",
    "        probability_arrival_t_departure_t_prime = occurence_arrival_departure_pair / len(arrival_departure_tuples_second_station)\n",
    "        probability_departure = t_dep[1]\n",
    "        probability_arrival_given_departure = probability_arrival_t_departure_t_prime / probability_departure\n",
    "        # if we have arrival probabilities given, we can use them directly\n",
    "        if arrival_probabilities is not None:\n",
    "            probability_arrival_before_t_prime = compute_probability_to_arrive_at_or_before(t_dep[0] - transfer_time, None, arrival_probabilities)\n",
    "        else:\n",
    "            probability_arrival_before_t_prime = compute_probability_to_arrive_at_or_before(t_dep[0] - transfer_time, arrival_times_first_stop)\n",
    "\n",
    "        probability = (probability_departure * probability_arrival_before_t_prime * probability_arrival_given_departure) / probability_connection_made\n",
    "        probabilities.append(probability)\n",
    "    probability_sum = sum(probabilities)\n",
    "\n",
    "    return probability_sum\n",
    "\n",
    "arrival_probability_30 = compute_probability_to_arrive_at_t_given_made_connection(t, departure_probabilities, None, arrival_times_first_stop, made_connection_1_2, arrival_departure_tuples_second_trip)\n",
    "t = 32\n",
    "arrival_probability_32 = compute_probability_to_arrive_at_t_given_made_connection(t, departure_probabilities, None, arrival_times_first_stop, made_connection_1_2, arrival_departure_tuples_second_trip)\n",
    "t = 35\n",
    "arrival_probability_35 = compute_probability_to_arrive_at_t_given_made_connection(t, departure_probabilities, None, arrival_times_first_stop, made_connection_1_2, arrival_departure_tuples_second_trip)\n",
    "\n",
    "arrival_probabilities_second_trip = [(30, arrival_probability_30), (32, arrival_probability_32), (35, arrival_probability_35)]\n",
    "arrival_probabilities_second_trip"
   ],
   "metadata": {
    "collapsed": false,
    "ExecuteTime": {
     "end_time": "2025-01-28T19:56:20.308147600Z",
     "start_time": "2025-01-28T19:56:20.256573500Z"
    }
   }
  },
  {
   "cell_type": "code",
   "execution_count": 128,
   "outputs": [
    {
     "data": {
      "text/plain": "0.6190476190476191"
     },
     "execution_count": 128,
     "metadata": {},
     "output_type": "execute_result"
    }
   ],
   "source": [
    "# Now compute probability of making the connection between the second and third trip\n",
    "departure_probabilities = list(set(station_trips_dict['Bern'][0]['departure_probabilities']))\n",
    "made_connection_2_3 = compute_connection_probability(departure_probabilities, arrival_probabilities_second_trip, station_trips_dict['Olten'][0])\n",
    "made_connection_2_3"
   ],
   "metadata": {
    "collapsed": false,
    "ExecuteTime": {
     "end_time": "2025-01-28T19:56:20.308147600Z",
     "start_time": "2025-01-28T19:56:20.272589200Z"
    }
   }
  },
  {
   "cell_type": "code",
   "execution_count": 129,
   "outputs": [
    {
     "data": {
      "text/plain": "[(45, 0.15384615384615385), (47, 0.3076923076923077), (50, 0.5384615384615384)]"
     },
     "execution_count": 129,
     "metadata": {},
     "output_type": "execute_result"
    }
   ],
   "source": [
    "# Now compute probability that trip 3 arrives at the fourth station given that we make the connection between the second and third trip (=between second and third station)\n",
    "\n",
    "t = 45\n",
    "departure_probabilities = list(set(station_trips_dict['Bern'][0]['departure_probabilities']))\n",
    "departure_probabilities.sort(key=lambda x: x[0])\n",
    "arrival_probabilities_third_stop = []\n",
    "arrival_times_second_stop = [actual_time[1] for actual_time in station_trips_dict['Olten'][0]['actual_times']]\n",
    "arrival_departure_tuples_third_station = station_trips_dict['Bern'][0]['actual_times']\n",
    "\n",
    "arrival_probability_45 = compute_probability_to_arrive_at_t_given_made_connection(t, departure_probabilities, arrival_probabilities_second_trip, arrival_times_second_stop, made_connection_2_3, arrival_departure_tuples_third_station)\n",
    "t = 47\n",
    "arrival_probability_47 = compute_probability_to_arrive_at_t_given_made_connection(t, departure_probabilities, arrival_probabilities_second_trip, arrival_times_second_stop, made_connection_2_3, arrival_departure_tuples_third_station)\n",
    "t = 50\n",
    "arrival_probability_50 = compute_probability_to_arrive_at_t_given_made_connection(t, departure_probabilities, arrival_probabilities_second_trip, arrival_times_second_stop, made_connection_2_3, arrival_departure_tuples_third_station)\n",
    "\n",
    "arrival_probabilities_third_trip = [(45, arrival_probability_45), (47, arrival_probability_47), (50, arrival_probability_50)]\n",
    "arrival_probabilities_third_trip"
   ],
   "metadata": {
    "collapsed": false,
    "ExecuteTime": {
     "end_time": "2025-01-28T19:56:20.320913900Z",
     "start_time": "2025-01-28T19:56:20.278290Z"
    }
   }
  },
  {
   "cell_type": "code",
   "execution_count": 130,
   "outputs": [
    {
     "data": {
      "text/plain": "0.6190476190476191"
     },
     "execution_count": 130,
     "metadata": {},
     "output_type": "execute_result"
    }
   ],
   "source": [
    "# Now, compute the reliability of the entire connection\n",
    "\n",
    "# first we need to compute the probability of arriving at the last (third) station before the start_time + time bugdet, given that we made the previous connections\n",
    "time_budget = 50\n",
    "arrival_probability_last = compute_probability_to_arrive_at_or_before(time_budget, None, arrival_probabilities_third_trip)\n",
    "\n",
    "# second, we multiply the arrival probability of the last station with the probability of making the last connection given that we made the previous connections\n",
    "reliability = arrival_probability_last * made_connection_2_3\n",
    "reliability"
   ],
   "metadata": {
    "collapsed": false,
    "ExecuteTime": {
     "end_time": "2025-01-28T19:56:20.324923400Z",
     "start_time": "2025-01-28T19:56:20.288687300Z"
    }
   }
  }
 ],
 "metadata": {
  "kernelspec": {
   "display_name": "Python 3",
   "language": "python",
   "name": "python3"
  },
  "language_info": {
   "codemirror_mode": {
    "name": "ipython",
    "version": 2
   },
   "file_extension": ".py",
   "mimetype": "text/x-python",
   "name": "python",
   "nbconvert_exporter": "python",
   "pygments_lexer": "ipython2",
   "version": "2.7.6"
  }
 },
 "nbformat": 4,
 "nbformat_minor": 0
}
