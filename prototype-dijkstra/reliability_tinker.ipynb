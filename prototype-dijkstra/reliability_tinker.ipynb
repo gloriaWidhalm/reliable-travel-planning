{
 "cells": [
  {
   "cell_type": "code",
   "execution_count": 2,
   "metadata": {
    "collapsed": true,
    "ExecuteTime": {
     "end_time": "2025-01-27T22:42:36.759060100Z",
     "start_time": "2025-01-27T22:42:36.722203200Z"
    }
   },
   "outputs": [],
   "source": [
    "from typing import List\n",
    "\n",
    "\n",
    "def compute_probability(time: int, time_distribution: List[int]) -> float:\n",
    "    \"\"\"\n",
    "    Compute the probability of a train departing or arriving at a given time\n",
    "    given a list of departure times or arrival times\n",
    "    \"\"\"\n",
    "    # count the number of trains departing/arriving at the given time\n",
    "    count = time_distribution.count(time)\n",
    "    # count the total number of trains\n",
    "    total = len(time_distribution)\n",
    "    # compute the probability\n",
    "    probability = count / total\n",
    "    return probability\n",
    "\n",
    "def compute_probability_to_arrive_at_or_before(time_limit: int, arrival_times: List[int]) -> float:\n",
    "    \"\"\"\n",
    "    Compute the probability of arriving at or before a given time\n",
    "    given a list of arrival times\n",
    "    \"\"\"\n",
    "    # get first (minimum) arrival time\n",
    "    min_arrival_time = arrival_times[0] # note: should be the first, we assume we get a sorted list\n",
    "    # get last (maximum) arrival time -> either the latest arrival time or the time limit if that is earlier\n",
    "    max_arrival_time = min(arrival_times[-1], time_limit)\n",
    "    # for each arrival time, compute the probability of arriving at that time (which is the probability of arriving at or before the time limit)\n",
    "    probabilities = [\n",
    "        compute_probability(time, arrival_times)\n",
    "        for time in range(min_arrival_time, max_arrival_time + 1)\n",
    "    ]\n",
    "    # sum the probabilities\n",
    "    probability = sum(probabilities)\n",
    "    return probability"
   ]
  },
  {
   "cell_type": "code",
   "execution_count": 3,
   "outputs": [],
   "source": [
    "# @todo -> this is a simplification, we need to find a data structure that allows us to store the stations and their connections\n",
    "# @todo -> here we only have one \"destination\" per (unique) station, but in reality, we can have multiple connections -> but only one for a unique trip!\n",
    "stations = {\n",
    "    'Zurich': {\n",
    "        # @todo use different structure -> tuples of arrival and departure times\n",
    "        'arrival_times': [0, 0, 0],\n",
    "        'departure_times': [5, 6, 10],\n",
    "        'to': 'Olten'\n",
    "    },\n",
    "    'Olten': {\n",
    "        'arrival_times': [15, 15, 20],\n",
    "        'departure_times': [20, 20, 25],\n",
    "        'to': 'Bern'\n",
    "    },\n",
    "    'Bern': {\n",
    "        'arrival_times': [30, 32, 35],\n",
    "        'departure_times': [35, 37, 40],\n",
    "        'to': 'Brig'\n",
    "    },\n",
    "    'Brig': {\n",
    "        'arrival_times': [45, 47, 50],\n",
    "        'departure_times': [55, 57, 60], # not important for this example\n",
    "        'to': 'Milan' # not important for this example\n",
    "    },\n",
    "}\n"
   ],
   "metadata": {
    "collapsed": false,
    "ExecuteTime": {
     "end_time": "2025-01-27T22:42:36.776676300Z",
     "start_time": "2025-01-27T22:42:36.730078900Z"
    }
   }
  },
  {
   "cell_type": "code",
   "execution_count": 4,
   "outputs": [
    {
     "data": {
      "text/plain": "{'Zurich': {'arrival_times': [0, 0, 0],\n  'departure_times': [5, 6, 10],\n  'to': 'Olten',\n  'departure_probabilities': [(5, 0.3333333333333333),\n   (6, 0.3333333333333333),\n   (10, 0.3333333333333333)]},\n 'Olten': {'arrival_times': [15, 15, 20],\n  'departure_times': [20, 20, 25],\n  'to': 'Bern',\n  'departure_probabilities': [(20, 0.6666666666666666),\n   (20, 0.6666666666666666),\n   (25, 0.3333333333333333)]},\n 'Bern': {'arrival_times': [30, 32, 35],\n  'departure_times': [35, 37, 40],\n  'to': 'Brig',\n  'departure_probabilities': [(35, 0.3333333333333333),\n   (37, 0.3333333333333333),\n   (40, 0.3333333333333333)]},\n 'Brig': {'arrival_times': [45, 47, 50],\n  'departure_times': [55, 57, 60],\n  'to': 'Milan',\n  'departure_probabilities': [(55, 0.3333333333333333),\n   (57, 0.3333333333333333),\n   (60, 0.3333333333333333)]}}"
     },
     "execution_count": 4,
     "metadata": {},
     "output_type": "execute_result"
    }
   ],
   "source": [
    "# first, create unique lists of the departure and arrival times for each station\n",
    "# @todo -> question: we should not sort it, because the order means which departure and arrival times belong together?\n",
    "# @todo -> a unique list here is also wrong -> otherwise the probabilities are wrong\n",
    "# for station in stations.values():\n",
    "#     station['arrival_times'] = list(set(station['arrival_times']))\n",
    "#     station['departure_times'] = list(set(station['departure_times']))\n",
    "\n",
    "\n",
    "# add the departure probabilities -> creating a tuple from the departure time and the probability\n",
    "for station in stations.values():\n",
    "    station['departure_probabilities'] = [\n",
    "        (time, compute_probability(time, station['departure_times']))\n",
    "        for time in station['departure_times']\n",
    "    ]\n",
    "\n",
    "stations"
   ],
   "metadata": {
    "collapsed": false,
    "ExecuteTime": {
     "end_time": "2025-01-27T22:42:36.780223300Z",
     "start_time": "2025-01-27T22:42:36.742931500Z"
    }
   }
  },
  {
   "cell_type": "code",
   "execution_count": 5,
   "outputs": [
    {
     "data": {
      "text/plain": "{'Zurich': {'arrival_times': [0, 0, 0],\n  'departure_times': [5, 6, 10],\n  'to': 'Olten',\n  'departure_probabilities': [(5, 0.3333333333333333),\n   (6, 0.3333333333333333),\n   (10, 0.3333333333333333)],\n  'arrival_probabilities': [(0, 1.0), (0, 1.0), (0, 1.0)]},\n 'Olten': {'arrival_times': [15, 15, 20],\n  'departure_times': [20, 20, 25],\n  'to': 'Bern',\n  'departure_probabilities': [(20, 0.6666666666666666),\n   (20, 0.6666666666666666),\n   (25, 0.3333333333333333)],\n  'arrival_probabilities': [(15, 0.6666666666666666),\n   (15, 0.6666666666666666),\n   (20, 1.0)]},\n 'Bern': {'arrival_times': [30, 32, 35],\n  'departure_times': [35, 37, 40],\n  'to': 'Brig',\n  'departure_probabilities': [(35, 0.3333333333333333),\n   (37, 0.3333333333333333),\n   (40, 0.3333333333333333)],\n  'arrival_probabilities': [(30, 0.3333333333333333),\n   (32, 0.6666666666666666),\n   (35, 1.0)]},\n 'Brig': {'arrival_times': [45, 47, 50],\n  'departure_times': [55, 57, 60],\n  'to': 'Milan',\n  'departure_probabilities': [(55, 0.3333333333333333),\n   (57, 0.3333333333333333),\n   (60, 0.3333333333333333)],\n  'arrival_probabilities': [(45, 0.3333333333333333),\n   (47, 0.6666666666666666),\n   (50, 1.0)]}}"
     },
     "execution_count": 5,
     "metadata": {},
     "output_type": "execute_result"
    }
   ],
   "source": [
    "# for simplicity -> first step, compute probability that we arrive at Olten with a start time 0, budget of 17 and transfer time of 5 minutes (as the default transfer time)\n",
    "# this is only an intermediate step to understand the reliability computation better\n",
    "\n",
    "# @todo -> this is a simplification, because I know that I go from Zurich to Olten, but in reality, I need to find the connection that goes from Zurich to Olten\n",
    "compute_probability_to_arrive_at_or_before(15, stations['Olten']['arrival_times'])\n",
    "compute_probability_to_arrive_at_or_before(20, stations['Olten']['arrival_times'])\n",
    "\n",
    "# add the arrival probabilities (in the same order as the arrival times) to the stations\n",
    "for station in stations.values():\n",
    "    # @todo / note: this only is correct between the first and second station, because we need to consider making the other connections for further stations\n",
    "    station['arrival_probabilities'] = [\n",
    "        (time, compute_probability_to_arrive_at_or_before(time, station['arrival_times']))\n",
    "        for time in station['arrival_times']\n",
    "    ]\n",
    "stations"
   ],
   "metadata": {
    "collapsed": false,
    "ExecuteTime": {
     "end_time": "2025-01-27T22:42:36.780223300Z",
     "start_time": "2025-01-27T22:42:36.759060100Z"
    }
   }
  },
  {
   "cell_type": "code",
   "execution_count": 6,
   "outputs": [],
   "source": [
    "# Now - also for simplicity, compute the probability of making a connection (specifically, from Zurich to Olten)"
   ],
   "metadata": {
    "collapsed": false,
    "ExecuteTime": {
     "end_time": "2025-01-27T22:42:36.780223300Z",
     "start_time": "2025-01-27T22:42:36.761307100Z"
    }
   }
  },
  {
   "cell_type": "code",
   "execution_count": 27,
   "outputs": [],
   "source": [
    "def compute_connection_probability(departure_time_probabilities: List[int], arrival_time_probabilities: List[float], stations: List, station: str, transfer_time=5) -> float:\n",
    "    # @todo -> refactor a bit (to make it useful for the next steps, e.g. how the parameters are passed and how the data is stored)\n",
    "    \"\"\"\n",
    "    Compute the probability of making a connection given a list of departure times and a list of arrival time probabilities\n",
    "    \"\"\"\n",
    "    # for each departure time, compute the probability of making a connection\n",
    "    probabilities = []\n",
    "    # multiply probability of departing at time t with the probability of arriving at or before time (t - transfer time)\n",
    "    for i in range(len(departure_time_probabilities)):\n",
    "        # only consider the arrival time probabilities that are before the departure time\n",
    "        # @todo -> solve this with a precomputed list of probabilities (since we need it more often)\n",
    "        # @todo -> maybe use combined (multiplied) probability that a certain train departs at time t' when it arrives at or before time t\n",
    "        arrival_probability = compute_probability_to_arrive_at_or_before(departure_time_probabilities[i][0] - transfer_time, stations[station]['arrival_times'])\n",
    "        probabilities.append(departure_time_probabilities[i][1] * arrival_probability)\n",
    "    # sum the probabilities\n",
    "    probability = sum(probabilities)\n",
    "    return probability\n",
    "\n",
    "# we assume that we already have unique lists of tuples representing the departure and arrival times and their probabilities\n",
    "# sort the lists by time\n",
    "departure_probabilities = list(set(stations['Olten']['departure_probabilities']))\n",
    "departure_probabilities.sort(key=lambda x: x[0])\n",
    "arrival_probabilities = list(set(stations['Olten']['arrival_probabilities']))\n",
    "arrival_probabilities.sort(key=lambda x: x[0])\n",
    "made_connection_1_2 = compute_connection_probability(departure_probabilities, arrival_probabilities, stations, 'Olten')"
   ],
   "metadata": {
    "collapsed": false,
    "ExecuteTime": {
     "end_time": "2025-01-27T23:11:15.608983500Z",
     "start_time": "2025-01-27T23:11:15.581917Z"
    }
   }
  },
  {
   "cell_type": "code",
   "execution_count": 37,
   "outputs": [
    {
     "name": "stdout",
     "output_type": "stream",
     "text": [
      "Departure probabilities:  [(20, 0.6666666666666666), (25, 0.3333333333333333)]\n",
      "Departure time:  20\n",
      "occurence_arrival_departure 1\n",
      "Probability arrival before t':  0.6666666666666666\n",
      "Multiply 0.6666666666666666 0.6666666666666666 0.5 divide by 0.7777777777777777\n",
      "Departure time:  25\n",
      "occurence_arrival_departure 0\n",
      "Probability arrival before t':  1.0\n",
      "Multiply 0.3333333333333333 1.0 0.0 divide by 0.7777777777777777\n",
      "Sum of probabilities:  0.28571428571428575\n"
     ]
    },
    {
     "data": {
      "text/plain": "[0.28571428571428575, 0.0]"
     },
     "execution_count": 37,
     "metadata": {},
     "output_type": "execute_result"
    }
   ],
   "source": [
    "# Now compute probability that trip 2 arrives at the third station given that we make the connection between the first and second trip (=between first and second station)\n",
    "\n",
    "t = 30\n",
    "departure_probabilities = list(set(stations['Olten']['departure_probabilities']))\n",
    "departure_probabilities.sort(key=lambda x: x[0])\n",
    "arrival_probabilities_second_stop = list(set(stations['Bern']['arrival_probabilities']))\n",
    "arrival_probabilities_second_stop.sort(key=lambda x: x[0])\n",
    "arrival_times_first_stop = stations['Olten']['arrival_times']\n",
    "arrival_probabilities_first_stop = list(set(stations['Olten']['arrival_probabilities']))\n",
    "arrival_probabilities_first_stop.sort(key=lambda x: x[0]) # @todo ordering here correct?\n",
    "\n",
    "print(\"Departure probabilities: \", departure_probabilities)\n",
    "arrival_departure_tuples_second_station= [\n",
    "    (20,30),\n",
    "    (20,32),\n",
    "    (25,35)\n",
    "]\n",
    "\n",
    "def compute_probability_to_arrive_at_t_given_made_connection(time: int, departure_probabilities: List, arrival_probabilities_second_stop: List, arrival_times_first_stop: List[int], probability_connection_made: float, arrival_departure_tuples_second_station: List, transfer_time=5) -> float:\n",
    "    \"\"\" Compute the probability of arriving at time t given that we made the connection.\"\"\"\n",
    "    probabilities = []\n",
    "    # loop through all possible departure times\n",
    "    for t_dep in departure_probabilities:\n",
    "        # probability of arriving at time t given the departure at t'\n",
    "        # we need to count how often an arrival-departure pair occurs (divided by total number of arrival-departure pairs) and then divide by the probability that we depart at t'\n",
    "        occurence_arrival_departure_pair = 0\n",
    "        # arrival times included in the arrival probabilities\n",
    "        # @todo -> here we need the tuples!, count otherwise wrong!, refactor please :)\n",
    "        for pair in arrival_departure_tuples_second_station:\n",
    "            if t_dep[0] == pair[0] and time == pair[1]:\n",
    "                occurence_arrival_departure_pair += 1\n",
    "        probability_arrival_t_departure_t_prime = occurence_arrival_departure_pair / len(arrival_probabilities_second_stop)\n",
    "        probability_arrival_given_departure = probability_arrival_t_departure_t_prime / t_dep[1]\n",
    "        print(\"Departure time: \", t_dep[0])\n",
    "        print(\"occurence_arrival_departure\", occurence_arrival_departure_pair)\n",
    "        #print(\"probability given departure\", probability_arrival_given_departure, \"occurence_arrival_departure\", occurence_arrival_departure_pair)\n",
    "        # probability that we depart at t'\n",
    "        probability_departure = t_dep[1]\n",
    "        # probability that we arrive before t' - transfer time\n",
    "        probability_arrival_before_t_prime = compute_probability_to_arrive_at_or_before(t_dep[0] - transfer_time, arrival_times_first_stop)\n",
    "        print(\"Probability arrival before t': \", probability_arrival_before_t_prime)\n",
    "        # probability that we arrive at t given that we made the connection\n",
    "        print(\"Multiply\", probability_departure, probability_arrival_before_t_prime, probability_arrival_given_departure, \"divide by\", probability_connection_made)\n",
    "        probability = (probability_departure * probability_arrival_before_t_prime * probability_arrival_given_departure) / probability_connection_made\n",
    "        probabilities.append(probability)\n",
    "    probability_sum = sum(probabilities)\n",
    "    print(\"Sum of probabilities: \", probability_sum)\n",
    "    return probabilities\n",
    "\n",
    "\n",
    "compute_probability_to_arrive_at_t_given_made_connection(t, departure_probabilities, arrival_probabilities_second_stop, arrival_times_first_stop, made_connection_1_2, arrival_departure_tuples_second_station)"
   ],
   "metadata": {
    "collapsed": false,
    "ExecuteTime": {
     "end_time": "2025-01-27T23:28:21.594764900Z",
     "start_time": "2025-01-27T23:28:21.579027900Z"
    }
   }
  }
 ],
 "metadata": {
  "kernelspec": {
   "display_name": "Python 3",
   "language": "python",
   "name": "python3"
  },
  "language_info": {
   "codemirror_mode": {
    "name": "ipython",
    "version": 2
   },
   "file_extension": ".py",
   "mimetype": "text/x-python",
   "name": "python",
   "nbconvert_exporter": "python",
   "pygments_lexer": "ipython2",
   "version": "2.7.6"
  }
 },
 "nbformat": 4,
 "nbformat_minor": 0
}
