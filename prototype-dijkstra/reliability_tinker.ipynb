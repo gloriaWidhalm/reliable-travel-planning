{
 "cells": [
  {
   "cell_type": "code",
   "execution_count": 29,
   "metadata": {
    "collapsed": true,
    "ExecuteTime": {
     "end_time": "2025-01-27T15:44:06.867894200Z",
     "start_time": "2025-01-27T15:44:06.852542Z"
    }
   },
   "outputs": [],
   "source": [
    "from typing import List\n",
    "\n",
    "\n",
    "def compute_probability(time: int, time_distribution: List[int]) -> float:\n",
    "    \"\"\"\n",
    "    Compute the probability of a train departing or arriving at a given time\n",
    "    given a list of departure times or arrival times\n",
    "    \"\"\"\n",
    "    # count the number of trains departing/arriving at the given time\n",
    "    count = time_distribution.count(time)\n",
    "    # count the total number of trains\n",
    "    total = len(time_distribution)\n",
    "    # compute the probability\n",
    "    probability = count / total\n",
    "    return probability\n",
    "\n",
    "def compute_probability_to_arrive_at_or_before(time_limit: int, arrival_times: List[int]) -> float:\n",
    "    \"\"\"\n",
    "    Compute the probability of arriving at or before a given time\n",
    "    given a list of arrival times\n",
    "    \"\"\"\n",
    "    # get first (minimum) arrival time\n",
    "    min_arrival_time = arrival_times[0] # note: should be the first, we assume we get a sorted list\n",
    "    # get last (maximum) arrival time -> either the latest arrival time or the time limit if that is earlier\n",
    "    max_arrival_time = min(arrival_times[-1], time_limit)\n",
    "    # for each arrival time, compute the probability of arriving at that time (which is the probability of arriving at or before the time limit)\n",
    "    probabilities = [\n",
    "        compute_probability(time, arrival_times)\n",
    "        for time in range(min_arrival_time, max_arrival_time + 1)\n",
    "    ]\n",
    "    # sum the probabilities\n",
    "    probability = sum(probabilities)\n",
    "    return probability"
   ]
  },
  {
   "cell_type": "code",
   "execution_count": 30,
   "outputs": [],
   "source": [
    "# @todo -> this is a simplification, we need to find a data structure that allows us to store the stations and their connections\n",
    "# @todo -> here we only have one \"destination\" per (unique) station, but in reality, we can have multiple connections -> but only one for a unique trip!\n",
    "stations = {\n",
    "    'Zurich': {\n",
    "        'arrival_times': [0, 0, 0],\n",
    "        'departure_times': [5, 6, 10],\n",
    "        'to': 'Olten'\n",
    "    },\n",
    "    'Olten': {\n",
    "        'arrival_times': [15, 15, 20],\n",
    "        'departure_times': [20, 20, 25],\n",
    "        'to': 'Bern'\n",
    "    },\n",
    "    'Bern': {\n",
    "        'arrival_times': [30, 32, 35],\n",
    "        'departure_times': [35, 37, 40],\n",
    "        'to': 'Brig'\n",
    "    },\n",
    "    'Brig': {\n",
    "        'arrival_times': [45, 47, 50],\n",
    "        'departure_times': [55, 57, 60], # not important for this example\n",
    "        'to': 'Milan' # not important for this example\n",
    "    },\n",
    "}\n"
   ],
   "metadata": {
    "collapsed": false,
    "ExecuteTime": {
     "end_time": "2025-01-27T15:44:09.181869800Z",
     "start_time": "2025-01-27T15:44:09.156480300Z"
    }
   }
  },
  {
   "cell_type": "code",
   "execution_count": 31,
   "outputs": [
    {
     "data": {
      "text/plain": "{'Zurich': {'arrival_times': [0, 0, 0],\n  'departure_times': [5, 6, 10],\n  'to': 'Olten',\n  'departure_probabilities': [(5, 0.3333333333333333),\n   (6, 0.3333333333333333),\n   (10, 0.3333333333333333)]},\n 'Olten': {'arrival_times': [15, 15, 20],\n  'departure_times': [20, 20, 25],\n  'to': 'Bern',\n  'departure_probabilities': [(20, 0.6666666666666666),\n   (20, 0.6666666666666666),\n   (25, 0.3333333333333333)]},\n 'Bern': {'arrival_times': [30, 32, 35],\n  'departure_times': [35, 37, 40],\n  'to': 'Brig',\n  'departure_probabilities': [(35, 0.3333333333333333),\n   (37, 0.3333333333333333),\n   (40, 0.3333333333333333)]},\n 'Brig': {'arrival_times': [45, 47, 50],\n  'departure_times': [55, 57, 60],\n  'to': 'Milan',\n  'departure_probabilities': [(55, 0.3333333333333333),\n   (57, 0.3333333333333333),\n   (60, 0.3333333333333333)]}}"
     },
     "execution_count": 31,
     "metadata": {},
     "output_type": "execute_result"
    }
   ],
   "source": [
    "# first, create unique lists of the departure and arrival times for each station\n",
    "# @todo -> question: we should not sort it, because the order means which departure and arrival times belong together?\n",
    "# @todo -> a unique list here is also wrong -> otherwise the probabilities are wrong\n",
    "# for station in stations.values():\n",
    "#     station['arrival_times'] = list(set(station['arrival_times']))\n",
    "#     station['departure_times'] = list(set(station['departure_times']))\n",
    "\n",
    "\n",
    "# add the departure probabilities -> creating a tuple from the departure time and the probability\n",
    "for station in stations.values():\n",
    "    station['departure_probabilities'] = [\n",
    "        (time, compute_probability(time, station['departure_times']))\n",
    "        for time in station['departure_times']\n",
    "    ]\n",
    "\n",
    "stations"
   ],
   "metadata": {
    "collapsed": false,
    "ExecuteTime": {
     "end_time": "2025-01-27T15:44:10.946091800Z",
     "start_time": "2025-01-27T15:44:10.933634400Z"
    }
   }
  },
  {
   "cell_type": "code",
   "execution_count": 34,
   "outputs": [
    {
     "data": {
      "text/plain": "{'Zurich': {'arrival_times': [0, 0, 0],\n  'departure_times': [5, 6, 10],\n  'to': 'Olten',\n  'departure_probabilities': [(5, 0.3333333333333333),\n   (6, 0.3333333333333333),\n   (10, 0.3333333333333333)],\n  'arrival_probabilities': [(0, 1.0), (0, 1.0), (0, 1.0)]},\n 'Olten': {'arrival_times': [15, 15, 20],\n  'departure_times': [20, 20, 25],\n  'to': 'Bern',\n  'departure_probabilities': [(20, 0.6666666666666666),\n   (20, 0.6666666666666666),\n   (25, 0.3333333333333333)],\n  'arrival_probabilities': [(15, 0.6666666666666666),\n   (15, 0.6666666666666666),\n   (20, 1.0)]},\n 'Bern': {'arrival_times': [30, 32, 35],\n  'departure_times': [35, 37, 40],\n  'to': 'Brig',\n  'departure_probabilities': [(35, 0.3333333333333333),\n   (37, 0.3333333333333333),\n   (40, 0.3333333333333333)],\n  'arrival_probabilities': [(30, 0.3333333333333333),\n   (32, 0.6666666666666666),\n   (35, 1.0)]},\n 'Brig': {'arrival_times': [45, 47, 50],\n  'departure_times': [55, 57, 60],\n  'to': 'Milan',\n  'departure_probabilities': [(55, 0.3333333333333333),\n   (57, 0.3333333333333333),\n   (60, 0.3333333333333333)],\n  'arrival_probabilities': [(45, 0.3333333333333333),\n   (47, 0.6666666666666666),\n   (50, 1.0)]}}"
     },
     "execution_count": 34,
     "metadata": {},
     "output_type": "execute_result"
    }
   ],
   "source": [
    "# for simplicity -> first step, compute probability that we arrive at Olten with a start time 0, budget of 17 and transfer time of 5 minutes (as the default transfer time)\n",
    "# this is only an intermediate step to understand the reliability computation better\n",
    "\n",
    "# @todo -> this is a simplification, because I know that I go from Zurich to Olten, but in reality, I need to find the connection that goes from Zurich to Olten\n",
    "compute_probability_to_arrive_at_or_before(15, stations['Olten']['arrival_times'])\n",
    "compute_probability_to_arrive_at_or_before(20, stations['Olten']['arrival_times'])\n",
    "\n",
    "# add the arrival probabilities (in the same order as the arrival times) to the stations\n",
    "for station in stations.values():\n",
    "    # @todo / note: this only is correct between the first and second station, because we need to consider making the other connections for further stations\n",
    "    station['arrival_probabilities'] = [\n",
    "        (time, compute_probability_to_arrive_at_or_before(time, station['arrival_times']))\n",
    "        for time in station['arrival_times']\n",
    "    ]\n",
    "stations"
   ],
   "metadata": {
    "collapsed": false,
    "ExecuteTime": {
     "end_time": "2025-01-27T15:46:26.681618800Z",
     "start_time": "2025-01-27T15:46:26.667007600Z"
    }
   }
  },
  {
   "cell_type": "code",
   "execution_count": null,
   "outputs": [],
   "source": [
    "# Now - also for simplicity, compute the probability of making a connection (specifically, from Zurich to Olten)"
   ],
   "metadata": {
    "collapsed": false
   }
  },
  {
   "cell_type": "code",
   "execution_count": 54,
   "outputs": [
    {
     "name": "stdout",
     "output_type": "stream",
     "text": [
      "departure_time_probabilities\n",
      "[(20, 0.6666666666666666), (25, 0.3333333333333333)]\n",
      "arrival_time_probabilities\n",
      "[(15, 0.6666666666666666), (20, 1.0)]\n",
      "[0.4444444444444444, 0.3333333333333333]\n"
     ]
    },
    {
     "data": {
      "text/plain": "0.7777777777777777"
     },
     "execution_count": 54,
     "metadata": {},
     "output_type": "execute_result"
    }
   ],
   "source": [
    "def compute_connection_probability(departure_time_probabilities: List[int], arrival_time_probabilities: List[float], stations: List, station: str, transfer_time=5) -> float:\n",
    "    # @todo -> refactor a bit (to make it useful for the next steps, e.g. how the parameters are passed and how the data is stored)\n",
    "    \"\"\"\n",
    "    Compute the probability of making a connection given a list of departure times and a list of arrival time probabilities\n",
    "    \"\"\"\n",
    "    # for each departure time, compute the probability of making a connection\n",
    "    probabilities = []\n",
    "    print(\"departure_time_probabilities\")\n",
    "    print(departure_time_probabilities)\n",
    "    print(\"arrival_time_probabilities\")\n",
    "    print(arrival_time_probabilities)\n",
    "    # multiply probability of departing at time t with the probability of arriving at or before time (t - transfer time)\n",
    "    for i in range(len(departure_time_probabilities)):\n",
    "        # only consider the arrival time probabilities that are before the departure time\n",
    "        arrival_probability = compute_probability_to_arrive_at_or_before(departure_time_probabilities[i][0] - transfer_time, stations[station]['arrival_times'])\n",
    "        probabilities.append(departure_time_probabilities[i][1] * arrival_probability)\n",
    "    print(probabilities)\n",
    "    # sum the probabilities\n",
    "    probability = sum(probabilities)\n",
    "    return probability\n",
    "\n",
    "# we assume that we already have unique lists of tuples representing the departure and arrival times and their probabilities\n",
    "# sort the lists by time\n",
    "departure_probabilities = list(set(stations['Olten']['departure_probabilities']))\n",
    "departure_probabilities.sort(key=lambda x: x[0])\n",
    "arrival_probabilities = list(set(stations['Olten']['arrival_probabilities']))\n",
    "arrival_probabilities.sort(key=lambda x: x[0])\n",
    "compute_connection_probability(departure_probabilities, arrival_probabilities, stations, 'Olten')"
   ],
   "metadata": {
    "collapsed": false,
    "ExecuteTime": {
     "end_time": "2025-01-27T18:15:13.416263400Z",
     "start_time": "2025-01-27T18:15:13.407766500Z"
    }
   }
  },
  {
   "cell_type": "code",
   "execution_count": null,
   "outputs": [],
   "source": [
    "#"
   ],
   "metadata": {
    "collapsed": false
   }
  }
 ],
 "metadata": {
  "kernelspec": {
   "display_name": "Python 3",
   "language": "python",
   "name": "python3"
  },
  "language_info": {
   "codemirror_mode": {
    "name": "ipython",
    "version": 2
   },
   "file_extension": ".py",
   "mimetype": "text/x-python",
   "name": "python",
   "nbconvert_exporter": "python",
   "pygments_lexer": "ipython2",
   "version": "2.7.6"
  }
 },
 "nbformat": 4,
 "nbformat_minor": 0
}
