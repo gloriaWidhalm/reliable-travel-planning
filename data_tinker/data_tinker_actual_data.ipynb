{
 "cells": [
  {
   "cell_type": "code",
   "execution_count": 1,
   "outputs": [
    {
     "data": {
      "text/plain": "FloatProgress(value=0.0, layout=Layout(width='auto'), style=ProgressStyle(bar_color='black'))",
      "application/vnd.jupyter.widget-view+json": {
       "version_major": 2,
       "version_minor": 0,
       "model_id": "f3a77067b21c4ebeb7854fdfa8f10840"
      }
     },
     "metadata": {},
     "output_type": "display_data"
    }
   ],
   "source": [
    "import duckdb\n",
    "import pandas as pd\n",
    "\n",
    "# Connect to the database\n",
    "connection = duckdb.connect(\"../data/transport_data.db\", read_only=False)\n",
    "\n",
    "\n",
    "query = f\"\"\" CREATE TABLE IF NOT EXISTS services AS SELECT * FROM '../data/delay_data/*.csv'\"\"\"\n",
    "connection.execute(query)\n",
    "\n",
    "r = connection.sql(\"DESCRIBE services\")"
   ],
   "metadata": {
    "collapsed": false,
    "ExecuteTime": {
     "end_time": "2024-11-19T20:09:28.396880200Z",
     "start_time": "2024-11-19T20:05:25.616328Z"
    }
   }
  },
  {
   "cell_type": "code",
   "execution_count": 2,
   "outputs": [
    {
     "name": "stdout",
     "output_type": "stream",
     "text": [
      "count:\n",
      "   count_star()\n",
      "0       4772714\n"
     ]
    }
   ],
   "source": [
    "# Get the count of all entries\n",
    "query = f\"\"\"\n",
    "SELECT count(*)\n",
    "FROM services\n",
    "WHERE PRODUKT_ID='Zug'\n",
    "\"\"\"\n",
    "result = connection.sql(query).df()\n",
    "\n",
    "# Print the result\n",
    "print(\"count:\")\n",
    "print(result)\n",
    "\n"
   ],
   "metadata": {
    "collapsed": false,
    "ExecuteTime": {
     "end_time": "2024-11-19T20:28:33.637926700Z",
     "start_time": "2024-11-19T20:28:33.530023200Z"
    }
   }
  },
  {
   "cell_type": "code",
   "execution_count": 13,
   "outputs": [
    {
     "name": "stdout",
     "output_type": "stream",
     "text": [
      "20 most delayed trains:\n"
     ]
    },
    {
     "data": {
      "text/plain": "   LINIEN_ID  avg_delay  count\n0      17790   1.846713      6\n1      17786   1.442500      4\n2        466   1.420501     66\n3      13491   1.254611      5\n4      17788   1.085722      5\n5      31216   1.030556      1\n6      17784   0.968056      2\n7      31438   0.906815     15\n8      70196   0.848472      2\n9      73290   0.830625      8\n10     17794   0.828843      6\n11     70316   0.828730      7\n12     84392   0.799333      5\n13     31630   0.789583     10\n14     70869   0.777014      4\n15       205   0.734352      3\n16      2558   0.664306      4\n17       162   0.648579     43\n18       340   0.624569     49\n19     95518   0.598583     10\n20       160   0.574799     47\n21       166   0.549428     68\n22     17782   0.541296      3\n23     72543   0.514815      3\n24       403   0.512783     58\n25      2879   0.498889      1\n26        36   0.483308     77\n27        56   0.481337    232\n28        98   0.449827    119\n29        42   0.446142     36\n30       196   0.444184     98\n31      2875   0.428333      1\n32     31734   0.419167      1\n33       194   0.399692    112\n34     89229   0.395167      5\n35     95672   0.375833      1\n36     88674   0.372659      7\n37     31160   0.367500      1\n38     89228   0.356528      8\n39     89128   0.356167      5",
      "text/html": "<div>\n<style scoped>\n    .dataframe tbody tr th:only-of-type {\n        vertical-align: middle;\n    }\n\n    .dataframe tbody tr th {\n        vertical-align: top;\n    }\n\n    .dataframe thead th {\n        text-align: right;\n    }\n</style>\n<table border=\"1\" class=\"dataframe\">\n  <thead>\n    <tr style=\"text-align: right;\">\n      <th></th>\n      <th>LINIEN_ID</th>\n      <th>avg_delay</th>\n      <th>count</th>\n    </tr>\n  </thead>\n  <tbody>\n    <tr>\n      <th>0</th>\n      <td>17790</td>\n      <td>1.846713</td>\n      <td>6</td>\n    </tr>\n    <tr>\n      <th>1</th>\n      <td>17786</td>\n      <td>1.442500</td>\n      <td>4</td>\n    </tr>\n    <tr>\n      <th>2</th>\n      <td>466</td>\n      <td>1.420501</td>\n      <td>66</td>\n    </tr>\n    <tr>\n      <th>3</th>\n      <td>13491</td>\n      <td>1.254611</td>\n      <td>5</td>\n    </tr>\n    <tr>\n      <th>4</th>\n      <td>17788</td>\n      <td>1.085722</td>\n      <td>5</td>\n    </tr>\n    <tr>\n      <th>5</th>\n      <td>31216</td>\n      <td>1.030556</td>\n      <td>1</td>\n    </tr>\n    <tr>\n      <th>6</th>\n      <td>17784</td>\n      <td>0.968056</td>\n      <td>2</td>\n    </tr>\n    <tr>\n      <th>7</th>\n      <td>31438</td>\n      <td>0.906815</td>\n      <td>15</td>\n    </tr>\n    <tr>\n      <th>8</th>\n      <td>70196</td>\n      <td>0.848472</td>\n      <td>2</td>\n    </tr>\n    <tr>\n      <th>9</th>\n      <td>73290</td>\n      <td>0.830625</td>\n      <td>8</td>\n    </tr>\n    <tr>\n      <th>10</th>\n      <td>17794</td>\n      <td>0.828843</td>\n      <td>6</td>\n    </tr>\n    <tr>\n      <th>11</th>\n      <td>70316</td>\n      <td>0.828730</td>\n      <td>7</td>\n    </tr>\n    <tr>\n      <th>12</th>\n      <td>84392</td>\n      <td>0.799333</td>\n      <td>5</td>\n    </tr>\n    <tr>\n      <th>13</th>\n      <td>31630</td>\n      <td>0.789583</td>\n      <td>10</td>\n    </tr>\n    <tr>\n      <th>14</th>\n      <td>70869</td>\n      <td>0.777014</td>\n      <td>4</td>\n    </tr>\n    <tr>\n      <th>15</th>\n      <td>205</td>\n      <td>0.734352</td>\n      <td>3</td>\n    </tr>\n    <tr>\n      <th>16</th>\n      <td>2558</td>\n      <td>0.664306</td>\n      <td>4</td>\n    </tr>\n    <tr>\n      <th>17</th>\n      <td>162</td>\n      <td>0.648579</td>\n      <td>43</td>\n    </tr>\n    <tr>\n      <th>18</th>\n      <td>340</td>\n      <td>0.624569</td>\n      <td>49</td>\n    </tr>\n    <tr>\n      <th>19</th>\n      <td>95518</td>\n      <td>0.598583</td>\n      <td>10</td>\n    </tr>\n    <tr>\n      <th>20</th>\n      <td>160</td>\n      <td>0.574799</td>\n      <td>47</td>\n    </tr>\n    <tr>\n      <th>21</th>\n      <td>166</td>\n      <td>0.549428</td>\n      <td>68</td>\n    </tr>\n    <tr>\n      <th>22</th>\n      <td>17782</td>\n      <td>0.541296</td>\n      <td>3</td>\n    </tr>\n    <tr>\n      <th>23</th>\n      <td>72543</td>\n      <td>0.514815</td>\n      <td>3</td>\n    </tr>\n    <tr>\n      <th>24</th>\n      <td>403</td>\n      <td>0.512783</td>\n      <td>58</td>\n    </tr>\n    <tr>\n      <th>25</th>\n      <td>2879</td>\n      <td>0.498889</td>\n      <td>1</td>\n    </tr>\n    <tr>\n      <th>26</th>\n      <td>36</td>\n      <td>0.483308</td>\n      <td>77</td>\n    </tr>\n    <tr>\n      <th>27</th>\n      <td>56</td>\n      <td>0.481337</td>\n      <td>232</td>\n    </tr>\n    <tr>\n      <th>28</th>\n      <td>98</td>\n      <td>0.449827</td>\n      <td>119</td>\n    </tr>\n    <tr>\n      <th>29</th>\n      <td>42</td>\n      <td>0.446142</td>\n      <td>36</td>\n    </tr>\n    <tr>\n      <th>30</th>\n      <td>196</td>\n      <td>0.444184</td>\n      <td>98</td>\n    </tr>\n    <tr>\n      <th>31</th>\n      <td>2875</td>\n      <td>0.428333</td>\n      <td>1</td>\n    </tr>\n    <tr>\n      <th>32</th>\n      <td>31734</td>\n      <td>0.419167</td>\n      <td>1</td>\n    </tr>\n    <tr>\n      <th>33</th>\n      <td>194</td>\n      <td>0.399692</td>\n      <td>112</td>\n    </tr>\n    <tr>\n      <th>34</th>\n      <td>89229</td>\n      <td>0.395167</td>\n      <td>5</td>\n    </tr>\n    <tr>\n      <th>35</th>\n      <td>95672</td>\n      <td>0.375833</td>\n      <td>1</td>\n    </tr>\n    <tr>\n      <th>36</th>\n      <td>88674</td>\n      <td>0.372659</td>\n      <td>7</td>\n    </tr>\n    <tr>\n      <th>37</th>\n      <td>31160</td>\n      <td>0.367500</td>\n      <td>1</td>\n    </tr>\n    <tr>\n      <th>38</th>\n      <td>89228</td>\n      <td>0.356528</td>\n      <td>8</td>\n    </tr>\n    <tr>\n      <th>39</th>\n      <td>89128</td>\n      <td>0.356167</td>\n      <td>5</td>\n    </tr>\n  </tbody>\n</table>\n</div>"
     },
     "execution_count": 13,
     "metadata": {},
     "output_type": "execute_result"
    }
   ],
   "source": [
    "# Get the 20 most delayed trains\n",
    "query = f\"\"\"\n",
    "SELECT LINIEN_ID, AVG(epoch((AN_PROGNOSE - try_strptime(ANKUNFTSZEIT, '%d.%m.%Y %H:%M'))))/3600 as avg_delay, count(*) as count\n",
    "FROM services\n",
    "WHERE PRODUKT_ID='Zug'\n",
    "AND BETREIBER_NAME='Schweizerische Bundesbahnen SBB'\n",
    "AND AN_PROGNOSE_STATUS='REAL'\n",
    "GROUP BY LINIEN_ID\n",
    "ORDER BY 2 DESC\n",
    "LIMIT 40\n",
    "\"\"\"\n",
    "result = connection.sql(query).df()\n",
    "\n",
    "pd.set_option('display.max_columns', None)\n",
    "print(\"20 most delayed trains:\")\n",
    "result"
   ],
   "metadata": {
    "collapsed": false,
    "ExecuteTime": {
     "end_time": "2024-11-19T10:49:06.921303400Z",
     "start_time": "2024-11-19T10:49:06.804201Z"
    }
   }
  },
  {
   "cell_type": "code",
   "execution_count": 5,
   "outputs": [
    {
     "data": {
      "text/plain": "        BETRIEBSTAG            FAHRT_BEZEICHNER BETREIBER_ID BETREIBER_ABK  \\\n0        2024-09-01  ch:1:sjyid:100001:1007-001        85:11           SBB   \n1        2024-09-01  ch:1:sjyid:100001:1007-001        85:11           SBB   \n2        2024-09-01  ch:1:sjyid:100001:1009-001        85:11           SBB   \n3        2024-09-01  ch:1:sjyid:100001:1009-001        85:11           SBB   \n4        2024-09-01  ch:1:sjyid:100001:1011-001        85:11           SBB   \n...             ...                         ...          ...           ...   \n1895692  2024-09-30   ch:1:sjyid:100001:992-001        85:11           SBB   \n1895693  2024-09-30   ch:1:sjyid:100001:992-001        85:11           SBB   \n1895694  2024-09-30   ch:1:sjyid:100001:992-001        85:11           SBB   \n1895695  2024-09-30   ch:1:sjyid:100001:992-001        85:11           SBB   \n1895696  2024-09-30   ch:1:sjyid:100001:992-001        85:11           SBB   \n\n                          BETREIBER_NAME PRODUKT_ID LINIEN_ID LINIEN_TEXT  \\\n0        Schweizerische Bundesbahnen SBB        Zug      1007          IC   \n1        Schweizerische Bundesbahnen SBB        Zug      1007          IC   \n2        Schweizerische Bundesbahnen SBB        Zug      1009          IC   \n3        Schweizerische Bundesbahnen SBB        Zug      1009          IC   \n4        Schweizerische Bundesbahnen SBB        Zug      1011          IC   \n...                                  ...        ...       ...         ...   \n1895692  Schweizerische Bundesbahnen SBB        Zug       992        IC61   \n1895693  Schweizerische Bundesbahnen SBB        Zug       992        IC61   \n1895694  Schweizerische Bundesbahnen SBB        Zug       992        IC61   \n1895695  Schweizerische Bundesbahnen SBB        Zug       992        IC61   \n1895696  Schweizerische Bundesbahnen SBB        Zug       992        IC61   \n\n        UMLAUF_ID VERKEHRSMITTEL_TEXT  ZUSATZFAHRT_TF  FAELLT_AUS_TF    BPUIC  \\\n0            None                  IC           False          False  8503424   \n1            None                  IC           False          False  8503000   \n2            None                  IC           False          False  8503424   \n3            None                  IC           False          False  8503000   \n4            None                  IC           False          False  8503424   \n...           ...                 ...             ...            ...      ...   \n1895692      None                  IC           False          False  8507492   \n1895693      None                  IC           False          False  8507493   \n1895694      None                  IC           False          False  8507483   \n1895695      None                  IC           False          False  8507100   \n1895696      None                  IC           False          False  8507000   \n\n        HALTESTELLEN_NAME      ANKUNFTSZEIT         AN_PROGNOSE  \\\n0            Schaffhausen              None                 NaT   \n1               Zürich HB  01.09.2024 06:26 2024-09-01 06:26:05   \n2            Schaffhausen              None                 NaT   \n3               Zürich HB  01.09.2024 07:26 2024-09-01 07:26:36   \n4            Schaffhausen              None                 NaT   \n...                   ...               ...                 ...   \n1895692    Interlaken Ost              None                 NaT   \n1895693   Interlaken West  30.09.2024 23:04 2024-09-30 23:04:20   \n1895694             Spiez  30.09.2024 23:22 2024-09-30 23:21:32   \n1895695              Thun  30.09.2024 23:32 2024-09-30 23:31:30   \n1895696              Bern  30.09.2024 23:52 2024-09-30 23:52:17   \n\n        AN_PROGNOSE_STATUS      ABFAHRTSZEIT         AB_PROGNOSE  \\\n0                     None  01.09.2024 05:47 2024-09-01 05:47:34   \n1                     REAL              None                 NaT   \n2                     None  01.09.2024 06:47 2024-09-01 06:47:18   \n3                     REAL              None                 NaT   \n4                     None  01.09.2024 07:47 2024-09-01 07:47:42   \n...                    ...               ...                 ...   \n1895692               None  30.09.2024 23:00 2024-09-30 23:00:50   \n1895693               REAL  30.09.2024 23:05 2024-09-30 23:06:01   \n1895694               REAL  30.09.2024 23:22 2024-09-30 23:22:54   \n1895695               REAL  30.09.2024 23:33 2024-09-30 23:33:53   \n1895696               REAL              None                 NaT   \n\n        AB_PROGNOSE_STATUS  DURCHFAHRT_TF  \n0                     REAL          False  \n1                     None          False  \n2                     REAL          False  \n3                     None          False  \n4                     REAL          False  \n...                    ...            ...  \n1895692               REAL          False  \n1895693               REAL          False  \n1895694               REAL          False  \n1895695               REAL          False  \n1895696               None          False  \n\n[1895697 rows x 21 columns]",
      "text/html": "<div>\n<style scoped>\n    .dataframe tbody tr th:only-of-type {\n        vertical-align: middle;\n    }\n\n    .dataframe tbody tr th {\n        vertical-align: top;\n    }\n\n    .dataframe thead th {\n        text-align: right;\n    }\n</style>\n<table border=\"1\" class=\"dataframe\">\n  <thead>\n    <tr style=\"text-align: right;\">\n      <th></th>\n      <th>BETRIEBSTAG</th>\n      <th>FAHRT_BEZEICHNER</th>\n      <th>BETREIBER_ID</th>\n      <th>BETREIBER_ABK</th>\n      <th>BETREIBER_NAME</th>\n      <th>PRODUKT_ID</th>\n      <th>LINIEN_ID</th>\n      <th>LINIEN_TEXT</th>\n      <th>UMLAUF_ID</th>\n      <th>VERKEHRSMITTEL_TEXT</th>\n      <th>ZUSATZFAHRT_TF</th>\n      <th>FAELLT_AUS_TF</th>\n      <th>BPUIC</th>\n      <th>HALTESTELLEN_NAME</th>\n      <th>ANKUNFTSZEIT</th>\n      <th>AN_PROGNOSE</th>\n      <th>AN_PROGNOSE_STATUS</th>\n      <th>ABFAHRTSZEIT</th>\n      <th>AB_PROGNOSE</th>\n      <th>AB_PROGNOSE_STATUS</th>\n      <th>DURCHFAHRT_TF</th>\n    </tr>\n  </thead>\n  <tbody>\n    <tr>\n      <th>0</th>\n      <td>2024-09-01</td>\n      <td>ch:1:sjyid:100001:1007-001</td>\n      <td>85:11</td>\n      <td>SBB</td>\n      <td>Schweizerische Bundesbahnen SBB</td>\n      <td>Zug</td>\n      <td>1007</td>\n      <td>IC</td>\n      <td>None</td>\n      <td>IC</td>\n      <td>False</td>\n      <td>False</td>\n      <td>8503424</td>\n      <td>Schaffhausen</td>\n      <td>None</td>\n      <td>NaT</td>\n      <td>None</td>\n      <td>01.09.2024 05:47</td>\n      <td>2024-09-01 05:47:34</td>\n      <td>REAL</td>\n      <td>False</td>\n    </tr>\n    <tr>\n      <th>1</th>\n      <td>2024-09-01</td>\n      <td>ch:1:sjyid:100001:1007-001</td>\n      <td>85:11</td>\n      <td>SBB</td>\n      <td>Schweizerische Bundesbahnen SBB</td>\n      <td>Zug</td>\n      <td>1007</td>\n      <td>IC</td>\n      <td>None</td>\n      <td>IC</td>\n      <td>False</td>\n      <td>False</td>\n      <td>8503000</td>\n      <td>Zürich HB</td>\n      <td>01.09.2024 06:26</td>\n      <td>2024-09-01 06:26:05</td>\n      <td>REAL</td>\n      <td>None</td>\n      <td>NaT</td>\n      <td>None</td>\n      <td>False</td>\n    </tr>\n    <tr>\n      <th>2</th>\n      <td>2024-09-01</td>\n      <td>ch:1:sjyid:100001:1009-001</td>\n      <td>85:11</td>\n      <td>SBB</td>\n      <td>Schweizerische Bundesbahnen SBB</td>\n      <td>Zug</td>\n      <td>1009</td>\n      <td>IC</td>\n      <td>None</td>\n      <td>IC</td>\n      <td>False</td>\n      <td>False</td>\n      <td>8503424</td>\n      <td>Schaffhausen</td>\n      <td>None</td>\n      <td>NaT</td>\n      <td>None</td>\n      <td>01.09.2024 06:47</td>\n      <td>2024-09-01 06:47:18</td>\n      <td>REAL</td>\n      <td>False</td>\n    </tr>\n    <tr>\n      <th>3</th>\n      <td>2024-09-01</td>\n      <td>ch:1:sjyid:100001:1009-001</td>\n      <td>85:11</td>\n      <td>SBB</td>\n      <td>Schweizerische Bundesbahnen SBB</td>\n      <td>Zug</td>\n      <td>1009</td>\n      <td>IC</td>\n      <td>None</td>\n      <td>IC</td>\n      <td>False</td>\n      <td>False</td>\n      <td>8503000</td>\n      <td>Zürich HB</td>\n      <td>01.09.2024 07:26</td>\n      <td>2024-09-01 07:26:36</td>\n      <td>REAL</td>\n      <td>None</td>\n      <td>NaT</td>\n      <td>None</td>\n      <td>False</td>\n    </tr>\n    <tr>\n      <th>4</th>\n      <td>2024-09-01</td>\n      <td>ch:1:sjyid:100001:1011-001</td>\n      <td>85:11</td>\n      <td>SBB</td>\n      <td>Schweizerische Bundesbahnen SBB</td>\n      <td>Zug</td>\n      <td>1011</td>\n      <td>IC</td>\n      <td>None</td>\n      <td>IC</td>\n      <td>False</td>\n      <td>False</td>\n      <td>8503424</td>\n      <td>Schaffhausen</td>\n      <td>None</td>\n      <td>NaT</td>\n      <td>None</td>\n      <td>01.09.2024 07:47</td>\n      <td>2024-09-01 07:47:42</td>\n      <td>REAL</td>\n      <td>False</td>\n    </tr>\n    <tr>\n      <th>...</th>\n      <td>...</td>\n      <td>...</td>\n      <td>...</td>\n      <td>...</td>\n      <td>...</td>\n      <td>...</td>\n      <td>...</td>\n      <td>...</td>\n      <td>...</td>\n      <td>...</td>\n      <td>...</td>\n      <td>...</td>\n      <td>...</td>\n      <td>...</td>\n      <td>...</td>\n      <td>...</td>\n      <td>...</td>\n      <td>...</td>\n      <td>...</td>\n      <td>...</td>\n      <td>...</td>\n    </tr>\n    <tr>\n      <th>1895692</th>\n      <td>2024-09-30</td>\n      <td>ch:1:sjyid:100001:992-001</td>\n      <td>85:11</td>\n      <td>SBB</td>\n      <td>Schweizerische Bundesbahnen SBB</td>\n      <td>Zug</td>\n      <td>992</td>\n      <td>IC61</td>\n      <td>None</td>\n      <td>IC</td>\n      <td>False</td>\n      <td>False</td>\n      <td>8507492</td>\n      <td>Interlaken Ost</td>\n      <td>None</td>\n      <td>NaT</td>\n      <td>None</td>\n      <td>30.09.2024 23:00</td>\n      <td>2024-09-30 23:00:50</td>\n      <td>REAL</td>\n      <td>False</td>\n    </tr>\n    <tr>\n      <th>1895693</th>\n      <td>2024-09-30</td>\n      <td>ch:1:sjyid:100001:992-001</td>\n      <td>85:11</td>\n      <td>SBB</td>\n      <td>Schweizerische Bundesbahnen SBB</td>\n      <td>Zug</td>\n      <td>992</td>\n      <td>IC61</td>\n      <td>None</td>\n      <td>IC</td>\n      <td>False</td>\n      <td>False</td>\n      <td>8507493</td>\n      <td>Interlaken West</td>\n      <td>30.09.2024 23:04</td>\n      <td>2024-09-30 23:04:20</td>\n      <td>REAL</td>\n      <td>30.09.2024 23:05</td>\n      <td>2024-09-30 23:06:01</td>\n      <td>REAL</td>\n      <td>False</td>\n    </tr>\n    <tr>\n      <th>1895694</th>\n      <td>2024-09-30</td>\n      <td>ch:1:sjyid:100001:992-001</td>\n      <td>85:11</td>\n      <td>SBB</td>\n      <td>Schweizerische Bundesbahnen SBB</td>\n      <td>Zug</td>\n      <td>992</td>\n      <td>IC61</td>\n      <td>None</td>\n      <td>IC</td>\n      <td>False</td>\n      <td>False</td>\n      <td>8507483</td>\n      <td>Spiez</td>\n      <td>30.09.2024 23:22</td>\n      <td>2024-09-30 23:21:32</td>\n      <td>REAL</td>\n      <td>30.09.2024 23:22</td>\n      <td>2024-09-30 23:22:54</td>\n      <td>REAL</td>\n      <td>False</td>\n    </tr>\n    <tr>\n      <th>1895695</th>\n      <td>2024-09-30</td>\n      <td>ch:1:sjyid:100001:992-001</td>\n      <td>85:11</td>\n      <td>SBB</td>\n      <td>Schweizerische Bundesbahnen SBB</td>\n      <td>Zug</td>\n      <td>992</td>\n      <td>IC61</td>\n      <td>None</td>\n      <td>IC</td>\n      <td>False</td>\n      <td>False</td>\n      <td>8507100</td>\n      <td>Thun</td>\n      <td>30.09.2024 23:32</td>\n      <td>2024-09-30 23:31:30</td>\n      <td>REAL</td>\n      <td>30.09.2024 23:33</td>\n      <td>2024-09-30 23:33:53</td>\n      <td>REAL</td>\n      <td>False</td>\n    </tr>\n    <tr>\n      <th>1895696</th>\n      <td>2024-09-30</td>\n      <td>ch:1:sjyid:100001:992-001</td>\n      <td>85:11</td>\n      <td>SBB</td>\n      <td>Schweizerische Bundesbahnen SBB</td>\n      <td>Zug</td>\n      <td>992</td>\n      <td>IC61</td>\n      <td>None</td>\n      <td>IC</td>\n      <td>False</td>\n      <td>False</td>\n      <td>8507000</td>\n      <td>Bern</td>\n      <td>30.09.2024 23:52</td>\n      <td>2024-09-30 23:52:17</td>\n      <td>REAL</td>\n      <td>None</td>\n      <td>NaT</td>\n      <td>None</td>\n      <td>False</td>\n    </tr>\n  </tbody>\n</table>\n<p>1895697 rows × 21 columns</p>\n</div>"
     },
     "execution_count": 5,
     "metadata": {},
     "output_type": "execute_result"
    }
   ],
   "source": [
    "# get the Betreiber with name 'Schweizerische Bundesbahnen SBB'\n",
    "query = f\"\"\"\n",
    "SELECT *\n",
    "FROM services\n",
    "WHERE PRODUKT_ID='Zug'\n",
    "AND BETREIBER_NAME='Schweizerische Bundesbahnen SBB'\n",
    "\"\"\"\n",
    "result = connection.sql(query).df()\n",
    "result"
   ],
   "metadata": {
    "collapsed": false,
    "ExecuteTime": {
     "end_time": "2024-11-19T10:21:55.781939600Z",
     "start_time": "2024-11-19T10:21:53.556989200Z"
    }
   }
  },
  {
   "cell_type": "code",
   "execution_count": 18,
   "outputs": [
    {
     "data": {
      "text/plain": "  LINIEN_ID  HALTESTELLEN_NAME    BPUIC\n0     17790  St. Margrethen SG  8506314\n1     17790         Winterthur  8506000\n2     17790          Zürich HB  8503000\n3     17790  St. Margrethen SG  8506314\n4     17790         Winterthur  8506000\n5     17790          Zürich HB  8503000",
      "text/html": "<div>\n<style scoped>\n    .dataframe tbody tr th:only-of-type {\n        vertical-align: middle;\n    }\n\n    .dataframe tbody tr th {\n        vertical-align: top;\n    }\n\n    .dataframe thead th {\n        text-align: right;\n    }\n</style>\n<table border=\"1\" class=\"dataframe\">\n  <thead>\n    <tr style=\"text-align: right;\">\n      <th></th>\n      <th>LINIEN_ID</th>\n      <th>HALTESTELLEN_NAME</th>\n      <th>BPUIC</th>\n    </tr>\n  </thead>\n  <tbody>\n    <tr>\n      <th>0</th>\n      <td>17790</td>\n      <td>St. Margrethen SG</td>\n      <td>8506314</td>\n    </tr>\n    <tr>\n      <th>1</th>\n      <td>17790</td>\n      <td>Winterthur</td>\n      <td>8506000</td>\n    </tr>\n    <tr>\n      <th>2</th>\n      <td>17790</td>\n      <td>Zürich HB</td>\n      <td>8503000</td>\n    </tr>\n    <tr>\n      <th>3</th>\n      <td>17790</td>\n      <td>St. Margrethen SG</td>\n      <td>8506314</td>\n    </tr>\n    <tr>\n      <th>4</th>\n      <td>17790</td>\n      <td>Winterthur</td>\n      <td>8506000</td>\n    </tr>\n    <tr>\n      <th>5</th>\n      <td>17790</td>\n      <td>Zürich HB</td>\n      <td>8503000</td>\n    </tr>\n  </tbody>\n</table>\n</div>"
     },
     "execution_count": 18,
     "metadata": {},
     "output_type": "execute_result"
    }
   ],
   "source": [
    "query = f\"\"\"\n",
    "SELECT LINIEN_ID, HALTESTELLEN_NAME, BPUIC\n",
    "FROM services\n",
    "WHERE LINIEN_ID IN ['17790']\n",
    "--AND AN_PROGNOSE_STATUS='REAL'\n",
    "LIMIT 40\n",
    "\"\"\"\n",
    "result = connection.sql(query).df()\n",
    "\n",
    "pd.set_option('display.max_columns', None)\n",
    "result"
   ],
   "metadata": {
    "collapsed": false,
    "ExecuteTime": {
     "end_time": "2024-11-19T10:57:22.949127100Z",
     "start_time": "2024-11-19T10:57:22.690179700Z"
    }
   }
  },
  {
   "cell_type": "code",
   "execution_count": 24,
   "outputs": [
    {
     "data": {
      "text/plain": "      BPUIC HALTESTELLEN_NAME LINIEN_ID\n0   8503000         Zürich HB      1007\n1   8503000         Zürich HB      1009\n2   8503000         Zürich HB      1011\n3   8503000         Zürich HB     10318\n4   8503000         Zürich HB     10320\n5   8503000         Zürich HB     10322\n6   8503000         Zürich HB     10328\n7   8503000         Zürich HB     10334\n8   8503000         Zürich HB     10340\n9   8503000         Zürich HB     10368\n10  8503000         Zürich HB     10370\n11  8503000         Zürich HB     10480\n12  8503000         Zürich HB     10482\n13  8503000         Zürich HB     10486\n14  8503000         Zürich HB     10488\n15  8503000         Zürich HB     10882\n16  8503000         Zürich HB     10886\n17  8503000         Zürich HB     10890\n18  8503000         Zürich HB      1251\n19  8503000         Zürich HB      1253\n20  8503000         Zürich HB      1255\n21  8503000         Zürich HB      1258\n22  8503000         Zürich HB      1260\n23  8503000         Zürich HB      1333\n24  8503000         Zürich HB     13710\n25  8503000         Zürich HB     13711\n26  8503000         Zürich HB     13712\n27  8503000         Zürich HB     13713\n28  8503000         Zürich HB     13714\n29  8503000         Zürich HB     13715\n30  8503000         Zürich HB     13716\n31  8503000         Zürich HB     13717\n32  8503000         Zürich HB     13750\n33  8503000         Zürich HB     13751\n34  8503000         Zürich HB     13752\n35  8503000         Zürich HB     13753\n36  8503000         Zürich HB     13754\n37  8503000         Zürich HB     13755\n38  8503000         Zürich HB     13756\n39  8503000         Zürich HB     13757",
      "text/html": "<div>\n<style scoped>\n    .dataframe tbody tr th:only-of-type {\n        vertical-align: middle;\n    }\n\n    .dataframe tbody tr th {\n        vertical-align: top;\n    }\n\n    .dataframe thead th {\n        text-align: right;\n    }\n</style>\n<table border=\"1\" class=\"dataframe\">\n  <thead>\n    <tr style=\"text-align: right;\">\n      <th></th>\n      <th>BPUIC</th>\n      <th>HALTESTELLEN_NAME</th>\n      <th>LINIEN_ID</th>\n    </tr>\n  </thead>\n  <tbody>\n    <tr>\n      <th>0</th>\n      <td>8503000</td>\n      <td>Zürich HB</td>\n      <td>1007</td>\n    </tr>\n    <tr>\n      <th>1</th>\n      <td>8503000</td>\n      <td>Zürich HB</td>\n      <td>1009</td>\n    </tr>\n    <tr>\n      <th>2</th>\n      <td>8503000</td>\n      <td>Zürich HB</td>\n      <td>1011</td>\n    </tr>\n    <tr>\n      <th>3</th>\n      <td>8503000</td>\n      <td>Zürich HB</td>\n      <td>10318</td>\n    </tr>\n    <tr>\n      <th>4</th>\n      <td>8503000</td>\n      <td>Zürich HB</td>\n      <td>10320</td>\n    </tr>\n    <tr>\n      <th>5</th>\n      <td>8503000</td>\n      <td>Zürich HB</td>\n      <td>10322</td>\n    </tr>\n    <tr>\n      <th>6</th>\n      <td>8503000</td>\n      <td>Zürich HB</td>\n      <td>10328</td>\n    </tr>\n    <tr>\n      <th>7</th>\n      <td>8503000</td>\n      <td>Zürich HB</td>\n      <td>10334</td>\n    </tr>\n    <tr>\n      <th>8</th>\n      <td>8503000</td>\n      <td>Zürich HB</td>\n      <td>10340</td>\n    </tr>\n    <tr>\n      <th>9</th>\n      <td>8503000</td>\n      <td>Zürich HB</td>\n      <td>10368</td>\n    </tr>\n    <tr>\n      <th>10</th>\n      <td>8503000</td>\n      <td>Zürich HB</td>\n      <td>10370</td>\n    </tr>\n    <tr>\n      <th>11</th>\n      <td>8503000</td>\n      <td>Zürich HB</td>\n      <td>10480</td>\n    </tr>\n    <tr>\n      <th>12</th>\n      <td>8503000</td>\n      <td>Zürich HB</td>\n      <td>10482</td>\n    </tr>\n    <tr>\n      <th>13</th>\n      <td>8503000</td>\n      <td>Zürich HB</td>\n      <td>10486</td>\n    </tr>\n    <tr>\n      <th>14</th>\n      <td>8503000</td>\n      <td>Zürich HB</td>\n      <td>10488</td>\n    </tr>\n    <tr>\n      <th>15</th>\n      <td>8503000</td>\n      <td>Zürich HB</td>\n      <td>10882</td>\n    </tr>\n    <tr>\n      <th>16</th>\n      <td>8503000</td>\n      <td>Zürich HB</td>\n      <td>10886</td>\n    </tr>\n    <tr>\n      <th>17</th>\n      <td>8503000</td>\n      <td>Zürich HB</td>\n      <td>10890</td>\n    </tr>\n    <tr>\n      <th>18</th>\n      <td>8503000</td>\n      <td>Zürich HB</td>\n      <td>1251</td>\n    </tr>\n    <tr>\n      <th>19</th>\n      <td>8503000</td>\n      <td>Zürich HB</td>\n      <td>1253</td>\n    </tr>\n    <tr>\n      <th>20</th>\n      <td>8503000</td>\n      <td>Zürich HB</td>\n      <td>1255</td>\n    </tr>\n    <tr>\n      <th>21</th>\n      <td>8503000</td>\n      <td>Zürich HB</td>\n      <td>1258</td>\n    </tr>\n    <tr>\n      <th>22</th>\n      <td>8503000</td>\n      <td>Zürich HB</td>\n      <td>1260</td>\n    </tr>\n    <tr>\n      <th>23</th>\n      <td>8503000</td>\n      <td>Zürich HB</td>\n      <td>1333</td>\n    </tr>\n    <tr>\n      <th>24</th>\n      <td>8503000</td>\n      <td>Zürich HB</td>\n      <td>13710</td>\n    </tr>\n    <tr>\n      <th>25</th>\n      <td>8503000</td>\n      <td>Zürich HB</td>\n      <td>13711</td>\n    </tr>\n    <tr>\n      <th>26</th>\n      <td>8503000</td>\n      <td>Zürich HB</td>\n      <td>13712</td>\n    </tr>\n    <tr>\n      <th>27</th>\n      <td>8503000</td>\n      <td>Zürich HB</td>\n      <td>13713</td>\n    </tr>\n    <tr>\n      <th>28</th>\n      <td>8503000</td>\n      <td>Zürich HB</td>\n      <td>13714</td>\n    </tr>\n    <tr>\n      <th>29</th>\n      <td>8503000</td>\n      <td>Zürich HB</td>\n      <td>13715</td>\n    </tr>\n    <tr>\n      <th>30</th>\n      <td>8503000</td>\n      <td>Zürich HB</td>\n      <td>13716</td>\n    </tr>\n    <tr>\n      <th>31</th>\n      <td>8503000</td>\n      <td>Zürich HB</td>\n      <td>13717</td>\n    </tr>\n    <tr>\n      <th>32</th>\n      <td>8503000</td>\n      <td>Zürich HB</td>\n      <td>13750</td>\n    </tr>\n    <tr>\n      <th>33</th>\n      <td>8503000</td>\n      <td>Zürich HB</td>\n      <td>13751</td>\n    </tr>\n    <tr>\n      <th>34</th>\n      <td>8503000</td>\n      <td>Zürich HB</td>\n      <td>13752</td>\n    </tr>\n    <tr>\n      <th>35</th>\n      <td>8503000</td>\n      <td>Zürich HB</td>\n      <td>13753</td>\n    </tr>\n    <tr>\n      <th>36</th>\n      <td>8503000</td>\n      <td>Zürich HB</td>\n      <td>13754</td>\n    </tr>\n    <tr>\n      <th>37</th>\n      <td>8503000</td>\n      <td>Zürich HB</td>\n      <td>13755</td>\n    </tr>\n    <tr>\n      <th>38</th>\n      <td>8503000</td>\n      <td>Zürich HB</td>\n      <td>13756</td>\n    </tr>\n    <tr>\n      <th>39</th>\n      <td>8503000</td>\n      <td>Zürich HB</td>\n      <td>13757</td>\n    </tr>\n  </tbody>\n</table>\n</div>"
     },
     "execution_count": 24,
     "metadata": {},
     "output_type": "execute_result"
    }
   ],
   "source": [
    "stops = [8503000]\n",
    "query = f\"\"\"\n",
    "SELECT BPUIC, HALTESTELLEN_NAME, LINIEN_ID\n",
    "FROM services\n",
    "WHERE BPUIC IN {stops}\n",
    "AND HALTESTELLEN_NAME NOT NULL\n",
    "AND PRODUKT_ID='Zug'\n",
    "LIMIT 40\n",
    "\"\"\"\n",
    "result = connection.sql(query).df()\n",
    "\n",
    "pd.set_option('display.max_columns', None)\n",
    "result"
   ],
   "metadata": {
    "collapsed": false,
    "ExecuteTime": {
     "end_time": "2024-11-19T11:10:58.902779900Z",
     "start_time": "2024-11-19T11:10:58.823803300Z"
    }
   }
  },
  {
   "cell_type": "code",
   "execution_count": 29,
   "outputs": [
    {
     "data": {
      "text/plain": "     BPUIC \"first\"(HALTESTELLEN_NAME) LINIEN_ID\n0  8503400                     Bülach      1007\n1  8503404                       Rafz      1007\n2  8503000                  Zürich HB      1007\n3  8503421                  Jestetten      1007\n4  8503424               Schaffhausen      1007",
      "text/html": "<div>\n<style scoped>\n    .dataframe tbody tr th:only-of-type {\n        vertical-align: middle;\n    }\n\n    .dataframe tbody tr th {\n        vertical-align: top;\n    }\n\n    .dataframe thead th {\n        text-align: right;\n    }\n</style>\n<table border=\"1\" class=\"dataframe\">\n  <thead>\n    <tr style=\"text-align: right;\">\n      <th></th>\n      <th>BPUIC</th>\n      <th>\"first\"(HALTESTELLEN_NAME)</th>\n      <th>LINIEN_ID</th>\n    </tr>\n  </thead>\n  <tbody>\n    <tr>\n      <th>0</th>\n      <td>8503400</td>\n      <td>Bülach</td>\n      <td>1007</td>\n    </tr>\n    <tr>\n      <th>1</th>\n      <td>8503404</td>\n      <td>Rafz</td>\n      <td>1007</td>\n    </tr>\n    <tr>\n      <th>2</th>\n      <td>8503000</td>\n      <td>Zürich HB</td>\n      <td>1007</td>\n    </tr>\n    <tr>\n      <th>3</th>\n      <td>8503421</td>\n      <td>Jestetten</td>\n      <td>1007</td>\n    </tr>\n    <tr>\n      <th>4</th>\n      <td>8503424</td>\n      <td>Schaffhausen</td>\n      <td>1007</td>\n    </tr>\n  </tbody>\n</table>\n</div>"
     },
     "execution_count": 29,
     "metadata": {},
     "output_type": "execute_result"
    }
   ],
   "source": [
    "\n",
    "query = f\"\"\"\n",
    "SELECT BPUIC, FIRST(HALTESTELLEN_NAME), LINIEN_ID\n",
    "FROM services\n",
    "WHERE LINIEN_ID='1007'\n",
    "AND HALTESTELLEN_NAME NOT NULL\n",
    "AND PRODUKT_ID='Zug'\n",
    "GROUP BY 3, 1\n",
    "LIMIT 40\n",
    "\"\"\"\n",
    "result = connection.sql(query).df()\n",
    "\n",
    "result"
   ],
   "metadata": {
    "collapsed": false,
    "ExecuteTime": {
     "end_time": "2024-11-19T11:36:45.284388700Z",
     "start_time": "2024-11-19T11:36:45.202394300Z"
    }
   }
  },
  {
   "cell_type": "code",
   "execution_count": null,
   "outputs": [],
   "source": [
    "# Close the connection\n",
    "connection.close()"
   ],
   "metadata": {
    "collapsed": false
   }
  }
 ],
 "metadata": {
  "kernelspec": {
   "display_name": "Python 3",
   "language": "python",
   "name": "python3"
  },
  "language_info": {
   "codemirror_mode": {
    "name": "ipython",
    "version": 2
   },
   "file_extension": ".py",
   "mimetype": "text/x-python",
   "name": "python",
   "nbconvert_exporter": "python",
   "pygments_lexer": "ipython2",
   "version": "2.7.6"
  }
 },
 "nbformat": 4,
 "nbformat_minor": 0
}
