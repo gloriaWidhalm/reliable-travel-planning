{
 "cells": [
  {
   "cell_type": "code",
   "execution_count": 1,
   "metadata": {
    "collapsed": true,
    "ExecuteTime": {
     "end_time": "2025-01-28T17:51:43.073147300Z",
     "start_time": "2025-01-28T17:51:42.047920700Z"
    }
   },
   "outputs": [],
   "source": [
    "import duckdb\n",
    "import pandas as pd\n",
    "\n",
    "# Connect to the database\n",
    "connection = duckdb.connect(\"../data/gtfs_train.db\", read_only=False)"
   ]
  },
  {
   "cell_type": "code",
   "execution_count": 1,
   "outputs": [],
   "source": [],
   "metadata": {
    "collapsed": false,
    "ExecuteTime": {
     "end_time": "2025-01-28T17:51:43.073147300Z",
     "start_time": "2025-01-28T17:51:43.072639700Z"
    }
   }
  },
  {
   "cell_type": "code",
   "execution_count": 2,
   "outputs": [
    {
     "data": {
      "text/plain": "   stop_id stop_code               stop_name stop_desc   stop_lat  stop_lon  \\\n0  0000132      None       Bahn-2000-Strecke      None  47.196374  7.689360   \n1  0000133      None              Centovalli      None  46.154371  8.603653   \n2  0000134      None       Furka-Basistunnel      None  46.530761  8.435917   \n3  0000135      None  Lötschberg-Basistunnel      None  46.356888  7.773846   \n4  0000136      None  Lötschberg-Bergstrecke      None  46.433756  7.717215   \n\n  zone_id stop_url location_type parent_station stop_timezone  \n0       0     None          None              0          None  \n1       0     None          None              0          None  \n2       0     None          None              0          None  \n3       0     None          None              0          None  \n4       0     None          None              0          None  ",
      "text/html": "<div>\n<style scoped>\n    .dataframe tbody tr th:only-of-type {\n        vertical-align: middle;\n    }\n\n    .dataframe tbody tr th {\n        vertical-align: top;\n    }\n\n    .dataframe thead th {\n        text-align: right;\n    }\n</style>\n<table border=\"1\" class=\"dataframe\">\n  <thead>\n    <tr style=\"text-align: right;\">\n      <th></th>\n      <th>stop_id</th>\n      <th>stop_code</th>\n      <th>stop_name</th>\n      <th>stop_desc</th>\n      <th>stop_lat</th>\n      <th>stop_lon</th>\n      <th>zone_id</th>\n      <th>stop_url</th>\n      <th>location_type</th>\n      <th>parent_station</th>\n      <th>stop_timezone</th>\n    </tr>\n  </thead>\n  <tbody>\n    <tr>\n      <th>0</th>\n      <td>0000132</td>\n      <td>None</td>\n      <td>Bahn-2000-Strecke</td>\n      <td>None</td>\n      <td>47.196374</td>\n      <td>7.689360</td>\n      <td>0</td>\n      <td>None</td>\n      <td>None</td>\n      <td>0</td>\n      <td>None</td>\n    </tr>\n    <tr>\n      <th>1</th>\n      <td>0000133</td>\n      <td>None</td>\n      <td>Centovalli</td>\n      <td>None</td>\n      <td>46.154371</td>\n      <td>8.603653</td>\n      <td>0</td>\n      <td>None</td>\n      <td>None</td>\n      <td>0</td>\n      <td>None</td>\n    </tr>\n    <tr>\n      <th>2</th>\n      <td>0000134</td>\n      <td>None</td>\n      <td>Furka-Basistunnel</td>\n      <td>None</td>\n      <td>46.530761</td>\n      <td>8.435917</td>\n      <td>0</td>\n      <td>None</td>\n      <td>None</td>\n      <td>0</td>\n      <td>None</td>\n    </tr>\n    <tr>\n      <th>3</th>\n      <td>0000135</td>\n      <td>None</td>\n      <td>Lötschberg-Basistunnel</td>\n      <td>None</td>\n      <td>46.356888</td>\n      <td>7.773846</td>\n      <td>0</td>\n      <td>None</td>\n      <td>None</td>\n      <td>0</td>\n      <td>None</td>\n    </tr>\n    <tr>\n      <th>4</th>\n      <td>0000136</td>\n      <td>None</td>\n      <td>Lötschberg-Bergstrecke</td>\n      <td>None</td>\n      <td>46.433756</td>\n      <td>7.717215</td>\n      <td>0</td>\n      <td>None</td>\n      <td>None</td>\n      <td>0</td>\n      <td>None</td>\n    </tr>\n  </tbody>\n</table>\n</div>"
     },
     "execution_count": 2,
     "metadata": {},
     "output_type": "execute_result"
    }
   ],
   "source": [
    "# Delete stops table and create again and try to load stops data\n",
    "qry = f\"\"\"\n",
    "DROP TABLE IF EXISTS stops\n",
    "\"\"\"\n",
    "connection.execute(qry)\n",
    "qry = f\"\"\"\n",
    "CREATE TABLE stops (\n",
    "    stop_id VARCHAR,\n",
    "    stop_code VARCHAR,\n",
    "    stop_name VARCHAR,\n",
    "    stop_desc VARCHAR,\n",
    "    stop_lat DOUBLE,\n",
    "    stop_lon DOUBLE,\n",
    "    zone_id VARCHAR,\n",
    "    stop_url VARCHAR,\n",
    "    location_type VARCHAR,\n",
    "    parent_station VARCHAR,\n",
    "    stop_timezone VARCHAR,\n",
    ")\n",
    "\"\"\"\n",
    "\n",
    "connection.execute(qry)\n",
    "# Load stops data\n",
    "file = \"stops.txt\"\n",
    "copy_query = f\"COPY {file.split('.')[0]} FROM '../data/gtfs/gtfs_files/{file}' (delimiter ',', header, quote '\\\"', escape '\\\"', null_padding true, ignore_errors)\"\n",
    "connection.execute(copy_query)\n",
    "\n",
    "# Query the stops table\n",
    "qry = f\"\"\"\n",
    "SELECT\n",
    "    *\n",
    "FROM stops\n",
    "\"\"\"\n",
    "stops = connection.execute(qry).fetchdf()\n",
    "stops.head()"
   ],
   "metadata": {
    "collapsed": false,
    "ExecuteTime": {
     "end_time": "2025-01-28T17:51:43.163532100Z",
     "start_time": "2025-01-28T17:51:43.073147300Z"
    }
   }
  },
  {
   "cell_type": "code",
   "execution_count": 17,
   "outputs": [
    {
     "data": {
      "text/plain": "              route_id service_id trip_id trip_headsign trip_short_name  \\\n0  000003.000011.101:3     066612     0:1     Zürich HB               3   \n1  000003.000011.101:3     121098     0:2     Zürich HB               3   \n2  000003.000011.101:3     042990     0:3     Zürich HB               3   \n3  000003.000011.101:3     000002     0:4     Zürich HB               3   \n4  000003.000011.101:3     090659     0:5     Zürich HB               3   \n\n   direction_id block_id  \n0           NaN     None  \n1           NaN     None  \n2           NaN     None  \n3           NaN     None  \n4           NaN     None  ",
      "text/html": "<div>\n<style scoped>\n    .dataframe tbody tr th:only-of-type {\n        vertical-align: middle;\n    }\n\n    .dataframe tbody tr th {\n        vertical-align: top;\n    }\n\n    .dataframe thead th {\n        text-align: right;\n    }\n</style>\n<table border=\"1\" class=\"dataframe\">\n  <thead>\n    <tr style=\"text-align: right;\">\n      <th></th>\n      <th>route_id</th>\n      <th>service_id</th>\n      <th>trip_id</th>\n      <th>trip_headsign</th>\n      <th>trip_short_name</th>\n      <th>direction_id</th>\n      <th>block_id</th>\n    </tr>\n  </thead>\n  <tbody>\n    <tr>\n      <th>0</th>\n      <td>000003.000011.101:3</td>\n      <td>066612</td>\n      <td>0:1</td>\n      <td>Zürich HB</td>\n      <td>3</td>\n      <td>NaN</td>\n      <td>None</td>\n    </tr>\n    <tr>\n      <th>1</th>\n      <td>000003.000011.101:3</td>\n      <td>121098</td>\n      <td>0:2</td>\n      <td>Zürich HB</td>\n      <td>3</td>\n      <td>NaN</td>\n      <td>None</td>\n    </tr>\n    <tr>\n      <th>2</th>\n      <td>000003.000011.101:3</td>\n      <td>042990</td>\n      <td>0:3</td>\n      <td>Zürich HB</td>\n      <td>3</td>\n      <td>NaN</td>\n      <td>None</td>\n    </tr>\n    <tr>\n      <th>3</th>\n      <td>000003.000011.101:3</td>\n      <td>000002</td>\n      <td>0:4</td>\n      <td>Zürich HB</td>\n      <td>3</td>\n      <td>NaN</td>\n      <td>None</td>\n    </tr>\n    <tr>\n      <th>4</th>\n      <td>000003.000011.101:3</td>\n      <td>090659</td>\n      <td>0:5</td>\n      <td>Zürich HB</td>\n      <td>3</td>\n      <td>NaN</td>\n      <td>None</td>\n    </tr>\n  </tbody>\n</table>\n</div>"
     },
     "execution_count": 17,
     "metadata": {},
     "output_type": "execute_result"
    }
   ],
   "source": [
    "# Delete trips table and create again and try to load trips data\n",
    "qry = f\"\"\"\n",
    "DROP TABLE IF EXISTS trips\n",
    "\"\"\"\n",
    "connection.execute(qry)\n",
    "qry = f\"\"\"\n",
    "CREATE TABLE IF NOT EXISTS trips (\n",
    "    route_id VARCHAR NOT NULL,\n",
    "    service_id VARCHAR NOT NULL,\n",
    "    trip_id VARCHAR NOT NULL,-- PRIMARY KEY,\n",
    "    trip_headsign VARCHAR,\n",
    "    trip_short_name VARCHAR,\n",
    "    direction_id INTEGER,\n",
    "    block_id VARCHAR,\n",
    ");\n",
    "\"\"\"\n",
    "\n",
    "connection.execute(qry)\n",
    "# Load stops data\n",
    "file = \"trips.txt\"\n",
    "copy_query = f\"COPY {file.split('.')[0]} FROM '../data/gtfs/gtfs_files/{file}' (delimiter ',', header, quote '\\\"', escape '\\\"', null_padding true, ignore_errors)\"\n",
    "connection.execute(copy_query)\n",
    "\n",
    "# Query the stops table\n",
    "qry = f\"\"\"\n",
    "SELECT\n",
    "    *\n",
    "FROM trips\n",
    "\"\"\"\n",
    "trips = connection.execute(qry).fetchdf()\n",
    "trips.head()"
   ],
   "metadata": {
    "collapsed": false,
    "ExecuteTime": {
     "end_time": "2025-01-28T18:01:30.238126300Z",
     "start_time": "2025-01-28T18:01:29.434568500Z"
    }
   }
  },
  {
   "cell_type": "code",
   "execution_count": 3,
   "outputs": [
    {
     "data": {
      "text/plain": "   stop_id stop_code               stop_name stop_desc   stop_lat  stop_lon  \\\n0  0000132      None       Bahn-2000-Strecke      None  47.196374  7.689360   \n1  0000133      None              Centovalli      None  46.154371  8.603653   \n2  0000134      None       Furka-Basistunnel      None  46.530761  8.435917   \n3  0000135      None  Lötschberg-Basistunnel      None  46.356888  7.773846   \n4  0000136      None  Lötschberg-Bergstrecke      None  46.433756  7.717215   \n\n  zone_id stop_url location_type parent_station stop_timezone  \n0       0     None          None              0          None  \n1       0     None          None              0          None  \n2       0     None          None              0          None  \n3       0     None          None              0          None  \n4       0     None          None              0          None  ",
      "text/html": "<div>\n<style scoped>\n    .dataframe tbody tr th:only-of-type {\n        vertical-align: middle;\n    }\n\n    .dataframe tbody tr th {\n        vertical-align: top;\n    }\n\n    .dataframe thead th {\n        text-align: right;\n    }\n</style>\n<table border=\"1\" class=\"dataframe\">\n  <thead>\n    <tr style=\"text-align: right;\">\n      <th></th>\n      <th>stop_id</th>\n      <th>stop_code</th>\n      <th>stop_name</th>\n      <th>stop_desc</th>\n      <th>stop_lat</th>\n      <th>stop_lon</th>\n      <th>zone_id</th>\n      <th>stop_url</th>\n      <th>location_type</th>\n      <th>parent_station</th>\n      <th>stop_timezone</th>\n    </tr>\n  </thead>\n  <tbody>\n    <tr>\n      <th>0</th>\n      <td>0000132</td>\n      <td>None</td>\n      <td>Bahn-2000-Strecke</td>\n      <td>None</td>\n      <td>47.196374</td>\n      <td>7.689360</td>\n      <td>0</td>\n      <td>None</td>\n      <td>None</td>\n      <td>0</td>\n      <td>None</td>\n    </tr>\n    <tr>\n      <th>1</th>\n      <td>0000133</td>\n      <td>None</td>\n      <td>Centovalli</td>\n      <td>None</td>\n      <td>46.154371</td>\n      <td>8.603653</td>\n      <td>0</td>\n      <td>None</td>\n      <td>None</td>\n      <td>0</td>\n      <td>None</td>\n    </tr>\n    <tr>\n      <th>2</th>\n      <td>0000134</td>\n      <td>None</td>\n      <td>Furka-Basistunnel</td>\n      <td>None</td>\n      <td>46.530761</td>\n      <td>8.435917</td>\n      <td>0</td>\n      <td>None</td>\n      <td>None</td>\n      <td>0</td>\n      <td>None</td>\n    </tr>\n    <tr>\n      <th>3</th>\n      <td>0000135</td>\n      <td>None</td>\n      <td>Lötschberg-Basistunnel</td>\n      <td>None</td>\n      <td>46.356888</td>\n      <td>7.773846</td>\n      <td>0</td>\n      <td>None</td>\n      <td>None</td>\n      <td>0</td>\n      <td>None</td>\n    </tr>\n    <tr>\n      <th>4</th>\n      <td>0000136</td>\n      <td>None</td>\n      <td>Lötschberg-Bergstrecke</td>\n      <td>None</td>\n      <td>46.433756</td>\n      <td>7.717215</td>\n      <td>0</td>\n      <td>None</td>\n      <td>None</td>\n      <td>0</td>\n      <td>None</td>\n    </tr>\n  </tbody>\n</table>\n</div>"
     },
     "execution_count": 3,
     "metadata": {},
     "output_type": "execute_result"
    }
   ],
   "source": [
    "# Query the stops table and join with stop_times\n",
    "qry = f\"\"\"\n",
    "SELECT\n",
    "    *\n",
    "FROM stops\n",
    "\n",
    "\"\"\"\n",
    "stops = connection.execute(qry).fetchdf()\n",
    "stops.head()"
   ],
   "metadata": {
    "collapsed": false,
    "ExecuteTime": {
     "end_time": "2025-01-28T17:51:43.185261200Z",
     "start_time": "2025-01-28T17:51:43.163532100Z"
    }
   }
  },
  {
   "cell_type": "code",
   "execution_count": 16,
   "outputs": [
    {
     "data": {
      "text/plain": "                    route_id service_id   trip_id           trip_headsign  \\\n0        000003.000011.101:3     066612       0:1               Zürich HB   \n1        000003.000011.101:3     121098       0:2               Zürich HB   \n2        000003.000011.101:3     042990       0:3               Zürich HB   \n3        000003.000011.101:3     000002       0:4               Zürich HB   \n4        000003.000011.101:3     090659       0:5               Zürich HB   \n...                      ...        ...       ...                     ...   \n197714  025081.327000.104:11     068367  113303:1                 Seregno   \n197715  025085.327000.101:11     053104  113304:1  Milano Porta Garibaldi   \n197716  025085.327000.102:11     230102  113305:1  Milano Porta Garibaldi   \n197717  025085.327000.104:11     068367  113306:1                 Seregno   \n197718  094064.327000.101:11     043133  113307:1                 Chiasso   \n\n       trip_short_name  direction_id block_id  \n0                    3           NaN     None  \n1                    3           NaN     None  \n2                    3           NaN     None  \n3                    3           NaN     None  \n4                    3           NaN     None  \n...                ...           ...      ...  \n197714              11           NaN     None  \n197715              11           NaN     None  \n197716              11           NaN     None  \n197717              11           NaN     None  \n197718              11           NaN     None  \n\n[197719 rows x 7 columns]",
      "text/html": "<div>\n<style scoped>\n    .dataframe tbody tr th:only-of-type {\n        vertical-align: middle;\n    }\n\n    .dataframe tbody tr th {\n        vertical-align: top;\n    }\n\n    .dataframe thead th {\n        text-align: right;\n    }\n</style>\n<table border=\"1\" class=\"dataframe\">\n  <thead>\n    <tr style=\"text-align: right;\">\n      <th></th>\n      <th>route_id</th>\n      <th>service_id</th>\n      <th>trip_id</th>\n      <th>trip_headsign</th>\n      <th>trip_short_name</th>\n      <th>direction_id</th>\n      <th>block_id</th>\n    </tr>\n  </thead>\n  <tbody>\n    <tr>\n      <th>0</th>\n      <td>000003.000011.101:3</td>\n      <td>066612</td>\n      <td>0:1</td>\n      <td>Zürich HB</td>\n      <td>3</td>\n      <td>NaN</td>\n      <td>None</td>\n    </tr>\n    <tr>\n      <th>1</th>\n      <td>000003.000011.101:3</td>\n      <td>121098</td>\n      <td>0:2</td>\n      <td>Zürich HB</td>\n      <td>3</td>\n      <td>NaN</td>\n      <td>None</td>\n    </tr>\n    <tr>\n      <th>2</th>\n      <td>000003.000011.101:3</td>\n      <td>042990</td>\n      <td>0:3</td>\n      <td>Zürich HB</td>\n      <td>3</td>\n      <td>NaN</td>\n      <td>None</td>\n    </tr>\n    <tr>\n      <th>3</th>\n      <td>000003.000011.101:3</td>\n      <td>000002</td>\n      <td>0:4</td>\n      <td>Zürich HB</td>\n      <td>3</td>\n      <td>NaN</td>\n      <td>None</td>\n    </tr>\n    <tr>\n      <th>4</th>\n      <td>000003.000011.101:3</td>\n      <td>090659</td>\n      <td>0:5</td>\n      <td>Zürich HB</td>\n      <td>3</td>\n      <td>NaN</td>\n      <td>None</td>\n    </tr>\n    <tr>\n      <th>...</th>\n      <td>...</td>\n      <td>...</td>\n      <td>...</td>\n      <td>...</td>\n      <td>...</td>\n      <td>...</td>\n      <td>...</td>\n    </tr>\n    <tr>\n      <th>197714</th>\n      <td>025081.327000.104:11</td>\n      <td>068367</td>\n      <td>113303:1</td>\n      <td>Seregno</td>\n      <td>11</td>\n      <td>NaN</td>\n      <td>None</td>\n    </tr>\n    <tr>\n      <th>197715</th>\n      <td>025085.327000.101:11</td>\n      <td>053104</td>\n      <td>113304:1</td>\n      <td>Milano Porta Garibaldi</td>\n      <td>11</td>\n      <td>NaN</td>\n      <td>None</td>\n    </tr>\n    <tr>\n      <th>197716</th>\n      <td>025085.327000.102:11</td>\n      <td>230102</td>\n      <td>113305:1</td>\n      <td>Milano Porta Garibaldi</td>\n      <td>11</td>\n      <td>NaN</td>\n      <td>None</td>\n    </tr>\n    <tr>\n      <th>197717</th>\n      <td>025085.327000.104:11</td>\n      <td>068367</td>\n      <td>113306:1</td>\n      <td>Seregno</td>\n      <td>11</td>\n      <td>NaN</td>\n      <td>None</td>\n    </tr>\n    <tr>\n      <th>197718</th>\n      <td>094064.327000.101:11</td>\n      <td>043133</td>\n      <td>113307:1</td>\n      <td>Chiasso</td>\n      <td>11</td>\n      <td>NaN</td>\n      <td>None</td>\n    </tr>\n  </tbody>\n</table>\n<p>197719 rows × 7 columns</p>\n</div>"
     },
     "execution_count": 16,
     "metadata": {},
     "output_type": "execute_result"
    }
   ],
   "source": [
    "# Query the trips table\n",
    "qry = f\"\"\"\n",
    "SELECT\n",
    "    *\n",
    "FROM trips\n",
    "\n",
    "\"\"\"\n",
    "trips = connection.execute(qry).fetchdf()\n",
    "trips"
   ],
   "metadata": {
    "collapsed": false,
    "ExecuteTime": {
     "end_time": "2025-01-28T17:53:41.253906100Z",
     "start_time": "2025-01-28T17:53:41.100643800Z"
    }
   }
  },
  {
   "cell_type": "code",
   "execution_count": 5,
   "outputs": [
    {
     "data": {
      "text/plain": "                  route_id service_id  trip_id     trip_headsign  \\\n0     012796.000078.101:10     000000  66212:1     Zürich HB SZU   \n1     012916.000078.101:10     000000  66358:1     Zürich HB SZU   \n2     012776.000078.101:10     000000  66186:1     Zürich HB SZU   \n3     012940.000078.101:10     000000  66382:1     Zürich HB SZU   \n4     012808.000078.101:10     000000  66224:1     Zürich HB SZU   \n...                    ...        ...      ...               ...   \n6126   012603.000078.101:4     000000  66095:1  Langnau-Gattikon   \n6127   012631.000078.101:4     000000  66113:1  Langnau-Gattikon   \n6128   012503.000078.101:4     000000  66010:1  Langnau-Gattikon   \n6129   012498.000078.101:4     000000  66006:1     Zürich HB SZU   \n6130   012491.000078.101:4     000000  66002:1  Langnau-Gattikon   \n\n     trip_short_name  direction_id block_id            route_id_1 agency_id  \\\n0                 10           NaN     None  012796.000078.101:10    000078   \n1                 10           NaN     None  012916.000078.101:10    000078   \n2                 10           NaN     None  012776.000078.101:10    000078   \n3                 10           NaN     None  012940.000078.101:10    000078   \n4                 10           NaN     None  012808.000078.101:10    000078   \n...              ...           ...      ...                   ...       ...   \n6126               4           NaN     None   012603.000078.101:4    000078   \n6127               4           NaN     None   012631.000078.101:4    000078   \n6128               4           NaN     None   012503.000078.101:4    000078   \n6129               4           NaN     None   012498.000078.101:4    000078   \n6130               4           NaN     None   012491.000078.101:4    000078   \n\n     route_short_name  ... stop_code       stop_name  stop_desc   stop_lat  \\\n0                 S10  ...      TRLI  Zürich Triemli       None  47.364990   \n1                 S10  ...      TRLI  Zürich Triemli       None  47.364990   \n2                 S10  ...      TRLI  Zürich Triemli       None  47.364990   \n3                 S10  ...      TRLI  Zürich Triemli       None  47.364990   \n4                 S10  ...      TRLI  Zürich Triemli       None  47.364990   \n...               ...  ...       ...             ...        ...        ...   \n6126               S4  ...       ADW        Adliswil       None  47.312274   \n6127               S4  ...       ADW        Adliswil       None  47.312274   \n6128               S4  ...       ADW        Adliswil       None  47.312274   \n6129               S4  ...       ADW        Adliswil       None  47.312274   \n6130               S4  ...       ADW        Adliswil       None  47.312274   \n\n      stop_lon zone_id stop_url location_type parent_station stop_timezone  \n0     8.495380     480     None          None              0       8503054  \n1     8.495380     480     None          None              0       8503054  \n2     8.495380     480     None          None              0       8503054  \n3     8.495380     480     None          None              0       8503054  \n4     8.495380     480     None          None              0       8503054  \n...        ...     ...      ...           ...            ...           ...  \n6126  8.524254     451     None          None              0       8503096  \n6127  8.524254     451     None          None              0       8503096  \n6128  8.524254     451     None          None              0       8503096  \n6129  8.524254     451     None          None              0       8503096  \n6130  8.524254     451     None          None              0       8503096  \n\n[6131 rows x 47 columns]",
      "text/html": "<div>\n<style scoped>\n    .dataframe tbody tr th:only-of-type {\n        vertical-align: middle;\n    }\n\n    .dataframe tbody tr th {\n        vertical-align: top;\n    }\n\n    .dataframe thead th {\n        text-align: right;\n    }\n</style>\n<table border=\"1\" class=\"dataframe\">\n  <thead>\n    <tr style=\"text-align: right;\">\n      <th></th>\n      <th>route_id</th>\n      <th>service_id</th>\n      <th>trip_id</th>\n      <th>trip_headsign</th>\n      <th>trip_short_name</th>\n      <th>direction_id</th>\n      <th>block_id</th>\n      <th>route_id_1</th>\n      <th>agency_id</th>\n      <th>route_short_name</th>\n      <th>...</th>\n      <th>stop_code</th>\n      <th>stop_name</th>\n      <th>stop_desc</th>\n      <th>stop_lat</th>\n      <th>stop_lon</th>\n      <th>zone_id</th>\n      <th>stop_url</th>\n      <th>location_type</th>\n      <th>parent_station</th>\n      <th>stop_timezone</th>\n    </tr>\n  </thead>\n  <tbody>\n    <tr>\n      <th>0</th>\n      <td>012796.000078.101:10</td>\n      <td>000000</td>\n      <td>66212:1</td>\n      <td>Zürich HB SZU</td>\n      <td>10</td>\n      <td>NaN</td>\n      <td>None</td>\n      <td>012796.000078.101:10</td>\n      <td>000078</td>\n      <td>S10</td>\n      <td>...</td>\n      <td>TRLI</td>\n      <td>Zürich Triemli</td>\n      <td>None</td>\n      <td>47.364990</td>\n      <td>8.495380</td>\n      <td>480</td>\n      <td>None</td>\n      <td>None</td>\n      <td>0</td>\n      <td>8503054</td>\n    </tr>\n    <tr>\n      <th>1</th>\n      <td>012916.000078.101:10</td>\n      <td>000000</td>\n      <td>66358:1</td>\n      <td>Zürich HB SZU</td>\n      <td>10</td>\n      <td>NaN</td>\n      <td>None</td>\n      <td>012916.000078.101:10</td>\n      <td>000078</td>\n      <td>S10</td>\n      <td>...</td>\n      <td>TRLI</td>\n      <td>Zürich Triemli</td>\n      <td>None</td>\n      <td>47.364990</td>\n      <td>8.495380</td>\n      <td>480</td>\n      <td>None</td>\n      <td>None</td>\n      <td>0</td>\n      <td>8503054</td>\n    </tr>\n    <tr>\n      <th>2</th>\n      <td>012776.000078.101:10</td>\n      <td>000000</td>\n      <td>66186:1</td>\n      <td>Zürich HB SZU</td>\n      <td>10</td>\n      <td>NaN</td>\n      <td>None</td>\n      <td>012776.000078.101:10</td>\n      <td>000078</td>\n      <td>S10</td>\n      <td>...</td>\n      <td>TRLI</td>\n      <td>Zürich Triemli</td>\n      <td>None</td>\n      <td>47.364990</td>\n      <td>8.495380</td>\n      <td>480</td>\n      <td>None</td>\n      <td>None</td>\n      <td>0</td>\n      <td>8503054</td>\n    </tr>\n    <tr>\n      <th>3</th>\n      <td>012940.000078.101:10</td>\n      <td>000000</td>\n      <td>66382:1</td>\n      <td>Zürich HB SZU</td>\n      <td>10</td>\n      <td>NaN</td>\n      <td>None</td>\n      <td>012940.000078.101:10</td>\n      <td>000078</td>\n      <td>S10</td>\n      <td>...</td>\n      <td>TRLI</td>\n      <td>Zürich Triemli</td>\n      <td>None</td>\n      <td>47.364990</td>\n      <td>8.495380</td>\n      <td>480</td>\n      <td>None</td>\n      <td>None</td>\n      <td>0</td>\n      <td>8503054</td>\n    </tr>\n    <tr>\n      <th>4</th>\n      <td>012808.000078.101:10</td>\n      <td>000000</td>\n      <td>66224:1</td>\n      <td>Zürich HB SZU</td>\n      <td>10</td>\n      <td>NaN</td>\n      <td>None</td>\n      <td>012808.000078.101:10</td>\n      <td>000078</td>\n      <td>S10</td>\n      <td>...</td>\n      <td>TRLI</td>\n      <td>Zürich Triemli</td>\n      <td>None</td>\n      <td>47.364990</td>\n      <td>8.495380</td>\n      <td>480</td>\n      <td>None</td>\n      <td>None</td>\n      <td>0</td>\n      <td>8503054</td>\n    </tr>\n    <tr>\n      <th>...</th>\n      <td>...</td>\n      <td>...</td>\n      <td>...</td>\n      <td>...</td>\n      <td>...</td>\n      <td>...</td>\n      <td>...</td>\n      <td>...</td>\n      <td>...</td>\n      <td>...</td>\n      <td>...</td>\n      <td>...</td>\n      <td>...</td>\n      <td>...</td>\n      <td>...</td>\n      <td>...</td>\n      <td>...</td>\n      <td>...</td>\n      <td>...</td>\n      <td>...</td>\n      <td>...</td>\n    </tr>\n    <tr>\n      <th>6126</th>\n      <td>012603.000078.101:4</td>\n      <td>000000</td>\n      <td>66095:1</td>\n      <td>Langnau-Gattikon</td>\n      <td>4</td>\n      <td>NaN</td>\n      <td>None</td>\n      <td>012603.000078.101:4</td>\n      <td>000078</td>\n      <td>S4</td>\n      <td>...</td>\n      <td>ADW</td>\n      <td>Adliswil</td>\n      <td>None</td>\n      <td>47.312274</td>\n      <td>8.524254</td>\n      <td>451</td>\n      <td>None</td>\n      <td>None</td>\n      <td>0</td>\n      <td>8503096</td>\n    </tr>\n    <tr>\n      <th>6127</th>\n      <td>012631.000078.101:4</td>\n      <td>000000</td>\n      <td>66113:1</td>\n      <td>Langnau-Gattikon</td>\n      <td>4</td>\n      <td>NaN</td>\n      <td>None</td>\n      <td>012631.000078.101:4</td>\n      <td>000078</td>\n      <td>S4</td>\n      <td>...</td>\n      <td>ADW</td>\n      <td>Adliswil</td>\n      <td>None</td>\n      <td>47.312274</td>\n      <td>8.524254</td>\n      <td>451</td>\n      <td>None</td>\n      <td>None</td>\n      <td>0</td>\n      <td>8503096</td>\n    </tr>\n    <tr>\n      <th>6128</th>\n      <td>012503.000078.101:4</td>\n      <td>000000</td>\n      <td>66010:1</td>\n      <td>Langnau-Gattikon</td>\n      <td>4</td>\n      <td>NaN</td>\n      <td>None</td>\n      <td>012503.000078.101:4</td>\n      <td>000078</td>\n      <td>S4</td>\n      <td>...</td>\n      <td>ADW</td>\n      <td>Adliswil</td>\n      <td>None</td>\n      <td>47.312274</td>\n      <td>8.524254</td>\n      <td>451</td>\n      <td>None</td>\n      <td>None</td>\n      <td>0</td>\n      <td>8503096</td>\n    </tr>\n    <tr>\n      <th>6129</th>\n      <td>012498.000078.101:4</td>\n      <td>000000</td>\n      <td>66006:1</td>\n      <td>Zürich HB SZU</td>\n      <td>4</td>\n      <td>NaN</td>\n      <td>None</td>\n      <td>012498.000078.101:4</td>\n      <td>000078</td>\n      <td>S4</td>\n      <td>...</td>\n      <td>ADW</td>\n      <td>Adliswil</td>\n      <td>None</td>\n      <td>47.312274</td>\n      <td>8.524254</td>\n      <td>451</td>\n      <td>None</td>\n      <td>None</td>\n      <td>0</td>\n      <td>8503096</td>\n    </tr>\n    <tr>\n      <th>6130</th>\n      <td>012491.000078.101:4</td>\n      <td>000000</td>\n      <td>66002:1</td>\n      <td>Langnau-Gattikon</td>\n      <td>4</td>\n      <td>NaN</td>\n      <td>None</td>\n      <td>012491.000078.101:4</td>\n      <td>000078</td>\n      <td>S4</td>\n      <td>...</td>\n      <td>ADW</td>\n      <td>Adliswil</td>\n      <td>None</td>\n      <td>47.312274</td>\n      <td>8.524254</td>\n      <td>451</td>\n      <td>None</td>\n      <td>None</td>\n      <td>0</td>\n      <td>8503096</td>\n    </tr>\n  </tbody>\n</table>\n<p>6131 rows × 47 columns</p>\n</div>"
     },
     "execution_count": 5,
     "metadata": {},
     "output_type": "execute_result"
    }
   ],
   "source": [
    "# Get 10 routes where \"Zürich HB\" and \"Bern\" are stops\n",
    "qry = f\"\"\"\n",
    "SELECT\n",
    "    *\n",
    "FROM trips\n",
    "-- JOIN routes\n",
    "INNER JOIN routes\n",
    "ON trips.route_id = routes.route_id\n",
    "-- JOIN agency\n",
    "INNER JOIN agency\n",
    "ON routes.agency_id = agency.agency_id\n",
    "-- JOIN calendar\n",
    "INNER JOIN calendar\n",
    "ON trips.service_id = calendar.service_id\n",
    "-- JOIN stop_times\n",
    "INNER JOIN stop_times\n",
    "ON trips.trip_id = stop_times.trip_id\n",
    "-- JOIN stops\n",
    "INNER JOIN stops\n",
    "ON stop_times.stop_id = stops.stop_id\n",
    "ORDER BY stops.stop_name DESC\n",
    "\"\"\"\n",
    "trips = connection.execute(qry).fetchdf()\n",
    "trips\n"
   ],
   "metadata": {
    "collapsed": false,
    "ExecuteTime": {
     "end_time": "2025-01-28T17:51:43.631181300Z",
     "start_time": "2025-01-28T17:51:43.444805Z"
    }
   }
  },
  {
   "cell_type": "code",
   "execution_count": 6,
   "outputs": [
    {
     "data": {
      "text/plain": "          stop_id stop_code  stop_name stop_desc   stop_lat  stop_lon zone_id  \\\n0         8503000       ZUE  Zürich HB      None  47.378177  8.540212     407   \n1         8507000        BN       Bern      None  46.948832  7.439131     540   \n2      8503000:10       ZUE  Zürich HB      None  47.378177  8.540212     407   \n3      8503000:13       ZUE  Zürich HB      None  47.378177  8.540212     407   \n4       8503000:7       ZUE  Zürich HB      None  47.378177  8.540212     407   \n5      8503000:11       ZUE  Zürich HB      None  47.378177  8.540212     407   \n6       8503000:9       ZUE  Zürich HB      None  47.378177  8.540212     407   \n7       8503000:6       ZUE  Zürich HB      None  47.378177  8.540212     407   \n8      8503000:16       ZUE  Zürich HB      None  47.378177  8.540212     407   \n9      8503000:12       ZUE  Zürich HB      None  47.378177  8.540212     407   \n10     8503000:17       ZUE  Zürich HB      None  47.378177  8.540212     407   \n11     8503000:18       ZUE  Zürich HB      None  47.378177  8.540212     407   \n12     8503000:15       ZUE  Zürich HB      None  47.378177  8.540212     407   \n13     8503000:14       ZUE  Zürich HB      None  47.378177  8.540212     407   \n14      8503000:3       ZUE  Zürich HB      None  47.378177  8.540212     407   \n15      8503000:4       ZUE  Zürich HB      None  47.378177  8.540212     407   \n16      8503000:8       ZUE  Zürich HB      None  47.378177  8.540212     407   \n17      8503000:5       ZUE  Zürich HB      None  47.378177  8.540212     407   \n18     8503000:31       ZUE  Zürich HB      None  47.378177  8.540212     407   \n19     8503000:32       ZUE  Zürich HB      None  47.378177  8.540212     407   \n20     8503000:33       ZUE  Zürich HB      None  47.378177  8.540212     407   \n21     8503000:34       ZUE  Zürich HB      None  47.378177  8.540212     407   \n22   8503000:34AB       ZUE  Zürich HB      None  47.378177  8.540212     407   \n23  8503000:41/42       ZUE  Zürich HB      None  47.378177  8.540212     407   \n24  8503000:43/44       ZUE  Zürich HB      None  47.378177  8.540212     407   \n25      8507000:4        BN       Bern      None  46.948832  7.439131     540   \n26      8507000:7        BN       Bern      None  46.948832  7.439131     540   \n27      8507000:6        BN       Bern      None  46.948832  7.439131     540   \n28      8507000:8        BN       Bern      None  46.948832  7.439131     540   \n29      8507000:5        BN       Bern      None  46.948832  7.439131     540   \n30      8507000:3        BN       Bern      None  46.948832  7.439131     540   \n31      8507000:2        BN       Bern      None  46.948832  7.439131     540   \n32      8507000:1        BN       Bern      None  46.948832  7.439131     540   \n33      8507000:9        BN       Bern      None  46.948832  7.439131     540   \n34     8507000:50        BN       Bern      None  46.948832  7.439131     540   \n35     8507000:49        BN       Bern      None  46.948832  7.439131     540   \n36     8507000:10        BN       Bern      None  46.948832  7.439131     540   \n37     8507000:12        BN       Bern      None  46.948832  7.439131     540   \n38     8507000:13        BN       Bern      None  46.948832  7.439131     540   \n39   8507000:1E-H        BN       Bern      None  46.948832  7.439131     540   \n40   8507000:2E-H        BN       Bern      None  46.948832  7.439131     540   \n41   8507000:3A-D        BN       Bern      None  46.948832  7.439131     540   \n42  8507000:12D-F        BN       Bern      None  46.948832  7.439131     540   \n43  8507000:12A-C        BN       Bern      None  46.948832  7.439131     540   \n44   8507000:13AB        BN       Bern      None  46.948832  7.439131     540   \n45   8507000:2A-D        BN       Bern      None  46.948832  7.439131     540   \n46   8507000:1A-D        BN       Bern      None  46.948832  7.439131     540   \n47  8507000:13A-C        BN       Bern      None  46.948832  7.439131     540   \n48  8507000:13D-F        BN       Bern      None  46.948832  7.439131     540   \n49   8507000:12AB        BN       Bern      None  46.948832  7.439131     540   \n50     8507000:21        BN       Bern      None  46.948832  7.439131     540   \n51     8507000:23        BN       Bern      None  46.948832  7.439131     540   \n52     8507000:22        BN       Bern      None  46.948832  7.439131     540   \n53     8507000:24        BN       Bern      None  46.948832  7.439131     540   \n54  8507000:21/22        BN       Bern      None  46.948832  7.439131     540   \n55       8503000:       ZUE  Zürich HB      None  47.378177  8.540212     407   \n56       8507000:        BN       Bern      None  46.948832  7.439131     540   \n\n   stop_url location_type parent_station stop_timezone  \n0      None          None              1          None  \n1      None          None              1          None  \n2      None          None              0       8503000  \n3      None          None              0       8503000  \n4      None          None              0       8503000  \n5      None          None              0       8503000  \n6      None          None              0       8503000  \n7      None          None              0       8503000  \n8      None          None              0       8503000  \n9      None          None              0       8503000  \n10     None          None              0       8503000  \n11     None          None              0       8503000  \n12     None          None              0       8503000  \n13     None          None              0       8503000  \n14     None          None              0       8503000  \n15     None          None              0       8503000  \n16     None          None              0       8503000  \n17     None          None              0       8503000  \n18     None          None              0       8503000  \n19     None          None              0       8503000  \n20     None          None              0       8503000  \n21     None          None              0       8503000  \n22     None          None              0       8503000  \n23     None          None              0       8503000  \n24     None          None              0       8503000  \n25     None          None              0       8507000  \n26     None          None              0       8507000  \n27     None          None              0       8507000  \n28     None          None              0       8507000  \n29     None          None              0       8507000  \n30     None          None              0       8507000  \n31     None          None              0       8507000  \n32     None          None              0       8507000  \n33     None          None              0       8507000  \n34     None          None              0       8507000  \n35     None          None              0       8507000  \n36     None          None              0       8507000  \n37     None          None              0       8507000  \n38     None          None              0       8507000  \n39     None          None              0       8507000  \n40     None          None              0       8507000  \n41     None          None              0       8507000  \n42     None          None              0       8507000  \n43     None          None              0       8507000  \n44     None          None              0       8507000  \n45     None          None              0       8507000  \n46     None          None              0       8507000  \n47     None          None              0       8507000  \n48     None          None              0       8507000  \n49     None          None              0       8507000  \n50     None          None              0       8507000  \n51     None          None              0       8507000  \n52     None          None              0       8507000  \n53     None          None              0       8507000  \n54     None          None              0       8507000  \n55     None          None              0       8503000  \n56     None          None              0       8507000  ",
      "text/html": "<div>\n<style scoped>\n    .dataframe tbody tr th:only-of-type {\n        vertical-align: middle;\n    }\n\n    .dataframe tbody tr th {\n        vertical-align: top;\n    }\n\n    .dataframe thead th {\n        text-align: right;\n    }\n</style>\n<table border=\"1\" class=\"dataframe\">\n  <thead>\n    <tr style=\"text-align: right;\">\n      <th></th>\n      <th>stop_id</th>\n      <th>stop_code</th>\n      <th>stop_name</th>\n      <th>stop_desc</th>\n      <th>stop_lat</th>\n      <th>stop_lon</th>\n      <th>zone_id</th>\n      <th>stop_url</th>\n      <th>location_type</th>\n      <th>parent_station</th>\n      <th>stop_timezone</th>\n    </tr>\n  </thead>\n  <tbody>\n    <tr>\n      <th>0</th>\n      <td>8503000</td>\n      <td>ZUE</td>\n      <td>Zürich HB</td>\n      <td>None</td>\n      <td>47.378177</td>\n      <td>8.540212</td>\n      <td>407</td>\n      <td>None</td>\n      <td>None</td>\n      <td>1</td>\n      <td>None</td>\n    </tr>\n    <tr>\n      <th>1</th>\n      <td>8507000</td>\n      <td>BN</td>\n      <td>Bern</td>\n      <td>None</td>\n      <td>46.948832</td>\n      <td>7.439131</td>\n      <td>540</td>\n      <td>None</td>\n      <td>None</td>\n      <td>1</td>\n      <td>None</td>\n    </tr>\n    <tr>\n      <th>2</th>\n      <td>8503000:10</td>\n      <td>ZUE</td>\n      <td>Zürich HB</td>\n      <td>None</td>\n      <td>47.378177</td>\n      <td>8.540212</td>\n      <td>407</td>\n      <td>None</td>\n      <td>None</td>\n      <td>0</td>\n      <td>8503000</td>\n    </tr>\n    <tr>\n      <th>3</th>\n      <td>8503000:13</td>\n      <td>ZUE</td>\n      <td>Zürich HB</td>\n      <td>None</td>\n      <td>47.378177</td>\n      <td>8.540212</td>\n      <td>407</td>\n      <td>None</td>\n      <td>None</td>\n      <td>0</td>\n      <td>8503000</td>\n    </tr>\n    <tr>\n      <th>4</th>\n      <td>8503000:7</td>\n      <td>ZUE</td>\n      <td>Zürich HB</td>\n      <td>None</td>\n      <td>47.378177</td>\n      <td>8.540212</td>\n      <td>407</td>\n      <td>None</td>\n      <td>None</td>\n      <td>0</td>\n      <td>8503000</td>\n    </tr>\n    <tr>\n      <th>5</th>\n      <td>8503000:11</td>\n      <td>ZUE</td>\n      <td>Zürich HB</td>\n      <td>None</td>\n      <td>47.378177</td>\n      <td>8.540212</td>\n      <td>407</td>\n      <td>None</td>\n      <td>None</td>\n      <td>0</td>\n      <td>8503000</td>\n    </tr>\n    <tr>\n      <th>6</th>\n      <td>8503000:9</td>\n      <td>ZUE</td>\n      <td>Zürich HB</td>\n      <td>None</td>\n      <td>47.378177</td>\n      <td>8.540212</td>\n      <td>407</td>\n      <td>None</td>\n      <td>None</td>\n      <td>0</td>\n      <td>8503000</td>\n    </tr>\n    <tr>\n      <th>7</th>\n      <td>8503000:6</td>\n      <td>ZUE</td>\n      <td>Zürich HB</td>\n      <td>None</td>\n      <td>47.378177</td>\n      <td>8.540212</td>\n      <td>407</td>\n      <td>None</td>\n      <td>None</td>\n      <td>0</td>\n      <td>8503000</td>\n    </tr>\n    <tr>\n      <th>8</th>\n      <td>8503000:16</td>\n      <td>ZUE</td>\n      <td>Zürich HB</td>\n      <td>None</td>\n      <td>47.378177</td>\n      <td>8.540212</td>\n      <td>407</td>\n      <td>None</td>\n      <td>None</td>\n      <td>0</td>\n      <td>8503000</td>\n    </tr>\n    <tr>\n      <th>9</th>\n      <td>8503000:12</td>\n      <td>ZUE</td>\n      <td>Zürich HB</td>\n      <td>None</td>\n      <td>47.378177</td>\n      <td>8.540212</td>\n      <td>407</td>\n      <td>None</td>\n      <td>None</td>\n      <td>0</td>\n      <td>8503000</td>\n    </tr>\n    <tr>\n      <th>10</th>\n      <td>8503000:17</td>\n      <td>ZUE</td>\n      <td>Zürich HB</td>\n      <td>None</td>\n      <td>47.378177</td>\n      <td>8.540212</td>\n      <td>407</td>\n      <td>None</td>\n      <td>None</td>\n      <td>0</td>\n      <td>8503000</td>\n    </tr>\n    <tr>\n      <th>11</th>\n      <td>8503000:18</td>\n      <td>ZUE</td>\n      <td>Zürich HB</td>\n      <td>None</td>\n      <td>47.378177</td>\n      <td>8.540212</td>\n      <td>407</td>\n      <td>None</td>\n      <td>None</td>\n      <td>0</td>\n      <td>8503000</td>\n    </tr>\n    <tr>\n      <th>12</th>\n      <td>8503000:15</td>\n      <td>ZUE</td>\n      <td>Zürich HB</td>\n      <td>None</td>\n      <td>47.378177</td>\n      <td>8.540212</td>\n      <td>407</td>\n      <td>None</td>\n      <td>None</td>\n      <td>0</td>\n      <td>8503000</td>\n    </tr>\n    <tr>\n      <th>13</th>\n      <td>8503000:14</td>\n      <td>ZUE</td>\n      <td>Zürich HB</td>\n      <td>None</td>\n      <td>47.378177</td>\n      <td>8.540212</td>\n      <td>407</td>\n      <td>None</td>\n      <td>None</td>\n      <td>0</td>\n      <td>8503000</td>\n    </tr>\n    <tr>\n      <th>14</th>\n      <td>8503000:3</td>\n      <td>ZUE</td>\n      <td>Zürich HB</td>\n      <td>None</td>\n      <td>47.378177</td>\n      <td>8.540212</td>\n      <td>407</td>\n      <td>None</td>\n      <td>None</td>\n      <td>0</td>\n      <td>8503000</td>\n    </tr>\n    <tr>\n      <th>15</th>\n      <td>8503000:4</td>\n      <td>ZUE</td>\n      <td>Zürich HB</td>\n      <td>None</td>\n      <td>47.378177</td>\n      <td>8.540212</td>\n      <td>407</td>\n      <td>None</td>\n      <td>None</td>\n      <td>0</td>\n      <td>8503000</td>\n    </tr>\n    <tr>\n      <th>16</th>\n      <td>8503000:8</td>\n      <td>ZUE</td>\n      <td>Zürich HB</td>\n      <td>None</td>\n      <td>47.378177</td>\n      <td>8.540212</td>\n      <td>407</td>\n      <td>None</td>\n      <td>None</td>\n      <td>0</td>\n      <td>8503000</td>\n    </tr>\n    <tr>\n      <th>17</th>\n      <td>8503000:5</td>\n      <td>ZUE</td>\n      <td>Zürich HB</td>\n      <td>None</td>\n      <td>47.378177</td>\n      <td>8.540212</td>\n      <td>407</td>\n      <td>None</td>\n      <td>None</td>\n      <td>0</td>\n      <td>8503000</td>\n    </tr>\n    <tr>\n      <th>18</th>\n      <td>8503000:31</td>\n      <td>ZUE</td>\n      <td>Zürich HB</td>\n      <td>None</td>\n      <td>47.378177</td>\n      <td>8.540212</td>\n      <td>407</td>\n      <td>None</td>\n      <td>None</td>\n      <td>0</td>\n      <td>8503000</td>\n    </tr>\n    <tr>\n      <th>19</th>\n      <td>8503000:32</td>\n      <td>ZUE</td>\n      <td>Zürich HB</td>\n      <td>None</td>\n      <td>47.378177</td>\n      <td>8.540212</td>\n      <td>407</td>\n      <td>None</td>\n      <td>None</td>\n      <td>0</td>\n      <td>8503000</td>\n    </tr>\n    <tr>\n      <th>20</th>\n      <td>8503000:33</td>\n      <td>ZUE</td>\n      <td>Zürich HB</td>\n      <td>None</td>\n      <td>47.378177</td>\n      <td>8.540212</td>\n      <td>407</td>\n      <td>None</td>\n      <td>None</td>\n      <td>0</td>\n      <td>8503000</td>\n    </tr>\n    <tr>\n      <th>21</th>\n      <td>8503000:34</td>\n      <td>ZUE</td>\n      <td>Zürich HB</td>\n      <td>None</td>\n      <td>47.378177</td>\n      <td>8.540212</td>\n      <td>407</td>\n      <td>None</td>\n      <td>None</td>\n      <td>0</td>\n      <td>8503000</td>\n    </tr>\n    <tr>\n      <th>22</th>\n      <td>8503000:34AB</td>\n      <td>ZUE</td>\n      <td>Zürich HB</td>\n      <td>None</td>\n      <td>47.378177</td>\n      <td>8.540212</td>\n      <td>407</td>\n      <td>None</td>\n      <td>None</td>\n      <td>0</td>\n      <td>8503000</td>\n    </tr>\n    <tr>\n      <th>23</th>\n      <td>8503000:41/42</td>\n      <td>ZUE</td>\n      <td>Zürich HB</td>\n      <td>None</td>\n      <td>47.378177</td>\n      <td>8.540212</td>\n      <td>407</td>\n      <td>None</td>\n      <td>None</td>\n      <td>0</td>\n      <td>8503000</td>\n    </tr>\n    <tr>\n      <th>24</th>\n      <td>8503000:43/44</td>\n      <td>ZUE</td>\n      <td>Zürich HB</td>\n      <td>None</td>\n      <td>47.378177</td>\n      <td>8.540212</td>\n      <td>407</td>\n      <td>None</td>\n      <td>None</td>\n      <td>0</td>\n      <td>8503000</td>\n    </tr>\n    <tr>\n      <th>25</th>\n      <td>8507000:4</td>\n      <td>BN</td>\n      <td>Bern</td>\n      <td>None</td>\n      <td>46.948832</td>\n      <td>7.439131</td>\n      <td>540</td>\n      <td>None</td>\n      <td>None</td>\n      <td>0</td>\n      <td>8507000</td>\n    </tr>\n    <tr>\n      <th>26</th>\n      <td>8507000:7</td>\n      <td>BN</td>\n      <td>Bern</td>\n      <td>None</td>\n      <td>46.948832</td>\n      <td>7.439131</td>\n      <td>540</td>\n      <td>None</td>\n      <td>None</td>\n      <td>0</td>\n      <td>8507000</td>\n    </tr>\n    <tr>\n      <th>27</th>\n      <td>8507000:6</td>\n      <td>BN</td>\n      <td>Bern</td>\n      <td>None</td>\n      <td>46.948832</td>\n      <td>7.439131</td>\n      <td>540</td>\n      <td>None</td>\n      <td>None</td>\n      <td>0</td>\n      <td>8507000</td>\n    </tr>\n    <tr>\n      <th>28</th>\n      <td>8507000:8</td>\n      <td>BN</td>\n      <td>Bern</td>\n      <td>None</td>\n      <td>46.948832</td>\n      <td>7.439131</td>\n      <td>540</td>\n      <td>None</td>\n      <td>None</td>\n      <td>0</td>\n      <td>8507000</td>\n    </tr>\n    <tr>\n      <th>29</th>\n      <td>8507000:5</td>\n      <td>BN</td>\n      <td>Bern</td>\n      <td>None</td>\n      <td>46.948832</td>\n      <td>7.439131</td>\n      <td>540</td>\n      <td>None</td>\n      <td>None</td>\n      <td>0</td>\n      <td>8507000</td>\n    </tr>\n    <tr>\n      <th>30</th>\n      <td>8507000:3</td>\n      <td>BN</td>\n      <td>Bern</td>\n      <td>None</td>\n      <td>46.948832</td>\n      <td>7.439131</td>\n      <td>540</td>\n      <td>None</td>\n      <td>None</td>\n      <td>0</td>\n      <td>8507000</td>\n    </tr>\n    <tr>\n      <th>31</th>\n      <td>8507000:2</td>\n      <td>BN</td>\n      <td>Bern</td>\n      <td>None</td>\n      <td>46.948832</td>\n      <td>7.439131</td>\n      <td>540</td>\n      <td>None</td>\n      <td>None</td>\n      <td>0</td>\n      <td>8507000</td>\n    </tr>\n    <tr>\n      <th>32</th>\n      <td>8507000:1</td>\n      <td>BN</td>\n      <td>Bern</td>\n      <td>None</td>\n      <td>46.948832</td>\n      <td>7.439131</td>\n      <td>540</td>\n      <td>None</td>\n      <td>None</td>\n      <td>0</td>\n      <td>8507000</td>\n    </tr>\n    <tr>\n      <th>33</th>\n      <td>8507000:9</td>\n      <td>BN</td>\n      <td>Bern</td>\n      <td>None</td>\n      <td>46.948832</td>\n      <td>7.439131</td>\n      <td>540</td>\n      <td>None</td>\n      <td>None</td>\n      <td>0</td>\n      <td>8507000</td>\n    </tr>\n    <tr>\n      <th>34</th>\n      <td>8507000:50</td>\n      <td>BN</td>\n      <td>Bern</td>\n      <td>None</td>\n      <td>46.948832</td>\n      <td>7.439131</td>\n      <td>540</td>\n      <td>None</td>\n      <td>None</td>\n      <td>0</td>\n      <td>8507000</td>\n    </tr>\n    <tr>\n      <th>35</th>\n      <td>8507000:49</td>\n      <td>BN</td>\n      <td>Bern</td>\n      <td>None</td>\n      <td>46.948832</td>\n      <td>7.439131</td>\n      <td>540</td>\n      <td>None</td>\n      <td>None</td>\n      <td>0</td>\n      <td>8507000</td>\n    </tr>\n    <tr>\n      <th>36</th>\n      <td>8507000:10</td>\n      <td>BN</td>\n      <td>Bern</td>\n      <td>None</td>\n      <td>46.948832</td>\n      <td>7.439131</td>\n      <td>540</td>\n      <td>None</td>\n      <td>None</td>\n      <td>0</td>\n      <td>8507000</td>\n    </tr>\n    <tr>\n      <th>37</th>\n      <td>8507000:12</td>\n      <td>BN</td>\n      <td>Bern</td>\n      <td>None</td>\n      <td>46.948832</td>\n      <td>7.439131</td>\n      <td>540</td>\n      <td>None</td>\n      <td>None</td>\n      <td>0</td>\n      <td>8507000</td>\n    </tr>\n    <tr>\n      <th>38</th>\n      <td>8507000:13</td>\n      <td>BN</td>\n      <td>Bern</td>\n      <td>None</td>\n      <td>46.948832</td>\n      <td>7.439131</td>\n      <td>540</td>\n      <td>None</td>\n      <td>None</td>\n      <td>0</td>\n      <td>8507000</td>\n    </tr>\n    <tr>\n      <th>39</th>\n      <td>8507000:1E-H</td>\n      <td>BN</td>\n      <td>Bern</td>\n      <td>None</td>\n      <td>46.948832</td>\n      <td>7.439131</td>\n      <td>540</td>\n      <td>None</td>\n      <td>None</td>\n      <td>0</td>\n      <td>8507000</td>\n    </tr>\n    <tr>\n      <th>40</th>\n      <td>8507000:2E-H</td>\n      <td>BN</td>\n      <td>Bern</td>\n      <td>None</td>\n      <td>46.948832</td>\n      <td>7.439131</td>\n      <td>540</td>\n      <td>None</td>\n      <td>None</td>\n      <td>0</td>\n      <td>8507000</td>\n    </tr>\n    <tr>\n      <th>41</th>\n      <td>8507000:3A-D</td>\n      <td>BN</td>\n      <td>Bern</td>\n      <td>None</td>\n      <td>46.948832</td>\n      <td>7.439131</td>\n      <td>540</td>\n      <td>None</td>\n      <td>None</td>\n      <td>0</td>\n      <td>8507000</td>\n    </tr>\n    <tr>\n      <th>42</th>\n      <td>8507000:12D-F</td>\n      <td>BN</td>\n      <td>Bern</td>\n      <td>None</td>\n      <td>46.948832</td>\n      <td>7.439131</td>\n      <td>540</td>\n      <td>None</td>\n      <td>None</td>\n      <td>0</td>\n      <td>8507000</td>\n    </tr>\n    <tr>\n      <th>43</th>\n      <td>8507000:12A-C</td>\n      <td>BN</td>\n      <td>Bern</td>\n      <td>None</td>\n      <td>46.948832</td>\n      <td>7.439131</td>\n      <td>540</td>\n      <td>None</td>\n      <td>None</td>\n      <td>0</td>\n      <td>8507000</td>\n    </tr>\n    <tr>\n      <th>44</th>\n      <td>8507000:13AB</td>\n      <td>BN</td>\n      <td>Bern</td>\n      <td>None</td>\n      <td>46.948832</td>\n      <td>7.439131</td>\n      <td>540</td>\n      <td>None</td>\n      <td>None</td>\n      <td>0</td>\n      <td>8507000</td>\n    </tr>\n    <tr>\n      <th>45</th>\n      <td>8507000:2A-D</td>\n      <td>BN</td>\n      <td>Bern</td>\n      <td>None</td>\n      <td>46.948832</td>\n      <td>7.439131</td>\n      <td>540</td>\n      <td>None</td>\n      <td>None</td>\n      <td>0</td>\n      <td>8507000</td>\n    </tr>\n    <tr>\n      <th>46</th>\n      <td>8507000:1A-D</td>\n      <td>BN</td>\n      <td>Bern</td>\n      <td>None</td>\n      <td>46.948832</td>\n      <td>7.439131</td>\n      <td>540</td>\n      <td>None</td>\n      <td>None</td>\n      <td>0</td>\n      <td>8507000</td>\n    </tr>\n    <tr>\n      <th>47</th>\n      <td>8507000:13A-C</td>\n      <td>BN</td>\n      <td>Bern</td>\n      <td>None</td>\n      <td>46.948832</td>\n      <td>7.439131</td>\n      <td>540</td>\n      <td>None</td>\n      <td>None</td>\n      <td>0</td>\n      <td>8507000</td>\n    </tr>\n    <tr>\n      <th>48</th>\n      <td>8507000:13D-F</td>\n      <td>BN</td>\n      <td>Bern</td>\n      <td>None</td>\n      <td>46.948832</td>\n      <td>7.439131</td>\n      <td>540</td>\n      <td>None</td>\n      <td>None</td>\n      <td>0</td>\n      <td>8507000</td>\n    </tr>\n    <tr>\n      <th>49</th>\n      <td>8507000:12AB</td>\n      <td>BN</td>\n      <td>Bern</td>\n      <td>None</td>\n      <td>46.948832</td>\n      <td>7.439131</td>\n      <td>540</td>\n      <td>None</td>\n      <td>None</td>\n      <td>0</td>\n      <td>8507000</td>\n    </tr>\n    <tr>\n      <th>50</th>\n      <td>8507000:21</td>\n      <td>BN</td>\n      <td>Bern</td>\n      <td>None</td>\n      <td>46.948832</td>\n      <td>7.439131</td>\n      <td>540</td>\n      <td>None</td>\n      <td>None</td>\n      <td>0</td>\n      <td>8507000</td>\n    </tr>\n    <tr>\n      <th>51</th>\n      <td>8507000:23</td>\n      <td>BN</td>\n      <td>Bern</td>\n      <td>None</td>\n      <td>46.948832</td>\n      <td>7.439131</td>\n      <td>540</td>\n      <td>None</td>\n      <td>None</td>\n      <td>0</td>\n      <td>8507000</td>\n    </tr>\n    <tr>\n      <th>52</th>\n      <td>8507000:22</td>\n      <td>BN</td>\n      <td>Bern</td>\n      <td>None</td>\n      <td>46.948832</td>\n      <td>7.439131</td>\n      <td>540</td>\n      <td>None</td>\n      <td>None</td>\n      <td>0</td>\n      <td>8507000</td>\n    </tr>\n    <tr>\n      <th>53</th>\n      <td>8507000:24</td>\n      <td>BN</td>\n      <td>Bern</td>\n      <td>None</td>\n      <td>46.948832</td>\n      <td>7.439131</td>\n      <td>540</td>\n      <td>None</td>\n      <td>None</td>\n      <td>0</td>\n      <td>8507000</td>\n    </tr>\n    <tr>\n      <th>54</th>\n      <td>8507000:21/22</td>\n      <td>BN</td>\n      <td>Bern</td>\n      <td>None</td>\n      <td>46.948832</td>\n      <td>7.439131</td>\n      <td>540</td>\n      <td>None</td>\n      <td>None</td>\n      <td>0</td>\n      <td>8507000</td>\n    </tr>\n    <tr>\n      <th>55</th>\n      <td>8503000:</td>\n      <td>ZUE</td>\n      <td>Zürich HB</td>\n      <td>None</td>\n      <td>47.378177</td>\n      <td>8.540212</td>\n      <td>407</td>\n      <td>None</td>\n      <td>None</td>\n      <td>0</td>\n      <td>8503000</td>\n    </tr>\n    <tr>\n      <th>56</th>\n      <td>8507000:</td>\n      <td>BN</td>\n      <td>Bern</td>\n      <td>None</td>\n      <td>46.948832</td>\n      <td>7.439131</td>\n      <td>540</td>\n      <td>None</td>\n      <td>None</td>\n      <td>0</td>\n      <td>8507000</td>\n    </tr>\n  </tbody>\n</table>\n</div>"
     },
     "execution_count": 6,
     "metadata": {},
     "output_type": "execute_result"
    }
   ],
   "source": [
    "# Get \"Zürich HB\" and \"Bern\" stops\n",
    "qry = f\"\"\"\n",
    "SELECT\n",
    "    *\n",
    "FROM stops\n",
    "WHERE stop_name = 'Zürich HB' OR stop_name = 'Bern'\n",
    "\"\"\"\n",
    "stops = connection.execute(qry).fetchdf()\n",
    "stops\n"
   ],
   "metadata": {
    "collapsed": false,
    "ExecuteTime": {
     "end_time": "2025-01-28T17:51:43.631181300Z",
     "start_time": "2025-01-28T17:51:43.573023400Z"
    }
   }
  },
  {
   "cell_type": "code",
   "execution_count": 7,
   "outputs": [
    {
     "data": {
      "text/plain": "          stop_id stop_code  stop_name stop_desc   stop_lat  stop_lon zone_id  \\\n0      8503000:11       ZUE  Zürich HB      None  47.378177  8.540212     407   \n1       8503000:6       ZUE  Zürich HB      None  47.378177  8.540212     407   \n2      8503000:10       ZUE  Zürich HB      None  47.378177  8.540212     407   \n3      8503000:10       ZUE  Zürich HB      None  47.378177  8.540212     407   \n4      8503000:13       ZUE  Zürich HB      None  47.378177  8.540212     407   \n...           ...       ...        ...       ...        ...       ...     ...   \n37930  8503000:18       ZUE  Zürich HB      None  47.378177  8.540212     407   \n37931  8503000:16       ZUE  Zürich HB      None  47.378177  8.540212     407   \n37932  8503000:17       ZUE  Zürich HB      None  47.378177  8.540212     407   \n37933  8503000:18       ZUE  Zürich HB      None  47.378177  8.540212     407   \n37934  8503000:17       ZUE  Zürich HB      None  47.378177  8.540212     407   \n\n      stop_url location_type parent_station  ... stop_sequence pickup_type  \\\n0         None          None              0  ...             3         NaN   \n1         None          None              0  ...             3         NaN   \n2         None          None              0  ...             3         NaN   \n3         None          None              0  ...             3         NaN   \n4         None          None              0  ...             3         NaN   \n...        ...           ...            ...  ...           ...         ...   \n37930     None          None              0  ...             1         NaN   \n37931     None          None              0  ...             1         NaN   \n37932     None          None              0  ...             1         NaN   \n37933     None          None              0  ...             1         NaN   \n37934     None          None              0  ...             1         NaN   \n\n      drop_off_type                route_id service_id  trip_id_1  \\\n0                 0     000003.000011.101:3     066612        0:1   \n1                 0     000003.000011.101:3     121098        0:2   \n2                 0     000003.000011.101:3     042990        0:3   \n3                 0     000003.000011.101:3     000002        0:4   \n4                 0     000003.000011.101:3     090659        0:5   \n...             ...                     ...        ...        ...   \n37930             0  001009.000011.101:1009     009051     4249:7   \n37931             0  001009.000011.101:1009     085692     4249:8   \n37932             0  001009.000011.101:1009     004853     4249:9   \n37933             0  001011.000011.101:1011     340986     4250:1   \n37934             0  001011.000011.101:1011     168190     4250:2   \n\n       trip_headsign  trip_short_name direction_id block_id  \n0          Zürich HB                3          NaN     None  \n1          Zürich HB                3          NaN     None  \n2          Zürich HB                3          NaN     None  \n3          Zürich HB                3          NaN     None  \n4          Zürich HB                3          NaN     None  \n...              ...              ...          ...      ...  \n37930      Zürich HB             1009          NaN     None  \n37931      Zürich HB             1009          NaN     None  \n37932      Zürich HB             1009          NaN     None  \n37933      Zürich HB             1011          NaN     None  \n37934      Zürich HB             1011          NaN     None  \n\n[37935 rows x 25 columns]",
      "text/html": "<div>\n<style scoped>\n    .dataframe tbody tr th:only-of-type {\n        vertical-align: middle;\n    }\n\n    .dataframe tbody tr th {\n        vertical-align: top;\n    }\n\n    .dataframe thead th {\n        text-align: right;\n    }\n</style>\n<table border=\"1\" class=\"dataframe\">\n  <thead>\n    <tr style=\"text-align: right;\">\n      <th></th>\n      <th>stop_id</th>\n      <th>stop_code</th>\n      <th>stop_name</th>\n      <th>stop_desc</th>\n      <th>stop_lat</th>\n      <th>stop_lon</th>\n      <th>zone_id</th>\n      <th>stop_url</th>\n      <th>location_type</th>\n      <th>parent_station</th>\n      <th>...</th>\n      <th>stop_sequence</th>\n      <th>pickup_type</th>\n      <th>drop_off_type</th>\n      <th>route_id</th>\n      <th>service_id</th>\n      <th>trip_id_1</th>\n      <th>trip_headsign</th>\n      <th>trip_short_name</th>\n      <th>direction_id</th>\n      <th>block_id</th>\n    </tr>\n  </thead>\n  <tbody>\n    <tr>\n      <th>0</th>\n      <td>8503000:11</td>\n      <td>ZUE</td>\n      <td>Zürich HB</td>\n      <td>None</td>\n      <td>47.378177</td>\n      <td>8.540212</td>\n      <td>407</td>\n      <td>None</td>\n      <td>None</td>\n      <td>0</td>\n      <td>...</td>\n      <td>3</td>\n      <td>NaN</td>\n      <td>0</td>\n      <td>000003.000011.101:3</td>\n      <td>066612</td>\n      <td>0:1</td>\n      <td>Zürich HB</td>\n      <td>3</td>\n      <td>NaN</td>\n      <td>None</td>\n    </tr>\n    <tr>\n      <th>1</th>\n      <td>8503000:6</td>\n      <td>ZUE</td>\n      <td>Zürich HB</td>\n      <td>None</td>\n      <td>47.378177</td>\n      <td>8.540212</td>\n      <td>407</td>\n      <td>None</td>\n      <td>None</td>\n      <td>0</td>\n      <td>...</td>\n      <td>3</td>\n      <td>NaN</td>\n      <td>0</td>\n      <td>000003.000011.101:3</td>\n      <td>121098</td>\n      <td>0:2</td>\n      <td>Zürich HB</td>\n      <td>3</td>\n      <td>NaN</td>\n      <td>None</td>\n    </tr>\n    <tr>\n      <th>2</th>\n      <td>8503000:10</td>\n      <td>ZUE</td>\n      <td>Zürich HB</td>\n      <td>None</td>\n      <td>47.378177</td>\n      <td>8.540212</td>\n      <td>407</td>\n      <td>None</td>\n      <td>None</td>\n      <td>0</td>\n      <td>...</td>\n      <td>3</td>\n      <td>NaN</td>\n      <td>0</td>\n      <td>000003.000011.101:3</td>\n      <td>042990</td>\n      <td>0:3</td>\n      <td>Zürich HB</td>\n      <td>3</td>\n      <td>NaN</td>\n      <td>None</td>\n    </tr>\n    <tr>\n      <th>3</th>\n      <td>8503000:10</td>\n      <td>ZUE</td>\n      <td>Zürich HB</td>\n      <td>None</td>\n      <td>47.378177</td>\n      <td>8.540212</td>\n      <td>407</td>\n      <td>None</td>\n      <td>None</td>\n      <td>0</td>\n      <td>...</td>\n      <td>3</td>\n      <td>NaN</td>\n      <td>0</td>\n      <td>000003.000011.101:3</td>\n      <td>000002</td>\n      <td>0:4</td>\n      <td>Zürich HB</td>\n      <td>3</td>\n      <td>NaN</td>\n      <td>None</td>\n    </tr>\n    <tr>\n      <th>4</th>\n      <td>8503000:13</td>\n      <td>ZUE</td>\n      <td>Zürich HB</td>\n      <td>None</td>\n      <td>47.378177</td>\n      <td>8.540212</td>\n      <td>407</td>\n      <td>None</td>\n      <td>None</td>\n      <td>0</td>\n      <td>...</td>\n      <td>3</td>\n      <td>NaN</td>\n      <td>0</td>\n      <td>000003.000011.101:3</td>\n      <td>090659</td>\n      <td>0:5</td>\n      <td>Zürich HB</td>\n      <td>3</td>\n      <td>NaN</td>\n      <td>None</td>\n    </tr>\n    <tr>\n      <th>...</th>\n      <td>...</td>\n      <td>...</td>\n      <td>...</td>\n      <td>...</td>\n      <td>...</td>\n      <td>...</td>\n      <td>...</td>\n      <td>...</td>\n      <td>...</td>\n      <td>...</td>\n      <td>...</td>\n      <td>...</td>\n      <td>...</td>\n      <td>...</td>\n      <td>...</td>\n      <td>...</td>\n      <td>...</td>\n      <td>...</td>\n      <td>...</td>\n      <td>...</td>\n      <td>...</td>\n    </tr>\n    <tr>\n      <th>37930</th>\n      <td>8503000:18</td>\n      <td>ZUE</td>\n      <td>Zürich HB</td>\n      <td>None</td>\n      <td>47.378177</td>\n      <td>8.540212</td>\n      <td>407</td>\n      <td>None</td>\n      <td>None</td>\n      <td>0</td>\n      <td>...</td>\n      <td>1</td>\n      <td>NaN</td>\n      <td>0</td>\n      <td>001009.000011.101:1009</td>\n      <td>009051</td>\n      <td>4249:7</td>\n      <td>Zürich HB</td>\n      <td>1009</td>\n      <td>NaN</td>\n      <td>None</td>\n    </tr>\n    <tr>\n      <th>37931</th>\n      <td>8503000:16</td>\n      <td>ZUE</td>\n      <td>Zürich HB</td>\n      <td>None</td>\n      <td>47.378177</td>\n      <td>8.540212</td>\n      <td>407</td>\n      <td>None</td>\n      <td>None</td>\n      <td>0</td>\n      <td>...</td>\n      <td>1</td>\n      <td>NaN</td>\n      <td>0</td>\n      <td>001009.000011.101:1009</td>\n      <td>085692</td>\n      <td>4249:8</td>\n      <td>Zürich HB</td>\n      <td>1009</td>\n      <td>NaN</td>\n      <td>None</td>\n    </tr>\n    <tr>\n      <th>37932</th>\n      <td>8503000:17</td>\n      <td>ZUE</td>\n      <td>Zürich HB</td>\n      <td>None</td>\n      <td>47.378177</td>\n      <td>8.540212</td>\n      <td>407</td>\n      <td>None</td>\n      <td>None</td>\n      <td>0</td>\n      <td>...</td>\n      <td>1</td>\n      <td>NaN</td>\n      <td>0</td>\n      <td>001009.000011.101:1009</td>\n      <td>004853</td>\n      <td>4249:9</td>\n      <td>Zürich HB</td>\n      <td>1009</td>\n      <td>NaN</td>\n      <td>None</td>\n    </tr>\n    <tr>\n      <th>37933</th>\n      <td>8503000:18</td>\n      <td>ZUE</td>\n      <td>Zürich HB</td>\n      <td>None</td>\n      <td>47.378177</td>\n      <td>8.540212</td>\n      <td>407</td>\n      <td>None</td>\n      <td>None</td>\n      <td>0</td>\n      <td>...</td>\n      <td>1</td>\n      <td>NaN</td>\n      <td>0</td>\n      <td>001011.000011.101:1011</td>\n      <td>340986</td>\n      <td>4250:1</td>\n      <td>Zürich HB</td>\n      <td>1011</td>\n      <td>NaN</td>\n      <td>None</td>\n    </tr>\n    <tr>\n      <th>37934</th>\n      <td>8503000:17</td>\n      <td>ZUE</td>\n      <td>Zürich HB</td>\n      <td>None</td>\n      <td>47.378177</td>\n      <td>8.540212</td>\n      <td>407</td>\n      <td>None</td>\n      <td>None</td>\n      <td>0</td>\n      <td>...</td>\n      <td>1</td>\n      <td>NaN</td>\n      <td>0</td>\n      <td>001011.000011.101:1011</td>\n      <td>168190</td>\n      <td>4250:2</td>\n      <td>Zürich HB</td>\n      <td>1011</td>\n      <td>NaN</td>\n      <td>None</td>\n    </tr>\n  </tbody>\n</table>\n<p>37935 rows × 25 columns</p>\n</div>"
     },
     "execution_count": 7,
     "metadata": {},
     "output_type": "execute_result"
    }
   ],
   "source": [
    "# Join the trip to the stops\n",
    "# Get \"Zürich HB\" and \"Bern\" stops\n",
    "qry = f\"\"\"\n",
    "SELECT\n",
    "    *\n",
    "FROM stops\n",
    "INNER JOIN stop_times\n",
    "ON stops.stop_id = stop_times.stop_id\n",
    "INNER JOIN trips\n",
    "ON stop_times.trip_id = trips.trip_id\n",
    "WHERE stops.stop_name = 'Zürich HB'-- OR stops.stop_name = 'Bern'\n",
    "\"\"\"\n",
    "trips = connection.execute(qry).fetchdf()\n",
    "trips"
   ],
   "metadata": {
    "collapsed": false,
    "ExecuteTime": {
     "end_time": "2025-01-28T17:51:43.867004400Z",
     "start_time": "2025-01-28T17:51:43.592408100Z"
    }
   }
  },
  {
   "cell_type": "code",
   "execution_count": 8,
   "outputs": [
    {
     "data": {
      "text/plain": "                     route_id service_id  trip_id       trip_headsign  \\\n0         000003.000011.101:3     141763      0:8           Zürich HB   \n1         000003.000011.102:3     008406      1:2           Zürich HB   \n2         000004.000011.101:4     000608     2:18        Basel Bad Bf   \n3         000004.000011.102:4     042936      3:5        Basel Bad Bf   \n4         000004.000011.104:4     200334      4:7        Basel Bad Bf   \n...                       ...        ...      ...                 ...   \n58802  009228.87_LEX.002:612B     506983  92786:1  Paris Gare de Lyon   \n58803  009228.87_LEX.003:612B     013566  92787:1  Paris Gare de Lyon   \n58804  009228.87_LEX.006:612B     050544  92789:1  Paris Gare de Lyon   \n58805  009228.87_LEX.007:612B     039031  92790:1  Paris Gare de Lyon   \n58806  009232.87_LEX.001:612B     020506  92792:1  Paris Gare de Lyon   \n\n      trip_short_name  direction_id block_id              route_id_1  \\\n0                   3           NaN     None     000003.000011.101:3   \n1                   3           NaN     None     000003.000011.102:3   \n2                   4           NaN     None     000004.000011.101:4   \n3                   4           NaN     None     000004.000011.102:4   \n4                   4           NaN     None     000004.000011.104:4   \n...               ...           ...      ...                     ...   \n58802            612B           NaN     None  009228.87_LEX.002:612B   \n58803            612B           NaN     None  009228.87_LEX.003:612B   \n58804            612B           NaN     None  009228.87_LEX.006:612B   \n58805            612B           NaN     None  009228.87_LEX.007:612B   \n58806            612B           NaN     None  009232.87_LEX.001:612B   \n\n      agency_id route_short_name route_long_name route_desc  route_type  \n0        000011              ICE           ICE 3       None           2  \n1        000011              ICE           ICE 3       None           2  \n2        000011              ICE           ICE 4       None           2  \n3        000011              ICE           ICE 4       None           2  \n4        000011              ICE           ICE 4       None           2  \n...         ...              ...             ...        ...         ...  \n58802    87_LEX              TGV            612B       None           2  \n58803    87_LEX              TGV            612B       None           2  \n58804    87_LEX              TGV            612B       None           2  \n58805    87_LEX              TGV            612B       None           2  \n58806    87_LEX              TGV            612B       None           2  \n\n[58807 rows x 13 columns]",
      "text/html": "<div>\n<style scoped>\n    .dataframe tbody tr th:only-of-type {\n        vertical-align: middle;\n    }\n\n    .dataframe tbody tr th {\n        vertical-align: top;\n    }\n\n    .dataframe thead th {\n        text-align: right;\n    }\n</style>\n<table border=\"1\" class=\"dataframe\">\n  <thead>\n    <tr style=\"text-align: right;\">\n      <th></th>\n      <th>route_id</th>\n      <th>service_id</th>\n      <th>trip_id</th>\n      <th>trip_headsign</th>\n      <th>trip_short_name</th>\n      <th>direction_id</th>\n      <th>block_id</th>\n      <th>route_id_1</th>\n      <th>agency_id</th>\n      <th>route_short_name</th>\n      <th>route_long_name</th>\n      <th>route_desc</th>\n      <th>route_type</th>\n    </tr>\n  </thead>\n  <tbody>\n    <tr>\n      <th>0</th>\n      <td>000003.000011.101:3</td>\n      <td>141763</td>\n      <td>0:8</td>\n      <td>Zürich HB</td>\n      <td>3</td>\n      <td>NaN</td>\n      <td>None</td>\n      <td>000003.000011.101:3</td>\n      <td>000011</td>\n      <td>ICE</td>\n      <td>ICE 3</td>\n      <td>None</td>\n      <td>2</td>\n    </tr>\n    <tr>\n      <th>1</th>\n      <td>000003.000011.102:3</td>\n      <td>008406</td>\n      <td>1:2</td>\n      <td>Zürich HB</td>\n      <td>3</td>\n      <td>NaN</td>\n      <td>None</td>\n      <td>000003.000011.102:3</td>\n      <td>000011</td>\n      <td>ICE</td>\n      <td>ICE 3</td>\n      <td>None</td>\n      <td>2</td>\n    </tr>\n    <tr>\n      <th>2</th>\n      <td>000004.000011.101:4</td>\n      <td>000608</td>\n      <td>2:18</td>\n      <td>Basel Bad Bf</td>\n      <td>4</td>\n      <td>NaN</td>\n      <td>None</td>\n      <td>000004.000011.101:4</td>\n      <td>000011</td>\n      <td>ICE</td>\n      <td>ICE 4</td>\n      <td>None</td>\n      <td>2</td>\n    </tr>\n    <tr>\n      <th>3</th>\n      <td>000004.000011.102:4</td>\n      <td>042936</td>\n      <td>3:5</td>\n      <td>Basel Bad Bf</td>\n      <td>4</td>\n      <td>NaN</td>\n      <td>None</td>\n      <td>000004.000011.102:4</td>\n      <td>000011</td>\n      <td>ICE</td>\n      <td>ICE 4</td>\n      <td>None</td>\n      <td>2</td>\n    </tr>\n    <tr>\n      <th>4</th>\n      <td>000004.000011.104:4</td>\n      <td>200334</td>\n      <td>4:7</td>\n      <td>Basel Bad Bf</td>\n      <td>4</td>\n      <td>NaN</td>\n      <td>None</td>\n      <td>000004.000011.104:4</td>\n      <td>000011</td>\n      <td>ICE</td>\n      <td>ICE 4</td>\n      <td>None</td>\n      <td>2</td>\n    </tr>\n    <tr>\n      <th>...</th>\n      <td>...</td>\n      <td>...</td>\n      <td>...</td>\n      <td>...</td>\n      <td>...</td>\n      <td>...</td>\n      <td>...</td>\n      <td>...</td>\n      <td>...</td>\n      <td>...</td>\n      <td>...</td>\n      <td>...</td>\n      <td>...</td>\n    </tr>\n    <tr>\n      <th>58802</th>\n      <td>009228.87_LEX.002:612B</td>\n      <td>506983</td>\n      <td>92786:1</td>\n      <td>Paris Gare de Lyon</td>\n      <td>612B</td>\n      <td>NaN</td>\n      <td>None</td>\n      <td>009228.87_LEX.002:612B</td>\n      <td>87_LEX</td>\n      <td>TGV</td>\n      <td>612B</td>\n      <td>None</td>\n      <td>2</td>\n    </tr>\n    <tr>\n      <th>58803</th>\n      <td>009228.87_LEX.003:612B</td>\n      <td>013566</td>\n      <td>92787:1</td>\n      <td>Paris Gare de Lyon</td>\n      <td>612B</td>\n      <td>NaN</td>\n      <td>None</td>\n      <td>009228.87_LEX.003:612B</td>\n      <td>87_LEX</td>\n      <td>TGV</td>\n      <td>612B</td>\n      <td>None</td>\n      <td>2</td>\n    </tr>\n    <tr>\n      <th>58804</th>\n      <td>009228.87_LEX.006:612B</td>\n      <td>050544</td>\n      <td>92789:1</td>\n      <td>Paris Gare de Lyon</td>\n      <td>612B</td>\n      <td>NaN</td>\n      <td>None</td>\n      <td>009228.87_LEX.006:612B</td>\n      <td>87_LEX</td>\n      <td>TGV</td>\n      <td>612B</td>\n      <td>None</td>\n      <td>2</td>\n    </tr>\n    <tr>\n      <th>58805</th>\n      <td>009228.87_LEX.007:612B</td>\n      <td>039031</td>\n      <td>92790:1</td>\n      <td>Paris Gare de Lyon</td>\n      <td>612B</td>\n      <td>NaN</td>\n      <td>None</td>\n      <td>009228.87_LEX.007:612B</td>\n      <td>87_LEX</td>\n      <td>TGV</td>\n      <td>612B</td>\n      <td>None</td>\n      <td>2</td>\n    </tr>\n    <tr>\n      <th>58806</th>\n      <td>009232.87_LEX.001:612B</td>\n      <td>020506</td>\n      <td>92792:1</td>\n      <td>Paris Gare de Lyon</td>\n      <td>612B</td>\n      <td>NaN</td>\n      <td>None</td>\n      <td>009232.87_LEX.001:612B</td>\n      <td>87_LEX</td>\n      <td>TGV</td>\n      <td>612B</td>\n      <td>None</td>\n      <td>2</td>\n    </tr>\n  </tbody>\n</table>\n<p>58807 rows × 13 columns</p>\n</div>"
     },
     "execution_count": 8,
     "metadata": {},
     "output_type": "execute_result"
    }
   ],
   "source": [
    "qry = f\"\"\"\n",
    "SELECT\n",
    "    *\n",
    "FROM trips\n",
    "INNER JOIN routes\n",
    "ON trips.route_id = routes.route_id\n",
    "WHERE trip_id IN (\n",
    "    SELECT\n",
    "        trip_id\n",
    "    FROM stop_times\n",
    "    WHERE stop_id IN (\n",
    "        SELECT\n",
    "            stop_id\n",
    "        FROM stops\n",
    "        WHERE stop_name = 'Zürich HB' OR stop_name = 'Bern'\n",
    "    )\n",
    ")\n",
    "\"\"\"\n",
    "trips = connection.execute(qry).fetchdf()\n",
    "trips"
   ],
   "metadata": {
    "collapsed": false,
    "ExecuteTime": {
     "end_time": "2025-01-28T17:51:44.059691100Z",
     "start_time": "2025-01-28T17:51:43.779751800Z"
    }
   }
  },
  {
   "cell_type": "code",
   "execution_count": 9,
   "outputs": [
    {
     "data": {
      "text/plain": "                  route_id service_id  trip_id trip_headsign trip_short_name  \\\n0      030810.000011.104:8     197862  38393:1          Brig               8   \n1      030815.000011.104:8     050839  38414:1     Zürich HB               8   \n2      030828.000011.106:8     043001  38466:1          Brig               8   \n3      030837.000011.106:8     043126  38511:1    Weinfelden               8   \n4      030837.000011.106:8     043127  38511:2    Weinfelden               8   \n...                    ...        ...      ...           ...             ...   \n27188  000807.000011.101:8     003148  3398:15    Romanshorn               8   \n27189  000807.000011.103:8     367211   3400:1    Romanshorn               8   \n27190  000807.000011.103:8     044409   3400:2    Romanshorn               8   \n27191  000807.000011.101:8     003145  3398:13    Romanshorn               8   \n27192  000807.000011.103:8     224175   3400:3    Romanshorn               8   \n\n       direction_id block_id           route_id_1 agency_id route_short_name  \\\n0               NaN     None  030810.000011.104:8    000011              IC8   \n1               NaN     None  030815.000011.104:8    000011              IC8   \n2               NaN     None  030828.000011.106:8    000011              IC8   \n3               NaN     None  030837.000011.106:8    000011              IC8   \n4               NaN     None  030837.000011.106:8    000011              IC8   \n...             ...      ...                  ...       ...              ...   \n27188           NaN     None  000807.000011.101:8    000011              IC8   \n27189           NaN     None  000807.000011.103:8    000011              IC8   \n27190           NaN     None  000807.000011.103:8    000011              IC8   \n27191           NaN     None  000807.000011.101:8    000011              IC8   \n27192           NaN     None  000807.000011.103:8    000011              IC8   \n\n       ... stop_code   stop_name  stop_desc   stop_lat  stop_lon zone_id  \\\n0      ...        BN        Bern       None  46.948832  7.439131     540   \n1      ...        BR        Brig       None  46.319423  7.988095     677   \n2      ...        BN        Bern       None  46.948832  7.439131     540   \n3      ...       ZUE   Zürich HB       None  47.378177  8.540212     407   \n4      ...       ZUE   Zürich HB       None  47.378177  8.540212     407   \n...    ...       ...         ...        ...        ...       ...     ...   \n27188  ...        RH  Romanshorn       None  47.565523  9.379371     398   \n27189  ...        RH  Romanshorn       None  47.565523  9.379371     398   \n27190  ...        RH  Romanshorn       None  47.565523  9.379371     398   \n27191  ...        RH  Romanshorn       None  47.565523  9.379371     398   \n27192  ...        RH  Romanshorn       None  47.565523  9.379371     398   \n\n      stop_url  location_type  parent_station  stop_timezone  \n0         None           None               0        8507000  \n1         None           None               0        8501609  \n2         None           None               0        8507000  \n3         None           None               0        8503000  \n4         None           None               0        8503000  \n...        ...            ...             ...            ...  \n27188     None           None               0        8506121  \n27189     None           None               0        8506121  \n27190     None           None               0        8506121  \n27191     None           None               0        8506121  \n27192     None           None               0        8506121  \n\n[27193 rows x 31 columns]",
      "text/html": "<div>\n<style scoped>\n    .dataframe tbody tr th:only-of-type {\n        vertical-align: middle;\n    }\n\n    .dataframe tbody tr th {\n        vertical-align: top;\n    }\n\n    .dataframe thead th {\n        text-align: right;\n    }\n</style>\n<table border=\"1\" class=\"dataframe\">\n  <thead>\n    <tr style=\"text-align: right;\">\n      <th></th>\n      <th>route_id</th>\n      <th>service_id</th>\n      <th>trip_id</th>\n      <th>trip_headsign</th>\n      <th>trip_short_name</th>\n      <th>direction_id</th>\n      <th>block_id</th>\n      <th>route_id_1</th>\n      <th>agency_id</th>\n      <th>route_short_name</th>\n      <th>...</th>\n      <th>stop_code</th>\n      <th>stop_name</th>\n      <th>stop_desc</th>\n      <th>stop_lat</th>\n      <th>stop_lon</th>\n      <th>zone_id</th>\n      <th>stop_url</th>\n      <th>location_type</th>\n      <th>parent_station</th>\n      <th>stop_timezone</th>\n    </tr>\n  </thead>\n  <tbody>\n    <tr>\n      <th>0</th>\n      <td>030810.000011.104:8</td>\n      <td>197862</td>\n      <td>38393:1</td>\n      <td>Brig</td>\n      <td>8</td>\n      <td>NaN</td>\n      <td>None</td>\n      <td>030810.000011.104:8</td>\n      <td>000011</td>\n      <td>IC8</td>\n      <td>...</td>\n      <td>BN</td>\n      <td>Bern</td>\n      <td>None</td>\n      <td>46.948832</td>\n      <td>7.439131</td>\n      <td>540</td>\n      <td>None</td>\n      <td>None</td>\n      <td>0</td>\n      <td>8507000</td>\n    </tr>\n    <tr>\n      <th>1</th>\n      <td>030815.000011.104:8</td>\n      <td>050839</td>\n      <td>38414:1</td>\n      <td>Zürich HB</td>\n      <td>8</td>\n      <td>NaN</td>\n      <td>None</td>\n      <td>030815.000011.104:8</td>\n      <td>000011</td>\n      <td>IC8</td>\n      <td>...</td>\n      <td>BR</td>\n      <td>Brig</td>\n      <td>None</td>\n      <td>46.319423</td>\n      <td>7.988095</td>\n      <td>677</td>\n      <td>None</td>\n      <td>None</td>\n      <td>0</td>\n      <td>8501609</td>\n    </tr>\n    <tr>\n      <th>2</th>\n      <td>030828.000011.106:8</td>\n      <td>043001</td>\n      <td>38466:1</td>\n      <td>Brig</td>\n      <td>8</td>\n      <td>NaN</td>\n      <td>None</td>\n      <td>030828.000011.106:8</td>\n      <td>000011</td>\n      <td>IC8</td>\n      <td>...</td>\n      <td>BN</td>\n      <td>Bern</td>\n      <td>None</td>\n      <td>46.948832</td>\n      <td>7.439131</td>\n      <td>540</td>\n      <td>None</td>\n      <td>None</td>\n      <td>0</td>\n      <td>8507000</td>\n    </tr>\n    <tr>\n      <th>3</th>\n      <td>030837.000011.106:8</td>\n      <td>043126</td>\n      <td>38511:1</td>\n      <td>Weinfelden</td>\n      <td>8</td>\n      <td>NaN</td>\n      <td>None</td>\n      <td>030837.000011.106:8</td>\n      <td>000011</td>\n      <td>IC8</td>\n      <td>...</td>\n      <td>ZUE</td>\n      <td>Zürich HB</td>\n      <td>None</td>\n      <td>47.378177</td>\n      <td>8.540212</td>\n      <td>407</td>\n      <td>None</td>\n      <td>None</td>\n      <td>0</td>\n      <td>8503000</td>\n    </tr>\n    <tr>\n      <th>4</th>\n      <td>030837.000011.106:8</td>\n      <td>043127</td>\n      <td>38511:2</td>\n      <td>Weinfelden</td>\n      <td>8</td>\n      <td>NaN</td>\n      <td>None</td>\n      <td>030837.000011.106:8</td>\n      <td>000011</td>\n      <td>IC8</td>\n      <td>...</td>\n      <td>ZUE</td>\n      <td>Zürich HB</td>\n      <td>None</td>\n      <td>47.378177</td>\n      <td>8.540212</td>\n      <td>407</td>\n      <td>None</td>\n      <td>None</td>\n      <td>0</td>\n      <td>8503000</td>\n    </tr>\n    <tr>\n      <th>...</th>\n      <td>...</td>\n      <td>...</td>\n      <td>...</td>\n      <td>...</td>\n      <td>...</td>\n      <td>...</td>\n      <td>...</td>\n      <td>...</td>\n      <td>...</td>\n      <td>...</td>\n      <td>...</td>\n      <td>...</td>\n      <td>...</td>\n      <td>...</td>\n      <td>...</td>\n      <td>...</td>\n      <td>...</td>\n      <td>...</td>\n      <td>...</td>\n      <td>...</td>\n      <td>...</td>\n    </tr>\n    <tr>\n      <th>27188</th>\n      <td>000807.000011.101:8</td>\n      <td>003148</td>\n      <td>3398:15</td>\n      <td>Romanshorn</td>\n      <td>8</td>\n      <td>NaN</td>\n      <td>None</td>\n      <td>000807.000011.101:8</td>\n      <td>000011</td>\n      <td>IC8</td>\n      <td>...</td>\n      <td>RH</td>\n      <td>Romanshorn</td>\n      <td>None</td>\n      <td>47.565523</td>\n      <td>9.379371</td>\n      <td>398</td>\n      <td>None</td>\n      <td>None</td>\n      <td>0</td>\n      <td>8506121</td>\n    </tr>\n    <tr>\n      <th>27189</th>\n      <td>000807.000011.103:8</td>\n      <td>367211</td>\n      <td>3400:1</td>\n      <td>Romanshorn</td>\n      <td>8</td>\n      <td>NaN</td>\n      <td>None</td>\n      <td>000807.000011.103:8</td>\n      <td>000011</td>\n      <td>IC8</td>\n      <td>...</td>\n      <td>RH</td>\n      <td>Romanshorn</td>\n      <td>None</td>\n      <td>47.565523</td>\n      <td>9.379371</td>\n      <td>398</td>\n      <td>None</td>\n      <td>None</td>\n      <td>0</td>\n      <td>8506121</td>\n    </tr>\n    <tr>\n      <th>27190</th>\n      <td>000807.000011.103:8</td>\n      <td>044409</td>\n      <td>3400:2</td>\n      <td>Romanshorn</td>\n      <td>8</td>\n      <td>NaN</td>\n      <td>None</td>\n      <td>000807.000011.103:8</td>\n      <td>000011</td>\n      <td>IC8</td>\n      <td>...</td>\n      <td>RH</td>\n      <td>Romanshorn</td>\n      <td>None</td>\n      <td>47.565523</td>\n      <td>9.379371</td>\n      <td>398</td>\n      <td>None</td>\n      <td>None</td>\n      <td>0</td>\n      <td>8506121</td>\n    </tr>\n    <tr>\n      <th>27191</th>\n      <td>000807.000011.101:8</td>\n      <td>003145</td>\n      <td>3398:13</td>\n      <td>Romanshorn</td>\n      <td>8</td>\n      <td>NaN</td>\n      <td>None</td>\n      <td>000807.000011.101:8</td>\n      <td>000011</td>\n      <td>IC8</td>\n      <td>...</td>\n      <td>RH</td>\n      <td>Romanshorn</td>\n      <td>None</td>\n      <td>47.565523</td>\n      <td>9.379371</td>\n      <td>398</td>\n      <td>None</td>\n      <td>None</td>\n      <td>0</td>\n      <td>8506121</td>\n    </tr>\n    <tr>\n      <th>27192</th>\n      <td>000807.000011.103:8</td>\n      <td>224175</td>\n      <td>3400:3</td>\n      <td>Romanshorn</td>\n      <td>8</td>\n      <td>NaN</td>\n      <td>None</td>\n      <td>000807.000011.103:8</td>\n      <td>000011</td>\n      <td>IC8</td>\n      <td>...</td>\n      <td>RH</td>\n      <td>Romanshorn</td>\n      <td>None</td>\n      <td>47.565523</td>\n      <td>9.379371</td>\n      <td>398</td>\n      <td>None</td>\n      <td>None</td>\n      <td>0</td>\n      <td>8506121</td>\n    </tr>\n  </tbody>\n</table>\n<p>27193 rows × 31 columns</p>\n</div>"
     },
     "execution_count": 9,
     "metadata": {},
     "output_type": "execute_result"
    }
   ],
   "source": [
    "# get route and trip iwth route_long_name ICE 8\n",
    "qry = f\"\"\"\n",
    "SELECT\n",
    "    *\n",
    "FROM trips\n",
    "INNER JOIN routes\n",
    "ON trips.route_id = routes.route_id\n",
    "INNER JOIN stop_times\n",
    "ON trips.trip_id = stop_times.trip_id\n",
    "INNER JOIN stops\n",
    "ON stop_times.stop_id = stops.stop_id\n",
    "WHERE route_long_name = 'IC 8' or route_long_name = 'IC 6'\n",
    "ORDER BY stop_times.stop_sequence\n",
    "\"\"\"\n",
    "trips = connection.execute(qry).fetchdf()\n",
    "trips\n",
    "\n",
    "\n"
   ],
   "metadata": {
    "collapsed": false,
    "ExecuteTime": {
     "end_time": "2025-01-28T17:51:44.244038600Z",
     "start_time": "2025-01-28T17:51:43.977040400Z"
    }
   }
  },
  {
   "cell_type": "code",
   "execution_count": 10,
   "outputs": [
    {
     "data": {
      "text/plain": "      stop_id stop_code               stop_name stop_desc   stop_lat  \\\n0  8503000:10       ZUE               Zürich HB      None  47.378177   \n1   8502113:4        AA                   Aarau      None  47.391360   \n2   8500218:8        OL                   Olten      None  47.351935   \n3     0000132      None       Bahn-2000-Strecke      None  47.196374   \n4   8507000:7        BN                    Bern      None  46.948832   \n5   8507100:2        TH                    Thun      None  46.754853   \n6   8507483:3        SP                   Spiez      None  46.686396   \n7     0000135      None  Lötschberg-Basistunnel      None  46.356888   \n8   8501605:7        VI                    Visp      None  46.294029   \n9   8501609:3        BR                    Brig      None  46.319423   \n\n   stop_lon zone_id stop_url location_type parent_station  ... trip_headsign  \\\n0  8.540212     407     None          None              0  ...          Brig   \n1  8.051274     383     None          None              0  ...          Brig   \n2  7.907700     396     None          None              0  ...          Brig   \n3  7.689360       0     None          None              0  ...          Brig   \n4  7.439131     540     None          None              0  ...          Brig   \n5  7.629606     559     None          None              0  ...          Brig   \n6  7.680103     627     None          None              0  ...          Brig   \n7  7.773846       0     None          None              0  ...          Brig   \n8  7.881465     650     None          None              0  ...          Brig   \n9  7.988095     677     None          None              0  ...          Brig   \n\n  trip_short_name direction_id block_id           route_id_1  agency_id  \\\n0               8          NaN     None  010806.000011.105:8     000011   \n1               8          NaN     None  010806.000011.105:8     000011   \n2               8          NaN     None  010806.000011.105:8     000011   \n3               8          NaN     None  010806.000011.105:8     000011   \n4               8          NaN     None  010806.000011.105:8     000011   \n5               8          NaN     None  010806.000011.105:8     000011   \n6               8          NaN     None  010806.000011.105:8     000011   \n7               8          NaN     None  010806.000011.105:8     000011   \n8               8          NaN     None  010806.000011.105:8     000011   \n9               8          NaN     None  010806.000011.105:8     000011   \n\n   route_short_name  route_long_name route_desc route_type  \n0               IC8             IC 8       None          2  \n1               IC8             IC 8       None          2  \n2               IC8             IC 8       None          2  \n3               IC8             IC 8       None          2  \n4               IC8             IC 8       None          2  \n5               IC8             IC 8       None          2  \n6               IC8             IC 8       None          2  \n7               IC8             IC 8       None          2  \n8               IC8             IC 8       None          2  \n9               IC8             IC 8       None          2  \n\n[10 rows x 31 columns]",
      "text/html": "<div>\n<style scoped>\n    .dataframe tbody tr th:only-of-type {\n        vertical-align: middle;\n    }\n\n    .dataframe tbody tr th {\n        vertical-align: top;\n    }\n\n    .dataframe thead th {\n        text-align: right;\n    }\n</style>\n<table border=\"1\" class=\"dataframe\">\n  <thead>\n    <tr style=\"text-align: right;\">\n      <th></th>\n      <th>stop_id</th>\n      <th>stop_code</th>\n      <th>stop_name</th>\n      <th>stop_desc</th>\n      <th>stop_lat</th>\n      <th>stop_lon</th>\n      <th>zone_id</th>\n      <th>stop_url</th>\n      <th>location_type</th>\n      <th>parent_station</th>\n      <th>...</th>\n      <th>trip_headsign</th>\n      <th>trip_short_name</th>\n      <th>direction_id</th>\n      <th>block_id</th>\n      <th>route_id_1</th>\n      <th>agency_id</th>\n      <th>route_short_name</th>\n      <th>route_long_name</th>\n      <th>route_desc</th>\n      <th>route_type</th>\n    </tr>\n  </thead>\n  <tbody>\n    <tr>\n      <th>0</th>\n      <td>8503000:10</td>\n      <td>ZUE</td>\n      <td>Zürich HB</td>\n      <td>None</td>\n      <td>47.378177</td>\n      <td>8.540212</td>\n      <td>407</td>\n      <td>None</td>\n      <td>None</td>\n      <td>0</td>\n      <td>...</td>\n      <td>Brig</td>\n      <td>8</td>\n      <td>NaN</td>\n      <td>None</td>\n      <td>010806.000011.105:8</td>\n      <td>000011</td>\n      <td>IC8</td>\n      <td>IC 8</td>\n      <td>None</td>\n      <td>2</td>\n    </tr>\n    <tr>\n      <th>1</th>\n      <td>8502113:4</td>\n      <td>AA</td>\n      <td>Aarau</td>\n      <td>None</td>\n      <td>47.391360</td>\n      <td>8.051274</td>\n      <td>383</td>\n      <td>None</td>\n      <td>None</td>\n      <td>0</td>\n      <td>...</td>\n      <td>Brig</td>\n      <td>8</td>\n      <td>NaN</td>\n      <td>None</td>\n      <td>010806.000011.105:8</td>\n      <td>000011</td>\n      <td>IC8</td>\n      <td>IC 8</td>\n      <td>None</td>\n      <td>2</td>\n    </tr>\n    <tr>\n      <th>2</th>\n      <td>8500218:8</td>\n      <td>OL</td>\n      <td>Olten</td>\n      <td>None</td>\n      <td>47.351935</td>\n      <td>7.907700</td>\n      <td>396</td>\n      <td>None</td>\n      <td>None</td>\n      <td>0</td>\n      <td>...</td>\n      <td>Brig</td>\n      <td>8</td>\n      <td>NaN</td>\n      <td>None</td>\n      <td>010806.000011.105:8</td>\n      <td>000011</td>\n      <td>IC8</td>\n      <td>IC 8</td>\n      <td>None</td>\n      <td>2</td>\n    </tr>\n    <tr>\n      <th>3</th>\n      <td>0000132</td>\n      <td>None</td>\n      <td>Bahn-2000-Strecke</td>\n      <td>None</td>\n      <td>47.196374</td>\n      <td>7.689360</td>\n      <td>0</td>\n      <td>None</td>\n      <td>None</td>\n      <td>0</td>\n      <td>...</td>\n      <td>Brig</td>\n      <td>8</td>\n      <td>NaN</td>\n      <td>None</td>\n      <td>010806.000011.105:8</td>\n      <td>000011</td>\n      <td>IC8</td>\n      <td>IC 8</td>\n      <td>None</td>\n      <td>2</td>\n    </tr>\n    <tr>\n      <th>4</th>\n      <td>8507000:7</td>\n      <td>BN</td>\n      <td>Bern</td>\n      <td>None</td>\n      <td>46.948832</td>\n      <td>7.439131</td>\n      <td>540</td>\n      <td>None</td>\n      <td>None</td>\n      <td>0</td>\n      <td>...</td>\n      <td>Brig</td>\n      <td>8</td>\n      <td>NaN</td>\n      <td>None</td>\n      <td>010806.000011.105:8</td>\n      <td>000011</td>\n      <td>IC8</td>\n      <td>IC 8</td>\n      <td>None</td>\n      <td>2</td>\n    </tr>\n    <tr>\n      <th>5</th>\n      <td>8507100:2</td>\n      <td>TH</td>\n      <td>Thun</td>\n      <td>None</td>\n      <td>46.754853</td>\n      <td>7.629606</td>\n      <td>559</td>\n      <td>None</td>\n      <td>None</td>\n      <td>0</td>\n      <td>...</td>\n      <td>Brig</td>\n      <td>8</td>\n      <td>NaN</td>\n      <td>None</td>\n      <td>010806.000011.105:8</td>\n      <td>000011</td>\n      <td>IC8</td>\n      <td>IC 8</td>\n      <td>None</td>\n      <td>2</td>\n    </tr>\n    <tr>\n      <th>6</th>\n      <td>8507483:3</td>\n      <td>SP</td>\n      <td>Spiez</td>\n      <td>None</td>\n      <td>46.686396</td>\n      <td>7.680103</td>\n      <td>627</td>\n      <td>None</td>\n      <td>None</td>\n      <td>0</td>\n      <td>...</td>\n      <td>Brig</td>\n      <td>8</td>\n      <td>NaN</td>\n      <td>None</td>\n      <td>010806.000011.105:8</td>\n      <td>000011</td>\n      <td>IC8</td>\n      <td>IC 8</td>\n      <td>None</td>\n      <td>2</td>\n    </tr>\n    <tr>\n      <th>7</th>\n      <td>0000135</td>\n      <td>None</td>\n      <td>Lötschberg-Basistunnel</td>\n      <td>None</td>\n      <td>46.356888</td>\n      <td>7.773846</td>\n      <td>0</td>\n      <td>None</td>\n      <td>None</td>\n      <td>0</td>\n      <td>...</td>\n      <td>Brig</td>\n      <td>8</td>\n      <td>NaN</td>\n      <td>None</td>\n      <td>010806.000011.105:8</td>\n      <td>000011</td>\n      <td>IC8</td>\n      <td>IC 8</td>\n      <td>None</td>\n      <td>2</td>\n    </tr>\n    <tr>\n      <th>8</th>\n      <td>8501605:7</td>\n      <td>VI</td>\n      <td>Visp</td>\n      <td>None</td>\n      <td>46.294029</td>\n      <td>7.881465</td>\n      <td>650</td>\n      <td>None</td>\n      <td>None</td>\n      <td>0</td>\n      <td>...</td>\n      <td>Brig</td>\n      <td>8</td>\n      <td>NaN</td>\n      <td>None</td>\n      <td>010806.000011.105:8</td>\n      <td>000011</td>\n      <td>IC8</td>\n      <td>IC 8</td>\n      <td>None</td>\n      <td>2</td>\n    </tr>\n    <tr>\n      <th>9</th>\n      <td>8501609:3</td>\n      <td>BR</td>\n      <td>Brig</td>\n      <td>None</td>\n      <td>46.319423</td>\n      <td>7.988095</td>\n      <td>677</td>\n      <td>None</td>\n      <td>None</td>\n      <td>0</td>\n      <td>...</td>\n      <td>Brig</td>\n      <td>8</td>\n      <td>NaN</td>\n      <td>None</td>\n      <td>010806.000011.105:8</td>\n      <td>000011</td>\n      <td>IC8</td>\n      <td>IC 8</td>\n      <td>None</td>\n      <td>2</td>\n    </tr>\n  </tbody>\n</table>\n<p>10 rows × 31 columns</p>\n</div>"
     },
     "execution_count": 10,
     "metadata": {},
     "output_type": "execute_result"
    }
   ],
   "source": [
    "# Get all stops for the route ICE 8\n",
    "qry = f\"\"\"\n",
    "SELECT\n",
    "    *\n",
    "FROM stops\n",
    "INNER JOIN stop_times\n",
    "ON stops.stop_id = stop_times.stop_id\n",
    "INNER JOIN trips\n",
    "ON stop_times.trip_id = trips.trip_id\n",
    "INNER JOIN routes\n",
    "ON trips.route_id = routes.route_id\n",
    "WHERE route_long_name = 'IC 8' AND trip_headsign = 'Brig' AND trips.trip_id='15643:1'\n",
    "ORDER BY stop_sequence\n",
    "\"\"\"\n",
    "stops_IC8 = connection.execute(qry).fetchdf()\n",
    "stops_IC8"
   ],
   "metadata": {
    "collapsed": false,
    "ExecuteTime": {
     "end_time": "2025-01-28T17:51:44.244038600Z",
     "start_time": "2025-01-28T17:51:44.186797800Z"
    }
   }
  },
  {
   "cell_type": "code",
   "execution_count": 11,
   "outputs": [
    {
     "data": {
      "text/plain": "      stop_id stop_code               stop_name stop_desc   stop_lat  \\\n0   8500010:9        BS               Basel SBB      None  47.547412   \n1   8500023:2       LST                 Liestal      None  47.484461   \n2  8500218:11        OL                   Olten      None  47.351935   \n3     0000132      None       Bahn-2000-Strecke      None  47.196374   \n4   8507000:7        BN                    Bern      None  46.948832   \n5   8507100:2        TH                    Thun      None  46.754853   \n6   8507483:3        SP                   Spiez      None  46.686396   \n7     0000135      None  Lötschberg-Basistunnel      None  46.356888   \n8   8501605:7        VI                    Visp      None  46.294029   \n9   8501609:3        BR                    Brig      None  46.319423   \n\n   stop_lon zone_id stop_url location_type parent_station  ... trip_headsign  \\\n0  7.589563     276     None          None              0  ...          Brig   \n1  7.731367     327     None          None              0  ...          Brig   \n2  7.907700     396     None          None              0  ...          Brig   \n3  7.689360       0     None          None              0  ...          Brig   \n4  7.439131     540     None          None              0  ...          Brig   \n5  7.629606     559     None          None              0  ...          Brig   \n6  7.680103     627     None          None              0  ...          Brig   \n7  7.773846       0     None          None              0  ...          Brig   \n8  7.881465     650     None          None              0  ...          Brig   \n9  7.988095     677     None          None              0  ...          Brig   \n\n  trip_short_name direction_id block_id           route_id_1  agency_id  \\\n0               6          NaN     None  000961.000011.107:6     000011   \n1               6          NaN     None  000961.000011.107:6     000011   \n2               6          NaN     None  000961.000011.107:6     000011   \n3               6          NaN     None  000961.000011.107:6     000011   \n4               6          NaN     None  000961.000011.107:6     000011   \n5               6          NaN     None  000961.000011.107:6     000011   \n6               6          NaN     None  000961.000011.107:6     000011   \n7               6          NaN     None  000961.000011.107:6     000011   \n8               6          NaN     None  000961.000011.107:6     000011   \n9               6          NaN     None  000961.000011.107:6     000011   \n\n   route_short_name  route_long_name route_desc route_type  \n0               IC6             IC 6       None          2  \n1               IC6             IC 6       None          2  \n2               IC6             IC 6       None          2  \n3               IC6             IC 6       None          2  \n4               IC6             IC 6       None          2  \n5               IC6             IC 6       None          2  \n6               IC6             IC 6       None          2  \n7               IC6             IC 6       None          2  \n8               IC6             IC 6       None          2  \n9               IC6             IC 6       None          2  \n\n[10 rows x 31 columns]",
      "text/html": "<div>\n<style scoped>\n    .dataframe tbody tr th:only-of-type {\n        vertical-align: middle;\n    }\n\n    .dataframe tbody tr th {\n        vertical-align: top;\n    }\n\n    .dataframe thead th {\n        text-align: right;\n    }\n</style>\n<table border=\"1\" class=\"dataframe\">\n  <thead>\n    <tr style=\"text-align: right;\">\n      <th></th>\n      <th>stop_id</th>\n      <th>stop_code</th>\n      <th>stop_name</th>\n      <th>stop_desc</th>\n      <th>stop_lat</th>\n      <th>stop_lon</th>\n      <th>zone_id</th>\n      <th>stop_url</th>\n      <th>location_type</th>\n      <th>parent_station</th>\n      <th>...</th>\n      <th>trip_headsign</th>\n      <th>trip_short_name</th>\n      <th>direction_id</th>\n      <th>block_id</th>\n      <th>route_id_1</th>\n      <th>agency_id</th>\n      <th>route_short_name</th>\n      <th>route_long_name</th>\n      <th>route_desc</th>\n      <th>route_type</th>\n    </tr>\n  </thead>\n  <tbody>\n    <tr>\n      <th>0</th>\n      <td>8500010:9</td>\n      <td>BS</td>\n      <td>Basel SBB</td>\n      <td>None</td>\n      <td>47.547412</td>\n      <td>7.589563</td>\n      <td>276</td>\n      <td>None</td>\n      <td>None</td>\n      <td>0</td>\n      <td>...</td>\n      <td>Brig</td>\n      <td>6</td>\n      <td>NaN</td>\n      <td>None</td>\n      <td>000961.000011.107:6</td>\n      <td>000011</td>\n      <td>IC6</td>\n      <td>IC 6</td>\n      <td>None</td>\n      <td>2</td>\n    </tr>\n    <tr>\n      <th>1</th>\n      <td>8500023:2</td>\n      <td>LST</td>\n      <td>Liestal</td>\n      <td>None</td>\n      <td>47.484461</td>\n      <td>7.731367</td>\n      <td>327</td>\n      <td>None</td>\n      <td>None</td>\n      <td>0</td>\n      <td>...</td>\n      <td>Brig</td>\n      <td>6</td>\n      <td>NaN</td>\n      <td>None</td>\n      <td>000961.000011.107:6</td>\n      <td>000011</td>\n      <td>IC6</td>\n      <td>IC 6</td>\n      <td>None</td>\n      <td>2</td>\n    </tr>\n    <tr>\n      <th>2</th>\n      <td>8500218:11</td>\n      <td>OL</td>\n      <td>Olten</td>\n      <td>None</td>\n      <td>47.351935</td>\n      <td>7.907700</td>\n      <td>396</td>\n      <td>None</td>\n      <td>None</td>\n      <td>0</td>\n      <td>...</td>\n      <td>Brig</td>\n      <td>6</td>\n      <td>NaN</td>\n      <td>None</td>\n      <td>000961.000011.107:6</td>\n      <td>000011</td>\n      <td>IC6</td>\n      <td>IC 6</td>\n      <td>None</td>\n      <td>2</td>\n    </tr>\n    <tr>\n      <th>3</th>\n      <td>0000132</td>\n      <td>None</td>\n      <td>Bahn-2000-Strecke</td>\n      <td>None</td>\n      <td>47.196374</td>\n      <td>7.689360</td>\n      <td>0</td>\n      <td>None</td>\n      <td>None</td>\n      <td>0</td>\n      <td>...</td>\n      <td>Brig</td>\n      <td>6</td>\n      <td>NaN</td>\n      <td>None</td>\n      <td>000961.000011.107:6</td>\n      <td>000011</td>\n      <td>IC6</td>\n      <td>IC 6</td>\n      <td>None</td>\n      <td>2</td>\n    </tr>\n    <tr>\n      <th>4</th>\n      <td>8507000:7</td>\n      <td>BN</td>\n      <td>Bern</td>\n      <td>None</td>\n      <td>46.948832</td>\n      <td>7.439131</td>\n      <td>540</td>\n      <td>None</td>\n      <td>None</td>\n      <td>0</td>\n      <td>...</td>\n      <td>Brig</td>\n      <td>6</td>\n      <td>NaN</td>\n      <td>None</td>\n      <td>000961.000011.107:6</td>\n      <td>000011</td>\n      <td>IC6</td>\n      <td>IC 6</td>\n      <td>None</td>\n      <td>2</td>\n    </tr>\n    <tr>\n      <th>5</th>\n      <td>8507100:2</td>\n      <td>TH</td>\n      <td>Thun</td>\n      <td>None</td>\n      <td>46.754853</td>\n      <td>7.629606</td>\n      <td>559</td>\n      <td>None</td>\n      <td>None</td>\n      <td>0</td>\n      <td>...</td>\n      <td>Brig</td>\n      <td>6</td>\n      <td>NaN</td>\n      <td>None</td>\n      <td>000961.000011.107:6</td>\n      <td>000011</td>\n      <td>IC6</td>\n      <td>IC 6</td>\n      <td>None</td>\n      <td>2</td>\n    </tr>\n    <tr>\n      <th>6</th>\n      <td>8507483:3</td>\n      <td>SP</td>\n      <td>Spiez</td>\n      <td>None</td>\n      <td>46.686396</td>\n      <td>7.680103</td>\n      <td>627</td>\n      <td>None</td>\n      <td>None</td>\n      <td>0</td>\n      <td>...</td>\n      <td>Brig</td>\n      <td>6</td>\n      <td>NaN</td>\n      <td>None</td>\n      <td>000961.000011.107:6</td>\n      <td>000011</td>\n      <td>IC6</td>\n      <td>IC 6</td>\n      <td>None</td>\n      <td>2</td>\n    </tr>\n    <tr>\n      <th>7</th>\n      <td>0000135</td>\n      <td>None</td>\n      <td>Lötschberg-Basistunnel</td>\n      <td>None</td>\n      <td>46.356888</td>\n      <td>7.773846</td>\n      <td>0</td>\n      <td>None</td>\n      <td>None</td>\n      <td>0</td>\n      <td>...</td>\n      <td>Brig</td>\n      <td>6</td>\n      <td>NaN</td>\n      <td>None</td>\n      <td>000961.000011.107:6</td>\n      <td>000011</td>\n      <td>IC6</td>\n      <td>IC 6</td>\n      <td>None</td>\n      <td>2</td>\n    </tr>\n    <tr>\n      <th>8</th>\n      <td>8501605:7</td>\n      <td>VI</td>\n      <td>Visp</td>\n      <td>None</td>\n      <td>46.294029</td>\n      <td>7.881465</td>\n      <td>650</td>\n      <td>None</td>\n      <td>None</td>\n      <td>0</td>\n      <td>...</td>\n      <td>Brig</td>\n      <td>6</td>\n      <td>NaN</td>\n      <td>None</td>\n      <td>000961.000011.107:6</td>\n      <td>000011</td>\n      <td>IC6</td>\n      <td>IC 6</td>\n      <td>None</td>\n      <td>2</td>\n    </tr>\n    <tr>\n      <th>9</th>\n      <td>8501609:3</td>\n      <td>BR</td>\n      <td>Brig</td>\n      <td>None</td>\n      <td>46.319423</td>\n      <td>7.988095</td>\n      <td>677</td>\n      <td>None</td>\n      <td>None</td>\n      <td>0</td>\n      <td>...</td>\n      <td>Brig</td>\n      <td>6</td>\n      <td>NaN</td>\n      <td>None</td>\n      <td>000961.000011.107:6</td>\n      <td>000011</td>\n      <td>IC6</td>\n      <td>IC 6</td>\n      <td>None</td>\n      <td>2</td>\n    </tr>\n  </tbody>\n</table>\n<p>10 rows × 31 columns</p>\n</div>"
     },
     "execution_count": 11,
     "metadata": {},
     "output_type": "execute_result"
    }
   ],
   "source": [
    "# Get all stops for the route ICE 6\n",
    "qry = f\"\"\"\n",
    "SELECT\n",
    "    *\n",
    "FROM stops\n",
    "INNER JOIN stop_times\n",
    "ON stops.stop_id = stop_times.stop_id\n",
    "INNER JOIN trips\n",
    "ON stop_times.trip_id = trips.trip_id\n",
    "INNER JOIN routes\n",
    "ON trips.route_id = routes.route_id\n",
    "WHERE route_long_name = 'IC 6' AND trip_headsign = 'Brig' AND trips.trip_id='4008:1'\n",
    "ORDER BY stop_sequence\n",
    "\"\"\"\n",
    "stops_IC6 = connection.execute(qry).fetchdf()\n",
    "stops_IC6"
   ],
   "metadata": {
    "collapsed": false,
    "ExecuteTime": {
     "end_time": "2025-01-28T17:51:44.323533100Z",
     "start_time": "2025-01-28T17:51:44.219390700Z"
    }
   }
  },
  {
   "cell_type": "code",
   "execution_count": 12,
   "outputs": [],
   "source": [
    "# Function that converts timestamp to minutes\n",
    "def convert_string_timestamp_to_minutes(timestamp):\n",
    "    if timestamp is None:\n",
    "        return None\n",
    "    print(timestamp)\n",
    "    time = timestamp.split(\":\")\n",
    "    return int(time[0])*60 + int(time[1])"
   ],
   "metadata": {
    "collapsed": false,
    "ExecuteTime": {
     "end_time": "2025-01-28T17:51:44.386687500Z",
     "start_time": "2025-01-28T17:51:44.255853500Z"
    }
   }
  },
  {
   "cell_type": "code",
   "execution_count": 13,
   "outputs": [],
   "source": [
    "# Convert the structure into the following:\n",
    "# \"stop_code\": [(departure_time, \"stop_code\", arrival_time,\"route_short_name\")]\n",
    "\n",
    "def create_graph_list_structure(s):\n",
    "    stops = s.copy()\n",
    "    # Remove rows that have a stop code of None\n",
    "    stops = stops[stops[\"stop_code\"].notnull()]\n",
    "    stops = stops.reset_index(drop=True)\n",
    "    stops[\"stop_sequence\"] = stops.index # to know the order of the stops\n",
    "    # loop through the stops and create the structure\n",
    "    stops_dict = {}\n",
    "    for i in range(len(stops)):\n",
    "        stop = stops.iloc[i]\n",
    "        # get the next stop -> meaning (stop_sequence of current stop + 1)\n",
    "        next_stop = stops[stops[\"stop_sequence\"] == stop[\"stop_sequence\"] + 1]\n",
    "        if len(next_stop) == 0:\n",
    "            continue\n",
    "        stop_name = stop[\"stop_name\"]\n",
    "        next_stop_name = next_stop[\"stop_name\"].values[0]\n",
    "        if next_stop_name not in stops_dict:\n",
    "            stops_dict[next_stop_name] = []\n",
    "        departure_time = convert_string_timestamp_to_minutes(stop[\"departure_time\"])\n",
    "        # use the arrival time of the next stop\n",
    "        arrival_time = convert_string_timestamp_to_minutes(next_stop[\"arrival_time\"].values[0])\n",
    "        route_short_name = stop[\"route_short_name\"]\n",
    "        if stop_name not in stops_dict:\n",
    "            stops_dict[stop_name] = [(departure_time, next_stop_name, arrival_time, route_short_name)]\n",
    "        else:\n",
    "            stops_dict[stop_name].append((departure_time, next_stop_name, arrival_time, route_short_name))\n",
    "\n",
    "    # delete entry with None stop_code\n",
    "    if None in stops_dict:\n",
    "        del stops_dict[None]\n",
    "    return stops_dict\n"
   ],
   "metadata": {
    "collapsed": false,
    "ExecuteTime": {
     "end_time": "2025-01-28T17:51:44.460077Z",
     "start_time": "2025-01-28T17:51:44.259876500Z"
    }
   }
  },
  {
   "cell_type": "code",
   "execution_count": 14,
   "outputs": [
    {
     "name": "stdout",
     "output_type": "stream",
     "text": [
      "06:44:00\n",
      "07:16:00\n",
      "07:18:00\n",
      "07:27:00\n",
      "07:31:00\n",
      "07:58:00\n",
      "08:07:00\n",
      "08:25:00\n",
      "08:26:00\n",
      "08:36:00\n",
      "08:36:00\n",
      "09:02:00\n",
      "09:03:00\n",
      "09:11:00\n",
      "07:55:00\n",
      "08:06:00\n",
      "08:07:00\n",
      "08:25:00\n",
      "08:29:00\n",
      "08:56:00\n",
      "09:07:00\n",
      "09:25:00\n",
      "09:26:00\n",
      "09:36:00\n",
      "09:36:00\n",
      "10:02:00\n",
      "10:03:00\n",
      "10:11:00\n"
     ]
    },
    {
     "data": {
      "text/plain": "{'Liestal': [(487, 'Olten', 505, 'IC6')],\n 'Basel SBB': [(475, 'Liestal', 486, 'IC6')],\n 'Olten': [(509, 'Bern', 536, 'IC6'), (451, 'Bern', 478, 'IC8')],\n 'Bern': [(547, 'Thun', 565, 'IC6'), (487, 'Thun', 505, 'IC8')],\n 'Thun': [(566, 'Spiez', 576, 'IC6'), (506, 'Spiez', 516, 'IC8')],\n 'Spiez': [(576, 'Visp', 602, 'IC6'), (516, 'Visp', 542, 'IC8')],\n 'Visp': [(603, 'Brig', 611, 'IC6'), (543, 'Brig', 551, 'IC8')],\n 'Brig': [],\n 'Aarau': [(438, 'Olten', 447, 'IC8')],\n 'Zürich HB': [(404, 'Aarau', 436, 'IC8')]}"
     },
     "execution_count": 14,
     "metadata": {},
     "output_type": "execute_result"
    }
   ],
   "source": [
    "\n",
    "# stops_IC8\n",
    "stops_IC8_dict = create_graph_list_structure(stops_IC8)\n",
    "stops_IC6_dict = create_graph_list_structure(stops_IC6)\n",
    "\n",
    "# combine the two dictionaries\n",
    "# loop through the stops_IC6_dict and add to stops_IC8_dict\n",
    "stops_all_dict = {}\n",
    "for key, value in stops_IC6_dict.items():\n",
    "    if key in stops_all_dict:\n",
    "        stops_all_dict[key] += value\n",
    "    else:\n",
    "        stops_all_dict[key] = value\n",
    "\n",
    "for key, value in stops_IC8_dict.items():\n",
    "    if key in stops_all_dict:\n",
    "        stops_all_dict[key] += value\n",
    "    else:\n",
    "        stops_all_dict[key] = value\n",
    "\n",
    "\n",
    "stops_all_dict\n"
   ],
   "metadata": {
    "collapsed": false,
    "ExecuteTime": {
     "end_time": "2025-01-28T17:51:44.481723800Z",
     "start_time": "2025-01-28T17:51:44.265942200Z"
    }
   }
  },
  {
   "cell_type": "code",
   "execution_count": 15,
   "outputs": [
    {
     "data": {
      "text/plain": "[{'stop_name': 'Zürich HB', 'stop_lat': 47.378177, 'stop_lon': 8.540212},\n {'stop_name': 'Aarau', 'stop_lat': 47.39136, 'stop_lon': 8.051274},\n {'stop_name': 'Olten', 'stop_lat': 47.351935, 'stop_lon': 7.9077},\n {'stop_name': 'Bern', 'stop_lat': 46.948832, 'stop_lon': 7.439131},\n {'stop_name': 'Thun', 'stop_lat': 46.754853, 'stop_lon': 7.629606},\n {'stop_name': 'Spiez', 'stop_lat': 46.686396, 'stop_lon': 7.680103},\n {'stop_name': 'Visp', 'stop_lat': 46.294029, 'stop_lon': 7.881465},\n {'stop_name': 'Brig', 'stop_lat': 46.319423, 'stop_lon': 7.988095},\n {'stop_name': 'Basel SBB', 'stop_lat': 47.547412, 'stop_lon': 7.589563},\n {'stop_name': 'Liestal', 'stop_lat': 47.484461, 'stop_lon': 7.731367}]"
     },
     "execution_count": 15,
     "metadata": {},
     "output_type": "execute_result"
    }
   ],
   "source": [
    "# combine stops_IC8 and stops_IC6\n",
    "stops_IC8_IC6 = pd.concat([stops_IC8, stops_IC6])\n",
    "# remove rows with stop_code = None\n",
    "stops_IC8_IC6 = stops_IC8_IC6[stops_IC8_IC6[\"stop_code\"].notnull()]\n",
    "# create list of stops with stop_name, stop_lat, stop_lon\n",
    "stops_IC8_IC6 = stops_IC8_IC6[[\"stop_name\", \"stop_lat\", \"stop_lon\"]].drop_duplicates()\n",
    "stops_IC8_IC6 = stops_IC8_IC6.reset_index(drop=True)\n",
    "stops_IC8_IC6_records = stops_IC8_IC6.to_dict(orient=\"records\")\n",
    "stops_IC8_IC6_records"
   ],
   "metadata": {
    "collapsed": false,
    "ExecuteTime": {
     "end_time": "2025-01-28T17:51:44.529180600Z",
     "start_time": "2025-01-28T17:51:44.283767400Z"
    }
   }
  },
  {
   "cell_type": "code",
   "execution_count": 15,
   "outputs": [],
   "source": [],
   "metadata": {
    "collapsed": false,
    "ExecuteTime": {
     "end_time": "2025-01-28T17:51:44.529180600Z",
     "start_time": "2025-01-28T17:51:44.300384900Z"
    }
   }
  }
 ],
 "metadata": {
  "kernelspec": {
   "display_name": "Python 3",
   "language": "python",
   "name": "python3"
  },
  "language_info": {
   "codemirror_mode": {
    "name": "ipython",
    "version": 2
   },
   "file_extension": ".py",
   "mimetype": "text/x-python",
   "name": "python",
   "nbconvert_exporter": "python",
   "pygments_lexer": "ipython2",
   "version": "2.7.6"
  }
 },
 "nbformat": 4,
 "nbformat_minor": 0
}
