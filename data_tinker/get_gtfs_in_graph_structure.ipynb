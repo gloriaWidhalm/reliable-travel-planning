{
 "cells": [
  {
   "cell_type": "code",
   "execution_count": 1,
   "metadata": {
    "collapsed": true,
    "ExecuteTime": {
     "end_time": "2024-11-28T23:09:53.297141700Z",
     "start_time": "2024-11-28T23:09:52.860814500Z"
    }
   },
   "outputs": [],
   "source": [
    "import duckdb\n",
    "import pandas as pd\n",
    "\n",
    "# Connect to the database\n",
    "connection = duckdb.connect(\"../data/gtfs_train.db\", read_only=False)"
   ]
  },
  {
   "cell_type": "code",
   "execution_count": 13,
   "outputs": [
    {
     "data": {
      "text/plain": "Empty DataFrame\nColumns: [route_id, service_id, trip_id, trip_headsign, trip_short_name, direction_id, block_id, route_id_1, agency_id, route_short_name, route_long_name, route_desc, route_type, agency_id_1, agency_name, agency_url, agency_timezone, agency_lang, agency_phone, service_id_1, monday, tuesday, wednesday, thursday, friday, saturday, sunday, start_date, end_date, trip_id_1, arrival_time, departure_time, stop_id, stop_sequence, pickup_type, drop_off_type, stop_id_1, stop_name, stop_lat, stop_lon, location_type, parent_station]\nIndex: []\n\n[0 rows x 42 columns]",
      "text/html": "<div>\n<style scoped>\n    .dataframe tbody tr th:only-of-type {\n        vertical-align: middle;\n    }\n\n    .dataframe tbody tr th {\n        vertical-align: top;\n    }\n\n    .dataframe thead th {\n        text-align: right;\n    }\n</style>\n<table border=\"1\" class=\"dataframe\">\n  <thead>\n    <tr style=\"text-align: right;\">\n      <th></th>\n      <th>route_id</th>\n      <th>service_id</th>\n      <th>trip_id</th>\n      <th>trip_headsign</th>\n      <th>trip_short_name</th>\n      <th>direction_id</th>\n      <th>block_id</th>\n      <th>route_id_1</th>\n      <th>agency_id</th>\n      <th>route_short_name</th>\n      <th>...</th>\n      <th>stop_id</th>\n      <th>stop_sequence</th>\n      <th>pickup_type</th>\n      <th>drop_off_type</th>\n      <th>stop_id_1</th>\n      <th>stop_name</th>\n      <th>stop_lat</th>\n      <th>stop_lon</th>\n      <th>location_type</th>\n      <th>parent_station</th>\n    </tr>\n  </thead>\n  <tbody>\n  </tbody>\n</table>\n<p>0 rows × 42 columns</p>\n</div>"
     },
     "execution_count": 13,
     "metadata": {},
     "output_type": "execute_result"
    }
   ],
   "source": [],
   "metadata": {
    "collapsed": false,
    "ExecuteTime": {
     "end_time": "2024-11-27T15:02:46.086268600Z",
     "start_time": "2024-11-27T15:02:45.957093600Z"
    }
   }
  },
  {
   "cell_type": "code",
   "execution_count": 17,
   "outputs": [
    {
     "data": {
      "text/plain": "   stop_id stop_code               stop_name stop_desc   stop_lat  stop_lon  \\\n0  0000132      None       Bahn-2000-Strecke      None  47.196374  7.689360   \n1  0000133      None              Centovalli      None  46.154371  8.603653   \n2  0000134      None       Furka-Basistunnel      None  46.530761  8.435917   \n3  0000135      None  Lötschberg-Basistunnel      None  46.356888  7.773846   \n4  0000136      None  Lötschberg-Bergstrecke      None  46.433756  7.717215   \n\n  zone_id stop_url location_type parent_station stop_timezone  \n0       0     None          None              0          None  \n1       0     None          None              0          None  \n2       0     None          None              0          None  \n3       0     None          None              0          None  \n4       0     None          None              0          None  ",
      "text/html": "<div>\n<style scoped>\n    .dataframe tbody tr th:only-of-type {\n        vertical-align: middle;\n    }\n\n    .dataframe tbody tr th {\n        vertical-align: top;\n    }\n\n    .dataframe thead th {\n        text-align: right;\n    }\n</style>\n<table border=\"1\" class=\"dataframe\">\n  <thead>\n    <tr style=\"text-align: right;\">\n      <th></th>\n      <th>stop_id</th>\n      <th>stop_code</th>\n      <th>stop_name</th>\n      <th>stop_desc</th>\n      <th>stop_lat</th>\n      <th>stop_lon</th>\n      <th>zone_id</th>\n      <th>stop_url</th>\n      <th>location_type</th>\n      <th>parent_station</th>\n      <th>stop_timezone</th>\n    </tr>\n  </thead>\n  <tbody>\n    <tr>\n      <th>0</th>\n      <td>0000132</td>\n      <td>None</td>\n      <td>Bahn-2000-Strecke</td>\n      <td>None</td>\n      <td>47.196374</td>\n      <td>7.689360</td>\n      <td>0</td>\n      <td>None</td>\n      <td>None</td>\n      <td>0</td>\n      <td>None</td>\n    </tr>\n    <tr>\n      <th>1</th>\n      <td>0000133</td>\n      <td>None</td>\n      <td>Centovalli</td>\n      <td>None</td>\n      <td>46.154371</td>\n      <td>8.603653</td>\n      <td>0</td>\n      <td>None</td>\n      <td>None</td>\n      <td>0</td>\n      <td>None</td>\n    </tr>\n    <tr>\n      <th>2</th>\n      <td>0000134</td>\n      <td>None</td>\n      <td>Furka-Basistunnel</td>\n      <td>None</td>\n      <td>46.530761</td>\n      <td>8.435917</td>\n      <td>0</td>\n      <td>None</td>\n      <td>None</td>\n      <td>0</td>\n      <td>None</td>\n    </tr>\n    <tr>\n      <th>3</th>\n      <td>0000135</td>\n      <td>None</td>\n      <td>Lötschberg-Basistunnel</td>\n      <td>None</td>\n      <td>46.356888</td>\n      <td>7.773846</td>\n      <td>0</td>\n      <td>None</td>\n      <td>None</td>\n      <td>0</td>\n      <td>None</td>\n    </tr>\n    <tr>\n      <th>4</th>\n      <td>0000136</td>\n      <td>None</td>\n      <td>Lötschberg-Bergstrecke</td>\n      <td>None</td>\n      <td>46.433756</td>\n      <td>7.717215</td>\n      <td>0</td>\n      <td>None</td>\n      <td>None</td>\n      <td>0</td>\n      <td>None</td>\n    </tr>\n  </tbody>\n</table>\n</div>"
     },
     "execution_count": 17,
     "metadata": {},
     "output_type": "execute_result"
    }
   ],
   "source": [
    "# Delete stops table and create again and try to load stops data\n",
    "qry = f\"\"\"\n",
    "DROP TABLE IF EXISTS stops\n",
    "\"\"\"\n",
    "connection.execute(qry)\n",
    "qry = f\"\"\"\n",
    "CREATE TABLE stops (\n",
    "    stop_id VARCHAR,\n",
    "    stop_code VARCHAR,\n",
    "    stop_name VARCHAR,\n",
    "    stop_desc VARCHAR,\n",
    "    stop_lat DOUBLE,\n",
    "    stop_lon DOUBLE,\n",
    "    zone_id VARCHAR,\n",
    "    stop_url VARCHAR,\n",
    "    location_type VARCHAR,\n",
    "    parent_station VARCHAR,\n",
    "    stop_timezone VARCHAR,\n",
    ")\n",
    "\"\"\"\n",
    "\n",
    "connection.execute(qry)\n",
    "# Load stops data\n",
    "file = \"stops.txt\"\n",
    "copy_query = f\"COPY {file.split('.')[0]} FROM '../data/gtfs/gtfs_files/{file}' (delimiter ',', header, quote '\\\"', escape '\\\"', null_padding true, ignore_errors)\"\n",
    "connection.execute(copy_query)\n",
    "\n",
    "# Query the stops table\n",
    "qry = f\"\"\"\n",
    "SELECT\n",
    "    *\n",
    "FROM stops\n",
    "\"\"\"\n",
    "stops = connection.execute(qry).fetchdf()\n",
    "stops.head()"
   ],
   "metadata": {
    "collapsed": false,
    "ExecuteTime": {
     "end_time": "2024-11-27T18:52:20.146089600Z",
     "start_time": "2024-11-27T18:52:20.082086800Z"
    }
   }
  },
  {
   "cell_type": "code",
   "execution_count": 18,
   "outputs": [
    {
     "data": {
      "text/plain": "   stop_id stop_code               stop_name stop_desc   stop_lat  stop_lon  \\\n0  0000132      None       Bahn-2000-Strecke      None  47.196374  7.689360   \n1  0000133      None              Centovalli      None  46.154371  8.603653   \n2  0000134      None       Furka-Basistunnel      None  46.530761  8.435917   \n3  0000135      None  Lötschberg-Basistunnel      None  46.356888  7.773846   \n4  0000136      None  Lötschberg-Bergstrecke      None  46.433756  7.717215   \n\n  zone_id stop_url location_type parent_station stop_timezone  \n0       0     None          None              0          None  \n1       0     None          None              0          None  \n2       0     None          None              0          None  \n3       0     None          None              0          None  \n4       0     None          None              0          None  ",
      "text/html": "<div>\n<style scoped>\n    .dataframe tbody tr th:only-of-type {\n        vertical-align: middle;\n    }\n\n    .dataframe tbody tr th {\n        vertical-align: top;\n    }\n\n    .dataframe thead th {\n        text-align: right;\n    }\n</style>\n<table border=\"1\" class=\"dataframe\">\n  <thead>\n    <tr style=\"text-align: right;\">\n      <th></th>\n      <th>stop_id</th>\n      <th>stop_code</th>\n      <th>stop_name</th>\n      <th>stop_desc</th>\n      <th>stop_lat</th>\n      <th>stop_lon</th>\n      <th>zone_id</th>\n      <th>stop_url</th>\n      <th>location_type</th>\n      <th>parent_station</th>\n      <th>stop_timezone</th>\n    </tr>\n  </thead>\n  <tbody>\n    <tr>\n      <th>0</th>\n      <td>0000132</td>\n      <td>None</td>\n      <td>Bahn-2000-Strecke</td>\n      <td>None</td>\n      <td>47.196374</td>\n      <td>7.689360</td>\n      <td>0</td>\n      <td>None</td>\n      <td>None</td>\n      <td>0</td>\n      <td>None</td>\n    </tr>\n    <tr>\n      <th>1</th>\n      <td>0000133</td>\n      <td>None</td>\n      <td>Centovalli</td>\n      <td>None</td>\n      <td>46.154371</td>\n      <td>8.603653</td>\n      <td>0</td>\n      <td>None</td>\n      <td>None</td>\n      <td>0</td>\n      <td>None</td>\n    </tr>\n    <tr>\n      <th>2</th>\n      <td>0000134</td>\n      <td>None</td>\n      <td>Furka-Basistunnel</td>\n      <td>None</td>\n      <td>46.530761</td>\n      <td>8.435917</td>\n      <td>0</td>\n      <td>None</td>\n      <td>None</td>\n      <td>0</td>\n      <td>None</td>\n    </tr>\n    <tr>\n      <th>3</th>\n      <td>0000135</td>\n      <td>None</td>\n      <td>Lötschberg-Basistunnel</td>\n      <td>None</td>\n      <td>46.356888</td>\n      <td>7.773846</td>\n      <td>0</td>\n      <td>None</td>\n      <td>None</td>\n      <td>0</td>\n      <td>None</td>\n    </tr>\n    <tr>\n      <th>4</th>\n      <td>0000136</td>\n      <td>None</td>\n      <td>Lötschberg-Bergstrecke</td>\n      <td>None</td>\n      <td>46.433756</td>\n      <td>7.717215</td>\n      <td>0</td>\n      <td>None</td>\n      <td>None</td>\n      <td>0</td>\n      <td>None</td>\n    </tr>\n  </tbody>\n</table>\n</div>"
     },
     "execution_count": 18,
     "metadata": {},
     "output_type": "execute_result"
    }
   ],
   "source": [
    "# Query the stops table and join with stop_times\n",
    "qry = f\"\"\"\n",
    "SELECT\n",
    "    *\n",
    "FROM stops\n",
    "\n",
    "\"\"\"\n",
    "stops = connection.execute(qry).fetchdf()\n",
    "stops.head()"
   ],
   "metadata": {
    "collapsed": false,
    "ExecuteTime": {
     "end_time": "2024-11-27T18:52:23.817241600Z",
     "start_time": "2024-11-27T18:52:23.794340100Z"
    }
   }
  },
  {
   "cell_type": "code",
   "execution_count": 3,
   "outputs": [
    {
     "data": {
      "text/plain": "                  route_id service_id  trip_id     trip_headsign  \\\n0     087969.000351.101:64     000000  85320:1      Schaffhausen   \n1     087969.000351.101:64     000000  85320:1      Schaffhausen   \n2     087969.000351.101:64     000000  85320:1      Schaffhausen   \n3     087969.000351.101:64     000000  85320:1      Schaffhausen   \n4      005748.81____.001:3     000000  85597:1           Bregenz   \n...                    ...        ...      ...               ...   \n6126  087742.000351.101:64     000000  85146:1  Erzingen (Baden)   \n6127  087739.000351.101:64     000000  85143:1      Schaffhausen   \n6128  087739.000351.101:64     000000  85143:1      Schaffhausen   \n6129  087733.000351.101:64     000000  85137:1      Schaffhausen   \n6130  087733.000351.101:64     000000  85137:1      Schaffhausen   \n\n     trip_short_name  direction_id block_id            route_id_1 agency_id  \\\n0                 64           NaN     None  087969.000351.101:64    000351   \n1                 64           NaN     None  087969.000351.101:64    000351   \n2                 64           NaN     None  087969.000351.101:64    000351   \n3                 64           NaN     None  087969.000351.101:64    000351   \n4                  3           NaN     None   005748.81____.001:3    81____   \n...              ...           ...      ...                   ...       ...   \n6126              64           NaN     None  087742.000351.101:64    000351   \n6127              64           NaN     None  087739.000351.101:64    000351   \n6128              64           NaN     None  087739.000351.101:64    000351   \n6129              64           NaN     None  087733.000351.101:64    000351   \n6130              64           NaN     None  087733.000351.101:64    000351   \n\n     route_short_name  ... stop_code            stop_name  stop_desc  \\\n0                 S64  ...      WILH    Wilchingen-Hallau       None   \n1                 S64  ...       NEK            Neunkirch       None   \n2                 S64  ...      BEBA      Beringen Bad Bf       None   \n3                 S64  ...      TRAS          Trasadingen       None   \n4                  S3  ...      None  Lauterach Unterfeld       None   \n...               ...  ...       ...                  ...        ...   \n6126              S64  ...      NHDB     Neuhausen Bad Bf       None   \n6127              S64  ...      ERZB     Erzingen (Baden)       None   \n6128              S64  ...      NHDB     Neuhausen Bad Bf       None   \n6129              S64  ...      ERZB     Erzingen (Baden)       None   \n6130              S64  ...      NHDB     Neuhausen Bad Bf       None   \n\n       stop_lat  stop_lon zone_id stop_url location_type parent_station  \\\n0     47.679448  8.463860     418     None          None              0   \n1     47.689151  8.495384     431     None          None              0   \n2     47.694897  8.574616       0     None          None              0   \n3     47.665238  8.436804       0     None          None              0   \n4     47.480776  9.714746       0     None          None              0   \n...         ...       ...     ...      ...           ...            ...   \n6126  47.682615  8.612186     440     None          None              0   \n6127  47.659541  8.430123       0     None          None              0   \n6128  47.682615  8.612186     440     None          None              0   \n6129  47.659541  8.430123       0     None          None              0   \n6130  47.682615  8.612186     440     None          None              0   \n\n     stop_timezone  \n0             None  \n1             None  \n2             None  \n3             None  \n4             None  \n...            ...  \n6126       8014485  \n6127       8014481  \n6128       8014485  \n6129       8014481  \n6130       8014485  \n\n[6131 rows x 47 columns]",
      "text/html": "<div>\n<style scoped>\n    .dataframe tbody tr th:only-of-type {\n        vertical-align: middle;\n    }\n\n    .dataframe tbody tr th {\n        vertical-align: top;\n    }\n\n    .dataframe thead th {\n        text-align: right;\n    }\n</style>\n<table border=\"1\" class=\"dataframe\">\n  <thead>\n    <tr style=\"text-align: right;\">\n      <th></th>\n      <th>route_id</th>\n      <th>service_id</th>\n      <th>trip_id</th>\n      <th>trip_headsign</th>\n      <th>trip_short_name</th>\n      <th>direction_id</th>\n      <th>block_id</th>\n      <th>route_id_1</th>\n      <th>agency_id</th>\n      <th>route_short_name</th>\n      <th>...</th>\n      <th>stop_code</th>\n      <th>stop_name</th>\n      <th>stop_desc</th>\n      <th>stop_lat</th>\n      <th>stop_lon</th>\n      <th>zone_id</th>\n      <th>stop_url</th>\n      <th>location_type</th>\n      <th>parent_station</th>\n      <th>stop_timezone</th>\n    </tr>\n  </thead>\n  <tbody>\n    <tr>\n      <th>0</th>\n      <td>087969.000351.101:64</td>\n      <td>000000</td>\n      <td>85320:1</td>\n      <td>Schaffhausen</td>\n      <td>64</td>\n      <td>NaN</td>\n      <td>None</td>\n      <td>087969.000351.101:64</td>\n      <td>000351</td>\n      <td>S64</td>\n      <td>...</td>\n      <td>WILH</td>\n      <td>Wilchingen-Hallau</td>\n      <td>None</td>\n      <td>47.679448</td>\n      <td>8.463860</td>\n      <td>418</td>\n      <td>None</td>\n      <td>None</td>\n      <td>0</td>\n      <td>None</td>\n    </tr>\n    <tr>\n      <th>1</th>\n      <td>087969.000351.101:64</td>\n      <td>000000</td>\n      <td>85320:1</td>\n      <td>Schaffhausen</td>\n      <td>64</td>\n      <td>NaN</td>\n      <td>None</td>\n      <td>087969.000351.101:64</td>\n      <td>000351</td>\n      <td>S64</td>\n      <td>...</td>\n      <td>NEK</td>\n      <td>Neunkirch</td>\n      <td>None</td>\n      <td>47.689151</td>\n      <td>8.495384</td>\n      <td>431</td>\n      <td>None</td>\n      <td>None</td>\n      <td>0</td>\n      <td>None</td>\n    </tr>\n    <tr>\n      <th>2</th>\n      <td>087969.000351.101:64</td>\n      <td>000000</td>\n      <td>85320:1</td>\n      <td>Schaffhausen</td>\n      <td>64</td>\n      <td>NaN</td>\n      <td>None</td>\n      <td>087969.000351.101:64</td>\n      <td>000351</td>\n      <td>S64</td>\n      <td>...</td>\n      <td>BEBA</td>\n      <td>Beringen Bad Bf</td>\n      <td>None</td>\n      <td>47.694897</td>\n      <td>8.574616</td>\n      <td>0</td>\n      <td>None</td>\n      <td>None</td>\n      <td>0</td>\n      <td>None</td>\n    </tr>\n    <tr>\n      <th>3</th>\n      <td>087969.000351.101:64</td>\n      <td>000000</td>\n      <td>85320:1</td>\n      <td>Schaffhausen</td>\n      <td>64</td>\n      <td>NaN</td>\n      <td>None</td>\n      <td>087969.000351.101:64</td>\n      <td>000351</td>\n      <td>S64</td>\n      <td>...</td>\n      <td>TRAS</td>\n      <td>Trasadingen</td>\n      <td>None</td>\n      <td>47.665238</td>\n      <td>8.436804</td>\n      <td>0</td>\n      <td>None</td>\n      <td>None</td>\n      <td>0</td>\n      <td>None</td>\n    </tr>\n    <tr>\n      <th>4</th>\n      <td>005748.81____.001:3</td>\n      <td>000000</td>\n      <td>85597:1</td>\n      <td>Bregenz</td>\n      <td>3</td>\n      <td>NaN</td>\n      <td>None</td>\n      <td>005748.81____.001:3</td>\n      <td>81____</td>\n      <td>S3</td>\n      <td>...</td>\n      <td>None</td>\n      <td>Lauterach Unterfeld</td>\n      <td>None</td>\n      <td>47.480776</td>\n      <td>9.714746</td>\n      <td>0</td>\n      <td>None</td>\n      <td>None</td>\n      <td>0</td>\n      <td>None</td>\n    </tr>\n    <tr>\n      <th>...</th>\n      <td>...</td>\n      <td>...</td>\n      <td>...</td>\n      <td>...</td>\n      <td>...</td>\n      <td>...</td>\n      <td>...</td>\n      <td>...</td>\n      <td>...</td>\n      <td>...</td>\n      <td>...</td>\n      <td>...</td>\n      <td>...</td>\n      <td>...</td>\n      <td>...</td>\n      <td>...</td>\n      <td>...</td>\n      <td>...</td>\n      <td>...</td>\n      <td>...</td>\n      <td>...</td>\n    </tr>\n    <tr>\n      <th>6126</th>\n      <td>087742.000351.101:64</td>\n      <td>000000</td>\n      <td>85146:1</td>\n      <td>Erzingen (Baden)</td>\n      <td>64</td>\n      <td>NaN</td>\n      <td>None</td>\n      <td>087742.000351.101:64</td>\n      <td>000351</td>\n      <td>S64</td>\n      <td>...</td>\n      <td>NHDB</td>\n      <td>Neuhausen Bad Bf</td>\n      <td>None</td>\n      <td>47.682615</td>\n      <td>8.612186</td>\n      <td>440</td>\n      <td>None</td>\n      <td>None</td>\n      <td>0</td>\n      <td>8014485</td>\n    </tr>\n    <tr>\n      <th>6127</th>\n      <td>087739.000351.101:64</td>\n      <td>000000</td>\n      <td>85143:1</td>\n      <td>Schaffhausen</td>\n      <td>64</td>\n      <td>NaN</td>\n      <td>None</td>\n      <td>087739.000351.101:64</td>\n      <td>000351</td>\n      <td>S64</td>\n      <td>...</td>\n      <td>ERZB</td>\n      <td>Erzingen (Baden)</td>\n      <td>None</td>\n      <td>47.659541</td>\n      <td>8.430123</td>\n      <td>0</td>\n      <td>None</td>\n      <td>None</td>\n      <td>0</td>\n      <td>8014481</td>\n    </tr>\n    <tr>\n      <th>6128</th>\n      <td>087739.000351.101:64</td>\n      <td>000000</td>\n      <td>85143:1</td>\n      <td>Schaffhausen</td>\n      <td>64</td>\n      <td>NaN</td>\n      <td>None</td>\n      <td>087739.000351.101:64</td>\n      <td>000351</td>\n      <td>S64</td>\n      <td>...</td>\n      <td>NHDB</td>\n      <td>Neuhausen Bad Bf</td>\n      <td>None</td>\n      <td>47.682615</td>\n      <td>8.612186</td>\n      <td>440</td>\n      <td>None</td>\n      <td>None</td>\n      <td>0</td>\n      <td>8014485</td>\n    </tr>\n    <tr>\n      <th>6129</th>\n      <td>087733.000351.101:64</td>\n      <td>000000</td>\n      <td>85137:1</td>\n      <td>Schaffhausen</td>\n      <td>64</td>\n      <td>NaN</td>\n      <td>None</td>\n      <td>087733.000351.101:64</td>\n      <td>000351</td>\n      <td>S64</td>\n      <td>...</td>\n      <td>ERZB</td>\n      <td>Erzingen (Baden)</td>\n      <td>None</td>\n      <td>47.659541</td>\n      <td>8.430123</td>\n      <td>0</td>\n      <td>None</td>\n      <td>None</td>\n      <td>0</td>\n      <td>8014481</td>\n    </tr>\n    <tr>\n      <th>6130</th>\n      <td>087733.000351.101:64</td>\n      <td>000000</td>\n      <td>85137:1</td>\n      <td>Schaffhausen</td>\n      <td>64</td>\n      <td>NaN</td>\n      <td>None</td>\n      <td>087733.000351.101:64</td>\n      <td>000351</td>\n      <td>S64</td>\n      <td>...</td>\n      <td>NHDB</td>\n      <td>Neuhausen Bad Bf</td>\n      <td>None</td>\n      <td>47.682615</td>\n      <td>8.612186</td>\n      <td>440</td>\n      <td>None</td>\n      <td>None</td>\n      <td>0</td>\n      <td>8014485</td>\n    </tr>\n  </tbody>\n</table>\n<p>6131 rows × 47 columns</p>\n</div>"
     },
     "execution_count": 3,
     "metadata": {},
     "output_type": "execute_result"
    }
   ],
   "source": [
    "# Query the trips table\n",
    "qry = f\"\"\"\n",
    "SELECT\n",
    "    *\n",
    "FROM trips\n",
    "-- JOIN routes\n",
    "INNER JOIN routes\n",
    "ON trips.route_id = routes.route_id\n",
    "-- JOIN agency\n",
    "INNER JOIN agency\n",
    "ON routes.agency_id = agency.agency_id\n",
    "-- JOIN calendar\n",
    "INNER JOIN calendar\n",
    "ON trips.service_id = calendar.service_id\n",
    "-- JOIN stop_times\n",
    "INNER JOIN stop_times\n",
    "ON trips.trip_id = stop_times.trip_id\n",
    "-- JOIN stops\n",
    "INNER JOIN stops\n",
    "ON stop_times.stop_id = stops.stop_id\n",
    "-- for now, ignore other tables (just additional like transfers, calendar_dates, etc.)\n",
    "\"\"\"\n",
    "trips = connection.execute(qry).fetchdf()\n",
    "trips"
   ],
   "metadata": {
    "collapsed": false,
    "ExecuteTime": {
     "end_time": "2024-11-28T12:25:51.541827100Z",
     "start_time": "2024-11-28T12:25:51.329702100Z"
    }
   }
  },
  {
   "cell_type": "code",
   "execution_count": 6,
   "outputs": [
    {
     "data": {
      "text/plain": "                  route_id service_id  trip_id     trip_headsign  \\\n0     012796.000078.101:10     000000  66212:1     Zürich HB SZU   \n1     012916.000078.101:10     000000  66358:1     Zürich HB SZU   \n2     012776.000078.101:10     000000  66186:1     Zürich HB SZU   \n3     012940.000078.101:10     000000  66382:1     Zürich HB SZU   \n4     012808.000078.101:10     000000  66224:1     Zürich HB SZU   \n...                    ...        ...      ...               ...   \n6126   012603.000078.101:4     000000  66095:1  Langnau-Gattikon   \n6127   012631.000078.101:4     000000  66113:1  Langnau-Gattikon   \n6128   012503.000078.101:4     000000  66010:1  Langnau-Gattikon   \n6129   012498.000078.101:4     000000  66006:1     Zürich HB SZU   \n6130   012491.000078.101:4     000000  66002:1  Langnau-Gattikon   \n\n     trip_short_name  direction_id block_id            route_id_1 agency_id  \\\n0                 10           NaN     None  012796.000078.101:10    000078   \n1                 10           NaN     None  012916.000078.101:10    000078   \n2                 10           NaN     None  012776.000078.101:10    000078   \n3                 10           NaN     None  012940.000078.101:10    000078   \n4                 10           NaN     None  012808.000078.101:10    000078   \n...              ...           ...      ...                   ...       ...   \n6126               4           NaN     None   012603.000078.101:4    000078   \n6127               4           NaN     None   012631.000078.101:4    000078   \n6128               4           NaN     None   012503.000078.101:4    000078   \n6129               4           NaN     None   012498.000078.101:4    000078   \n6130               4           NaN     None   012491.000078.101:4    000078   \n\n     route_short_name  ... stop_code       stop_name  stop_desc   stop_lat  \\\n0                 S10  ...      TRLI  Zürich Triemli       None  47.364990   \n1                 S10  ...      TRLI  Zürich Triemli       None  47.364990   \n2                 S10  ...      TRLI  Zürich Triemli       None  47.364990   \n3                 S10  ...      TRLI  Zürich Triemli       None  47.364990   \n4                 S10  ...      TRLI  Zürich Triemli       None  47.364990   \n...               ...  ...       ...             ...        ...        ...   \n6126               S4  ...       ADW        Adliswil       None  47.312274   \n6127               S4  ...       ADW        Adliswil       None  47.312274   \n6128               S4  ...       ADW        Adliswil       None  47.312274   \n6129               S4  ...       ADW        Adliswil       None  47.312274   \n6130               S4  ...       ADW        Adliswil       None  47.312274   \n\n      stop_lon zone_id stop_url location_type parent_station stop_timezone  \n0     8.495380     480     None          None              0       8503054  \n1     8.495380     480     None          None              0       8503054  \n2     8.495380     480     None          None              0       8503054  \n3     8.495380     480     None          None              0       8503054  \n4     8.495380     480     None          None              0       8503054  \n...        ...     ...      ...           ...            ...           ...  \n6126  8.524254     451     None          None              0       8503096  \n6127  8.524254     451     None          None              0       8503096  \n6128  8.524254     451     None          None              0       8503096  \n6129  8.524254     451     None          None              0       8503096  \n6130  8.524254     451     None          None              0       8503096  \n\n[6131 rows x 47 columns]",
      "text/html": "<div>\n<style scoped>\n    .dataframe tbody tr th:only-of-type {\n        vertical-align: middle;\n    }\n\n    .dataframe tbody tr th {\n        vertical-align: top;\n    }\n\n    .dataframe thead th {\n        text-align: right;\n    }\n</style>\n<table border=\"1\" class=\"dataframe\">\n  <thead>\n    <tr style=\"text-align: right;\">\n      <th></th>\n      <th>route_id</th>\n      <th>service_id</th>\n      <th>trip_id</th>\n      <th>trip_headsign</th>\n      <th>trip_short_name</th>\n      <th>direction_id</th>\n      <th>block_id</th>\n      <th>route_id_1</th>\n      <th>agency_id</th>\n      <th>route_short_name</th>\n      <th>...</th>\n      <th>stop_code</th>\n      <th>stop_name</th>\n      <th>stop_desc</th>\n      <th>stop_lat</th>\n      <th>stop_lon</th>\n      <th>zone_id</th>\n      <th>stop_url</th>\n      <th>location_type</th>\n      <th>parent_station</th>\n      <th>stop_timezone</th>\n    </tr>\n  </thead>\n  <tbody>\n    <tr>\n      <th>0</th>\n      <td>012796.000078.101:10</td>\n      <td>000000</td>\n      <td>66212:1</td>\n      <td>Zürich HB SZU</td>\n      <td>10</td>\n      <td>NaN</td>\n      <td>None</td>\n      <td>012796.000078.101:10</td>\n      <td>000078</td>\n      <td>S10</td>\n      <td>...</td>\n      <td>TRLI</td>\n      <td>Zürich Triemli</td>\n      <td>None</td>\n      <td>47.364990</td>\n      <td>8.495380</td>\n      <td>480</td>\n      <td>None</td>\n      <td>None</td>\n      <td>0</td>\n      <td>8503054</td>\n    </tr>\n    <tr>\n      <th>1</th>\n      <td>012916.000078.101:10</td>\n      <td>000000</td>\n      <td>66358:1</td>\n      <td>Zürich HB SZU</td>\n      <td>10</td>\n      <td>NaN</td>\n      <td>None</td>\n      <td>012916.000078.101:10</td>\n      <td>000078</td>\n      <td>S10</td>\n      <td>...</td>\n      <td>TRLI</td>\n      <td>Zürich Triemli</td>\n      <td>None</td>\n      <td>47.364990</td>\n      <td>8.495380</td>\n      <td>480</td>\n      <td>None</td>\n      <td>None</td>\n      <td>0</td>\n      <td>8503054</td>\n    </tr>\n    <tr>\n      <th>2</th>\n      <td>012776.000078.101:10</td>\n      <td>000000</td>\n      <td>66186:1</td>\n      <td>Zürich HB SZU</td>\n      <td>10</td>\n      <td>NaN</td>\n      <td>None</td>\n      <td>012776.000078.101:10</td>\n      <td>000078</td>\n      <td>S10</td>\n      <td>...</td>\n      <td>TRLI</td>\n      <td>Zürich Triemli</td>\n      <td>None</td>\n      <td>47.364990</td>\n      <td>8.495380</td>\n      <td>480</td>\n      <td>None</td>\n      <td>None</td>\n      <td>0</td>\n      <td>8503054</td>\n    </tr>\n    <tr>\n      <th>3</th>\n      <td>012940.000078.101:10</td>\n      <td>000000</td>\n      <td>66382:1</td>\n      <td>Zürich HB SZU</td>\n      <td>10</td>\n      <td>NaN</td>\n      <td>None</td>\n      <td>012940.000078.101:10</td>\n      <td>000078</td>\n      <td>S10</td>\n      <td>...</td>\n      <td>TRLI</td>\n      <td>Zürich Triemli</td>\n      <td>None</td>\n      <td>47.364990</td>\n      <td>8.495380</td>\n      <td>480</td>\n      <td>None</td>\n      <td>None</td>\n      <td>0</td>\n      <td>8503054</td>\n    </tr>\n    <tr>\n      <th>4</th>\n      <td>012808.000078.101:10</td>\n      <td>000000</td>\n      <td>66224:1</td>\n      <td>Zürich HB SZU</td>\n      <td>10</td>\n      <td>NaN</td>\n      <td>None</td>\n      <td>012808.000078.101:10</td>\n      <td>000078</td>\n      <td>S10</td>\n      <td>...</td>\n      <td>TRLI</td>\n      <td>Zürich Triemli</td>\n      <td>None</td>\n      <td>47.364990</td>\n      <td>8.495380</td>\n      <td>480</td>\n      <td>None</td>\n      <td>None</td>\n      <td>0</td>\n      <td>8503054</td>\n    </tr>\n    <tr>\n      <th>...</th>\n      <td>...</td>\n      <td>...</td>\n      <td>...</td>\n      <td>...</td>\n      <td>...</td>\n      <td>...</td>\n      <td>...</td>\n      <td>...</td>\n      <td>...</td>\n      <td>...</td>\n      <td>...</td>\n      <td>...</td>\n      <td>...</td>\n      <td>...</td>\n      <td>...</td>\n      <td>...</td>\n      <td>...</td>\n      <td>...</td>\n      <td>...</td>\n      <td>...</td>\n      <td>...</td>\n    </tr>\n    <tr>\n      <th>6126</th>\n      <td>012603.000078.101:4</td>\n      <td>000000</td>\n      <td>66095:1</td>\n      <td>Langnau-Gattikon</td>\n      <td>4</td>\n      <td>NaN</td>\n      <td>None</td>\n      <td>012603.000078.101:4</td>\n      <td>000078</td>\n      <td>S4</td>\n      <td>...</td>\n      <td>ADW</td>\n      <td>Adliswil</td>\n      <td>None</td>\n      <td>47.312274</td>\n      <td>8.524254</td>\n      <td>451</td>\n      <td>None</td>\n      <td>None</td>\n      <td>0</td>\n      <td>8503096</td>\n    </tr>\n    <tr>\n      <th>6127</th>\n      <td>012631.000078.101:4</td>\n      <td>000000</td>\n      <td>66113:1</td>\n      <td>Langnau-Gattikon</td>\n      <td>4</td>\n      <td>NaN</td>\n      <td>None</td>\n      <td>012631.000078.101:4</td>\n      <td>000078</td>\n      <td>S4</td>\n      <td>...</td>\n      <td>ADW</td>\n      <td>Adliswil</td>\n      <td>None</td>\n      <td>47.312274</td>\n      <td>8.524254</td>\n      <td>451</td>\n      <td>None</td>\n      <td>None</td>\n      <td>0</td>\n      <td>8503096</td>\n    </tr>\n    <tr>\n      <th>6128</th>\n      <td>012503.000078.101:4</td>\n      <td>000000</td>\n      <td>66010:1</td>\n      <td>Langnau-Gattikon</td>\n      <td>4</td>\n      <td>NaN</td>\n      <td>None</td>\n      <td>012503.000078.101:4</td>\n      <td>000078</td>\n      <td>S4</td>\n      <td>...</td>\n      <td>ADW</td>\n      <td>Adliswil</td>\n      <td>None</td>\n      <td>47.312274</td>\n      <td>8.524254</td>\n      <td>451</td>\n      <td>None</td>\n      <td>None</td>\n      <td>0</td>\n      <td>8503096</td>\n    </tr>\n    <tr>\n      <th>6129</th>\n      <td>012498.000078.101:4</td>\n      <td>000000</td>\n      <td>66006:1</td>\n      <td>Zürich HB SZU</td>\n      <td>4</td>\n      <td>NaN</td>\n      <td>None</td>\n      <td>012498.000078.101:4</td>\n      <td>000078</td>\n      <td>S4</td>\n      <td>...</td>\n      <td>ADW</td>\n      <td>Adliswil</td>\n      <td>None</td>\n      <td>47.312274</td>\n      <td>8.524254</td>\n      <td>451</td>\n      <td>None</td>\n      <td>None</td>\n      <td>0</td>\n      <td>8503096</td>\n    </tr>\n    <tr>\n      <th>6130</th>\n      <td>012491.000078.101:4</td>\n      <td>000000</td>\n      <td>66002:1</td>\n      <td>Langnau-Gattikon</td>\n      <td>4</td>\n      <td>NaN</td>\n      <td>None</td>\n      <td>012491.000078.101:4</td>\n      <td>000078</td>\n      <td>S4</td>\n      <td>...</td>\n      <td>ADW</td>\n      <td>Adliswil</td>\n      <td>None</td>\n      <td>47.312274</td>\n      <td>8.524254</td>\n      <td>451</td>\n      <td>None</td>\n      <td>None</td>\n      <td>0</td>\n      <td>8503096</td>\n    </tr>\n  </tbody>\n</table>\n<p>6131 rows × 47 columns</p>\n</div>"
     },
     "execution_count": 6,
     "metadata": {},
     "output_type": "execute_result"
    }
   ],
   "source": [
    "# Get 10 routes where \"Zürich HB\" and \"Bern\" are stops\n",
    "qry = f\"\"\"\n",
    "SELECT\n",
    "    *\n",
    "FROM trips\n",
    "-- JOIN routes\n",
    "INNER JOIN routes\n",
    "ON trips.route_id = routes.route_id\n",
    "-- JOIN agency\n",
    "INNER JOIN agency\n",
    "ON routes.agency_id = agency.agency_id\n",
    "-- JOIN calendar\n",
    "INNER JOIN calendar\n",
    "ON trips.service_id = calendar.service_id\n",
    "-- JOIN stop_times\n",
    "INNER JOIN stop_times\n",
    "ON trips.trip_id = stop_times.trip_id\n",
    "-- JOIN stops\n",
    "INNER JOIN stops\n",
    "ON stop_times.stop_id = stops.stop_id\n",
    "ORDER BY stops.stop_name DESC\n",
    "\"\"\"\n",
    "trips = connection.execute(qry).fetchdf()\n",
    "trips\n"
   ],
   "metadata": {
    "collapsed": false,
    "ExecuteTime": {
     "end_time": "2024-11-28T22:59:44.002871100Z",
     "start_time": "2024-11-28T22:59:43.880754600Z"
    }
   }
  },
  {
   "cell_type": "code",
   "execution_count": null,
   "outputs": [],
   "source": [
    "# Get \"Zürich HB\" and \"Bern\" stops\n",
    "qry = f\"\"\"\n",
    "SELECT\n",
    "    *\n",
    "FROM stops\n",
    "WHERE stop_name = 'Zürich HB' OR stop_name = 'Bern'\n",
    "\"\"\"\n",
    "stops = connection.execute(qry).fetchdf()\n",
    "stops\n"
   ],
   "metadata": {
    "collapsed": false,
    "is_executing": true
   }
  },
  {
   "cell_type": "code",
   "execution_count": null,
   "outputs": [],
   "source": [
    "# Join the trip to the stops\n",
    "# Get \"Zürich HB\" and \"Bern\" stops\n",
    "qry = f\"\"\"\n",
    "SELECT\n",
    "    *\n",
    "FROM stops\n",
    "INNER JOIN stop_times\n",
    "ON stops.stop_id = stop_times.stop_id\n",
    "INNER JOIN trips\n",
    "ON stop_times.trip_id = trips.trip_id\n",
    "WHERE stops.stop_name = 'Zürich HB'-- OR stops.stop_name = 'Bern'\n",
    "\"\"\"\n",
    "trips = connection.execute(qry).fetchdf()\n",
    "trips"
   ],
   "metadata": {
    "collapsed": false,
    "is_executing": true
   }
  },
  {
   "cell_type": "code",
   "execution_count": 2,
   "outputs": [
    {
     "data": {
      "text/plain": "                     route_id service_id  trip_id       trip_headsign  \\\n0         000003.000011.101:3     141763      0:8           Zürich HB   \n1         000003.000011.102:3     008406      1:2           Zürich HB   \n2         000004.000011.101:4     000608     2:18        Basel Bad Bf   \n3         000004.000011.102:4     042936      3:5        Basel Bad Bf   \n4         000004.000011.104:4     200334      4:7        Basel Bad Bf   \n...                       ...        ...      ...                 ...   \n58802  009228.87_LEX.002:612B     506983  92786:1  Paris Gare de Lyon   \n58803  009228.87_LEX.003:612B     013566  92787:1  Paris Gare de Lyon   \n58804  009228.87_LEX.006:612B     050544  92789:1  Paris Gare de Lyon   \n58805  009228.87_LEX.007:612B     039031  92790:1  Paris Gare de Lyon   \n58806  009232.87_LEX.001:612B     020506  92792:1  Paris Gare de Lyon   \n\n      trip_short_name  direction_id block_id              route_id_1  \\\n0                   3           NaN     None     000003.000011.101:3   \n1                   3           NaN     None     000003.000011.102:3   \n2                   4           NaN     None     000004.000011.101:4   \n3                   4           NaN     None     000004.000011.102:4   \n4                   4           NaN     None     000004.000011.104:4   \n...               ...           ...      ...                     ...   \n58802            612B           NaN     None  009228.87_LEX.002:612B   \n58803            612B           NaN     None  009228.87_LEX.003:612B   \n58804            612B           NaN     None  009228.87_LEX.006:612B   \n58805            612B           NaN     None  009228.87_LEX.007:612B   \n58806            612B           NaN     None  009232.87_LEX.001:612B   \n\n      agency_id route_short_name route_long_name route_desc  route_type  \n0        000011              ICE           ICE 3       None           2  \n1        000011              ICE           ICE 3       None           2  \n2        000011              ICE           ICE 4       None           2  \n3        000011              ICE           ICE 4       None           2  \n4        000011              ICE           ICE 4       None           2  \n...         ...              ...             ...        ...         ...  \n58802    87_LEX              TGV            612B       None           2  \n58803    87_LEX              TGV            612B       None           2  \n58804    87_LEX              TGV            612B       None           2  \n58805    87_LEX              TGV            612B       None           2  \n58806    87_LEX              TGV            612B       None           2  \n\n[58807 rows x 13 columns]",
      "text/html": "<div>\n<style scoped>\n    .dataframe tbody tr th:only-of-type {\n        vertical-align: middle;\n    }\n\n    .dataframe tbody tr th {\n        vertical-align: top;\n    }\n\n    .dataframe thead th {\n        text-align: right;\n    }\n</style>\n<table border=\"1\" class=\"dataframe\">\n  <thead>\n    <tr style=\"text-align: right;\">\n      <th></th>\n      <th>route_id</th>\n      <th>service_id</th>\n      <th>trip_id</th>\n      <th>trip_headsign</th>\n      <th>trip_short_name</th>\n      <th>direction_id</th>\n      <th>block_id</th>\n      <th>route_id_1</th>\n      <th>agency_id</th>\n      <th>route_short_name</th>\n      <th>route_long_name</th>\n      <th>route_desc</th>\n      <th>route_type</th>\n    </tr>\n  </thead>\n  <tbody>\n    <tr>\n      <th>0</th>\n      <td>000003.000011.101:3</td>\n      <td>141763</td>\n      <td>0:8</td>\n      <td>Zürich HB</td>\n      <td>3</td>\n      <td>NaN</td>\n      <td>None</td>\n      <td>000003.000011.101:3</td>\n      <td>000011</td>\n      <td>ICE</td>\n      <td>ICE 3</td>\n      <td>None</td>\n      <td>2</td>\n    </tr>\n    <tr>\n      <th>1</th>\n      <td>000003.000011.102:3</td>\n      <td>008406</td>\n      <td>1:2</td>\n      <td>Zürich HB</td>\n      <td>3</td>\n      <td>NaN</td>\n      <td>None</td>\n      <td>000003.000011.102:3</td>\n      <td>000011</td>\n      <td>ICE</td>\n      <td>ICE 3</td>\n      <td>None</td>\n      <td>2</td>\n    </tr>\n    <tr>\n      <th>2</th>\n      <td>000004.000011.101:4</td>\n      <td>000608</td>\n      <td>2:18</td>\n      <td>Basel Bad Bf</td>\n      <td>4</td>\n      <td>NaN</td>\n      <td>None</td>\n      <td>000004.000011.101:4</td>\n      <td>000011</td>\n      <td>ICE</td>\n      <td>ICE 4</td>\n      <td>None</td>\n      <td>2</td>\n    </tr>\n    <tr>\n      <th>3</th>\n      <td>000004.000011.102:4</td>\n      <td>042936</td>\n      <td>3:5</td>\n      <td>Basel Bad Bf</td>\n      <td>4</td>\n      <td>NaN</td>\n      <td>None</td>\n      <td>000004.000011.102:4</td>\n      <td>000011</td>\n      <td>ICE</td>\n      <td>ICE 4</td>\n      <td>None</td>\n      <td>2</td>\n    </tr>\n    <tr>\n      <th>4</th>\n      <td>000004.000011.104:4</td>\n      <td>200334</td>\n      <td>4:7</td>\n      <td>Basel Bad Bf</td>\n      <td>4</td>\n      <td>NaN</td>\n      <td>None</td>\n      <td>000004.000011.104:4</td>\n      <td>000011</td>\n      <td>ICE</td>\n      <td>ICE 4</td>\n      <td>None</td>\n      <td>2</td>\n    </tr>\n    <tr>\n      <th>...</th>\n      <td>...</td>\n      <td>...</td>\n      <td>...</td>\n      <td>...</td>\n      <td>...</td>\n      <td>...</td>\n      <td>...</td>\n      <td>...</td>\n      <td>...</td>\n      <td>...</td>\n      <td>...</td>\n      <td>...</td>\n      <td>...</td>\n    </tr>\n    <tr>\n      <th>58802</th>\n      <td>009228.87_LEX.002:612B</td>\n      <td>506983</td>\n      <td>92786:1</td>\n      <td>Paris Gare de Lyon</td>\n      <td>612B</td>\n      <td>NaN</td>\n      <td>None</td>\n      <td>009228.87_LEX.002:612B</td>\n      <td>87_LEX</td>\n      <td>TGV</td>\n      <td>612B</td>\n      <td>None</td>\n      <td>2</td>\n    </tr>\n    <tr>\n      <th>58803</th>\n      <td>009228.87_LEX.003:612B</td>\n      <td>013566</td>\n      <td>92787:1</td>\n      <td>Paris Gare de Lyon</td>\n      <td>612B</td>\n      <td>NaN</td>\n      <td>None</td>\n      <td>009228.87_LEX.003:612B</td>\n      <td>87_LEX</td>\n      <td>TGV</td>\n      <td>612B</td>\n      <td>None</td>\n      <td>2</td>\n    </tr>\n    <tr>\n      <th>58804</th>\n      <td>009228.87_LEX.006:612B</td>\n      <td>050544</td>\n      <td>92789:1</td>\n      <td>Paris Gare de Lyon</td>\n      <td>612B</td>\n      <td>NaN</td>\n      <td>None</td>\n      <td>009228.87_LEX.006:612B</td>\n      <td>87_LEX</td>\n      <td>TGV</td>\n      <td>612B</td>\n      <td>None</td>\n      <td>2</td>\n    </tr>\n    <tr>\n      <th>58805</th>\n      <td>009228.87_LEX.007:612B</td>\n      <td>039031</td>\n      <td>92790:1</td>\n      <td>Paris Gare de Lyon</td>\n      <td>612B</td>\n      <td>NaN</td>\n      <td>None</td>\n      <td>009228.87_LEX.007:612B</td>\n      <td>87_LEX</td>\n      <td>TGV</td>\n      <td>612B</td>\n      <td>None</td>\n      <td>2</td>\n    </tr>\n    <tr>\n      <th>58806</th>\n      <td>009232.87_LEX.001:612B</td>\n      <td>020506</td>\n      <td>92792:1</td>\n      <td>Paris Gare de Lyon</td>\n      <td>612B</td>\n      <td>NaN</td>\n      <td>None</td>\n      <td>009232.87_LEX.001:612B</td>\n      <td>87_LEX</td>\n      <td>TGV</td>\n      <td>612B</td>\n      <td>None</td>\n      <td>2</td>\n    </tr>\n  </tbody>\n</table>\n<p>58807 rows × 13 columns</p>\n</div>"
     },
     "execution_count": 2,
     "metadata": {},
     "output_type": "execute_result"
    }
   ],
   "source": [
    "qry = f\"\"\"\n",
    "SELECT\n",
    "    *\n",
    "FROM trips\n",
    "INNER JOIN routes\n",
    "ON trips.route_id = routes.route_id\n",
    "WHERE trip_id IN (\n",
    "    SELECT\n",
    "        trip_id\n",
    "    FROM stop_times\n",
    "    WHERE stop_id IN (\n",
    "        SELECT\n",
    "            stop_id\n",
    "        FROM stops\n",
    "        WHERE stop_name = 'Zürich HB' OR stop_name = 'Bern'\n",
    "    )\n",
    ")\n",
    "\"\"\"\n",
    "trips = connection.execute(qry).fetchdf()\n",
    "trips"
   ],
   "metadata": {
    "collapsed": false,
    "ExecuteTime": {
     "end_time": "2024-11-28T23:09:59.456243600Z",
     "start_time": "2024-11-28T23:09:59.305568Z"
    }
   }
  },
  {
   "cell_type": "code",
   "execution_count": 9,
   "outputs": [
    {
     "data": {
      "text/plain": "                  route_id service_id  trip_id trip_headsign trip_short_name  \\\n0      030097.000011.103:6     076380  35080:1         Spiez               6   \n1      030097.000011.104:6     152979  35081:1         Spiez               6   \n2      030097.000011.106:6     203932  35082:1         Spiez               6   \n3      030197.000011.105:6     152979  35601:1          Brig               6   \n4      010804.000011.101:8     325497  15628:2          Brig               8   \n...                    ...        ...      ...           ...             ...   \n27188  000807.000011.101:8     003148  3398:15    Romanshorn               8   \n27189  000807.000011.103:8     367211   3400:1    Romanshorn               8   \n27190  000807.000011.103:8     044409   3400:2    Romanshorn               8   \n27191  000807.000011.101:8     003145  3398:13    Romanshorn               8   \n27192  000807.000011.103:8     224175   3400:3    Romanshorn               8   \n\n       direction_id block_id           route_id_1 agency_id route_short_name  \\\n0               NaN     None  030097.000011.103:6    000011              IC6   \n1               NaN     None  030097.000011.104:6    000011              IC6   \n2               NaN     None  030097.000011.106:6    000011              IC6   \n3               NaN     None  030197.000011.105:6    000011              IC6   \n4               NaN     None  010804.000011.101:8    000011              IC8   \n...             ...      ...                  ...       ...              ...   \n27188           NaN     None  000807.000011.101:8    000011              IC8   \n27189           NaN     None  000807.000011.103:8    000011              IC8   \n27190           NaN     None  000807.000011.103:8    000011              IC8   \n27191           NaN     None  000807.000011.101:8    000011              IC8   \n27192           NaN     None  000807.000011.103:8    000011              IC8   \n\n       ... stop_code   stop_name  stop_desc   stop_lat  stop_lon zone_id  \\\n0      ...        TH        Thun       None  46.754853  7.629606     559   \n1      ...        TH        Thun       None  46.754853  7.629606     559   \n2      ...        TH        Thun       None  46.754853  7.629606     559   \n3      ...        TH        Thun       None  46.754853  7.629606     559   \n4      ...       ZUE   Zürich HB       None  47.378177  8.540212     407   \n...    ...       ...         ...        ...        ...       ...     ...   \n27188  ...        RH  Romanshorn       None  47.565523  9.379371     398   \n27189  ...        RH  Romanshorn       None  47.565523  9.379371     398   \n27190  ...        RH  Romanshorn       None  47.565523  9.379371     398   \n27191  ...        RH  Romanshorn       None  47.565523  9.379371     398   \n27192  ...        RH  Romanshorn       None  47.565523  9.379371     398   \n\n      stop_url  location_type  parent_station  stop_timezone  \n0         None           None               0        8507100  \n1         None           None               0        8507100  \n2         None           None               0        8507100  \n3         None           None               0        8507100  \n4         None           None               0        8503000  \n...        ...            ...             ...            ...  \n27188     None           None               0        8506121  \n27189     None           None               0        8506121  \n27190     None           None               0        8506121  \n27191     None           None               0        8506121  \n27192     None           None               0        8506121  \n\n[27193 rows x 31 columns]",
      "text/html": "<div>\n<style scoped>\n    .dataframe tbody tr th:only-of-type {\n        vertical-align: middle;\n    }\n\n    .dataframe tbody tr th {\n        vertical-align: top;\n    }\n\n    .dataframe thead th {\n        text-align: right;\n    }\n</style>\n<table border=\"1\" class=\"dataframe\">\n  <thead>\n    <tr style=\"text-align: right;\">\n      <th></th>\n      <th>route_id</th>\n      <th>service_id</th>\n      <th>trip_id</th>\n      <th>trip_headsign</th>\n      <th>trip_short_name</th>\n      <th>direction_id</th>\n      <th>block_id</th>\n      <th>route_id_1</th>\n      <th>agency_id</th>\n      <th>route_short_name</th>\n      <th>...</th>\n      <th>stop_code</th>\n      <th>stop_name</th>\n      <th>stop_desc</th>\n      <th>stop_lat</th>\n      <th>stop_lon</th>\n      <th>zone_id</th>\n      <th>stop_url</th>\n      <th>location_type</th>\n      <th>parent_station</th>\n      <th>stop_timezone</th>\n    </tr>\n  </thead>\n  <tbody>\n    <tr>\n      <th>0</th>\n      <td>030097.000011.103:6</td>\n      <td>076380</td>\n      <td>35080:1</td>\n      <td>Spiez</td>\n      <td>6</td>\n      <td>NaN</td>\n      <td>None</td>\n      <td>030097.000011.103:6</td>\n      <td>000011</td>\n      <td>IC6</td>\n      <td>...</td>\n      <td>TH</td>\n      <td>Thun</td>\n      <td>None</td>\n      <td>46.754853</td>\n      <td>7.629606</td>\n      <td>559</td>\n      <td>None</td>\n      <td>None</td>\n      <td>0</td>\n      <td>8507100</td>\n    </tr>\n    <tr>\n      <th>1</th>\n      <td>030097.000011.104:6</td>\n      <td>152979</td>\n      <td>35081:1</td>\n      <td>Spiez</td>\n      <td>6</td>\n      <td>NaN</td>\n      <td>None</td>\n      <td>030097.000011.104:6</td>\n      <td>000011</td>\n      <td>IC6</td>\n      <td>...</td>\n      <td>TH</td>\n      <td>Thun</td>\n      <td>None</td>\n      <td>46.754853</td>\n      <td>7.629606</td>\n      <td>559</td>\n      <td>None</td>\n      <td>None</td>\n      <td>0</td>\n      <td>8507100</td>\n    </tr>\n    <tr>\n      <th>2</th>\n      <td>030097.000011.106:6</td>\n      <td>203932</td>\n      <td>35082:1</td>\n      <td>Spiez</td>\n      <td>6</td>\n      <td>NaN</td>\n      <td>None</td>\n      <td>030097.000011.106:6</td>\n      <td>000011</td>\n      <td>IC6</td>\n      <td>...</td>\n      <td>TH</td>\n      <td>Thun</td>\n      <td>None</td>\n      <td>46.754853</td>\n      <td>7.629606</td>\n      <td>559</td>\n      <td>None</td>\n      <td>None</td>\n      <td>0</td>\n      <td>8507100</td>\n    </tr>\n    <tr>\n      <th>3</th>\n      <td>030197.000011.105:6</td>\n      <td>152979</td>\n      <td>35601:1</td>\n      <td>Brig</td>\n      <td>6</td>\n      <td>NaN</td>\n      <td>None</td>\n      <td>030197.000011.105:6</td>\n      <td>000011</td>\n      <td>IC6</td>\n      <td>...</td>\n      <td>TH</td>\n      <td>Thun</td>\n      <td>None</td>\n      <td>46.754853</td>\n      <td>7.629606</td>\n      <td>559</td>\n      <td>None</td>\n      <td>None</td>\n      <td>0</td>\n      <td>8507100</td>\n    </tr>\n    <tr>\n      <th>4</th>\n      <td>010804.000011.101:8</td>\n      <td>325497</td>\n      <td>15628:2</td>\n      <td>Brig</td>\n      <td>8</td>\n      <td>NaN</td>\n      <td>None</td>\n      <td>010804.000011.101:8</td>\n      <td>000011</td>\n      <td>IC8</td>\n      <td>...</td>\n      <td>ZUE</td>\n      <td>Zürich HB</td>\n      <td>None</td>\n      <td>47.378177</td>\n      <td>8.540212</td>\n      <td>407</td>\n      <td>None</td>\n      <td>None</td>\n      <td>0</td>\n      <td>8503000</td>\n    </tr>\n    <tr>\n      <th>...</th>\n      <td>...</td>\n      <td>...</td>\n      <td>...</td>\n      <td>...</td>\n      <td>...</td>\n      <td>...</td>\n      <td>...</td>\n      <td>...</td>\n      <td>...</td>\n      <td>...</td>\n      <td>...</td>\n      <td>...</td>\n      <td>...</td>\n      <td>...</td>\n      <td>...</td>\n      <td>...</td>\n      <td>...</td>\n      <td>...</td>\n      <td>...</td>\n      <td>...</td>\n      <td>...</td>\n    </tr>\n    <tr>\n      <th>27188</th>\n      <td>000807.000011.101:8</td>\n      <td>003148</td>\n      <td>3398:15</td>\n      <td>Romanshorn</td>\n      <td>8</td>\n      <td>NaN</td>\n      <td>None</td>\n      <td>000807.000011.101:8</td>\n      <td>000011</td>\n      <td>IC8</td>\n      <td>...</td>\n      <td>RH</td>\n      <td>Romanshorn</td>\n      <td>None</td>\n      <td>47.565523</td>\n      <td>9.379371</td>\n      <td>398</td>\n      <td>None</td>\n      <td>None</td>\n      <td>0</td>\n      <td>8506121</td>\n    </tr>\n    <tr>\n      <th>27189</th>\n      <td>000807.000011.103:8</td>\n      <td>367211</td>\n      <td>3400:1</td>\n      <td>Romanshorn</td>\n      <td>8</td>\n      <td>NaN</td>\n      <td>None</td>\n      <td>000807.000011.103:8</td>\n      <td>000011</td>\n      <td>IC8</td>\n      <td>...</td>\n      <td>RH</td>\n      <td>Romanshorn</td>\n      <td>None</td>\n      <td>47.565523</td>\n      <td>9.379371</td>\n      <td>398</td>\n      <td>None</td>\n      <td>None</td>\n      <td>0</td>\n      <td>8506121</td>\n    </tr>\n    <tr>\n      <th>27190</th>\n      <td>000807.000011.103:8</td>\n      <td>044409</td>\n      <td>3400:2</td>\n      <td>Romanshorn</td>\n      <td>8</td>\n      <td>NaN</td>\n      <td>None</td>\n      <td>000807.000011.103:8</td>\n      <td>000011</td>\n      <td>IC8</td>\n      <td>...</td>\n      <td>RH</td>\n      <td>Romanshorn</td>\n      <td>None</td>\n      <td>47.565523</td>\n      <td>9.379371</td>\n      <td>398</td>\n      <td>None</td>\n      <td>None</td>\n      <td>0</td>\n      <td>8506121</td>\n    </tr>\n    <tr>\n      <th>27191</th>\n      <td>000807.000011.101:8</td>\n      <td>003145</td>\n      <td>3398:13</td>\n      <td>Romanshorn</td>\n      <td>8</td>\n      <td>NaN</td>\n      <td>None</td>\n      <td>000807.000011.101:8</td>\n      <td>000011</td>\n      <td>IC8</td>\n      <td>...</td>\n      <td>RH</td>\n      <td>Romanshorn</td>\n      <td>None</td>\n      <td>47.565523</td>\n      <td>9.379371</td>\n      <td>398</td>\n      <td>None</td>\n      <td>None</td>\n      <td>0</td>\n      <td>8506121</td>\n    </tr>\n    <tr>\n      <th>27192</th>\n      <td>000807.000011.103:8</td>\n      <td>224175</td>\n      <td>3400:3</td>\n      <td>Romanshorn</td>\n      <td>8</td>\n      <td>NaN</td>\n      <td>None</td>\n      <td>000807.000011.103:8</td>\n      <td>000011</td>\n      <td>IC8</td>\n      <td>...</td>\n      <td>RH</td>\n      <td>Romanshorn</td>\n      <td>None</td>\n      <td>47.565523</td>\n      <td>9.379371</td>\n      <td>398</td>\n      <td>None</td>\n      <td>None</td>\n      <td>0</td>\n      <td>8506121</td>\n    </tr>\n  </tbody>\n</table>\n<p>27193 rows × 31 columns</p>\n</div>"
     },
     "execution_count": 9,
     "metadata": {},
     "output_type": "execute_result"
    }
   ],
   "source": [
    "# get route and trip iwth route_long_name ICE 8\n",
    "qry = f\"\"\"\n",
    "SELECT\n",
    "    *\n",
    "FROM trips\n",
    "INNER JOIN routes\n",
    "ON trips.route_id = routes.route_id\n",
    "INNER JOIN stop_times\n",
    "ON trips.trip_id = stop_times.trip_id\n",
    "INNER JOIN stops\n",
    "ON stop_times.stop_id = stops.stop_id\n",
    "WHERE route_long_name = 'IC 8' or route_long_name = 'IC 6'\n",
    "ORDER BY stop_times.stop_sequence\n",
    "\"\"\"\n",
    "trips = connection.execute(qry).fetchdf()\n",
    "trips\n",
    "\n",
    "\n"
   ],
   "metadata": {
    "collapsed": false,
    "ExecuteTime": {
     "end_time": "2024-11-28T23:37:02.921000700Z",
     "start_time": "2024-11-28T23:37:02.658948200Z"
    }
   }
  },
  {
   "cell_type": "code",
   "execution_count": 37,
   "outputs": [
    {
     "data": {
      "text/plain": "      stop_id stop_code               stop_name stop_desc   stop_lat  \\\n0  8503000:10       ZUE               Zürich HB      None  47.378177   \n1   8502113:4        AA                   Aarau      None  47.391360   \n2   8500218:8        OL                   Olten      None  47.351935   \n3     0000132      None       Bahn-2000-Strecke      None  47.196374   \n4   8507000:7        BN                    Bern      None  46.948832   \n5   8507100:2        TH                    Thun      None  46.754853   \n6   8507483:3        SP                   Spiez      None  46.686396   \n7     0000135      None  Lötschberg-Basistunnel      None  46.356888   \n8   8501605:7        VI                    Visp      None  46.294029   \n9   8501609:3        BR                    Brig      None  46.319423   \n\n   stop_lon zone_id stop_url location_type parent_station  ... trip_headsign  \\\n0  8.540212     407     None          None              0  ...          Brig   \n1  8.051274     383     None          None              0  ...          Brig   \n2  7.907700     396     None          None              0  ...          Brig   \n3  7.689360       0     None          None              0  ...          Brig   \n4  7.439131     540     None          None              0  ...          Brig   \n5  7.629606     559     None          None              0  ...          Brig   \n6  7.680103     627     None          None              0  ...          Brig   \n7  7.773846       0     None          None              0  ...          Brig   \n8  7.881465     650     None          None              0  ...          Brig   \n9  7.988095     677     None          None              0  ...          Brig   \n\n  trip_short_name direction_id block_id           route_id_1  agency_id  \\\n0               8          NaN     None  010806.000011.105:8     000011   \n1               8          NaN     None  010806.000011.105:8     000011   \n2               8          NaN     None  010806.000011.105:8     000011   \n3               8          NaN     None  010806.000011.105:8     000011   \n4               8          NaN     None  010806.000011.105:8     000011   \n5               8          NaN     None  010806.000011.105:8     000011   \n6               8          NaN     None  010806.000011.105:8     000011   \n7               8          NaN     None  010806.000011.105:8     000011   \n8               8          NaN     None  010806.000011.105:8     000011   \n9               8          NaN     None  010806.000011.105:8     000011   \n\n   route_short_name  route_long_name route_desc route_type  \n0               IC8             IC 8       None          2  \n1               IC8             IC 8       None          2  \n2               IC8             IC 8       None          2  \n3               IC8             IC 8       None          2  \n4               IC8             IC 8       None          2  \n5               IC8             IC 8       None          2  \n6               IC8             IC 8       None          2  \n7               IC8             IC 8       None          2  \n8               IC8             IC 8       None          2  \n9               IC8             IC 8       None          2  \n\n[10 rows x 31 columns]",
      "text/html": "<div>\n<style scoped>\n    .dataframe tbody tr th:only-of-type {\n        vertical-align: middle;\n    }\n\n    .dataframe tbody tr th {\n        vertical-align: top;\n    }\n\n    .dataframe thead th {\n        text-align: right;\n    }\n</style>\n<table border=\"1\" class=\"dataframe\">\n  <thead>\n    <tr style=\"text-align: right;\">\n      <th></th>\n      <th>stop_id</th>\n      <th>stop_code</th>\n      <th>stop_name</th>\n      <th>stop_desc</th>\n      <th>stop_lat</th>\n      <th>stop_lon</th>\n      <th>zone_id</th>\n      <th>stop_url</th>\n      <th>location_type</th>\n      <th>parent_station</th>\n      <th>...</th>\n      <th>trip_headsign</th>\n      <th>trip_short_name</th>\n      <th>direction_id</th>\n      <th>block_id</th>\n      <th>route_id_1</th>\n      <th>agency_id</th>\n      <th>route_short_name</th>\n      <th>route_long_name</th>\n      <th>route_desc</th>\n      <th>route_type</th>\n    </tr>\n  </thead>\n  <tbody>\n    <tr>\n      <th>0</th>\n      <td>8503000:10</td>\n      <td>ZUE</td>\n      <td>Zürich HB</td>\n      <td>None</td>\n      <td>47.378177</td>\n      <td>8.540212</td>\n      <td>407</td>\n      <td>None</td>\n      <td>None</td>\n      <td>0</td>\n      <td>...</td>\n      <td>Brig</td>\n      <td>8</td>\n      <td>NaN</td>\n      <td>None</td>\n      <td>010806.000011.105:8</td>\n      <td>000011</td>\n      <td>IC8</td>\n      <td>IC 8</td>\n      <td>None</td>\n      <td>2</td>\n    </tr>\n    <tr>\n      <th>1</th>\n      <td>8502113:4</td>\n      <td>AA</td>\n      <td>Aarau</td>\n      <td>None</td>\n      <td>47.391360</td>\n      <td>8.051274</td>\n      <td>383</td>\n      <td>None</td>\n      <td>None</td>\n      <td>0</td>\n      <td>...</td>\n      <td>Brig</td>\n      <td>8</td>\n      <td>NaN</td>\n      <td>None</td>\n      <td>010806.000011.105:8</td>\n      <td>000011</td>\n      <td>IC8</td>\n      <td>IC 8</td>\n      <td>None</td>\n      <td>2</td>\n    </tr>\n    <tr>\n      <th>2</th>\n      <td>8500218:8</td>\n      <td>OL</td>\n      <td>Olten</td>\n      <td>None</td>\n      <td>47.351935</td>\n      <td>7.907700</td>\n      <td>396</td>\n      <td>None</td>\n      <td>None</td>\n      <td>0</td>\n      <td>...</td>\n      <td>Brig</td>\n      <td>8</td>\n      <td>NaN</td>\n      <td>None</td>\n      <td>010806.000011.105:8</td>\n      <td>000011</td>\n      <td>IC8</td>\n      <td>IC 8</td>\n      <td>None</td>\n      <td>2</td>\n    </tr>\n    <tr>\n      <th>3</th>\n      <td>0000132</td>\n      <td>None</td>\n      <td>Bahn-2000-Strecke</td>\n      <td>None</td>\n      <td>47.196374</td>\n      <td>7.689360</td>\n      <td>0</td>\n      <td>None</td>\n      <td>None</td>\n      <td>0</td>\n      <td>...</td>\n      <td>Brig</td>\n      <td>8</td>\n      <td>NaN</td>\n      <td>None</td>\n      <td>010806.000011.105:8</td>\n      <td>000011</td>\n      <td>IC8</td>\n      <td>IC 8</td>\n      <td>None</td>\n      <td>2</td>\n    </tr>\n    <tr>\n      <th>4</th>\n      <td>8507000:7</td>\n      <td>BN</td>\n      <td>Bern</td>\n      <td>None</td>\n      <td>46.948832</td>\n      <td>7.439131</td>\n      <td>540</td>\n      <td>None</td>\n      <td>None</td>\n      <td>0</td>\n      <td>...</td>\n      <td>Brig</td>\n      <td>8</td>\n      <td>NaN</td>\n      <td>None</td>\n      <td>010806.000011.105:8</td>\n      <td>000011</td>\n      <td>IC8</td>\n      <td>IC 8</td>\n      <td>None</td>\n      <td>2</td>\n    </tr>\n    <tr>\n      <th>5</th>\n      <td>8507100:2</td>\n      <td>TH</td>\n      <td>Thun</td>\n      <td>None</td>\n      <td>46.754853</td>\n      <td>7.629606</td>\n      <td>559</td>\n      <td>None</td>\n      <td>None</td>\n      <td>0</td>\n      <td>...</td>\n      <td>Brig</td>\n      <td>8</td>\n      <td>NaN</td>\n      <td>None</td>\n      <td>010806.000011.105:8</td>\n      <td>000011</td>\n      <td>IC8</td>\n      <td>IC 8</td>\n      <td>None</td>\n      <td>2</td>\n    </tr>\n    <tr>\n      <th>6</th>\n      <td>8507483:3</td>\n      <td>SP</td>\n      <td>Spiez</td>\n      <td>None</td>\n      <td>46.686396</td>\n      <td>7.680103</td>\n      <td>627</td>\n      <td>None</td>\n      <td>None</td>\n      <td>0</td>\n      <td>...</td>\n      <td>Brig</td>\n      <td>8</td>\n      <td>NaN</td>\n      <td>None</td>\n      <td>010806.000011.105:8</td>\n      <td>000011</td>\n      <td>IC8</td>\n      <td>IC 8</td>\n      <td>None</td>\n      <td>2</td>\n    </tr>\n    <tr>\n      <th>7</th>\n      <td>0000135</td>\n      <td>None</td>\n      <td>Lötschberg-Basistunnel</td>\n      <td>None</td>\n      <td>46.356888</td>\n      <td>7.773846</td>\n      <td>0</td>\n      <td>None</td>\n      <td>None</td>\n      <td>0</td>\n      <td>...</td>\n      <td>Brig</td>\n      <td>8</td>\n      <td>NaN</td>\n      <td>None</td>\n      <td>010806.000011.105:8</td>\n      <td>000011</td>\n      <td>IC8</td>\n      <td>IC 8</td>\n      <td>None</td>\n      <td>2</td>\n    </tr>\n    <tr>\n      <th>8</th>\n      <td>8501605:7</td>\n      <td>VI</td>\n      <td>Visp</td>\n      <td>None</td>\n      <td>46.294029</td>\n      <td>7.881465</td>\n      <td>650</td>\n      <td>None</td>\n      <td>None</td>\n      <td>0</td>\n      <td>...</td>\n      <td>Brig</td>\n      <td>8</td>\n      <td>NaN</td>\n      <td>None</td>\n      <td>010806.000011.105:8</td>\n      <td>000011</td>\n      <td>IC8</td>\n      <td>IC 8</td>\n      <td>None</td>\n      <td>2</td>\n    </tr>\n    <tr>\n      <th>9</th>\n      <td>8501609:3</td>\n      <td>BR</td>\n      <td>Brig</td>\n      <td>None</td>\n      <td>46.319423</td>\n      <td>7.988095</td>\n      <td>677</td>\n      <td>None</td>\n      <td>None</td>\n      <td>0</td>\n      <td>...</td>\n      <td>Brig</td>\n      <td>8</td>\n      <td>NaN</td>\n      <td>None</td>\n      <td>010806.000011.105:8</td>\n      <td>000011</td>\n      <td>IC8</td>\n      <td>IC 8</td>\n      <td>None</td>\n      <td>2</td>\n    </tr>\n  </tbody>\n</table>\n<p>10 rows × 31 columns</p>\n</div>"
     },
     "execution_count": 37,
     "metadata": {},
     "output_type": "execute_result"
    }
   ],
   "source": [
    "# Get all stops for the route ICE 8\n",
    "qry = f\"\"\"\n",
    "SELECT\n",
    "    *\n",
    "FROM stops\n",
    "INNER JOIN stop_times\n",
    "ON stops.stop_id = stop_times.stop_id\n",
    "INNER JOIN trips\n",
    "ON stop_times.trip_id = trips.trip_id\n",
    "INNER JOIN routes\n",
    "ON trips.route_id = routes.route_id\n",
    "WHERE route_long_name = 'IC 8' AND trip_headsign = 'Brig' AND trips.trip_id='15643:1'\n",
    "ORDER BY stop_sequence\n",
    "\"\"\"\n",
    "stops_IC8 = connection.execute(qry).fetchdf()\n",
    "stops_IC8"
   ],
   "metadata": {
    "collapsed": false,
    "ExecuteTime": {
     "end_time": "2024-11-28T23:56:02.137963800Z",
     "start_time": "2024-11-28T23:56:02.105862Z"
    }
   }
  },
  {
   "cell_type": "code",
   "execution_count": 73,
   "outputs": [
    {
     "data": {
      "text/plain": "      stop_id stop_code               stop_name stop_desc   stop_lat  \\\n0   8500010:9        BS               Basel SBB      None  47.547412   \n1   8500023:2       LST                 Liestal      None  47.484461   \n2  8500218:11        OL                   Olten      None  47.351935   \n3     0000132      None       Bahn-2000-Strecke      None  47.196374   \n4   8507000:7        BN                    Bern      None  46.948832   \n5   8507100:2        TH                    Thun      None  46.754853   \n6   8507483:3        SP                   Spiez      None  46.686396   \n7     0000135      None  Lötschberg-Basistunnel      None  46.356888   \n8   8501605:7        VI                    Visp      None  46.294029   \n9   8501609:3        BR                    Brig      None  46.319423   \n\n   stop_lon zone_id stop_url location_type parent_station  ... trip_headsign  \\\n0  7.589563     276     None          None              0  ...          Brig   \n1  7.731367     327     None          None              0  ...          Brig   \n2  7.907700     396     None          None              0  ...          Brig   \n3  7.689360       0     None          None              0  ...          Brig   \n4  7.439131     540     None          None              0  ...          Brig   \n5  7.629606     559     None          None              0  ...          Brig   \n6  7.680103     627     None          None              0  ...          Brig   \n7  7.773846       0     None          None              0  ...          Brig   \n8  7.881465     650     None          None              0  ...          Brig   \n9  7.988095     677     None          None              0  ...          Brig   \n\n  trip_short_name direction_id block_id           route_id_1  agency_id  \\\n0               6          NaN     None  000961.000011.107:6     000011   \n1               6          NaN     None  000961.000011.107:6     000011   \n2               6          NaN     None  000961.000011.107:6     000011   \n3               6          NaN     None  000961.000011.107:6     000011   \n4               6          NaN     None  000961.000011.107:6     000011   \n5               6          NaN     None  000961.000011.107:6     000011   \n6               6          NaN     None  000961.000011.107:6     000011   \n7               6          NaN     None  000961.000011.107:6     000011   \n8               6          NaN     None  000961.000011.107:6     000011   \n9               6          NaN     None  000961.000011.107:6     000011   \n\n   route_short_name  route_long_name route_desc route_type  \n0               IC6             IC 6       None          2  \n1               IC6             IC 6       None          2  \n2               IC6             IC 6       None          2  \n3               IC6             IC 6       None          2  \n4               IC6             IC 6       None          2  \n5               IC6             IC 6       None          2  \n6               IC6             IC 6       None          2  \n7               IC6             IC 6       None          2  \n8               IC6             IC 6       None          2  \n9               IC6             IC 6       None          2  \n\n[10 rows x 31 columns]",
      "text/html": "<div>\n<style scoped>\n    .dataframe tbody tr th:only-of-type {\n        vertical-align: middle;\n    }\n\n    .dataframe tbody tr th {\n        vertical-align: top;\n    }\n\n    .dataframe thead th {\n        text-align: right;\n    }\n</style>\n<table border=\"1\" class=\"dataframe\">\n  <thead>\n    <tr style=\"text-align: right;\">\n      <th></th>\n      <th>stop_id</th>\n      <th>stop_code</th>\n      <th>stop_name</th>\n      <th>stop_desc</th>\n      <th>stop_lat</th>\n      <th>stop_lon</th>\n      <th>zone_id</th>\n      <th>stop_url</th>\n      <th>location_type</th>\n      <th>parent_station</th>\n      <th>...</th>\n      <th>trip_headsign</th>\n      <th>trip_short_name</th>\n      <th>direction_id</th>\n      <th>block_id</th>\n      <th>route_id_1</th>\n      <th>agency_id</th>\n      <th>route_short_name</th>\n      <th>route_long_name</th>\n      <th>route_desc</th>\n      <th>route_type</th>\n    </tr>\n  </thead>\n  <tbody>\n    <tr>\n      <th>0</th>\n      <td>8500010:9</td>\n      <td>BS</td>\n      <td>Basel SBB</td>\n      <td>None</td>\n      <td>47.547412</td>\n      <td>7.589563</td>\n      <td>276</td>\n      <td>None</td>\n      <td>None</td>\n      <td>0</td>\n      <td>...</td>\n      <td>Brig</td>\n      <td>6</td>\n      <td>NaN</td>\n      <td>None</td>\n      <td>000961.000011.107:6</td>\n      <td>000011</td>\n      <td>IC6</td>\n      <td>IC 6</td>\n      <td>None</td>\n      <td>2</td>\n    </tr>\n    <tr>\n      <th>1</th>\n      <td>8500023:2</td>\n      <td>LST</td>\n      <td>Liestal</td>\n      <td>None</td>\n      <td>47.484461</td>\n      <td>7.731367</td>\n      <td>327</td>\n      <td>None</td>\n      <td>None</td>\n      <td>0</td>\n      <td>...</td>\n      <td>Brig</td>\n      <td>6</td>\n      <td>NaN</td>\n      <td>None</td>\n      <td>000961.000011.107:6</td>\n      <td>000011</td>\n      <td>IC6</td>\n      <td>IC 6</td>\n      <td>None</td>\n      <td>2</td>\n    </tr>\n    <tr>\n      <th>2</th>\n      <td>8500218:11</td>\n      <td>OL</td>\n      <td>Olten</td>\n      <td>None</td>\n      <td>47.351935</td>\n      <td>7.907700</td>\n      <td>396</td>\n      <td>None</td>\n      <td>None</td>\n      <td>0</td>\n      <td>...</td>\n      <td>Brig</td>\n      <td>6</td>\n      <td>NaN</td>\n      <td>None</td>\n      <td>000961.000011.107:6</td>\n      <td>000011</td>\n      <td>IC6</td>\n      <td>IC 6</td>\n      <td>None</td>\n      <td>2</td>\n    </tr>\n    <tr>\n      <th>3</th>\n      <td>0000132</td>\n      <td>None</td>\n      <td>Bahn-2000-Strecke</td>\n      <td>None</td>\n      <td>47.196374</td>\n      <td>7.689360</td>\n      <td>0</td>\n      <td>None</td>\n      <td>None</td>\n      <td>0</td>\n      <td>...</td>\n      <td>Brig</td>\n      <td>6</td>\n      <td>NaN</td>\n      <td>None</td>\n      <td>000961.000011.107:6</td>\n      <td>000011</td>\n      <td>IC6</td>\n      <td>IC 6</td>\n      <td>None</td>\n      <td>2</td>\n    </tr>\n    <tr>\n      <th>4</th>\n      <td>8507000:7</td>\n      <td>BN</td>\n      <td>Bern</td>\n      <td>None</td>\n      <td>46.948832</td>\n      <td>7.439131</td>\n      <td>540</td>\n      <td>None</td>\n      <td>None</td>\n      <td>0</td>\n      <td>...</td>\n      <td>Brig</td>\n      <td>6</td>\n      <td>NaN</td>\n      <td>None</td>\n      <td>000961.000011.107:6</td>\n      <td>000011</td>\n      <td>IC6</td>\n      <td>IC 6</td>\n      <td>None</td>\n      <td>2</td>\n    </tr>\n    <tr>\n      <th>5</th>\n      <td>8507100:2</td>\n      <td>TH</td>\n      <td>Thun</td>\n      <td>None</td>\n      <td>46.754853</td>\n      <td>7.629606</td>\n      <td>559</td>\n      <td>None</td>\n      <td>None</td>\n      <td>0</td>\n      <td>...</td>\n      <td>Brig</td>\n      <td>6</td>\n      <td>NaN</td>\n      <td>None</td>\n      <td>000961.000011.107:6</td>\n      <td>000011</td>\n      <td>IC6</td>\n      <td>IC 6</td>\n      <td>None</td>\n      <td>2</td>\n    </tr>\n    <tr>\n      <th>6</th>\n      <td>8507483:3</td>\n      <td>SP</td>\n      <td>Spiez</td>\n      <td>None</td>\n      <td>46.686396</td>\n      <td>7.680103</td>\n      <td>627</td>\n      <td>None</td>\n      <td>None</td>\n      <td>0</td>\n      <td>...</td>\n      <td>Brig</td>\n      <td>6</td>\n      <td>NaN</td>\n      <td>None</td>\n      <td>000961.000011.107:6</td>\n      <td>000011</td>\n      <td>IC6</td>\n      <td>IC 6</td>\n      <td>None</td>\n      <td>2</td>\n    </tr>\n    <tr>\n      <th>7</th>\n      <td>0000135</td>\n      <td>None</td>\n      <td>Lötschberg-Basistunnel</td>\n      <td>None</td>\n      <td>46.356888</td>\n      <td>7.773846</td>\n      <td>0</td>\n      <td>None</td>\n      <td>None</td>\n      <td>0</td>\n      <td>...</td>\n      <td>Brig</td>\n      <td>6</td>\n      <td>NaN</td>\n      <td>None</td>\n      <td>000961.000011.107:6</td>\n      <td>000011</td>\n      <td>IC6</td>\n      <td>IC 6</td>\n      <td>None</td>\n      <td>2</td>\n    </tr>\n    <tr>\n      <th>8</th>\n      <td>8501605:7</td>\n      <td>VI</td>\n      <td>Visp</td>\n      <td>None</td>\n      <td>46.294029</td>\n      <td>7.881465</td>\n      <td>650</td>\n      <td>None</td>\n      <td>None</td>\n      <td>0</td>\n      <td>...</td>\n      <td>Brig</td>\n      <td>6</td>\n      <td>NaN</td>\n      <td>None</td>\n      <td>000961.000011.107:6</td>\n      <td>000011</td>\n      <td>IC6</td>\n      <td>IC 6</td>\n      <td>None</td>\n      <td>2</td>\n    </tr>\n    <tr>\n      <th>9</th>\n      <td>8501609:3</td>\n      <td>BR</td>\n      <td>Brig</td>\n      <td>None</td>\n      <td>46.319423</td>\n      <td>7.988095</td>\n      <td>677</td>\n      <td>None</td>\n      <td>None</td>\n      <td>0</td>\n      <td>...</td>\n      <td>Brig</td>\n      <td>6</td>\n      <td>NaN</td>\n      <td>None</td>\n      <td>000961.000011.107:6</td>\n      <td>000011</td>\n      <td>IC6</td>\n      <td>IC 6</td>\n      <td>None</td>\n      <td>2</td>\n    </tr>\n  </tbody>\n</table>\n<p>10 rows × 31 columns</p>\n</div>"
     },
     "execution_count": 73,
     "metadata": {},
     "output_type": "execute_result"
    }
   ],
   "source": [
    "# Get all stops for the route ICE 6\n",
    "qry = f\"\"\"\n",
    "SELECT\n",
    "    *\n",
    "FROM stops\n",
    "INNER JOIN stop_times\n",
    "ON stops.stop_id = stop_times.stop_id\n",
    "INNER JOIN trips\n",
    "ON stop_times.trip_id = trips.trip_id\n",
    "INNER JOIN routes\n",
    "ON trips.route_id = routes.route_id\n",
    "WHERE route_long_name = 'IC 6' AND trip_headsign = 'Brig' AND trips.trip_id='4008:1'\n",
    "ORDER BY stop_sequence\n",
    "\"\"\"\n",
    "stops_IC6 = connection.execute(qry).fetchdf()\n",
    "stops_IC6"
   ],
   "metadata": {
    "collapsed": false,
    "ExecuteTime": {
     "end_time": "2024-11-29T00:45:24.749040900Z",
     "start_time": "2024-11-29T00:45:24.670342700Z"
    }
   }
  },
  {
   "cell_type": "code",
   "execution_count": 77,
   "outputs": [],
   "source": [
    "# Function that converts timestamp to minutes\n",
    "def convert_string_timestamp_to_minutes(timestamp):\n",
    "    if timestamp is None:\n",
    "        return None\n",
    "    print(timestamp)\n",
    "    time = timestamp.split(\":\")\n",
    "    return int(time[0])*60 + int(time[1])"
   ],
   "metadata": {
    "collapsed": false,
    "ExecuteTime": {
     "end_time": "2024-11-29T00:46:21.137939300Z",
     "start_time": "2024-11-29T00:46:21.094312Z"
    }
   }
  },
  {
   "cell_type": "code",
   "execution_count": 79,
   "outputs": [],
   "source": [
    "# Convert the structure into the following:\n",
    "# \"stop_code\": [(departure_time, \"stop_code\", arrival_time,\"route_short_name\")]\n",
    "\n",
    "def create_graph_list_structure(s):\n",
    "    stops = s.copy()\n",
    "    # Remove rows that have a stop code of None\n",
    "    stops = stops[stops[\"stop_code\"].notnull()]\n",
    "    stops = stops.reset_index(drop=True)\n",
    "    stops[\"stop_sequence\"] = stops.index # to know the order of the stops\n",
    "    # loop through the stops and create the structure\n",
    "    stops_dict = {}\n",
    "    for i in range(len(stops)):\n",
    "        stop = stops.iloc[i]\n",
    "        # get the next stop -> meaning (stop_sequence of current stop + 1)\n",
    "        next_stop = stops[stops[\"stop_sequence\"] == stop[\"stop_sequence\"] + 1]\n",
    "        if len(next_stop) == 0:\n",
    "            continue\n",
    "        stop_name = stop[\"stop_name\"]\n",
    "        next_stop_name = next_stop[\"stop_name\"].values[0]\n",
    "        if next_stop_name not in stops_dict:\n",
    "            stops_dict[next_stop_name] = []\n",
    "        departure_time = convert_string_timestamp_to_minutes(stop[\"departure_time\"])\n",
    "        # use the arrival time of the next stop\n",
    "        arrival_time = convert_string_timestamp_to_minutes(next_stop[\"arrival_time\"].values[0])\n",
    "        route_short_name = stop[\"route_short_name\"]\n",
    "        if stop_name not in stops_dict:\n",
    "            stops_dict[stop_name] = [(departure_time, next_stop_name, arrival_time, route_short_name)]\n",
    "        else:\n",
    "            stops_dict[stop_name].append((departure_time, next_stop_name, arrival_time, route_short_name))\n",
    "\n",
    "    # delete entry with None stop_code\n",
    "    if None in stops_dict:\n",
    "        del stops_dict[None]\n",
    "    return stops_dict\n"
   ],
   "metadata": {
    "collapsed": false,
    "ExecuteTime": {
     "end_time": "2024-11-29T00:46:56.090849100Z",
     "start_time": "2024-11-29T00:46:56.088245800Z"
    }
   }
  },
  {
   "cell_type": "code",
   "execution_count": 80,
   "outputs": [
    {
     "name": "stdout",
     "output_type": "stream",
     "text": [
      "06:44:00\n",
      "07:16:00\n",
      "07:18:00\n",
      "07:27:00\n",
      "07:31:00\n",
      "07:58:00\n",
      "08:07:00\n",
      "08:25:00\n",
      "08:26:00\n",
      "08:36:00\n",
      "08:36:00\n",
      "09:02:00\n",
      "09:03:00\n",
      "09:11:00\n",
      "07:55:00\n",
      "08:06:00\n",
      "08:07:00\n",
      "08:25:00\n",
      "08:29:00\n",
      "08:56:00\n",
      "09:07:00\n",
      "09:25:00\n",
      "09:26:00\n",
      "09:36:00\n",
      "09:36:00\n",
      "10:02:00\n",
      "10:03:00\n",
      "10:11:00\n"
     ]
    },
    {
     "data": {
      "text/plain": "{'Liestal': [(487, 'Olten', 505, 'IC6')],\n 'Basel SBB': [(475, 'Liestal', 486, 'IC6')],\n 'Olten': [(509, 'Bern', 536, 'IC6'), (451, 'Bern', 478, 'IC8')],\n 'Bern': [(547, 'Thun', 565, 'IC6'), (487, 'Thun', 505, 'IC8')],\n 'Thun': [(566, 'Spiez', 576, 'IC6'), (506, 'Spiez', 516, 'IC8')],\n 'Spiez': [(576, 'Visp', 602, 'IC6'), (516, 'Visp', 542, 'IC8')],\n 'Visp': [(603, 'Brig', 611, 'IC6'), (543, 'Brig', 551, 'IC8')],\n 'Brig': [],\n 'Aarau': [(438, 'Olten', 447, 'IC8')],\n 'Zürich HB': [(404, 'Aarau', 436, 'IC8')]}"
     },
     "execution_count": 80,
     "metadata": {},
     "output_type": "execute_result"
    }
   ],
   "source": [
    "\n",
    "# stops_IC8\n",
    "stops_IC8_dict = create_graph_list_structure(stops_IC8)\n",
    "stops_IC6_dict = create_graph_list_structure(stops_IC6)\n",
    "\n",
    "# combine the two dictionaries\n",
    "# loop through the stops_IC6_dict and add to stops_IC8_dict\n",
    "stops_all_dict = {}\n",
    "for key, value in stops_IC6_dict.items():\n",
    "    if key in stops_all_dict:\n",
    "        stops_all_dict[key] += value\n",
    "    else:\n",
    "        stops_all_dict[key] = value\n",
    "\n",
    "for key, value in stops_IC8_dict.items():\n",
    "    if key in stops_all_dict:\n",
    "        stops_all_dict[key] += value\n",
    "    else:\n",
    "        stops_all_dict[key] = value\n",
    "\n",
    "\n",
    "stops_all_dict\n"
   ],
   "metadata": {
    "collapsed": false,
    "ExecuteTime": {
     "end_time": "2024-11-29T00:46:58.005860500Z",
     "start_time": "2024-11-29T00:46:57.974074700Z"
    }
   }
  },
  {
   "cell_type": "code",
   "execution_count": 70,
   "outputs": [
    {
     "data": {
      "text/plain": "[{'stop_name': 'Zürich HB', 'stop_lat': 47.378177, 'stop_lon': 8.540212},\n {'stop_name': 'Aarau', 'stop_lat': 47.39136, 'stop_lon': 8.051274},\n {'stop_name': 'Olten', 'stop_lat': 47.351935, 'stop_lon': 7.9077},\n {'stop_name': 'Bern', 'stop_lat': 46.948832, 'stop_lon': 7.439131},\n {'stop_name': 'Thun', 'stop_lat': 46.754853, 'stop_lon': 7.629606},\n {'stop_name': 'Spiez', 'stop_lat': 46.686396, 'stop_lon': 7.680103},\n {'stop_name': 'Visp', 'stop_lat': 46.294029, 'stop_lon': 7.881465},\n {'stop_name': 'Brig', 'stop_lat': 46.319423, 'stop_lon': 7.988095},\n {'stop_name': 'Basel SBB', 'stop_lat': 47.547412, 'stop_lon': 7.589563},\n {'stop_name': 'Liestal', 'stop_lat': 47.484461, 'stop_lon': 7.731367}]"
     },
     "execution_count": 70,
     "metadata": {},
     "output_type": "execute_result"
    }
   ],
   "source": [
    "# combine stops_IC8 and stops_IC6\n",
    "stops_IC8_IC6 = pd.concat([stops_IC8, stops_IC6])\n",
    "# remove rows with stop_code = None\n",
    "stops_IC8_IC6 = stops_IC8_IC6[stops_IC8_IC6[\"stop_code\"].notnull()]\n",
    "# create list of stops with stop_name, stop_lat, stop_lon\n",
    "stops_IC8_IC6 = stops_IC8_IC6[[\"stop_name\", \"stop_lat\", \"stop_lon\"]].drop_duplicates()\n",
    "stops_IC8_IC6 = stops_IC8_IC6.reset_index(drop=True)\n",
    "stops_IC8_IC6_records = stops_IC8_IC6.to_dict(orient=\"records\")\n",
    "stops_IC8_IC6_records"
   ],
   "metadata": {
    "collapsed": false,
    "ExecuteTime": {
     "end_time": "2024-11-29T00:23:16.970283400Z",
     "start_time": "2024-11-29T00:23:16.953068100Z"
    }
   }
  },
  {
   "cell_type": "code",
   "execution_count": null,
   "outputs": [],
   "source": [],
   "metadata": {
    "collapsed": false
   }
  }
 ],
 "metadata": {
  "kernelspec": {
   "display_name": "Python 3",
   "language": "python",
   "name": "python3"
  },
  "language_info": {
   "codemirror_mode": {
    "name": "ipython",
    "version": 2
   },
   "file_extension": ".py",
   "mimetype": "text/x-python",
   "name": "python",
   "nbconvert_exporter": "python",
   "pygments_lexer": "ipython2",
   "version": "2.7.6"
  }
 },
 "nbformat": 4,
 "nbformat_minor": 0
}
