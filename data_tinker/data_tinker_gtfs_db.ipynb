{
 "cells": [
  {
   "cell_type": "code",
   "execution_count": 1,
   "metadata": {
    "collapsed": true,
    "ExecuteTime": {
     "end_time": "2024-11-19T19:57:42.796917400Z",
     "start_time": "2024-11-19T19:57:41.726881400Z"
    }
   },
   "outputs": [],
   "source": [
    "import duckdb\n",
    "import pandas as pd\n",
    "\n",
    "# Connect to the database\n",
    "connection = duckdb.connect(\"gtfs_fp2024_2023-09-27_04-15.db\", read_only=False)"
   ]
  },
  {
   "cell_type": "code",
   "execution_count": 7,
   "outputs": [
    {
     "name": "stdout",
     "output_type": "stream",
     "text": [
      "Trips\n",
      "Routes\n"
     ]
    },
    {
     "data": {
      "text/plain": "         route_id agency_id route_short_name route_long_name route_desc  \\\n0   91-10-A-j24-1        78              S10            None          S   \n1   91-10-B-j24-1        11              S10            None          S   \n2   91-10-C-j24-1        65              S10            None          S   \n3   91-10-E-j24-1      3849               10            None          T   \n4     91-10-j24-1        37               10            None          T   \n5   91-11-A-j24-1        11              S11            None          S   \n6   91-11-B-j24-1    327000              S11            None          S   \n7   91-11-C-j24-1      3849               11            None          T   \n8     91-11-j24-1        37               11            None          T   \n9   91-11-J-j24-1        33              R11            None          R   \n10  91-11-K-j24-1        72              R11            None          R   \n11  91-11-L-j24-1        81              S11            None          S   \n12  91-11-M-j24-1        97              R11            None          R   \n13  91-11-N-j24-1        33             RE11            None         RE   \n14  91-11-O-j24-1        33              S11            None          S   \n15  91-12-A-j24-1        65              S12            None          S   \n16  91-12-B-j24-1       881               12            None          T   \n17  91-12-C-j24-1      3849               12            None          T   \n18  91-12-I-j24-1        11             RE12            None         RE   \n19    91-12-j24-1        11              S12            None          S   \n\n    route_type  \n0          109  \n1          109  \n2          109  \n3          900  \n4          900  \n5          109  \n6          109  \n7          900  \n8          900  \n9          106  \n10         106  \n11         109  \n12         106  \n13         106  \n14         109  \n15         109  \n16         900  \n17         900  \n18         106  \n19         109  ",
      "text/html": "<div>\n<style scoped>\n    .dataframe tbody tr th:only-of-type {\n        vertical-align: middle;\n    }\n\n    .dataframe tbody tr th {\n        vertical-align: top;\n    }\n\n    .dataframe thead th {\n        text-align: right;\n    }\n</style>\n<table border=\"1\" class=\"dataframe\">\n  <thead>\n    <tr style=\"text-align: right;\">\n      <th></th>\n      <th>route_id</th>\n      <th>agency_id</th>\n      <th>route_short_name</th>\n      <th>route_long_name</th>\n      <th>route_desc</th>\n      <th>route_type</th>\n    </tr>\n  </thead>\n  <tbody>\n    <tr>\n      <th>0</th>\n      <td>91-10-A-j24-1</td>\n      <td>78</td>\n      <td>S10</td>\n      <td>None</td>\n      <td>S</td>\n      <td>109</td>\n    </tr>\n    <tr>\n      <th>1</th>\n      <td>91-10-B-j24-1</td>\n      <td>11</td>\n      <td>S10</td>\n      <td>None</td>\n      <td>S</td>\n      <td>109</td>\n    </tr>\n    <tr>\n      <th>2</th>\n      <td>91-10-C-j24-1</td>\n      <td>65</td>\n      <td>S10</td>\n      <td>None</td>\n      <td>S</td>\n      <td>109</td>\n    </tr>\n    <tr>\n      <th>3</th>\n      <td>91-10-E-j24-1</td>\n      <td>3849</td>\n      <td>10</td>\n      <td>None</td>\n      <td>T</td>\n      <td>900</td>\n    </tr>\n    <tr>\n      <th>4</th>\n      <td>91-10-j24-1</td>\n      <td>37</td>\n      <td>10</td>\n      <td>None</td>\n      <td>T</td>\n      <td>900</td>\n    </tr>\n    <tr>\n      <th>5</th>\n      <td>91-11-A-j24-1</td>\n      <td>11</td>\n      <td>S11</td>\n      <td>None</td>\n      <td>S</td>\n      <td>109</td>\n    </tr>\n    <tr>\n      <th>6</th>\n      <td>91-11-B-j24-1</td>\n      <td>327000</td>\n      <td>S11</td>\n      <td>None</td>\n      <td>S</td>\n      <td>109</td>\n    </tr>\n    <tr>\n      <th>7</th>\n      <td>91-11-C-j24-1</td>\n      <td>3849</td>\n      <td>11</td>\n      <td>None</td>\n      <td>T</td>\n      <td>900</td>\n    </tr>\n    <tr>\n      <th>8</th>\n      <td>91-11-j24-1</td>\n      <td>37</td>\n      <td>11</td>\n      <td>None</td>\n      <td>T</td>\n      <td>900</td>\n    </tr>\n    <tr>\n      <th>9</th>\n      <td>91-11-J-j24-1</td>\n      <td>33</td>\n      <td>R11</td>\n      <td>None</td>\n      <td>R</td>\n      <td>106</td>\n    </tr>\n    <tr>\n      <th>10</th>\n      <td>91-11-K-j24-1</td>\n      <td>72</td>\n      <td>R11</td>\n      <td>None</td>\n      <td>R</td>\n      <td>106</td>\n    </tr>\n    <tr>\n      <th>11</th>\n      <td>91-11-L-j24-1</td>\n      <td>81</td>\n      <td>S11</td>\n      <td>None</td>\n      <td>S</td>\n      <td>109</td>\n    </tr>\n    <tr>\n      <th>12</th>\n      <td>91-11-M-j24-1</td>\n      <td>97</td>\n      <td>R11</td>\n      <td>None</td>\n      <td>R</td>\n      <td>106</td>\n    </tr>\n    <tr>\n      <th>13</th>\n      <td>91-11-N-j24-1</td>\n      <td>33</td>\n      <td>RE11</td>\n      <td>None</td>\n      <td>RE</td>\n      <td>106</td>\n    </tr>\n    <tr>\n      <th>14</th>\n      <td>91-11-O-j24-1</td>\n      <td>33</td>\n      <td>S11</td>\n      <td>None</td>\n      <td>S</td>\n      <td>109</td>\n    </tr>\n    <tr>\n      <th>15</th>\n      <td>91-12-A-j24-1</td>\n      <td>65</td>\n      <td>S12</td>\n      <td>None</td>\n      <td>S</td>\n      <td>109</td>\n    </tr>\n    <tr>\n      <th>16</th>\n      <td>91-12-B-j24-1</td>\n      <td>881</td>\n      <td>12</td>\n      <td>None</td>\n      <td>T</td>\n      <td>900</td>\n    </tr>\n    <tr>\n      <th>17</th>\n      <td>91-12-C-j24-1</td>\n      <td>3849</td>\n      <td>12</td>\n      <td>None</td>\n      <td>T</td>\n      <td>900</td>\n    </tr>\n    <tr>\n      <th>18</th>\n      <td>91-12-I-j24-1</td>\n      <td>11</td>\n      <td>RE12</td>\n      <td>None</td>\n      <td>RE</td>\n      <td>106</td>\n    </tr>\n    <tr>\n      <th>19</th>\n      <td>91-12-j24-1</td>\n      <td>11</td>\n      <td>S12</td>\n      <td>None</td>\n      <td>S</td>\n      <td>109</td>\n    </tr>\n  </tbody>\n</table>\n</div>"
     },
     "execution_count": 7,
     "metadata": {},
     "output_type": "execute_result"
    }
   ],
   "source": [
    "# Print the first 20 rows of trips and the first 20 rows of routes\n",
    "qry_trips = \"SELECT * FROM trips LIMIT 20\"\n",
    "qry_routes = \"SELECT * FROM routes LIMIT 20\"\n",
    "\n",
    "df_trips = connection.sql(qry_trips).df()\n",
    "df_routes = connection.sql(qry_routes).df()\n",
    "\n",
    "print(\"Trips\")\n",
    "\n",
    "print(\"Routes\")\n",
    "df_routes"
   ],
   "metadata": {
    "collapsed": false,
    "ExecuteTime": {
     "end_time": "2024-11-15T09:41:41.760639700Z",
     "start_time": "2024-11-15T09:41:41.728909200Z"
    }
   }
  },
  {
   "cell_type": "code",
   "execution_count": 8,
   "outputs": [
    {
     "data": {
      "text/plain": "         route_id service_id                    trip_id  trip_headsign  \\\n0   91-10-A-j24-1   TA+vlr60     1.TA.91-10-A-j24-1.1.H  Zürich HB SZU   \n1   91-10-A-j24-1   TA+vlr60    10.TA.91-10-A-j24-1.1.H  Zürich HB SZU   \n2   91-10-A-j24-1   TA+ner60   100.TA.91-10-A-j24-1.7.H  Zürich HB SZU   \n3   91-10-A-j24-1   TA+vlr60   101.TA.91-10-A-j24-1.7.H  Zürich HB SZU   \n4   91-10-A-j24-1   TA+ner60   102.TA.91-10-A-j24-1.7.H  Zürich HB SZU   \n5   91-10-A-j24-1         TA   103.TA.91-10-A-j24-1.7.H  Zürich HB SZU   \n6   91-10-A-j24-1   TA+ner60   104.TA.91-10-A-j24-1.7.H  Zürich HB SZU   \n7   91-10-A-j24-1   TA+ner60   105.TA.91-10-A-j24-1.7.H  Zürich HB SZU   \n8   91-10-A-j24-1   TA+ner60   106.TA.91-10-A-j24-1.7.H  Zürich HB SZU   \n9   91-10-A-j24-1   TA+ner60   107.TA.91-10-A-j24-1.7.H  Zürich HB SZU   \n10  91-10-A-j24-1   TA+ner60   108.TA.91-10-A-j24-1.7.H  Zürich HB SZU   \n11  91-10-A-j24-1   TA+ner60   109.TA.91-10-A-j24-1.7.H  Zürich HB SZU   \n12  91-10-A-j24-1   TA+vlr60    11.TA.91-10-A-j24-1.1.H  Zürich HB SZU   \n13  91-10-A-j24-1   TA+ner60   110.TA.91-10-A-j24-1.7.H  Zürich HB SZU   \n14  91-10-A-j24-1   TA+ner60   111.TA.91-10-A-j24-1.7.H  Zürich HB SZU   \n15  91-10-A-j24-1   TA+ner60   112.TA.91-10-A-j24-1.7.H  Zürich HB SZU   \n16  91-10-A-j24-1   TA+ner60   113.TA.91-10-A-j24-1.7.H  Zürich HB SZU   \n17  91-10-A-j24-1   TA+ner60   114.TA.91-10-A-j24-1.7.H  Zürich HB SZU   \n18  91-10-A-j24-1   TA+ner60  115.TA.91-10-A-j24-1.24.H  Zürich HB SZU   \n19  91-10-A-j24-1   TA+ner60  116.TA.91-10-A-j24-1.24.H  Zürich HB SZU   \n\n   trip_short_name  direction_id block_id  \n0            12902             0     None  \n1            12766             0     None  \n2            12960             0     None  \n3            12874             0     None  \n4            12944             0     None  \n5            12964             0     None  \n6            12824             0     None  \n7            12844             0     None  \n8            12828             0     None  \n9            12836             0     None  \n10           12892             0     None  \n11           12900             0     None  \n12           12918             0     None  \n13           12884             0     None  \n14           12860             0     None  \n15           12868             0     None  \n16           12876             0     None  \n17           12852             0     None  \n18           12904             0     None  \n19           12848             0     None  ",
      "text/html": "<div>\n<style scoped>\n    .dataframe tbody tr th:only-of-type {\n        vertical-align: middle;\n    }\n\n    .dataframe tbody tr th {\n        vertical-align: top;\n    }\n\n    .dataframe thead th {\n        text-align: right;\n    }\n</style>\n<table border=\"1\" class=\"dataframe\">\n  <thead>\n    <tr style=\"text-align: right;\">\n      <th></th>\n      <th>route_id</th>\n      <th>service_id</th>\n      <th>trip_id</th>\n      <th>trip_headsign</th>\n      <th>trip_short_name</th>\n      <th>direction_id</th>\n      <th>block_id</th>\n    </tr>\n  </thead>\n  <tbody>\n    <tr>\n      <th>0</th>\n      <td>91-10-A-j24-1</td>\n      <td>TA+vlr60</td>\n      <td>1.TA.91-10-A-j24-1.1.H</td>\n      <td>Zürich HB SZU</td>\n      <td>12902</td>\n      <td>0</td>\n      <td>None</td>\n    </tr>\n    <tr>\n      <th>1</th>\n      <td>91-10-A-j24-1</td>\n      <td>TA+vlr60</td>\n      <td>10.TA.91-10-A-j24-1.1.H</td>\n      <td>Zürich HB SZU</td>\n      <td>12766</td>\n      <td>0</td>\n      <td>None</td>\n    </tr>\n    <tr>\n      <th>2</th>\n      <td>91-10-A-j24-1</td>\n      <td>TA+ner60</td>\n      <td>100.TA.91-10-A-j24-1.7.H</td>\n      <td>Zürich HB SZU</td>\n      <td>12960</td>\n      <td>0</td>\n      <td>None</td>\n    </tr>\n    <tr>\n      <th>3</th>\n      <td>91-10-A-j24-1</td>\n      <td>TA+vlr60</td>\n      <td>101.TA.91-10-A-j24-1.7.H</td>\n      <td>Zürich HB SZU</td>\n      <td>12874</td>\n      <td>0</td>\n      <td>None</td>\n    </tr>\n    <tr>\n      <th>4</th>\n      <td>91-10-A-j24-1</td>\n      <td>TA+ner60</td>\n      <td>102.TA.91-10-A-j24-1.7.H</td>\n      <td>Zürich HB SZU</td>\n      <td>12944</td>\n      <td>0</td>\n      <td>None</td>\n    </tr>\n    <tr>\n      <th>5</th>\n      <td>91-10-A-j24-1</td>\n      <td>TA</td>\n      <td>103.TA.91-10-A-j24-1.7.H</td>\n      <td>Zürich HB SZU</td>\n      <td>12964</td>\n      <td>0</td>\n      <td>None</td>\n    </tr>\n    <tr>\n      <th>6</th>\n      <td>91-10-A-j24-1</td>\n      <td>TA+ner60</td>\n      <td>104.TA.91-10-A-j24-1.7.H</td>\n      <td>Zürich HB SZU</td>\n      <td>12824</td>\n      <td>0</td>\n      <td>None</td>\n    </tr>\n    <tr>\n      <th>7</th>\n      <td>91-10-A-j24-1</td>\n      <td>TA+ner60</td>\n      <td>105.TA.91-10-A-j24-1.7.H</td>\n      <td>Zürich HB SZU</td>\n      <td>12844</td>\n      <td>0</td>\n      <td>None</td>\n    </tr>\n    <tr>\n      <th>8</th>\n      <td>91-10-A-j24-1</td>\n      <td>TA+ner60</td>\n      <td>106.TA.91-10-A-j24-1.7.H</td>\n      <td>Zürich HB SZU</td>\n      <td>12828</td>\n      <td>0</td>\n      <td>None</td>\n    </tr>\n    <tr>\n      <th>9</th>\n      <td>91-10-A-j24-1</td>\n      <td>TA+ner60</td>\n      <td>107.TA.91-10-A-j24-1.7.H</td>\n      <td>Zürich HB SZU</td>\n      <td>12836</td>\n      <td>0</td>\n      <td>None</td>\n    </tr>\n    <tr>\n      <th>10</th>\n      <td>91-10-A-j24-1</td>\n      <td>TA+ner60</td>\n      <td>108.TA.91-10-A-j24-1.7.H</td>\n      <td>Zürich HB SZU</td>\n      <td>12892</td>\n      <td>0</td>\n      <td>None</td>\n    </tr>\n    <tr>\n      <th>11</th>\n      <td>91-10-A-j24-1</td>\n      <td>TA+ner60</td>\n      <td>109.TA.91-10-A-j24-1.7.H</td>\n      <td>Zürich HB SZU</td>\n      <td>12900</td>\n      <td>0</td>\n      <td>None</td>\n    </tr>\n    <tr>\n      <th>12</th>\n      <td>91-10-A-j24-1</td>\n      <td>TA+vlr60</td>\n      <td>11.TA.91-10-A-j24-1.1.H</td>\n      <td>Zürich HB SZU</td>\n      <td>12918</td>\n      <td>0</td>\n      <td>None</td>\n    </tr>\n    <tr>\n      <th>13</th>\n      <td>91-10-A-j24-1</td>\n      <td>TA+ner60</td>\n      <td>110.TA.91-10-A-j24-1.7.H</td>\n      <td>Zürich HB SZU</td>\n      <td>12884</td>\n      <td>0</td>\n      <td>None</td>\n    </tr>\n    <tr>\n      <th>14</th>\n      <td>91-10-A-j24-1</td>\n      <td>TA+ner60</td>\n      <td>111.TA.91-10-A-j24-1.7.H</td>\n      <td>Zürich HB SZU</td>\n      <td>12860</td>\n      <td>0</td>\n      <td>None</td>\n    </tr>\n    <tr>\n      <th>15</th>\n      <td>91-10-A-j24-1</td>\n      <td>TA+ner60</td>\n      <td>112.TA.91-10-A-j24-1.7.H</td>\n      <td>Zürich HB SZU</td>\n      <td>12868</td>\n      <td>0</td>\n      <td>None</td>\n    </tr>\n    <tr>\n      <th>16</th>\n      <td>91-10-A-j24-1</td>\n      <td>TA+ner60</td>\n      <td>113.TA.91-10-A-j24-1.7.H</td>\n      <td>Zürich HB SZU</td>\n      <td>12876</td>\n      <td>0</td>\n      <td>None</td>\n    </tr>\n    <tr>\n      <th>17</th>\n      <td>91-10-A-j24-1</td>\n      <td>TA+ner60</td>\n      <td>114.TA.91-10-A-j24-1.7.H</td>\n      <td>Zürich HB SZU</td>\n      <td>12852</td>\n      <td>0</td>\n      <td>None</td>\n    </tr>\n    <tr>\n      <th>18</th>\n      <td>91-10-A-j24-1</td>\n      <td>TA+ner60</td>\n      <td>115.TA.91-10-A-j24-1.24.H</td>\n      <td>Zürich HB SZU</td>\n      <td>12904</td>\n      <td>0</td>\n      <td>None</td>\n    </tr>\n    <tr>\n      <th>19</th>\n      <td>91-10-A-j24-1</td>\n      <td>TA+ner60</td>\n      <td>116.TA.91-10-A-j24-1.24.H</td>\n      <td>Zürich HB SZU</td>\n      <td>12848</td>\n      <td>0</td>\n      <td>None</td>\n    </tr>\n  </tbody>\n</table>\n</div>"
     },
     "execution_count": 8,
     "metadata": {},
     "output_type": "execute_result"
    }
   ],
   "source": [
    "df_trips"
   ],
   "metadata": {
    "collapsed": false,
    "ExecuteTime": {
     "end_time": "2024-11-15T09:41:58.278512600Z",
     "start_time": "2024-11-15T09:41:58.247116600Z"
    }
   }
  },
  {
   "cell_type": "code",
   "execution_count": 9,
   "outputs": [
    {
     "name": "stdout",
     "output_type": "stream",
     "text": [
      "Trips with route_id containing 466\n"
     ]
    },
    {
     "data": {
      "text/plain": "        route_id service_id                 trip_id  \\\n0   92-466-j24-1   TA+qxq60   1.TA.92-466-j24-1.1.H   \n1   92-466-j24-1   TA+qxq60  10.TA.92-466-j24-1.1.H   \n2   92-466-j24-1   TA+zwq60  11.TA.92-466-j24-1.1.H   \n3   92-466-j24-1   TA+qxq60  12.TA.92-466-j24-1.1.H   \n4   92-466-j24-1   TA+qxq60  13.TA.92-466-j24-1.1.H   \n5   92-466-j24-1   TA+zwq60  14.TA.92-466-j24-1.1.H   \n6   92-466-j24-1         TA  15.TA.92-466-j24-1.2.H   \n7   92-466-j24-1   TA+dxq60  16.TA.92-466-j24-1.2.H   \n8   92-466-j24-1         TA  17.TA.92-466-j24-1.2.H   \n9   92-466-j24-1         TA  18.TA.92-466-j24-1.3.H   \n10  92-466-j24-1   TA+qxq60  19.TA.92-466-j24-1.3.H   \n11  92-466-j24-1   TA+zwq60   2.TA.92-466-j24-1.1.H   \n12  92-466-j24-1         TA  20.TA.92-466-j24-1.3.H   \n13  92-466-j24-1         TA  21.TA.92-466-j24-1.3.H   \n14  92-466-j24-1         TA  22.TA.92-466-j24-1.3.H   \n15  92-466-j24-1         TA  23.TA.92-466-j24-1.3.H   \n16  92-466-j24-1         TA  24.TA.92-466-j24-1.3.H   \n17  92-466-j24-1         TA  25.TA.92-466-j24-1.3.H   \n18  92-466-j24-1         TA  26.TA.92-466-j24-1.3.H   \n19  92-466-j24-1         TA  27.TA.92-466-j24-1.3.H   \n\n                   trip_headsign trip_short_name  direction_id block_id  \n0          Ersigen, Gemeindehaus           16132             0     None  \n1          Ersigen, Gemeindehaus           16092             0     None  \n2          Ersigen, Gemeindehaus           16182             0     None  \n3          Ersigen, Gemeindehaus           16122             0     None  \n4          Ersigen, Gemeindehaus           16082             0     None  \n5          Ersigen, Gemeindehaus           16062             0     None  \n6   Koppigen, Gemeindeverwaltung           16226             0     None  \n7   Koppigen, Gemeindeverwaltung           16236             0     None  \n8   Koppigen, Gemeindeverwaltung           16216             0     None  \n9               Wynigen, Bahnhof           16186             0     None  \n10              Wynigen, Bahnhof           16056             0     None  \n11         Ersigen, Gemeindehaus           16192             0     None  \n12              Wynigen, Bahnhof           16096             0     None  \n13              Wynigen, Bahnhof           16206             0     None  \n14              Wynigen, Bahnhof           16086             0     None  \n15              Wynigen, Bahnhof           16116             0     None  \n16              Wynigen, Bahnhof           16176             0     None  \n17              Wynigen, Bahnhof           16126             0     None  \n18              Wynigen, Bahnhof           16156             0     None  \n19              Wynigen, Bahnhof           16146             0     None  ",
      "text/html": "<div>\n<style scoped>\n    .dataframe tbody tr th:only-of-type {\n        vertical-align: middle;\n    }\n\n    .dataframe tbody tr th {\n        vertical-align: top;\n    }\n\n    .dataframe thead th {\n        text-align: right;\n    }\n</style>\n<table border=\"1\" class=\"dataframe\">\n  <thead>\n    <tr style=\"text-align: right;\">\n      <th></th>\n      <th>route_id</th>\n      <th>service_id</th>\n      <th>trip_id</th>\n      <th>trip_headsign</th>\n      <th>trip_short_name</th>\n      <th>direction_id</th>\n      <th>block_id</th>\n    </tr>\n  </thead>\n  <tbody>\n    <tr>\n      <th>0</th>\n      <td>92-466-j24-1</td>\n      <td>TA+qxq60</td>\n      <td>1.TA.92-466-j24-1.1.H</td>\n      <td>Ersigen, Gemeindehaus</td>\n      <td>16132</td>\n      <td>0</td>\n      <td>None</td>\n    </tr>\n    <tr>\n      <th>1</th>\n      <td>92-466-j24-1</td>\n      <td>TA+qxq60</td>\n      <td>10.TA.92-466-j24-1.1.H</td>\n      <td>Ersigen, Gemeindehaus</td>\n      <td>16092</td>\n      <td>0</td>\n      <td>None</td>\n    </tr>\n    <tr>\n      <th>2</th>\n      <td>92-466-j24-1</td>\n      <td>TA+zwq60</td>\n      <td>11.TA.92-466-j24-1.1.H</td>\n      <td>Ersigen, Gemeindehaus</td>\n      <td>16182</td>\n      <td>0</td>\n      <td>None</td>\n    </tr>\n    <tr>\n      <th>3</th>\n      <td>92-466-j24-1</td>\n      <td>TA+qxq60</td>\n      <td>12.TA.92-466-j24-1.1.H</td>\n      <td>Ersigen, Gemeindehaus</td>\n      <td>16122</td>\n      <td>0</td>\n      <td>None</td>\n    </tr>\n    <tr>\n      <th>4</th>\n      <td>92-466-j24-1</td>\n      <td>TA+qxq60</td>\n      <td>13.TA.92-466-j24-1.1.H</td>\n      <td>Ersigen, Gemeindehaus</td>\n      <td>16082</td>\n      <td>0</td>\n      <td>None</td>\n    </tr>\n    <tr>\n      <th>5</th>\n      <td>92-466-j24-1</td>\n      <td>TA+zwq60</td>\n      <td>14.TA.92-466-j24-1.1.H</td>\n      <td>Ersigen, Gemeindehaus</td>\n      <td>16062</td>\n      <td>0</td>\n      <td>None</td>\n    </tr>\n    <tr>\n      <th>6</th>\n      <td>92-466-j24-1</td>\n      <td>TA</td>\n      <td>15.TA.92-466-j24-1.2.H</td>\n      <td>Koppigen, Gemeindeverwaltung</td>\n      <td>16226</td>\n      <td>0</td>\n      <td>None</td>\n    </tr>\n    <tr>\n      <th>7</th>\n      <td>92-466-j24-1</td>\n      <td>TA+dxq60</td>\n      <td>16.TA.92-466-j24-1.2.H</td>\n      <td>Koppigen, Gemeindeverwaltung</td>\n      <td>16236</td>\n      <td>0</td>\n      <td>None</td>\n    </tr>\n    <tr>\n      <th>8</th>\n      <td>92-466-j24-1</td>\n      <td>TA</td>\n      <td>17.TA.92-466-j24-1.2.H</td>\n      <td>Koppigen, Gemeindeverwaltung</td>\n      <td>16216</td>\n      <td>0</td>\n      <td>None</td>\n    </tr>\n    <tr>\n      <th>9</th>\n      <td>92-466-j24-1</td>\n      <td>TA</td>\n      <td>18.TA.92-466-j24-1.3.H</td>\n      <td>Wynigen, Bahnhof</td>\n      <td>16186</td>\n      <td>0</td>\n      <td>None</td>\n    </tr>\n    <tr>\n      <th>10</th>\n      <td>92-466-j24-1</td>\n      <td>TA+qxq60</td>\n      <td>19.TA.92-466-j24-1.3.H</td>\n      <td>Wynigen, Bahnhof</td>\n      <td>16056</td>\n      <td>0</td>\n      <td>None</td>\n    </tr>\n    <tr>\n      <th>11</th>\n      <td>92-466-j24-1</td>\n      <td>TA+zwq60</td>\n      <td>2.TA.92-466-j24-1.1.H</td>\n      <td>Ersigen, Gemeindehaus</td>\n      <td>16192</td>\n      <td>0</td>\n      <td>None</td>\n    </tr>\n    <tr>\n      <th>12</th>\n      <td>92-466-j24-1</td>\n      <td>TA</td>\n      <td>20.TA.92-466-j24-1.3.H</td>\n      <td>Wynigen, Bahnhof</td>\n      <td>16096</td>\n      <td>0</td>\n      <td>None</td>\n    </tr>\n    <tr>\n      <th>13</th>\n      <td>92-466-j24-1</td>\n      <td>TA</td>\n      <td>21.TA.92-466-j24-1.3.H</td>\n      <td>Wynigen, Bahnhof</td>\n      <td>16206</td>\n      <td>0</td>\n      <td>None</td>\n    </tr>\n    <tr>\n      <th>14</th>\n      <td>92-466-j24-1</td>\n      <td>TA</td>\n      <td>22.TA.92-466-j24-1.3.H</td>\n      <td>Wynigen, Bahnhof</td>\n      <td>16086</td>\n      <td>0</td>\n      <td>None</td>\n    </tr>\n    <tr>\n      <th>15</th>\n      <td>92-466-j24-1</td>\n      <td>TA</td>\n      <td>23.TA.92-466-j24-1.3.H</td>\n      <td>Wynigen, Bahnhof</td>\n      <td>16116</td>\n      <td>0</td>\n      <td>None</td>\n    </tr>\n    <tr>\n      <th>16</th>\n      <td>92-466-j24-1</td>\n      <td>TA</td>\n      <td>24.TA.92-466-j24-1.3.H</td>\n      <td>Wynigen, Bahnhof</td>\n      <td>16176</td>\n      <td>0</td>\n      <td>None</td>\n    </tr>\n    <tr>\n      <th>17</th>\n      <td>92-466-j24-1</td>\n      <td>TA</td>\n      <td>25.TA.92-466-j24-1.3.H</td>\n      <td>Wynigen, Bahnhof</td>\n      <td>16126</td>\n      <td>0</td>\n      <td>None</td>\n    </tr>\n    <tr>\n      <th>18</th>\n      <td>92-466-j24-1</td>\n      <td>TA</td>\n      <td>26.TA.92-466-j24-1.3.H</td>\n      <td>Wynigen, Bahnhof</td>\n      <td>16156</td>\n      <td>0</td>\n      <td>None</td>\n    </tr>\n    <tr>\n      <th>19</th>\n      <td>92-466-j24-1</td>\n      <td>TA</td>\n      <td>27.TA.92-466-j24-1.3.H</td>\n      <td>Wynigen, Bahnhof</td>\n      <td>16146</td>\n      <td>0</td>\n      <td>None</td>\n    </tr>\n  </tbody>\n</table>\n</div>"
     },
     "execution_count": 9,
     "metadata": {},
     "output_type": "execute_result"
    }
   ],
   "source": [
    "# Query trips where the route_id contains 466\n",
    "qry_trips = \"SELECT * FROM trips WHERE route_id LIKE '%466%' LIMIT 20\"\n",
    "df_trips = connection.sql(qry_trips).df()\n",
    "\n",
    "print(\"Trips with route_id containing 466\")\n",
    "df_trips"
   ],
   "metadata": {
    "collapsed": false,
    "ExecuteTime": {
     "end_time": "2024-11-15T09:43:54.844575300Z",
     "start_time": "2024-11-15T09:43:54.781648400Z"
    }
   }
  },
  {
   "cell_type": "code",
   "execution_count": 10,
   "outputs": [
    {
     "name": "stdout",
     "output_type": "stream",
     "text": [
      "Routes with route_id containing 466 and route_desc containing 'NJ'\n"
     ]
    },
    {
     "data": {
      "text/plain": "Empty DataFrame\nColumns: [route_id, agency_id, route_short_name, route_long_name, route_desc, route_type]\nIndex: []",
      "text/html": "<div>\n<style scoped>\n    .dataframe tbody tr th:only-of-type {\n        vertical-align: middle;\n    }\n\n    .dataframe tbody tr th {\n        vertical-align: top;\n    }\n\n    .dataframe thead th {\n        text-align: right;\n    }\n</style>\n<table border=\"1\" class=\"dataframe\">\n  <thead>\n    <tr style=\"text-align: right;\">\n      <th></th>\n      <th>route_id</th>\n      <th>agency_id</th>\n      <th>route_short_name</th>\n      <th>route_long_name</th>\n      <th>route_desc</th>\n      <th>route_type</th>\n    </tr>\n  </thead>\n  <tbody>\n  </tbody>\n</table>\n</div>"
     },
     "execution_count": 10,
     "metadata": {},
     "output_type": "execute_result"
    }
   ],
   "source": [
    "# Query trips where the route_id contains 466 and route_desc contains 'NJ' (for nightjet)\n",
    "qry_routes= \"SELECT * FROM routes WHERE route_id LIKE '%466%' AND route_desc LIKE '%NJ%' LIMIT 20\"\n",
    "df_routes = connection.sql(qry_routes).df()\n",
    "\n",
    "print(\"Routes with route_id containing 466 and route_desc containing 'NJ'\")\n",
    "df_routes"
   ],
   "metadata": {
    "collapsed": false,
    "ExecuteTime": {
     "end_time": "2024-11-15T09:48:09.212660300Z",
     "start_time": "2024-11-15T09:48:09.205122500Z"
    }
   }
  },
  {
   "cell_type": "code",
   "execution_count": 12,
   "outputs": [
    {
     "name": "stdout",
     "output_type": "stream",
     "text": [
      "Routes with route_desc containing 'NJ'\n"
     ]
    },
    {
     "data": {
      "text/plain": "        route_id agency_id route_short_name route_long_name route_desc  \\\n0  91-2P-Y-j24-1        11               NJ            None         NJ   \n1  91-36-Y-j24-1        11               NJ            None         NJ   \n2  91-E6-Y-j24-1        11               NJ            None         NJ   \n\n   route_type  \n0         105  \n1         105  \n2         105  ",
      "text/html": "<div>\n<style scoped>\n    .dataframe tbody tr th:only-of-type {\n        vertical-align: middle;\n    }\n\n    .dataframe tbody tr th {\n        vertical-align: top;\n    }\n\n    .dataframe thead th {\n        text-align: right;\n    }\n</style>\n<table border=\"1\" class=\"dataframe\">\n  <thead>\n    <tr style=\"text-align: right;\">\n      <th></th>\n      <th>route_id</th>\n      <th>agency_id</th>\n      <th>route_short_name</th>\n      <th>route_long_name</th>\n      <th>route_desc</th>\n      <th>route_type</th>\n    </tr>\n  </thead>\n  <tbody>\n    <tr>\n      <th>0</th>\n      <td>91-2P-Y-j24-1</td>\n      <td>11</td>\n      <td>NJ</td>\n      <td>None</td>\n      <td>NJ</td>\n      <td>105</td>\n    </tr>\n    <tr>\n      <th>1</th>\n      <td>91-36-Y-j24-1</td>\n      <td>11</td>\n      <td>NJ</td>\n      <td>None</td>\n      <td>NJ</td>\n      <td>105</td>\n    </tr>\n    <tr>\n      <th>2</th>\n      <td>91-E6-Y-j24-1</td>\n      <td>11</td>\n      <td>NJ</td>\n      <td>None</td>\n      <td>NJ</td>\n      <td>105</td>\n    </tr>\n  </tbody>\n</table>\n</div>"
     },
     "execution_count": 12,
     "metadata": {},
     "output_type": "execute_result"
    }
   ],
   "source": [
    "# Query trips where the route_desc contains 'NJ' (for nightjet)\n",
    "qry_routes= \"SELECT * FROM routes WHERE route_desc LIKE '%NJ%' LIMIT 20\"\n",
    "df_routes = connection.sql(qry_routes).df()\n",
    "\n",
    "print(\"Routes with route_desc containing 'NJ'\")\n",
    "df_routes"
   ],
   "metadata": {
    "collapsed": false,
    "ExecuteTime": {
     "end_time": "2024-11-15T09:49:27.715929400Z",
     "start_time": "2024-11-15T09:49:27.699901700Z"
    }
   }
  },
  {
   "cell_type": "code",
   "execution_count": 5,
   "outputs": [
    {
     "name": "stdout",
     "output_type": "stream",
     "text": [
      "Routes and Trips\n"
     ]
    },
    {
     "data": {
      "text/plain": "        route_id route_short_name route_long_name  route_type  \\\n0   92-932-j24-1              932            None         700   \n1   92-932-j24-1              932            None         700   \n2   92-932-j24-1              932            None         700   \n3   92-932-j24-1              932            None         700   \n4   92-932-j24-1              932            None         700   \n5   92-932-j24-1              932            None         700   \n6   92-932-j24-1              932            None         700   \n7   92-932-j24-1              932            None         700   \n8   92-932-j24-1              932            None         700   \n9   92-932-j24-1              932            None         700   \n10  92-932-j24-1              932            None         700   \n11  92-932-j24-1              932            None         700   \n12  92-932-j24-1              932            None         700   \n13  92-932-j24-1              932            None         700   \n14  92-932-j24-1              932            None         700   \n15  92-932-j24-1              932            None         700   \n16  92-932-j24-1              932            None         700   \n17  92-932-j24-1              932            None         700   \n18  92-932-j24-1              932            None         700   \n19  92-932-j24-1              932            None         700   \n\n                   trip_id service_id            trip_headsign  direction_id  \n0    1.TA.92-932-j24-1.1.H   TA+ywq60  Uetikon am See, Bahnhof             0  \n1   10.TA.92-932-j24-1.1.H   TA+ywq60  Uetikon am See, Bahnhof             0  \n2   11.TA.92-932-j24-1.1.H   TA+ywq60  Uetikon am See, Bahnhof             0  \n3   12.TA.92-932-j24-1.1.H   TA+ywq60  Uetikon am See, Bahnhof             0  \n4   13.TA.92-932-j24-1.1.H   TA+ywq60  Uetikon am See, Bahnhof             0  \n5   14.TA.92-932-j24-1.2.R   TA+ywq60  Uetikon am See, Stötzli             1  \n6   15.TA.92-932-j24-1.2.R   TA+ywq60  Uetikon am See, Stötzli             1  \n7   16.TA.92-932-j24-1.2.R   TA+ywq60  Uetikon am See, Stötzli             1  \n8   17.TA.92-932-j24-1.2.R   TA+ywq60  Uetikon am See, Stötzli             1  \n9   18.TA.92-932-j24-1.2.R   TA+ywq60  Uetikon am See, Stötzli             1  \n10  19.TA.92-932-j24-1.2.R   TA+ywq60  Uetikon am See, Stötzli             1  \n11   2.TA.92-932-j24-1.1.H   TA+ywq60  Uetikon am See, Bahnhof             0  \n12  20.TA.92-932-j24-1.2.R   TA+ywq60  Uetikon am See, Stötzli             1  \n13  21.TA.92-932-j24-1.2.R   TA+ywq60  Uetikon am See, Stötzli             1  \n14  22.TA.92-932-j24-1.2.R   TA+ywq60  Uetikon am See, Stötzli             1  \n15  23.TA.92-932-j24-1.2.R   TA+ywq60  Uetikon am See, Stötzli             1  \n16  24.TA.92-932-j24-1.2.R   TA+ywq60  Uetikon am See, Stötzli             1  \n17  25.TA.92-932-j24-1.2.R   TA+ywq60  Uetikon am See, Stötzli             1  \n18  26.TA.92-932-j24-1.2.R   TA+ywq60  Uetikon am See, Stötzli             1  \n19   3.TA.92-932-j24-1.1.H   TA+ywq60  Uetikon am See, Bahnhof             0  ",
      "text/html": "<div>\n<style scoped>\n    .dataframe tbody tr th:only-of-type {\n        vertical-align: middle;\n    }\n\n    .dataframe tbody tr th {\n        vertical-align: top;\n    }\n\n    .dataframe thead th {\n        text-align: right;\n    }\n</style>\n<table border=\"1\" class=\"dataframe\">\n  <thead>\n    <tr style=\"text-align: right;\">\n      <th></th>\n      <th>route_id</th>\n      <th>route_short_name</th>\n      <th>route_long_name</th>\n      <th>route_type</th>\n      <th>trip_id</th>\n      <th>service_id</th>\n      <th>trip_headsign</th>\n      <th>direction_id</th>\n    </tr>\n  </thead>\n  <tbody>\n    <tr>\n      <th>0</th>\n      <td>92-932-j24-1</td>\n      <td>932</td>\n      <td>None</td>\n      <td>700</td>\n      <td>1.TA.92-932-j24-1.1.H</td>\n      <td>TA+ywq60</td>\n      <td>Uetikon am See, Bahnhof</td>\n      <td>0</td>\n    </tr>\n    <tr>\n      <th>1</th>\n      <td>92-932-j24-1</td>\n      <td>932</td>\n      <td>None</td>\n      <td>700</td>\n      <td>10.TA.92-932-j24-1.1.H</td>\n      <td>TA+ywq60</td>\n      <td>Uetikon am See, Bahnhof</td>\n      <td>0</td>\n    </tr>\n    <tr>\n      <th>2</th>\n      <td>92-932-j24-1</td>\n      <td>932</td>\n      <td>None</td>\n      <td>700</td>\n      <td>11.TA.92-932-j24-1.1.H</td>\n      <td>TA+ywq60</td>\n      <td>Uetikon am See, Bahnhof</td>\n      <td>0</td>\n    </tr>\n    <tr>\n      <th>3</th>\n      <td>92-932-j24-1</td>\n      <td>932</td>\n      <td>None</td>\n      <td>700</td>\n      <td>12.TA.92-932-j24-1.1.H</td>\n      <td>TA+ywq60</td>\n      <td>Uetikon am See, Bahnhof</td>\n      <td>0</td>\n    </tr>\n    <tr>\n      <th>4</th>\n      <td>92-932-j24-1</td>\n      <td>932</td>\n      <td>None</td>\n      <td>700</td>\n      <td>13.TA.92-932-j24-1.1.H</td>\n      <td>TA+ywq60</td>\n      <td>Uetikon am See, Bahnhof</td>\n      <td>0</td>\n    </tr>\n    <tr>\n      <th>5</th>\n      <td>92-932-j24-1</td>\n      <td>932</td>\n      <td>None</td>\n      <td>700</td>\n      <td>14.TA.92-932-j24-1.2.R</td>\n      <td>TA+ywq60</td>\n      <td>Uetikon am See, Stötzli</td>\n      <td>1</td>\n    </tr>\n    <tr>\n      <th>6</th>\n      <td>92-932-j24-1</td>\n      <td>932</td>\n      <td>None</td>\n      <td>700</td>\n      <td>15.TA.92-932-j24-1.2.R</td>\n      <td>TA+ywq60</td>\n      <td>Uetikon am See, Stötzli</td>\n      <td>1</td>\n    </tr>\n    <tr>\n      <th>7</th>\n      <td>92-932-j24-1</td>\n      <td>932</td>\n      <td>None</td>\n      <td>700</td>\n      <td>16.TA.92-932-j24-1.2.R</td>\n      <td>TA+ywq60</td>\n      <td>Uetikon am See, Stötzli</td>\n      <td>1</td>\n    </tr>\n    <tr>\n      <th>8</th>\n      <td>92-932-j24-1</td>\n      <td>932</td>\n      <td>None</td>\n      <td>700</td>\n      <td>17.TA.92-932-j24-1.2.R</td>\n      <td>TA+ywq60</td>\n      <td>Uetikon am See, Stötzli</td>\n      <td>1</td>\n    </tr>\n    <tr>\n      <th>9</th>\n      <td>92-932-j24-1</td>\n      <td>932</td>\n      <td>None</td>\n      <td>700</td>\n      <td>18.TA.92-932-j24-1.2.R</td>\n      <td>TA+ywq60</td>\n      <td>Uetikon am See, Stötzli</td>\n      <td>1</td>\n    </tr>\n    <tr>\n      <th>10</th>\n      <td>92-932-j24-1</td>\n      <td>932</td>\n      <td>None</td>\n      <td>700</td>\n      <td>19.TA.92-932-j24-1.2.R</td>\n      <td>TA+ywq60</td>\n      <td>Uetikon am See, Stötzli</td>\n      <td>1</td>\n    </tr>\n    <tr>\n      <th>11</th>\n      <td>92-932-j24-1</td>\n      <td>932</td>\n      <td>None</td>\n      <td>700</td>\n      <td>2.TA.92-932-j24-1.1.H</td>\n      <td>TA+ywq60</td>\n      <td>Uetikon am See, Bahnhof</td>\n      <td>0</td>\n    </tr>\n    <tr>\n      <th>12</th>\n      <td>92-932-j24-1</td>\n      <td>932</td>\n      <td>None</td>\n      <td>700</td>\n      <td>20.TA.92-932-j24-1.2.R</td>\n      <td>TA+ywq60</td>\n      <td>Uetikon am See, Stötzli</td>\n      <td>1</td>\n    </tr>\n    <tr>\n      <th>13</th>\n      <td>92-932-j24-1</td>\n      <td>932</td>\n      <td>None</td>\n      <td>700</td>\n      <td>21.TA.92-932-j24-1.2.R</td>\n      <td>TA+ywq60</td>\n      <td>Uetikon am See, Stötzli</td>\n      <td>1</td>\n    </tr>\n    <tr>\n      <th>14</th>\n      <td>92-932-j24-1</td>\n      <td>932</td>\n      <td>None</td>\n      <td>700</td>\n      <td>22.TA.92-932-j24-1.2.R</td>\n      <td>TA+ywq60</td>\n      <td>Uetikon am See, Stötzli</td>\n      <td>1</td>\n    </tr>\n    <tr>\n      <th>15</th>\n      <td>92-932-j24-1</td>\n      <td>932</td>\n      <td>None</td>\n      <td>700</td>\n      <td>23.TA.92-932-j24-1.2.R</td>\n      <td>TA+ywq60</td>\n      <td>Uetikon am See, Stötzli</td>\n      <td>1</td>\n    </tr>\n    <tr>\n      <th>16</th>\n      <td>92-932-j24-1</td>\n      <td>932</td>\n      <td>None</td>\n      <td>700</td>\n      <td>24.TA.92-932-j24-1.2.R</td>\n      <td>TA+ywq60</td>\n      <td>Uetikon am See, Stötzli</td>\n      <td>1</td>\n    </tr>\n    <tr>\n      <th>17</th>\n      <td>92-932-j24-1</td>\n      <td>932</td>\n      <td>None</td>\n      <td>700</td>\n      <td>25.TA.92-932-j24-1.2.R</td>\n      <td>TA+ywq60</td>\n      <td>Uetikon am See, Stötzli</td>\n      <td>1</td>\n    </tr>\n    <tr>\n      <th>18</th>\n      <td>92-932-j24-1</td>\n      <td>932</td>\n      <td>None</td>\n      <td>700</td>\n      <td>26.TA.92-932-j24-1.2.R</td>\n      <td>TA+ywq60</td>\n      <td>Uetikon am See, Stötzli</td>\n      <td>1</td>\n    </tr>\n    <tr>\n      <th>19</th>\n      <td>92-932-j24-1</td>\n      <td>932</td>\n      <td>None</td>\n      <td>700</td>\n      <td>3.TA.92-932-j24-1.1.H</td>\n      <td>TA+ywq60</td>\n      <td>Uetikon am See, Bahnhof</td>\n      <td>0</td>\n    </tr>\n  </tbody>\n</table>\n</div>"
     },
     "execution_count": 5,
     "metadata": {},
     "output_type": "execute_result"
    }
   ],
   "source": [
    "# Query the routes and join them with the trips\n",
    "\n",
    "query = f\"\"\"\n",
    "SELECT\n",
    "    routes.route_id,\n",
    "    routes.route_short_name,\n",
    "    routes.route_long_name,\n",
    "    routes.route_type,\n",
    "    trips.trip_id,\n",
    "    trips.service_id,\n",
    "    trips.trip_headsign,\n",
    "    trips.direction_id\n",
    "FROM\n",
    "    routes\n",
    "JOIN\n",
    "    trips\n",
    "ON\n",
    "    routes.route_id = trips.route_id\n",
    "LIMIT 20\n",
    "\"\"\"\n",
    "\n",
    "df = connection.sql(query).df()\n",
    "\n",
    "print(\"Routes and Trips\")\n",
    "df"
   ],
   "metadata": {
    "collapsed": false,
    "ExecuteTime": {
     "end_time": "2024-11-15T09:39:10.438523Z",
     "start_time": "2024-11-15T09:39:10.392237300Z"
    }
   }
  },
  {
   "cell_type": "code",
   "execution_count": 2,
   "outputs": [
    {
     "data": {
      "text/plain": "        stop_id              stop_name   stop_lat  stop_lon  \\\n0   8506118:0:1           Triboltingen  47.662897  9.108764   \n1   8506133:0:1             Ermatingen  47.669999  9.085669   \n2   8506134:0:1  Mannenbach-Salenstein  47.673653  9.052799   \n3   8506135:0:2              Berlingen  47.673211  9.022023   \n4       8506136              Steckborn  47.664506  8.981033   \n5   8506137:0:1                Mammern  47.644162  8.914001   \n6       8506138                Eschenz  47.645409  8.876559   \n7   8506139:0:2         Stein am Rhein  47.656108  8.855017   \n8       8506025               Etzwilen  47.661142  8.818617   \n9   8503429:0:1           Schlattingen  47.666624  8.770432   \n10  8503428:0:1           Diessenhofen  47.685471  8.752295   \n11  8506148:0:1      St. Katharinental  47.687563  8.732038   \n12      8503427             Schlatt TG  47.679502  8.687508   \n13  8503426:0:1             Langwiesen  47.683451  8.662320   \n14      8503425            Feuerthalen  47.692171  8.645970   \n15  8503424:0:1           Schaffhausen  47.698284  8.632756   \n16  8501026:0:4        Genève-Aéroport  46.232537  6.111984   \n17  8501008:0:4                 Genève  46.210212  6.142455   \n18  8501120:0:1               Lausanne  46.516793  6.629091   \n19  8504100:0:4      Fribourg/Freiburg  46.803149  7.151048   \n\n                     trip_id arrival_time departure_time  stop_sequence  \n0   38.TA.91-1-C-j24-1.827.H     11:51:00       11:51:00             28  \n1   38.TA.91-1-C-j24-1.827.H     11:52:00       11:52:00             29  \n2   38.TA.91-1-C-j24-1.827.H     11:55:00       11:55:00             30  \n3   38.TA.91-1-C-j24-1.827.H     11:58:00       11:58:00             31  \n4   38.TA.91-1-C-j24-1.827.H     12:02:00       12:02:00             32  \n5   38.TA.91-1-C-j24-1.827.H     12:07:00       12:07:00             33  \n6   38.TA.91-1-C-j24-1.827.H     12:10:00       12:10:00             34  \n7   38.TA.91-1-C-j24-1.827.H     12:13:00       12:16:00             35  \n8   38.TA.91-1-C-j24-1.827.H     12:19:00       12:19:00             36  \n9   38.TA.91-1-C-j24-1.827.H     12:22:00       12:22:00             37  \n10  38.TA.91-1-C-j24-1.827.H     12:26:00       12:26:00             38  \n11  38.TA.91-1-C-j24-1.827.H     12:28:00       12:28:00             39  \n12  38.TA.91-1-C-j24-1.827.H     12:32:00       12:32:00             40  \n13  38.TA.91-1-C-j24-1.827.H     12:34:00       12:34:00             41  \n14  38.TA.91-1-C-j24-1.827.H     12:37:00       12:38:00             42  \n15  38.TA.91-1-C-j24-1.827.H     12:43:00       12:43:00             43  \n16  38.TA.91-1-D-j24-1.732.H     13:32:00       13:32:00              1  \n17  38.TA.91-1-D-j24-1.732.H     13:39:00       13:42:00              2  \n18  38.TA.91-1-D-j24-1.732.H     14:17:00       14:19:00              3  \n19  38.TA.91-1-D-j24-1.732.H     15:03:00       15:04:00              4  ",
      "text/html": "<div>\n<style scoped>\n    .dataframe tbody tr th:only-of-type {\n        vertical-align: middle;\n    }\n\n    .dataframe tbody tr th {\n        vertical-align: top;\n    }\n\n    .dataframe thead th {\n        text-align: right;\n    }\n</style>\n<table border=\"1\" class=\"dataframe\">\n  <thead>\n    <tr style=\"text-align: right;\">\n      <th></th>\n      <th>stop_id</th>\n      <th>stop_name</th>\n      <th>stop_lat</th>\n      <th>stop_lon</th>\n      <th>trip_id</th>\n      <th>arrival_time</th>\n      <th>departure_time</th>\n      <th>stop_sequence</th>\n    </tr>\n  </thead>\n  <tbody>\n    <tr>\n      <th>0</th>\n      <td>8506118:0:1</td>\n      <td>Triboltingen</td>\n      <td>47.662897</td>\n      <td>9.108764</td>\n      <td>38.TA.91-1-C-j24-1.827.H</td>\n      <td>11:51:00</td>\n      <td>11:51:00</td>\n      <td>28</td>\n    </tr>\n    <tr>\n      <th>1</th>\n      <td>8506133:0:1</td>\n      <td>Ermatingen</td>\n      <td>47.669999</td>\n      <td>9.085669</td>\n      <td>38.TA.91-1-C-j24-1.827.H</td>\n      <td>11:52:00</td>\n      <td>11:52:00</td>\n      <td>29</td>\n    </tr>\n    <tr>\n      <th>2</th>\n      <td>8506134:0:1</td>\n      <td>Mannenbach-Salenstein</td>\n      <td>47.673653</td>\n      <td>9.052799</td>\n      <td>38.TA.91-1-C-j24-1.827.H</td>\n      <td>11:55:00</td>\n      <td>11:55:00</td>\n      <td>30</td>\n    </tr>\n    <tr>\n      <th>3</th>\n      <td>8506135:0:2</td>\n      <td>Berlingen</td>\n      <td>47.673211</td>\n      <td>9.022023</td>\n      <td>38.TA.91-1-C-j24-1.827.H</td>\n      <td>11:58:00</td>\n      <td>11:58:00</td>\n      <td>31</td>\n    </tr>\n    <tr>\n      <th>4</th>\n      <td>8506136</td>\n      <td>Steckborn</td>\n      <td>47.664506</td>\n      <td>8.981033</td>\n      <td>38.TA.91-1-C-j24-1.827.H</td>\n      <td>12:02:00</td>\n      <td>12:02:00</td>\n      <td>32</td>\n    </tr>\n    <tr>\n      <th>5</th>\n      <td>8506137:0:1</td>\n      <td>Mammern</td>\n      <td>47.644162</td>\n      <td>8.914001</td>\n      <td>38.TA.91-1-C-j24-1.827.H</td>\n      <td>12:07:00</td>\n      <td>12:07:00</td>\n      <td>33</td>\n    </tr>\n    <tr>\n      <th>6</th>\n      <td>8506138</td>\n      <td>Eschenz</td>\n      <td>47.645409</td>\n      <td>8.876559</td>\n      <td>38.TA.91-1-C-j24-1.827.H</td>\n      <td>12:10:00</td>\n      <td>12:10:00</td>\n      <td>34</td>\n    </tr>\n    <tr>\n      <th>7</th>\n      <td>8506139:0:2</td>\n      <td>Stein am Rhein</td>\n      <td>47.656108</td>\n      <td>8.855017</td>\n      <td>38.TA.91-1-C-j24-1.827.H</td>\n      <td>12:13:00</td>\n      <td>12:16:00</td>\n      <td>35</td>\n    </tr>\n    <tr>\n      <th>8</th>\n      <td>8506025</td>\n      <td>Etzwilen</td>\n      <td>47.661142</td>\n      <td>8.818617</td>\n      <td>38.TA.91-1-C-j24-1.827.H</td>\n      <td>12:19:00</td>\n      <td>12:19:00</td>\n      <td>36</td>\n    </tr>\n    <tr>\n      <th>9</th>\n      <td>8503429:0:1</td>\n      <td>Schlattingen</td>\n      <td>47.666624</td>\n      <td>8.770432</td>\n      <td>38.TA.91-1-C-j24-1.827.H</td>\n      <td>12:22:00</td>\n      <td>12:22:00</td>\n      <td>37</td>\n    </tr>\n    <tr>\n      <th>10</th>\n      <td>8503428:0:1</td>\n      <td>Diessenhofen</td>\n      <td>47.685471</td>\n      <td>8.752295</td>\n      <td>38.TA.91-1-C-j24-1.827.H</td>\n      <td>12:26:00</td>\n      <td>12:26:00</td>\n      <td>38</td>\n    </tr>\n    <tr>\n      <th>11</th>\n      <td>8506148:0:1</td>\n      <td>St. Katharinental</td>\n      <td>47.687563</td>\n      <td>8.732038</td>\n      <td>38.TA.91-1-C-j24-1.827.H</td>\n      <td>12:28:00</td>\n      <td>12:28:00</td>\n      <td>39</td>\n    </tr>\n    <tr>\n      <th>12</th>\n      <td>8503427</td>\n      <td>Schlatt TG</td>\n      <td>47.679502</td>\n      <td>8.687508</td>\n      <td>38.TA.91-1-C-j24-1.827.H</td>\n      <td>12:32:00</td>\n      <td>12:32:00</td>\n      <td>40</td>\n    </tr>\n    <tr>\n      <th>13</th>\n      <td>8503426:0:1</td>\n      <td>Langwiesen</td>\n      <td>47.683451</td>\n      <td>8.662320</td>\n      <td>38.TA.91-1-C-j24-1.827.H</td>\n      <td>12:34:00</td>\n      <td>12:34:00</td>\n      <td>41</td>\n    </tr>\n    <tr>\n      <th>14</th>\n      <td>8503425</td>\n      <td>Feuerthalen</td>\n      <td>47.692171</td>\n      <td>8.645970</td>\n      <td>38.TA.91-1-C-j24-1.827.H</td>\n      <td>12:37:00</td>\n      <td>12:38:00</td>\n      <td>42</td>\n    </tr>\n    <tr>\n      <th>15</th>\n      <td>8503424:0:1</td>\n      <td>Schaffhausen</td>\n      <td>47.698284</td>\n      <td>8.632756</td>\n      <td>38.TA.91-1-C-j24-1.827.H</td>\n      <td>12:43:00</td>\n      <td>12:43:00</td>\n      <td>43</td>\n    </tr>\n    <tr>\n      <th>16</th>\n      <td>8501026:0:4</td>\n      <td>Genève-Aéroport</td>\n      <td>46.232537</td>\n      <td>6.111984</td>\n      <td>38.TA.91-1-D-j24-1.732.H</td>\n      <td>13:32:00</td>\n      <td>13:32:00</td>\n      <td>1</td>\n    </tr>\n    <tr>\n      <th>17</th>\n      <td>8501008:0:4</td>\n      <td>Genève</td>\n      <td>46.210212</td>\n      <td>6.142455</td>\n      <td>38.TA.91-1-D-j24-1.732.H</td>\n      <td>13:39:00</td>\n      <td>13:42:00</td>\n      <td>2</td>\n    </tr>\n    <tr>\n      <th>18</th>\n      <td>8501120:0:1</td>\n      <td>Lausanne</td>\n      <td>46.516793</td>\n      <td>6.629091</td>\n      <td>38.TA.91-1-D-j24-1.732.H</td>\n      <td>14:17:00</td>\n      <td>14:19:00</td>\n      <td>3</td>\n    </tr>\n    <tr>\n      <th>19</th>\n      <td>8504100:0:4</td>\n      <td>Fribourg/Freiburg</td>\n      <td>46.803149</td>\n      <td>7.151048</td>\n      <td>38.TA.91-1-D-j24-1.732.H</td>\n      <td>15:03:00</td>\n      <td>15:04:00</td>\n      <td>4</td>\n    </tr>\n  </tbody>\n</table>\n</div>"
     },
     "execution_count": 2,
     "metadata": {},
     "output_type": "execute_result"
    }
   ],
   "source": [
    "# Query the stops and join them with the stop_times\n",
    "qry = f\"\"\"\n",
    "SELECT\n",
    "    stops.stop_id,\n",
    "    stops.stop_name,\n",
    "    stops.stop_lat,\n",
    "    stops.stop_lon,\n",
    "    stop_times.trip_id,\n",
    "    stop_times.arrival_time,\n",
    "    stop_times.departure_time,\n",
    "    stop_times.stop_sequence\n",
    "FROM\n",
    "    stops\n",
    "JOIN\n",
    "    stop_times\n",
    "ON\n",
    "    stops.stop_id = stop_times.stop_id\n",
    "LIMIT 20\n",
    "\"\"\"\n",
    "\n",
    "df = connection.sql(qry).df()\n",
    "df"
   ],
   "metadata": {
    "collapsed": false,
    "ExecuteTime": {
     "end_time": "2024-11-19T10:23:10.931009Z",
     "start_time": "2024-11-19T10:23:10.836781200Z"
    }
   }
  },
  {
   "cell_type": "code",
   "execution_count": 3,
   "outputs": [
    {
     "data": {
      "text/plain": "    stop_id                      stop_name   stop_lat  stop_lon  \\\n0   1100723                Inzlingen, Zoll  47.585586  7.672664   \n1   1101316           Büsingen, Bürgerhaus  47.696277  8.688029   \n2   1101319   Büsingen, Kirche St. Michael  47.698780  8.703058   \n3   1101323          Büsingen, Schifflände  47.696875  8.693877   \n4   1101324              Büsingen, Stemmer  47.686408  8.668895   \n5   1101326            Büsingen, Strandbad  47.696210  8.697372   \n6   1101327               Büsingen, Wiesli  47.690671  8.681067   \n7   1101459    Murbach (D), Zum Grenzstein  47.714720  8.767189   \n8   1101535              Konstanz, Bahnhof  47.659345  9.176991   \n9   1101589   Konstanz, Konzilstr./Theater  47.662727  9.177674   \n10  1101615    Konstanz, Schweizer Bahnhof  47.658547  9.176794   \n11  1101622         Konstanz, Sternenplatz  47.667537  9.179471   \n12  1101633       Konstanz, Zähringerplatz  47.672879  9.183684   \n13  1101636  Konstanz, Marktstätte/Bahnhof  47.659630  9.177036   \n14  1101805          Radolfzell (Bodensee)  47.735103  8.969328   \n15  1101889     Randegg (Hegau), Ortsmitte  47.722027  8.752322   \n16  1101890  Randegg (Hegau), Ottilienstr.  47.722474  8.755834   \n17  1101894                Reichenau (See)  47.689740  9.054228   \n18  1104775     Grenzach, Bärenfelsstrasse  47.554179  7.651823   \n19  1104777              Grenzach, Gleusen  47.551172  7.669924   \n\n    location_type parent_station  \n0             NaN           None  \n1             NaN           None  \n2             NaN           None  \n3             NaN           None  \n4             NaN           None  \n5             NaN           None  \n6             NaN           None  \n7             NaN           None  \n8             NaN           None  \n9             NaN           None  \n10            NaN           None  \n11            NaN           None  \n12            NaN           None  \n13            NaN           None  \n14            NaN           None  \n15            NaN           None  \n16            NaN           None  \n17            NaN           None  \n18            NaN           None  \n19            NaN           None  ",
      "text/html": "<div>\n<style scoped>\n    .dataframe tbody tr th:only-of-type {\n        vertical-align: middle;\n    }\n\n    .dataframe tbody tr th {\n        vertical-align: top;\n    }\n\n    .dataframe thead th {\n        text-align: right;\n    }\n</style>\n<table border=\"1\" class=\"dataframe\">\n  <thead>\n    <tr style=\"text-align: right;\">\n      <th></th>\n      <th>stop_id</th>\n      <th>stop_name</th>\n      <th>stop_lat</th>\n      <th>stop_lon</th>\n      <th>location_type</th>\n      <th>parent_station</th>\n    </tr>\n  </thead>\n  <tbody>\n    <tr>\n      <th>0</th>\n      <td>1100723</td>\n      <td>Inzlingen, Zoll</td>\n      <td>47.585586</td>\n      <td>7.672664</td>\n      <td>NaN</td>\n      <td>None</td>\n    </tr>\n    <tr>\n      <th>1</th>\n      <td>1101316</td>\n      <td>Büsingen, Bürgerhaus</td>\n      <td>47.696277</td>\n      <td>8.688029</td>\n      <td>NaN</td>\n      <td>None</td>\n    </tr>\n    <tr>\n      <th>2</th>\n      <td>1101319</td>\n      <td>Büsingen, Kirche St. Michael</td>\n      <td>47.698780</td>\n      <td>8.703058</td>\n      <td>NaN</td>\n      <td>None</td>\n    </tr>\n    <tr>\n      <th>3</th>\n      <td>1101323</td>\n      <td>Büsingen, Schifflände</td>\n      <td>47.696875</td>\n      <td>8.693877</td>\n      <td>NaN</td>\n      <td>None</td>\n    </tr>\n    <tr>\n      <th>4</th>\n      <td>1101324</td>\n      <td>Büsingen, Stemmer</td>\n      <td>47.686408</td>\n      <td>8.668895</td>\n      <td>NaN</td>\n      <td>None</td>\n    </tr>\n    <tr>\n      <th>5</th>\n      <td>1101326</td>\n      <td>Büsingen, Strandbad</td>\n      <td>47.696210</td>\n      <td>8.697372</td>\n      <td>NaN</td>\n      <td>None</td>\n    </tr>\n    <tr>\n      <th>6</th>\n      <td>1101327</td>\n      <td>Büsingen, Wiesli</td>\n      <td>47.690671</td>\n      <td>8.681067</td>\n      <td>NaN</td>\n      <td>None</td>\n    </tr>\n    <tr>\n      <th>7</th>\n      <td>1101459</td>\n      <td>Murbach (D), Zum Grenzstein</td>\n      <td>47.714720</td>\n      <td>8.767189</td>\n      <td>NaN</td>\n      <td>None</td>\n    </tr>\n    <tr>\n      <th>8</th>\n      <td>1101535</td>\n      <td>Konstanz, Bahnhof</td>\n      <td>47.659345</td>\n      <td>9.176991</td>\n      <td>NaN</td>\n      <td>None</td>\n    </tr>\n    <tr>\n      <th>9</th>\n      <td>1101589</td>\n      <td>Konstanz, Konzilstr./Theater</td>\n      <td>47.662727</td>\n      <td>9.177674</td>\n      <td>NaN</td>\n      <td>None</td>\n    </tr>\n    <tr>\n      <th>10</th>\n      <td>1101615</td>\n      <td>Konstanz, Schweizer Bahnhof</td>\n      <td>47.658547</td>\n      <td>9.176794</td>\n      <td>NaN</td>\n      <td>None</td>\n    </tr>\n    <tr>\n      <th>11</th>\n      <td>1101622</td>\n      <td>Konstanz, Sternenplatz</td>\n      <td>47.667537</td>\n      <td>9.179471</td>\n      <td>NaN</td>\n      <td>None</td>\n    </tr>\n    <tr>\n      <th>12</th>\n      <td>1101633</td>\n      <td>Konstanz, Zähringerplatz</td>\n      <td>47.672879</td>\n      <td>9.183684</td>\n      <td>NaN</td>\n      <td>None</td>\n    </tr>\n    <tr>\n      <th>13</th>\n      <td>1101636</td>\n      <td>Konstanz, Marktstätte/Bahnhof</td>\n      <td>47.659630</td>\n      <td>9.177036</td>\n      <td>NaN</td>\n      <td>None</td>\n    </tr>\n    <tr>\n      <th>14</th>\n      <td>1101805</td>\n      <td>Radolfzell (Bodensee)</td>\n      <td>47.735103</td>\n      <td>8.969328</td>\n      <td>NaN</td>\n      <td>None</td>\n    </tr>\n    <tr>\n      <th>15</th>\n      <td>1101889</td>\n      <td>Randegg (Hegau), Ortsmitte</td>\n      <td>47.722027</td>\n      <td>8.752322</td>\n      <td>NaN</td>\n      <td>None</td>\n    </tr>\n    <tr>\n      <th>16</th>\n      <td>1101890</td>\n      <td>Randegg (Hegau), Ottilienstr.</td>\n      <td>47.722474</td>\n      <td>8.755834</td>\n      <td>NaN</td>\n      <td>None</td>\n    </tr>\n    <tr>\n      <th>17</th>\n      <td>1101894</td>\n      <td>Reichenau (See)</td>\n      <td>47.689740</td>\n      <td>9.054228</td>\n      <td>NaN</td>\n      <td>None</td>\n    </tr>\n    <tr>\n      <th>18</th>\n      <td>1104775</td>\n      <td>Grenzach, Bärenfelsstrasse</td>\n      <td>47.554179</td>\n      <td>7.651823</td>\n      <td>NaN</td>\n      <td>None</td>\n    </tr>\n    <tr>\n      <th>19</th>\n      <td>1104777</td>\n      <td>Grenzach, Gleusen</td>\n      <td>47.551172</td>\n      <td>7.669924</td>\n      <td>NaN</td>\n      <td>None</td>\n    </tr>\n  </tbody>\n</table>\n</div>"
     },
     "execution_count": 3,
     "metadata": {},
     "output_type": "execute_result"
    }
   ],
   "source": [
    "# Query the stops\n",
    "qry = f\"\"\"\n",
    "SELECT\n",
    "    *\n",
    "FROM\n",
    "    stops\n",
    "LIMIT 20\n",
    "\"\"\"\n",
    "\n",
    "df = connection.sql(qry).df()\n",
    "df"
   ],
   "metadata": {
    "collapsed": false,
    "ExecuteTime": {
     "end_time": "2024-11-19T10:31:56.209247700Z",
     "start_time": "2024-11-19T10:31:56.166630600Z"
    }
   }
  },
  {
   "cell_type": "code",
   "execution_count": 7,
   "outputs": [
    {
     "name": "stdout",
     "output_type": "stream",
     "text": [
      "Trips with route_id containing 17790, 17786\n"
     ]
    },
    {
     "data": {
      "text/plain": "        route_id service_id                   trip_id         trip_headsign  \\\n0  92-66-B-j24-1   TA+ywq60  295.TA.92-66-B-j24-1.3.H  Kilchberg ZH, Kirche   \n1    92-77-j24-1   TA+ywq60      6.TA.92-77-j24-1.1.H  Zürich, Balgrist Ost   \n\n  trip_short_name  direction_id block_id  \n0           17786             0     None  \n1           17790             0     None  ",
      "text/html": "<div>\n<style scoped>\n    .dataframe tbody tr th:only-of-type {\n        vertical-align: middle;\n    }\n\n    .dataframe tbody tr th {\n        vertical-align: top;\n    }\n\n    .dataframe thead th {\n        text-align: right;\n    }\n</style>\n<table border=\"1\" class=\"dataframe\">\n  <thead>\n    <tr style=\"text-align: right;\">\n      <th></th>\n      <th>route_id</th>\n      <th>service_id</th>\n      <th>trip_id</th>\n      <th>trip_headsign</th>\n      <th>trip_short_name</th>\n      <th>direction_id</th>\n      <th>block_id</th>\n    </tr>\n  </thead>\n  <tbody>\n    <tr>\n      <th>0</th>\n      <td>92-66-B-j24-1</td>\n      <td>TA+ywq60</td>\n      <td>295.TA.92-66-B-j24-1.3.H</td>\n      <td>Kilchberg ZH, Kirche</td>\n      <td>17786</td>\n      <td>0</td>\n      <td>None</td>\n    </tr>\n    <tr>\n      <th>1</th>\n      <td>92-77-j24-1</td>\n      <td>TA+ywq60</td>\n      <td>6.TA.92-77-j24-1.1.H</td>\n      <td>Zürich, Balgrist Ost</td>\n      <td>17790</td>\n      <td>0</td>\n      <td>None</td>\n    </tr>\n  </tbody>\n</table>\n</div>"
     },
     "execution_count": 7,
     "metadata": {},
     "output_type": "execute_result"
    }
   ],
   "source": [
    "# Get a trip with the trip short name being either 17790, 17786\n",
    "trips = [\"17790\", \"17786\"]\n",
    "# Query trips where the route_id contains 466\n",
    "qry_trips = f\"\"\"SELECT * FROM trips WHERE trip_short_name IN {trips} LIMIT 20\"\"\"\n",
    "df_trips = connection.sql(qry_trips).df()\n",
    "\n",
    "print(\"Trips with trip_short_name containing 17790, 17786\")\n",
    "df_trips"
   ],
   "metadata": {
    "collapsed": false,
    "ExecuteTime": {
     "end_time": "2024-11-19T10:44:16.302119700Z",
     "start_time": "2024-11-19T10:44:16.239274500Z"
    }
   }
  },
  {
   "cell_type": "code",
   "execution_count": 16,
   "outputs": [
    {
     "data": {
      "text/plain": "   stop_id                   stop_name               trip_id arrival_time  \\\n0  8530812       Zürich, Hegibachplatz  6.TA.92-77-j24-1.1.H     19:54:00   \n1  8591094  Zürich, Botanischer Garten  6.TA.92-77-j24-1.1.H     19:55:00   \n2  8591040     Zürich, Altenhofstrasse  6.TA.92-77-j24-1.1.H     19:56:00   \n3  8591440    Zürich, Wonnebergstrasse  6.TA.92-77-j24-1.1.H     19:58:00   \n4  8591133           Zürich, Flühgasse  6.TA.92-77-j24-1.1.H     19:59:00   \n5  8591120          Zürich, EPI-Klinik  6.TA.92-77-j24-1.1.H     19:59:00   \n6  8591212           Zürich, Im Walder  6.TA.92-77-j24-1.1.H     20:01:00   \n7  8510013   Zollikon, Niederhofenrain  6.TA.92-77-j24-1.1.H     20:02:00   \n8  8510010   Zürich, Klinik Hirslanden  6.TA.92-77-j24-1.1.H     20:03:00   \n9  8510553        Zürich, Balgrist Ost  6.TA.92-77-j24-1.1.H     20:04:00   \n\n  departure_time  stop_sequence trip_short_name         trip_headsign  \n0       19:54:00              1           17790  Zürich, Balgrist Ost  \n1       19:55:00              2           17790  Zürich, Balgrist Ost  \n2       19:57:00              3           17790  Zürich, Balgrist Ost  \n3       19:58:00              4           17790  Zürich, Balgrist Ost  \n4       19:59:00              5           17790  Zürich, Balgrist Ost  \n5       20:00:00              6           17790  Zürich, Balgrist Ost  \n6       20:01:00              7           17790  Zürich, Balgrist Ost  \n7       20:02:00              8           17790  Zürich, Balgrist Ost  \n8       20:03:00              9           17790  Zürich, Balgrist Ost  \n9       20:04:00             10           17790  Zürich, Balgrist Ost  ",
      "text/html": "<div>\n<style scoped>\n    .dataframe tbody tr th:only-of-type {\n        vertical-align: middle;\n    }\n\n    .dataframe tbody tr th {\n        vertical-align: top;\n    }\n\n    .dataframe thead th {\n        text-align: right;\n    }\n</style>\n<table border=\"1\" class=\"dataframe\">\n  <thead>\n    <tr style=\"text-align: right;\">\n      <th></th>\n      <th>stop_id</th>\n      <th>stop_name</th>\n      <th>trip_id</th>\n      <th>arrival_time</th>\n      <th>departure_time</th>\n      <th>stop_sequence</th>\n      <th>trip_short_name</th>\n      <th>trip_headsign</th>\n    </tr>\n  </thead>\n  <tbody>\n    <tr>\n      <th>0</th>\n      <td>8530812</td>\n      <td>Zürich, Hegibachplatz</td>\n      <td>6.TA.92-77-j24-1.1.H</td>\n      <td>19:54:00</td>\n      <td>19:54:00</td>\n      <td>1</td>\n      <td>17790</td>\n      <td>Zürich, Balgrist Ost</td>\n    </tr>\n    <tr>\n      <th>1</th>\n      <td>8591094</td>\n      <td>Zürich, Botanischer Garten</td>\n      <td>6.TA.92-77-j24-1.1.H</td>\n      <td>19:55:00</td>\n      <td>19:55:00</td>\n      <td>2</td>\n      <td>17790</td>\n      <td>Zürich, Balgrist Ost</td>\n    </tr>\n    <tr>\n      <th>2</th>\n      <td>8591040</td>\n      <td>Zürich, Altenhofstrasse</td>\n      <td>6.TA.92-77-j24-1.1.H</td>\n      <td>19:56:00</td>\n      <td>19:57:00</td>\n      <td>3</td>\n      <td>17790</td>\n      <td>Zürich, Balgrist Ost</td>\n    </tr>\n    <tr>\n      <th>3</th>\n      <td>8591440</td>\n      <td>Zürich, Wonnebergstrasse</td>\n      <td>6.TA.92-77-j24-1.1.H</td>\n      <td>19:58:00</td>\n      <td>19:58:00</td>\n      <td>4</td>\n      <td>17790</td>\n      <td>Zürich, Balgrist Ost</td>\n    </tr>\n    <tr>\n      <th>4</th>\n      <td>8591133</td>\n      <td>Zürich, Flühgasse</td>\n      <td>6.TA.92-77-j24-1.1.H</td>\n      <td>19:59:00</td>\n      <td>19:59:00</td>\n      <td>5</td>\n      <td>17790</td>\n      <td>Zürich, Balgrist Ost</td>\n    </tr>\n    <tr>\n      <th>5</th>\n      <td>8591120</td>\n      <td>Zürich, EPI-Klinik</td>\n      <td>6.TA.92-77-j24-1.1.H</td>\n      <td>19:59:00</td>\n      <td>20:00:00</td>\n      <td>6</td>\n      <td>17790</td>\n      <td>Zürich, Balgrist Ost</td>\n    </tr>\n    <tr>\n      <th>6</th>\n      <td>8591212</td>\n      <td>Zürich, Im Walder</td>\n      <td>6.TA.92-77-j24-1.1.H</td>\n      <td>20:01:00</td>\n      <td>20:01:00</td>\n      <td>7</td>\n      <td>17790</td>\n      <td>Zürich, Balgrist Ost</td>\n    </tr>\n    <tr>\n      <th>7</th>\n      <td>8510013</td>\n      <td>Zollikon, Niederhofenrain</td>\n      <td>6.TA.92-77-j24-1.1.H</td>\n      <td>20:02:00</td>\n      <td>20:02:00</td>\n      <td>8</td>\n      <td>17790</td>\n      <td>Zürich, Balgrist Ost</td>\n    </tr>\n    <tr>\n      <th>8</th>\n      <td>8510010</td>\n      <td>Zürich, Klinik Hirslanden</td>\n      <td>6.TA.92-77-j24-1.1.H</td>\n      <td>20:03:00</td>\n      <td>20:03:00</td>\n      <td>9</td>\n      <td>17790</td>\n      <td>Zürich, Balgrist Ost</td>\n    </tr>\n    <tr>\n      <th>9</th>\n      <td>8510553</td>\n      <td>Zürich, Balgrist Ost</td>\n      <td>6.TA.92-77-j24-1.1.H</td>\n      <td>20:04:00</td>\n      <td>20:04:00</td>\n      <td>10</td>\n      <td>17790</td>\n      <td>Zürich, Balgrist Ost</td>\n    </tr>\n  </tbody>\n</table>\n</div>"
     },
     "execution_count": 16,
     "metadata": {},
     "output_type": "execute_result"
    }
   ],
   "source": [
    "# Query the stops and join them with the stop_times and the trips\n",
    "trips = [\"17790\"]\n",
    "qry = f\"\"\"\n",
    "SELECT\n",
    "    stops.stop_id,\n",
    "    stops.stop_name,\n",
    "    stop_times.trip_id,\n",
    "    stop_times.arrival_time,\n",
    "    stop_times.departure_time,\n",
    "    stop_times.stop_sequence,\n",
    "    trips.trip_short_name,\n",
    "    trips.trip_headsign\n",
    "FROM\n",
    "    stops\n",
    "JOIN\n",
    "    stop_times\n",
    "ON\n",
    "    stops.stop_id = stop_times.stop_id\n",
    "JOIN\n",
    "    trips\n",
    "ON\n",
    "    stop_times.trip_id = trips.trip_id\n",
    "WHERE trips.trip_short_name IN {trips}\n",
    "LIMIT 50\n",
    "\"\"\"\n",
    "\n",
    "df = connection.sql(qry).df()\n",
    "df"
   ],
   "metadata": {
    "collapsed": false,
    "ExecuteTime": {
     "end_time": "2024-11-19T10:56:45.963440700Z",
     "start_time": "2024-11-19T10:56:45.912484400Z"
    }
   }
  },
  {
   "cell_type": "code",
   "execution_count": 22,
   "outputs": [
    {
     "data": {
      "text/plain": "        stop_id  stop_name                   trip_id arrival_time  \\\n0  8503000:0:18  Zürich HB  2.TA.91-19-Y-j24-1.100.H     07:26:00   \n1  8503000:0:18  Zürich HB  1.TA.91-19-Y-j24-1.100.H     06:26:00   \n2  8503000:0:18  Zürich HB  3.TA.91-19-Y-j24-1.101.H     08:26:00   \n\n  departure_time  stop_sequence trip_short_name trip_headsign  \n0       07:26:00              2            1009     Zürich HB  \n1       06:26:00              2            1007     Zürich HB  \n2       08:26:00              2            1011     Zürich HB  ",
      "text/html": "<div>\n<style scoped>\n    .dataframe tbody tr th:only-of-type {\n        vertical-align: middle;\n    }\n\n    .dataframe tbody tr th {\n        vertical-align: top;\n    }\n\n    .dataframe thead th {\n        text-align: right;\n    }\n</style>\n<table border=\"1\" class=\"dataframe\">\n  <thead>\n    <tr style=\"text-align: right;\">\n      <th></th>\n      <th>stop_id</th>\n      <th>stop_name</th>\n      <th>trip_id</th>\n      <th>arrival_time</th>\n      <th>departure_time</th>\n      <th>stop_sequence</th>\n      <th>trip_short_name</th>\n      <th>trip_headsign</th>\n    </tr>\n  </thead>\n  <tbody>\n    <tr>\n      <th>0</th>\n      <td>8503000:0:18</td>\n      <td>Zürich HB</td>\n      <td>2.TA.91-19-Y-j24-1.100.H</td>\n      <td>07:26:00</td>\n      <td>07:26:00</td>\n      <td>2</td>\n      <td>1009</td>\n      <td>Zürich HB</td>\n    </tr>\n    <tr>\n      <th>1</th>\n      <td>8503000:0:18</td>\n      <td>Zürich HB</td>\n      <td>1.TA.91-19-Y-j24-1.100.H</td>\n      <td>06:26:00</td>\n      <td>06:26:00</td>\n      <td>2</td>\n      <td>1007</td>\n      <td>Zürich HB</td>\n    </tr>\n    <tr>\n      <th>2</th>\n      <td>8503000:0:18</td>\n      <td>Zürich HB</td>\n      <td>3.TA.91-19-Y-j24-1.101.H</td>\n      <td>08:26:00</td>\n      <td>08:26:00</td>\n      <td>2</td>\n      <td>1011</td>\n      <td>Zürich HB</td>\n    </tr>\n  </tbody>\n</table>\n</div>"
     },
     "execution_count": 22,
     "metadata": {},
     "output_type": "execute_result"
    }
   ],
   "source": [
    "# Query the stops and join them with the stop_times and the trips, filter to Zürich HB (BPUIC = stop_id: 8503000)\n",
    "liniend_ids = [\"1007\", \"1009\", \"1011\", \"10318\", \"10320\"]\n",
    "qry = f\"\"\"\n",
    "SELECT\n",
    "    stops.stop_id,\n",
    "    stops.stop_name,\n",
    "    stop_times.trip_id,\n",
    "    stop_times.arrival_time,\n",
    "    stop_times.departure_time,\n",
    "    stop_times.stop_sequence,\n",
    "    trips.trip_short_name,\n",
    "    trips.trip_headsign\n",
    "FROM\n",
    "    stops\n",
    "JOIN\n",
    "    stop_times\n",
    "ON\n",
    "    stops.stop_id = stop_times.stop_id\n",
    "JOIN\n",
    "    trips\n",
    "ON\n",
    "    stop_times.trip_id = trips.trip_id\n",
    "WHERE stops.stop_id LIKE '%8503000%' AND trips.trip_short_name IN {liniend_ids}\n",
    "LIMIT 50\n",
    "\"\"\"\n",
    "\n",
    "df = connection.sql(qry).df()\n",
    "df"
   ],
   "metadata": {
    "collapsed": false,
    "ExecuteTime": {
     "end_time": "2024-11-19T11:08:53.283719600Z",
     "start_time": "2024-11-19T11:08:53.158219300Z"
    }
   }
  },
  {
   "cell_type": "code",
   "execution_count": 24,
   "outputs": [
    {
     "data": {
      "text/plain": "         stop_id  stop_name                    trip_id arrival_time  \\\n0   8503000:0:13  Zürich HB   72.TA.91-3-C-j24-1.125.H     21:22:00   \n1   8503000:0:13  Zürich HB   75.TA.91-3-C-j24-1.130.H     21:22:00   \n2   8503000:0:18  Zürich HB   1.TA.91-19-Y-j24-1.100.H     06:26:00   \n3   8503000:0:10  Zürich HB  111.TA.91-3-C-j24-1.232.R     08:00:00   \n4   8503000:0:15  Zürich HB    1.TA.91-4B-Y-j24-1.48.H     21:08:00   \n5   8503000:0:18  Zürich HB   2.TA.91-19-Y-j24-1.100.H     07:26:00   \n6   8503000:0:13  Zürich HB  22.TA.91-29-Y-j24-1.109.R     18:32:00   \n7   8503000:0:15  Zürich HB    2.TA.91-4B-Y-j24-1.45.H     21:08:00   \n8    8503000:0:6  Zürich HB  144.TA.91-3-C-j24-1.288.R     09:07:00   \n9    8503000:0:6  Zürich HB  150.TA.91-3-C-j24-1.609.R     09:00:00   \n10   8503000:0:6  Zürich HB  169.TA.91-3-C-j24-1.639.R     08:00:00   \n11  8503000:0:13  Zürich HB   16.TA.91-3-C-j24-1.509.H     21:34:00   \n12  8503000:0:18  Zürich HB   3.TA.91-19-Y-j24-1.101.H     08:26:00   \n13  8503000:0:15  Zürich HB     3.TA.91-4B-Y-j24-1.9.H     21:08:00   \n14  8503000:0:11  Zürich HB   88.TA.91-3-C-j24-1.165.R     07:00:00   \n15  8503000:0:10  Zürich HB   99.TA.91-3-C-j24-1.179.R     09:00:00   \n16  8503000:0:10  Zürich HB    4.TA.91-4B-Y-j24-1.47.H     21:08:00   \n\n   departure_time  stop_sequence trip_short_name trip_headsign  \n0        21:34:00              5            1258     Basel SBB  \n1        21:34:00              5            1258     Basel SBB  \n2        06:26:00              2            1007     Zürich HB  \n3        08:00:00              3            1253     Zürich HB  \n4        21:08:00              1            1260     Basel SBB  \n5        07:26:00              2            1009     Zürich HB  \n6        18:32:00              9            1333     Zürich HB  \n7        21:08:00              1            1260     Basel SBB  \n8        09:07:00              1            1255          Chur  \n9        09:07:00              3            1255          Chur  \n10       08:07:00              3            1253          Chur  \n11       21:34:00              1            1258     Basel SBB  \n12       08:26:00              2            1011     Zürich HB  \n13       21:08:00              1            1260     Basel SBB  \n14       07:00:00              3            1251     Zürich HB  \n15       09:00:00              3            1255     Zürich HB  \n16       21:08:00              1            1260     Basel SBB  ",
      "text/html": "<div>\n<style scoped>\n    .dataframe tbody tr th:only-of-type {\n        vertical-align: middle;\n    }\n\n    .dataframe tbody tr th {\n        vertical-align: top;\n    }\n\n    .dataframe thead th {\n        text-align: right;\n    }\n</style>\n<table border=\"1\" class=\"dataframe\">\n  <thead>\n    <tr style=\"text-align: right;\">\n      <th></th>\n      <th>stop_id</th>\n      <th>stop_name</th>\n      <th>trip_id</th>\n      <th>arrival_time</th>\n      <th>departure_time</th>\n      <th>stop_sequence</th>\n      <th>trip_short_name</th>\n      <th>trip_headsign</th>\n    </tr>\n  </thead>\n  <tbody>\n    <tr>\n      <th>0</th>\n      <td>8503000:0:13</td>\n      <td>Zürich HB</td>\n      <td>72.TA.91-3-C-j24-1.125.H</td>\n      <td>21:22:00</td>\n      <td>21:34:00</td>\n      <td>5</td>\n      <td>1258</td>\n      <td>Basel SBB</td>\n    </tr>\n    <tr>\n      <th>1</th>\n      <td>8503000:0:13</td>\n      <td>Zürich HB</td>\n      <td>75.TA.91-3-C-j24-1.130.H</td>\n      <td>21:22:00</td>\n      <td>21:34:00</td>\n      <td>5</td>\n      <td>1258</td>\n      <td>Basel SBB</td>\n    </tr>\n    <tr>\n      <th>2</th>\n      <td>8503000:0:18</td>\n      <td>Zürich HB</td>\n      <td>1.TA.91-19-Y-j24-1.100.H</td>\n      <td>06:26:00</td>\n      <td>06:26:00</td>\n      <td>2</td>\n      <td>1007</td>\n      <td>Zürich HB</td>\n    </tr>\n    <tr>\n      <th>3</th>\n      <td>8503000:0:10</td>\n      <td>Zürich HB</td>\n      <td>111.TA.91-3-C-j24-1.232.R</td>\n      <td>08:00:00</td>\n      <td>08:00:00</td>\n      <td>3</td>\n      <td>1253</td>\n      <td>Zürich HB</td>\n    </tr>\n    <tr>\n      <th>4</th>\n      <td>8503000:0:15</td>\n      <td>Zürich HB</td>\n      <td>1.TA.91-4B-Y-j24-1.48.H</td>\n      <td>21:08:00</td>\n      <td>21:08:00</td>\n      <td>1</td>\n      <td>1260</td>\n      <td>Basel SBB</td>\n    </tr>\n    <tr>\n      <th>5</th>\n      <td>8503000:0:18</td>\n      <td>Zürich HB</td>\n      <td>2.TA.91-19-Y-j24-1.100.H</td>\n      <td>07:26:00</td>\n      <td>07:26:00</td>\n      <td>2</td>\n      <td>1009</td>\n      <td>Zürich HB</td>\n    </tr>\n    <tr>\n      <th>6</th>\n      <td>8503000:0:13</td>\n      <td>Zürich HB</td>\n      <td>22.TA.91-29-Y-j24-1.109.R</td>\n      <td>18:32:00</td>\n      <td>18:32:00</td>\n      <td>9</td>\n      <td>1333</td>\n      <td>Zürich HB</td>\n    </tr>\n    <tr>\n      <th>7</th>\n      <td>8503000:0:15</td>\n      <td>Zürich HB</td>\n      <td>2.TA.91-4B-Y-j24-1.45.H</td>\n      <td>21:08:00</td>\n      <td>21:08:00</td>\n      <td>1</td>\n      <td>1260</td>\n      <td>Basel SBB</td>\n    </tr>\n    <tr>\n      <th>8</th>\n      <td>8503000:0:6</td>\n      <td>Zürich HB</td>\n      <td>144.TA.91-3-C-j24-1.288.R</td>\n      <td>09:07:00</td>\n      <td>09:07:00</td>\n      <td>1</td>\n      <td>1255</td>\n      <td>Chur</td>\n    </tr>\n    <tr>\n      <th>9</th>\n      <td>8503000:0:6</td>\n      <td>Zürich HB</td>\n      <td>150.TA.91-3-C-j24-1.609.R</td>\n      <td>09:00:00</td>\n      <td>09:07:00</td>\n      <td>3</td>\n      <td>1255</td>\n      <td>Chur</td>\n    </tr>\n    <tr>\n      <th>10</th>\n      <td>8503000:0:6</td>\n      <td>Zürich HB</td>\n      <td>169.TA.91-3-C-j24-1.639.R</td>\n      <td>08:00:00</td>\n      <td>08:07:00</td>\n      <td>3</td>\n      <td>1253</td>\n      <td>Chur</td>\n    </tr>\n    <tr>\n      <th>11</th>\n      <td>8503000:0:13</td>\n      <td>Zürich HB</td>\n      <td>16.TA.91-3-C-j24-1.509.H</td>\n      <td>21:34:00</td>\n      <td>21:34:00</td>\n      <td>1</td>\n      <td>1258</td>\n      <td>Basel SBB</td>\n    </tr>\n    <tr>\n      <th>12</th>\n      <td>8503000:0:18</td>\n      <td>Zürich HB</td>\n      <td>3.TA.91-19-Y-j24-1.101.H</td>\n      <td>08:26:00</td>\n      <td>08:26:00</td>\n      <td>2</td>\n      <td>1011</td>\n      <td>Zürich HB</td>\n    </tr>\n    <tr>\n      <th>13</th>\n      <td>8503000:0:15</td>\n      <td>Zürich HB</td>\n      <td>3.TA.91-4B-Y-j24-1.9.H</td>\n      <td>21:08:00</td>\n      <td>21:08:00</td>\n      <td>1</td>\n      <td>1260</td>\n      <td>Basel SBB</td>\n    </tr>\n    <tr>\n      <th>14</th>\n      <td>8503000:0:11</td>\n      <td>Zürich HB</td>\n      <td>88.TA.91-3-C-j24-1.165.R</td>\n      <td>07:00:00</td>\n      <td>07:00:00</td>\n      <td>3</td>\n      <td>1251</td>\n      <td>Zürich HB</td>\n    </tr>\n    <tr>\n      <th>15</th>\n      <td>8503000:0:10</td>\n      <td>Zürich HB</td>\n      <td>99.TA.91-3-C-j24-1.179.R</td>\n      <td>09:00:00</td>\n      <td>09:00:00</td>\n      <td>3</td>\n      <td>1255</td>\n      <td>Zürich HB</td>\n    </tr>\n    <tr>\n      <th>16</th>\n      <td>8503000:0:10</td>\n      <td>Zürich HB</td>\n      <td>4.TA.91-4B-Y-j24-1.47.H</td>\n      <td>21:08:00</td>\n      <td>21:08:00</td>\n      <td>1</td>\n      <td>1260</td>\n      <td>Basel SBB</td>\n    </tr>\n  </tbody>\n</table>\n</div>"
     },
     "execution_count": 24,
     "metadata": {},
     "output_type": "execute_result"
    }
   ],
   "source": [
    "# Query the stops and join them with the stop_times and the trips, filter to Zürich HB (BPUIC = stop_id: 8503000)\n",
    "liniend_ids = [\"1007\", \"1009\", \"1011\", \"1251\", \"1253\", \"1255\", \"1258\", \"1260\", \"1333\"]\n",
    "qry = f\"\"\"\n",
    "SELECT\n",
    "    stops.stop_id,\n",
    "    stops.stop_name,\n",
    "    stop_times.trip_id,\n",
    "    stop_times.arrival_time,\n",
    "    stop_times.departure_time,\n",
    "    stop_times.stop_sequence,\n",
    "    trips.trip_short_name,\n",
    "    trips.trip_headsign\n",
    "FROM\n",
    "    stops\n",
    "JOIN\n",
    "    stop_times\n",
    "ON\n",
    "    stops.stop_id = stop_times.stop_id\n",
    "JOIN\n",
    "    trips\n",
    "ON\n",
    "    stop_times.trip_id = trips.trip_id\n",
    "WHERE stops.stop_id LIKE '%8503000%' AND trips.trip_short_name IN {liniend_ids}\n",
    "LIMIT 50\n",
    "\"\"\"\n",
    "\n",
    "df = connection.sql(qry).df()\n",
    "df"
   ],
   "metadata": {
    "collapsed": false,
    "ExecuteTime": {
     "end_time": "2024-11-19T11:20:13.295967Z",
     "start_time": "2024-11-19T11:20:13.158850200Z"
    }
   }
  },
  {
   "cell_type": "code",
   "execution_count": 30,
   "outputs": [
    {
     "data": {
      "text/plain": "   trip_short_name  count  stop_name       trip_headsign\n0                4     11  Zürich HB         Baden-Baden\n1             2367     10  Zürich HB                Chur\n2              735     10  Zürich HB          St. Gallen\n3             2353      9  Zürich HB                Chur\n4             2377      9  Zürich HB                Chur\n5             2386      8  Zürich HB                Bern\n6               78      8  Zürich HB         Baden-Baden\n7               77      8  Zürich HB           Zürich HB\n8             2365      6  Zürich HB                Chur\n9               75      6  Zürich HB           Zürich HB\n10            2358      6  Zürich HB                Bern\n11             581      6  Zürich HB                Chur\n12            2374      6  Zürich HB                Bern\n13            2381      6  Zürich HB                Chur\n14            2370      6  Zürich HB                Bern\n15             150      6  Zürich HB           Basel SBB\n16             310      6  Zürich HB           Zürich HB\n17              79      6  Zürich HB           Zürich HB\n18            2385      6  Zürich HB                Chur\n19            2368      6  Zürich HB                Bern\n20            2376      6  Zürich HB                Bern\n21             539      6  Zürich HB           Zürich HB\n22             271      6  Zürich HB                Chur\n23            2359      6  Zürich HB                Chur\n24            2361      6  Zürich HB                Chur\n25             583      6  Zürich HB                Chur\n26             569      6  Zürich HB                Chur\n27              73      6  Zürich HB           Zürich HB\n28            2354      6  Zürich HB                Bern\n29             537      6  Zürich HB           Zürich HB\n30             729      5  Zürich HB          St. Gallen\n31             705      5  Zürich HB          St. Gallen\n32             841      5  Zürich HB           Zürich HB\n33             907      5  Zürich HB                Chur\n34             715      5  Zürich HB          St. Gallen\n35             885      5  Zürich HB              Lugano\n36            2369      5  Zürich HB                Chur\n37             704      5  Zürich HB     Genève-Aéroport\n38             721      5  Zürich HB          St. Gallen\n39            1992      5  Zürich HB           Basel SBB\n40            1990      5  Zürich HB           Basel SBB\n41             866      5  Zürich HB           Zürich HB\n42             327      5  Zürich HB  Genova P. Principe\n43            2363      5  Zürich HB                Chur\n44             714      5  Zürich HB     Genève-Aéroport\n45            2213      5  Zürich HB           Zürich HB\n46           18892      5  Zürich HB          Winterthur\n47             403      5  Zürich HB           Zürich HB\n48            2286      5  Zürich HB           Basel SBB\n49             720      5  Zürich HB     Genève-Aéroport",
      "text/html": "<div>\n<style scoped>\n    .dataframe tbody tr th:only-of-type {\n        vertical-align: middle;\n    }\n\n    .dataframe tbody tr th {\n        vertical-align: top;\n    }\n\n    .dataframe thead th {\n        text-align: right;\n    }\n</style>\n<table border=\"1\" class=\"dataframe\">\n  <thead>\n    <tr style=\"text-align: right;\">\n      <th></th>\n      <th>trip_short_name</th>\n      <th>count</th>\n      <th>stop_name</th>\n      <th>trip_headsign</th>\n    </tr>\n  </thead>\n  <tbody>\n    <tr>\n      <th>0</th>\n      <td>4</td>\n      <td>11</td>\n      <td>Zürich HB</td>\n      <td>Baden-Baden</td>\n    </tr>\n    <tr>\n      <th>1</th>\n      <td>2367</td>\n      <td>10</td>\n      <td>Zürich HB</td>\n      <td>Chur</td>\n    </tr>\n    <tr>\n      <th>2</th>\n      <td>735</td>\n      <td>10</td>\n      <td>Zürich HB</td>\n      <td>St. Gallen</td>\n    </tr>\n    <tr>\n      <th>3</th>\n      <td>2353</td>\n      <td>9</td>\n      <td>Zürich HB</td>\n      <td>Chur</td>\n    </tr>\n    <tr>\n      <th>4</th>\n      <td>2377</td>\n      <td>9</td>\n      <td>Zürich HB</td>\n      <td>Chur</td>\n    </tr>\n    <tr>\n      <th>5</th>\n      <td>2386</td>\n      <td>8</td>\n      <td>Zürich HB</td>\n      <td>Bern</td>\n    </tr>\n    <tr>\n      <th>6</th>\n      <td>78</td>\n      <td>8</td>\n      <td>Zürich HB</td>\n      <td>Baden-Baden</td>\n    </tr>\n    <tr>\n      <th>7</th>\n      <td>77</td>\n      <td>8</td>\n      <td>Zürich HB</td>\n      <td>Zürich HB</td>\n    </tr>\n    <tr>\n      <th>8</th>\n      <td>2365</td>\n      <td>6</td>\n      <td>Zürich HB</td>\n      <td>Chur</td>\n    </tr>\n    <tr>\n      <th>9</th>\n      <td>75</td>\n      <td>6</td>\n      <td>Zürich HB</td>\n      <td>Zürich HB</td>\n    </tr>\n    <tr>\n      <th>10</th>\n      <td>2358</td>\n      <td>6</td>\n      <td>Zürich HB</td>\n      <td>Bern</td>\n    </tr>\n    <tr>\n      <th>11</th>\n      <td>581</td>\n      <td>6</td>\n      <td>Zürich HB</td>\n      <td>Chur</td>\n    </tr>\n    <tr>\n      <th>12</th>\n      <td>2374</td>\n      <td>6</td>\n      <td>Zürich HB</td>\n      <td>Bern</td>\n    </tr>\n    <tr>\n      <th>13</th>\n      <td>2381</td>\n      <td>6</td>\n      <td>Zürich HB</td>\n      <td>Chur</td>\n    </tr>\n    <tr>\n      <th>14</th>\n      <td>2370</td>\n      <td>6</td>\n      <td>Zürich HB</td>\n      <td>Bern</td>\n    </tr>\n    <tr>\n      <th>15</th>\n      <td>150</td>\n      <td>6</td>\n      <td>Zürich HB</td>\n      <td>Basel SBB</td>\n    </tr>\n    <tr>\n      <th>16</th>\n      <td>310</td>\n      <td>6</td>\n      <td>Zürich HB</td>\n      <td>Zürich HB</td>\n    </tr>\n    <tr>\n      <th>17</th>\n      <td>79</td>\n      <td>6</td>\n      <td>Zürich HB</td>\n      <td>Zürich HB</td>\n    </tr>\n    <tr>\n      <th>18</th>\n      <td>2385</td>\n      <td>6</td>\n      <td>Zürich HB</td>\n      <td>Chur</td>\n    </tr>\n    <tr>\n      <th>19</th>\n      <td>2368</td>\n      <td>6</td>\n      <td>Zürich HB</td>\n      <td>Bern</td>\n    </tr>\n    <tr>\n      <th>20</th>\n      <td>2376</td>\n      <td>6</td>\n      <td>Zürich HB</td>\n      <td>Bern</td>\n    </tr>\n    <tr>\n      <th>21</th>\n      <td>539</td>\n      <td>6</td>\n      <td>Zürich HB</td>\n      <td>Zürich HB</td>\n    </tr>\n    <tr>\n      <th>22</th>\n      <td>271</td>\n      <td>6</td>\n      <td>Zürich HB</td>\n      <td>Chur</td>\n    </tr>\n    <tr>\n      <th>23</th>\n      <td>2359</td>\n      <td>6</td>\n      <td>Zürich HB</td>\n      <td>Chur</td>\n    </tr>\n    <tr>\n      <th>24</th>\n      <td>2361</td>\n      <td>6</td>\n      <td>Zürich HB</td>\n      <td>Chur</td>\n    </tr>\n    <tr>\n      <th>25</th>\n      <td>583</td>\n      <td>6</td>\n      <td>Zürich HB</td>\n      <td>Chur</td>\n    </tr>\n    <tr>\n      <th>26</th>\n      <td>569</td>\n      <td>6</td>\n      <td>Zürich HB</td>\n      <td>Chur</td>\n    </tr>\n    <tr>\n      <th>27</th>\n      <td>73</td>\n      <td>6</td>\n      <td>Zürich HB</td>\n      <td>Zürich HB</td>\n    </tr>\n    <tr>\n      <th>28</th>\n      <td>2354</td>\n      <td>6</td>\n      <td>Zürich HB</td>\n      <td>Bern</td>\n    </tr>\n    <tr>\n      <th>29</th>\n      <td>537</td>\n      <td>6</td>\n      <td>Zürich HB</td>\n      <td>Zürich HB</td>\n    </tr>\n    <tr>\n      <th>30</th>\n      <td>729</td>\n      <td>5</td>\n      <td>Zürich HB</td>\n      <td>St. Gallen</td>\n    </tr>\n    <tr>\n      <th>31</th>\n      <td>705</td>\n      <td>5</td>\n      <td>Zürich HB</td>\n      <td>St. Gallen</td>\n    </tr>\n    <tr>\n      <th>32</th>\n      <td>841</td>\n      <td>5</td>\n      <td>Zürich HB</td>\n      <td>Zürich HB</td>\n    </tr>\n    <tr>\n      <th>33</th>\n      <td>907</td>\n      <td>5</td>\n      <td>Zürich HB</td>\n      <td>Chur</td>\n    </tr>\n    <tr>\n      <th>34</th>\n      <td>715</td>\n      <td>5</td>\n      <td>Zürich HB</td>\n      <td>St. Gallen</td>\n    </tr>\n    <tr>\n      <th>35</th>\n      <td>885</td>\n      <td>5</td>\n      <td>Zürich HB</td>\n      <td>Lugano</td>\n    </tr>\n    <tr>\n      <th>36</th>\n      <td>2369</td>\n      <td>5</td>\n      <td>Zürich HB</td>\n      <td>Chur</td>\n    </tr>\n    <tr>\n      <th>37</th>\n      <td>704</td>\n      <td>5</td>\n      <td>Zürich HB</td>\n      <td>Genève-Aéroport</td>\n    </tr>\n    <tr>\n      <th>38</th>\n      <td>721</td>\n      <td>5</td>\n      <td>Zürich HB</td>\n      <td>St. Gallen</td>\n    </tr>\n    <tr>\n      <th>39</th>\n      <td>1992</td>\n      <td>5</td>\n      <td>Zürich HB</td>\n      <td>Basel SBB</td>\n    </tr>\n    <tr>\n      <th>40</th>\n      <td>1990</td>\n      <td>5</td>\n      <td>Zürich HB</td>\n      <td>Basel SBB</td>\n    </tr>\n    <tr>\n      <th>41</th>\n      <td>866</td>\n      <td>5</td>\n      <td>Zürich HB</td>\n      <td>Zürich HB</td>\n    </tr>\n    <tr>\n      <th>42</th>\n      <td>327</td>\n      <td>5</td>\n      <td>Zürich HB</td>\n      <td>Genova P. Principe</td>\n    </tr>\n    <tr>\n      <th>43</th>\n      <td>2363</td>\n      <td>5</td>\n      <td>Zürich HB</td>\n      <td>Chur</td>\n    </tr>\n    <tr>\n      <th>44</th>\n      <td>714</td>\n      <td>5</td>\n      <td>Zürich HB</td>\n      <td>Genève-Aéroport</td>\n    </tr>\n    <tr>\n      <th>45</th>\n      <td>2213</td>\n      <td>5</td>\n      <td>Zürich HB</td>\n      <td>Zürich HB</td>\n    </tr>\n    <tr>\n      <th>46</th>\n      <td>18892</td>\n      <td>5</td>\n      <td>Zürich HB</td>\n      <td>Winterthur</td>\n    </tr>\n    <tr>\n      <th>47</th>\n      <td>403</td>\n      <td>5</td>\n      <td>Zürich HB</td>\n      <td>Zürich HB</td>\n    </tr>\n    <tr>\n      <th>48</th>\n      <td>2286</td>\n      <td>5</td>\n      <td>Zürich HB</td>\n      <td>Basel SBB</td>\n    </tr>\n    <tr>\n      <th>49</th>\n      <td>720</td>\n      <td>5</td>\n      <td>Zürich HB</td>\n      <td>Genève-Aéroport</td>\n    </tr>\n  </tbody>\n</table>\n</div>"
     },
     "execution_count": 30,
     "metadata": {},
     "output_type": "execute_result"
    }
   ],
   "source": [
    "# query the trip_short_names and group them by the trip_short_name\n",
    "qry = f\"\"\"\n",
    "SELECT\n",
    "    trips.trip_short_name,\n",
    "    COUNT(trips.trip_short_name) as count,\n",
    "    FIRST(stops.stop_name) as stop_name,\n",
    "    FIRST(trips.trip_headsign) as trip_headsign\n",
    "FROM\n",
    "    stops\n",
    "JOIN\n",
    "    stop_times\n",
    "ON\n",
    "    stops.stop_id = stop_times.stop_id\n",
    "JOIN\n",
    "    trips\n",
    "ON\n",
    "    stop_times.trip_id = trips.trip_id\n",
    "WHERE stops.stop_id LIKE '%8503000%'\n",
    "GROUP BY\n",
    "    trips.trip_short_name\n",
    "ORDER BY\n",
    "    count DESC\n",
    "LIMIT 50\n",
    "\"\"\"\n",
    "df = connection.sql(qry).df()\n",
    "df"
   ],
   "metadata": {
    "collapsed": false,
    "ExecuteTime": {
     "end_time": "2024-11-19T11:24:39.223963800Z",
     "start_time": "2024-11-19T11:24:38.991515800Z"
    }
   }
  }
 ],
 "metadata": {
  "kernelspec": {
   "display_name": "Python 3",
   "language": "python",
   "name": "python3"
  },
  "language_info": {
   "codemirror_mode": {
    "name": "ipython",
    "version": 2
   },
   "file_extension": ".py",
   "mimetype": "text/x-python",
   "name": "python",
   "nbconvert_exporter": "python",
   "pygments_lexer": "ipython2",
   "version": "2.7.6"
  }
 },
 "nbformat": 4,
 "nbformat_minor": 0
}
