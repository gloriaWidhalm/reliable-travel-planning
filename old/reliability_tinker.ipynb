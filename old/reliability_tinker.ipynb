{
 "cells": [
  {
   "cell_type": "code",
   "execution_count": 9,
   "metadata": {
    "ExecuteTime": {
     "end_time": "2025-01-28T09:41:28.712582800Z",
     "start_time": "2025-01-28T09:41:28.672511100Z"
    },
    "collapsed": true
   },
   "outputs": [],
   "source": [
    "from typing import List\n",
    "\n",
    "\n",
    "def compute_probability(time: int, time_distribution: List[int]) -> float:\n",
    "    \"\"\"\n",
    "    Compute the probability of a train departing or arriving at a given time\n",
    "    given a list of departure times or arrival times\n",
    "    \"\"\"\n",
    "    # count the number of trains departing/arriving at the given time\n",
    "    count = time_distribution.count(time)\n",
    "    # count the total number of trains\n",
    "    total = len(time_distribution)\n",
    "    # compute the probability\n",
    "    probability = count / total\n",
    "    return probability\n",
    "\n",
    "\n",
    "def compute_probability_to_arrive_at_or_before(\n",
    "    time_limit: int, arrival_times: List[int]\n",
    ") -> float:\n",
    "    \"\"\"\n",
    "    Compute the probability of arriving at or before a given time\n",
    "    given a list of arrival times\n",
    "    \"\"\"\n",
    "    # get first (minimum) arrival time\n",
    "    min_arrival_time = arrival_times[\n",
    "        0\n",
    "    ]  # note: should be the first, we assume we get a sorted list\n",
    "    # get last (maximum) arrival time -> either the latest arrival time or the time limit if that is earlier\n",
    "    max_arrival_time = min(arrival_times[-1], time_limit)\n",
    "    # for each arrival time, compute the probability of arriving at that time (which is the probability of arriving at or before the time limit)\n",
    "    probabilities = [\n",
    "        compute_probability(time, arrival_times)\n",
    "        for time in range(min_arrival_time, max_arrival_time + 1)\n",
    "    ]\n",
    "    # sum the probabilities\n",
    "    probability = sum(probabilities)\n",
    "    return probability"
   ]
  },
  {
   "cell_type": "code",
   "execution_count": 2,
   "metadata": {
    "ExecuteTime": {
     "end_time": "2025-01-28T08:52:55.130463700Z",
     "start_time": "2025-01-28T08:52:55.056932300Z"
    },
    "collapsed": false
   },
   "outputs": [],
   "source": [
    "# @todo -> this is a simplification, we need to find a data structure that allows us to store the stations and their connections\n",
    "# @todo -> here we only have one \"destination\" per (unique) station, but in reality, we can have multiple connections -> but only one for a unique trip!\n",
    "trips_graph = {\n",
    "    # departure node (=Liestal) -> [(scheduled departure_time, neighbor station, scheduled arrival_time, trip identifier)]\n",
    "    # @todo -> add reliability of the connection\n",
    "    # departure station, then as list the array of connections with the planned departure time, the neighbor station, the planned arrival time, the trip identifier and the tuple of actual departure and arrival times\n",
    "    \"Zurich\": [(5, \"Olten\", 15, \"IC6\", [(5, 15), (6, 16), (10, 20)])],\n",
    "    \"Olten\": [(20, \"Bern\", 30, \"IC6\", [(20, 30), (20, 32), (25, 35)])],\n",
    "    \"Bern\": [(35, \"Brig\", 45, \"IC6\", [(35, 45), (37, 47), (40, 50)])],\n",
    "    \"Brig\": [\n",
    "        (55, \"Milan\", 65, \"IC6\", [(55, 65), (57, 67), (60, 70)])\n",
    "    ],  #'Milan' not important for this example\n",
    "}\n",
    "\n",
    "\n",
    "stations = {\n",
    "    \"Zurich\": {\n",
    "        # @todo use different structure -> tuples of arrival and departure times\n",
    "        \"arr_dep_tuples\": [(0, 5), (0, 6), (0, 10)],\n",
    "        \"arrival_times\": [0, 0, 0],\n",
    "        \"departure_times\": [5, 6, 10],\n",
    "        \"to\": \"Olten\",\n",
    "    },\n",
    "    \"Olten\": {\n",
    "        \"arr_dep_tuples\": [(15, 20), (15, 20), (20, 25)],\n",
    "        \"arrival_times\": [15, 15, 20],\n",
    "        \"departure_times\": [20, 20, 25],\n",
    "        \"to\": \"Bern\",\n",
    "    },\n",
    "    \"Bern\": {\n",
    "        \"arr_dep_tuples\": [(30, 35), (32, 37), (35, 40)],\n",
    "        \"arrival_times\": [30, 32, 35],\n",
    "        \"departure_times\": [35, 37, 40],\n",
    "        \"to\": \"Brig\",\n",
    "    },\n",
    "    \"Brig\": {\n",
    "        \"arr_dep_tuples\": [(45, 50), (47, 52), (50, 55)],\n",
    "        \"arrival_times\": [45, 47, 50],\n",
    "        \"departure_times\": [55, 57, 60],  # not important for this example\n",
    "        \"to\": \"Milan\",  # not important for this example\n",
    "    },\n",
    "}"
   ]
  },
  {
   "cell_type": "code",
   "execution_count": 3,
   "metadata": {
    "ExecuteTime": {
     "end_time": "2025-01-28T08:52:55.183049900Z",
     "start_time": "2025-01-28T08:52:55.066812500Z"
    },
    "collapsed": false
   },
   "outputs": [
    {
     "data": {
      "text/plain": "{'Zurich': {'arr_dep_tuples': [(0, 5), (0, 6), (0, 10)],\n  'arrival_times': [0, 0, 0],\n  'departure_times': [5, 6, 10],\n  'to': 'Olten',\n  'departure_probabilities': [(5, 0.3333333333333333),\n   (6, 0.3333333333333333),\n   (10, 0.3333333333333333)]},\n 'Olten': {'arr_dep_tuples': [(15, 20), (15, 20), (20, 25)],\n  'arrival_times': [15, 15, 20],\n  'departure_times': [20, 20, 25],\n  'to': 'Bern',\n  'departure_probabilities': [(20, 0.6666666666666666),\n   (20, 0.6666666666666666),\n   (25, 0.3333333333333333)]},\n 'Bern': {'arr_dep_tuples': [(30, 35), (32, 37), (35, 40)],\n  'arrival_times': [30, 32, 35],\n  'departure_times': [35, 37, 40],\n  'to': 'Brig',\n  'departure_probabilities': [(35, 0.3333333333333333),\n   (37, 0.3333333333333333),\n   (40, 0.3333333333333333)]},\n 'Brig': {'arr_dep_tuples': [(45, 50), (47, 52), (50, 55)],\n  'arrival_times': [45, 47, 50],\n  'departure_times': [55, 57, 60],\n  'to': 'Milan',\n  'departure_probabilities': [(55, 0.3333333333333333),\n   (57, 0.3333333333333333),\n   (60, 0.3333333333333333)]}}"
     },
     "execution_count": 3,
     "metadata": {},
     "output_type": "execute_result"
    }
   ],
   "source": [
    "# first, create unique lists of the departure and arrival times for each station\n",
    "# @todo -> question: we should not sort it, because the order means which departure and arrival times belong together?\n",
    "# @todo -> a unique list here is also wrong -> otherwise the probabilities are wrong\n",
    "# for station in stations.values():\n",
    "#     station['arrival_times'] = list(set(station['arrival_times']))\n",
    "#     station['departure_times'] = list(set(station['departure_times']))\n",
    "\n",
    "\n",
    "# add the departure probabilities -> creating a tuple from the departure time and the probability\n",
    "for station in stations.values():\n",
    "    station[\"departure_probabilities\"] = [\n",
    "        (time, compute_probability(time, station[\"departure_times\"]))\n",
    "        for time in station[\"departure_times\"]\n",
    "    ]\n",
    "\n",
    "stations"
   ]
  },
  {
   "cell_type": "code",
   "execution_count": 10,
   "metadata": {
    "ExecuteTime": {
     "end_time": "2025-01-28T09:41:44.532871800Z",
     "start_time": "2025-01-28T09:41:44.495945600Z"
    },
    "collapsed": false
   },
   "outputs": [
    {
     "name": "stdout",
     "output_type": "stream",
     "text": [
      "time limit: 15\n",
      "arrival times: [15, 15, 20]\n",
      "max arrival time: 15\n",
      "probabilities: [0.6666666666666666]\n",
      "time limit: 20\n",
      "arrival times: [15, 15, 20]\n",
      "max arrival time: 20\n",
      "probabilities: [0.6666666666666666, 0.0, 0.0, 0.0, 0.0, 0.3333333333333333]\n",
      "time limit: 0\n",
      "arrival times: [0, 0, 0]\n",
      "max arrival time: 0\n",
      "probabilities: [1.0]\n",
      "time limit: 0\n",
      "arrival times: [0, 0, 0]\n",
      "max arrival time: 0\n",
      "probabilities: [1.0]\n",
      "time limit: 0\n",
      "arrival times: [0, 0, 0]\n",
      "max arrival time: 0\n",
      "probabilities: [1.0]\n",
      "time limit: 15\n",
      "arrival times: [15, 15, 20]\n",
      "max arrival time: 15\n",
      "probabilities: [0.6666666666666666]\n",
      "time limit: 15\n",
      "arrival times: [15, 15, 20]\n",
      "max arrival time: 15\n",
      "probabilities: [0.6666666666666666]\n",
      "time limit: 20\n",
      "arrival times: [15, 15, 20]\n",
      "max arrival time: 20\n",
      "probabilities: [0.6666666666666666, 0.0, 0.0, 0.0, 0.0, 0.3333333333333333]\n",
      "time limit: 30\n",
      "arrival times: [30, 32, 35]\n",
      "max arrival time: 30\n",
      "probabilities: [0.3333333333333333]\n",
      "time limit: 32\n",
      "arrival times: [30, 32, 35]\n",
      "max arrival time: 32\n",
      "probabilities: [0.3333333333333333, 0.0, 0.3333333333333333]\n",
      "time limit: 35\n",
      "arrival times: [30, 32, 35]\n",
      "max arrival time: 35\n",
      "probabilities: [0.3333333333333333, 0.0, 0.3333333333333333, 0.0, 0.0, 0.3333333333333333]\n",
      "time limit: 45\n",
      "arrival times: [45, 47, 50]\n",
      "max arrival time: 45\n",
      "probabilities: [0.3333333333333333]\n",
      "time limit: 47\n",
      "arrival times: [45, 47, 50]\n",
      "max arrival time: 47\n",
      "probabilities: [0.3333333333333333, 0.0, 0.3333333333333333]\n",
      "time limit: 50\n",
      "arrival times: [45, 47, 50]\n",
      "max arrival time: 50\n",
      "probabilities: [0.3333333333333333, 0.0, 0.3333333333333333, 0.0, 0.0, 0.3333333333333333]\n"
     ]
    },
    {
     "data": {
      "text/plain": "{'Zurich': {'arr_dep_tuples': [(0, 5), (0, 6), (0, 10)],\n  'arrival_times': [0, 0, 0],\n  'departure_times': [5, 6, 10],\n  'to': 'Olten',\n  'departure_probabilities': [(5, 0.3333333333333333),\n   (6, 0.3333333333333333),\n   (10, 0.3333333333333333)],\n  'arrival_probabilities': [(0, 1.0), (0, 1.0), (0, 1.0)]},\n 'Olten': {'arr_dep_tuples': [(15, 20), (15, 20), (20, 25)],\n  'arrival_times': [15, 15, 20],\n  'departure_times': [20, 20, 25],\n  'to': 'Bern',\n  'departure_probabilities': [(20, 0.6666666666666666),\n   (20, 0.6666666666666666),\n   (25, 0.3333333333333333)],\n  'arrival_probabilities': [(15, 0.6666666666666666),\n   (15, 0.6666666666666666),\n   (20, 1.0)]},\n 'Bern': {'arr_dep_tuples': [(30, 35), (32, 37), (35, 40)],\n  'arrival_times': [30, 32, 35],\n  'departure_times': [35, 37, 40],\n  'to': 'Brig',\n  'departure_probabilities': [(35, 0.3333333333333333),\n   (37, 0.3333333333333333),\n   (40, 0.3333333333333333)],\n  'arrival_probabilities': [(30, 0.3333333333333333),\n   (32, 0.6666666666666666),\n   (35, 1.0)]},\n 'Brig': {'arr_dep_tuples': [(45, 50), (47, 52), (50, 55)],\n  'arrival_times': [45, 47, 50],\n  'departure_times': [55, 57, 60],\n  'to': 'Milan',\n  'departure_probabilities': [(55, 0.3333333333333333),\n   (57, 0.3333333333333333),\n   (60, 0.3333333333333333)],\n  'arrival_probabilities': [(45, 0.3333333333333333),\n   (47, 0.6666666666666666),\n   (50, 1.0)]}}"
     },
     "execution_count": 10,
     "metadata": {},
     "output_type": "execute_result"
    }
   ],
   "source": [
    "# for simplicity -> first step, compute probability that we arrive at Olten with a start time 0, budget of 17 and transfer time of 5 minutes (as the default transfer time)\n",
    "# this is only an intermediate step to understand the reliability computation better\n",
    "\n",
    "# @todo -> this is a simplification, because I know that I go from Zurich to Olten, but in reality, I need to find the connection that goes from Zurich to Olten\n",
    "compute_probability_to_arrive_at_or_before(15, stations[\"Olten\"][\"arrival_times\"])\n",
    "compute_probability_to_arrive_at_or_before(20, stations[\"Olten\"][\"arrival_times\"])\n",
    "\n",
    "# add the arrival probabilities (in the same order as the arrival times) to the stations\n",
    "for station in stations.values():\n",
    "    # @todo / note: this only is correct between the first and second station, because we need to consider making the other connections for further stations\n",
    "    station[\"arrival_probabilities\"] = [\n",
    "        (\n",
    "            time,\n",
    "            compute_probability_to_arrive_at_or_before(time, station[\"arrival_times\"]),\n",
    "        )\n",
    "        for time in station[\"arrival_times\"]\n",
    "    ]\n",
    "stations"
   ]
  },
  {
   "cell_type": "code",
   "execution_count": 5,
   "metadata": {
    "ExecuteTime": {
     "end_time": "2025-01-28T08:52:55.183049900Z",
     "start_time": "2025-01-28T08:52:55.106843900Z"
    },
    "collapsed": false
   },
   "outputs": [],
   "source": [
    "# Now - also for simplicity, compute the probability of making a connection (specifically, from Zurich to Olten)"
   ]
  },
  {
   "cell_type": "code",
   "execution_count": 6,
   "metadata": {
    "ExecuteTime": {
     "end_time": "2025-01-28T08:52:55.183049900Z",
     "start_time": "2025-01-28T08:52:55.107350700Z"
    },
    "collapsed": false
   },
   "outputs": [],
   "source": [
    "def compute_connection_probability(\n",
    "    departure_time_probabilities: List[int],\n",
    "    arrival_time_probabilities: List[float],\n",
    "    stations: List,\n",
    "    station: str,\n",
    "    transfer_time=5,\n",
    ") -> float:\n",
    "    # @todo -> refactor a bit (to make it useful for the next steps, e.g. how the parameters are passed and how the data is stored)\n",
    "    \"\"\"\n",
    "    Compute the probability of making a connection given a list of departure times and a list of arrival time probabilities\n",
    "    \"\"\"\n",
    "    # for each departure time, compute the probability of making a connection\n",
    "    probabilities = []\n",
    "    # multiply probability of departing at time t with the probability of arriving at or before time (t - transfer time)\n",
    "    for i in range(len(departure_time_probabilities)):\n",
    "        # only consider the arrival time probabilities that are before the departure time\n",
    "        # @todo -> solve this with a precomputed list of probabilities (since we need it more often)\n",
    "        # @todo -> maybe use combined (multiplied) probability that a certain train departs at time t' when it arrives at or before time t\n",
    "        arrival_probability = compute_probability_to_arrive_at_or_before(\n",
    "            departure_time_probabilities[i][0] - transfer_time,\n",
    "            stations[station][\"arrival_times\"],\n",
    "        )\n",
    "        probabilities.append(departure_time_probabilities[i][1] * arrival_probability)\n",
    "    # sum the probabilities\n",
    "    probability = sum(probabilities)\n",
    "    return probability\n",
    "\n",
    "\n",
    "# we assume that we already have unique lists of tuples representing the departure and arrival times and their probabilities\n",
    "# sort the lists by time\n",
    "departure_probabilities = list(set(stations[\"Olten\"][\"departure_probabilities\"]))\n",
    "departure_probabilities.sort(key=lambda x: x[0])\n",
    "arrival_probabilities = list(set(stations[\"Olten\"][\"arrival_probabilities\"]))\n",
    "arrival_probabilities.sort(key=lambda x: x[0])\n",
    "made_connection_1_2 = compute_connection_probability(\n",
    "    departure_probabilities, arrival_probabilities, stations, \"Olten\"\n",
    ")"
   ]
  },
  {
   "cell_type": "code",
   "execution_count": 13,
   "metadata": {
    "ExecuteTime": {
     "end_time": "2025-01-28T09:57:52.388718200Z",
     "start_time": "2025-01-28T09:57:52.373678900Z"
    },
    "collapsed": false
   },
   "outputs": [
    {
     "name": "stdout",
     "output_type": "stream",
     "text": [
      "Departure probabilities:  [(20, 0.6666666666666666), (25, 0.3333333333333333)]\n",
      "Departure time:  20\n",
      "occurence_arrival_departure 1\n",
      "time limit: 15\n",
      "arrival times: [15, 15, 20]\n",
      "max arrival time: 15\n",
      "probabilities: [0.6666666666666666]\n",
      "Probability arrival before t':  0.6666666666666666\n",
      "Multiply 0.6666666666666666 0.6666666666666666 0.5 divide by 0.7777777777777777\n",
      "Departure time:  25\n",
      "occurence_arrival_departure 0\n",
      "time limit: 20\n",
      "arrival times: [15, 15, 20]\n",
      "max arrival time: 20\n",
      "probabilities: [0.6666666666666666, 0.0, 0.0, 0.0, 0.0, 0.3333333333333333]\n",
      "Probability arrival before t':  1.0\n",
      "Multiply 0.3333333333333333 1.0 0.0 divide by 0.7777777777777777\n"
     ]
    },
    {
     "data": {
      "text/plain": "0.28571428571428575"
     },
     "execution_count": 13,
     "metadata": {},
     "output_type": "execute_result"
    }
   ],
   "source": [
    "# Now compute probability that trip 2 arrives at the third station given that we make the connection between the first and second trip (=between first and second station)\n",
    "\n",
    "t = 30\n",
    "departure_probabilities = list(set(stations[\"Olten\"][\"departure_probabilities\"]))\n",
    "departure_probabilities.sort(key=lambda x: x[0])\n",
    "arrival_probabilities_second_stop = list(set(stations[\"Bern\"][\"arrival_probabilities\"]))\n",
    "arrival_probabilities_second_stop.sort(key=lambda x: x[0])\n",
    "arrival_times_first_stop = stations[\"Olten\"][\"arrival_times\"]\n",
    "arrival_probabilities_first_stop = list(set(stations[\"Olten\"][\"arrival_probabilities\"]))\n",
    "arrival_probabilities_first_stop.sort(\n",
    "    key=lambda x: x[0]\n",
    ")  # @todo ordering here correct?\n",
    "\n",
    "print(\"Departure probabilities: \", departure_probabilities)\n",
    "arrival_departure_tuples_second_station = [(20, 30), (20, 32), (25, 35)]\n",
    "\n",
    "\n",
    "def compute_probability_to_arrive_at_t_given_made_connection(\n",
    "    time: int,\n",
    "    departure_probabilities: List,\n",
    "    arrival_probabilities_second_stop: List,\n",
    "    arrival_times_first_stop: List[int],\n",
    "    probability_connection_made: float,\n",
    "    arrival_departure_tuples_second_station: List,\n",
    "    transfer_time=5,\n",
    ") -> float:\n",
    "    \"\"\"Compute the probability of arriving at time t given that we made the connection.\"\"\"\n",
    "    probabilities = []\n",
    "    # loop through all possible departure times\n",
    "    for t_dep in departure_probabilities:\n",
    "        # probability of arriving at time t given the departure at t'\n",
    "        # we need to count how often an arrival-departure pair occurs (divided by total number of arrival-departure pairs) and then divide by the probability that we depart at t'\n",
    "        occurence_arrival_departure_pair = 0\n",
    "        # arrival times included in the arrival probabilities\n",
    "        # @todo -> here we need the tuples!, count otherwise wrong!, refactor please :)\n",
    "        for pair in arrival_departure_tuples_second_station:\n",
    "            if t_dep[0] == pair[0] and time == pair[1]:\n",
    "                occurence_arrival_departure_pair += 1\n",
    "        probability_arrival_t_departure_t_prime = (\n",
    "            occurence_arrival_departure_pair / len(arrival_probabilities_second_stop)\n",
    "        )\n",
    "        probability_arrival_given_departure = (\n",
    "            probability_arrival_t_departure_t_prime / t_dep[1]\n",
    "        )\n",
    "        print(\"Departure time: \", t_dep[0])\n",
    "        print(\"occurence_arrival_departure\", occurence_arrival_departure_pair)\n",
    "        # print(\"probability given departure\", probability_arrival_given_departure, \"occurence_arrival_departure\", occurence_arrival_departure_pair)\n",
    "        # probability that we depart at t'\n",
    "        probability_departure = t_dep[1]\n",
    "        # probability that we arrive before t' - transfer time\n",
    "        probability_arrival_before_t_prime = compute_probability_to_arrive_at_or_before(\n",
    "            t_dep[0] - transfer_time, arrival_times_first_stop\n",
    "        )\n",
    "        print(\"Probability arrival before t': \", probability_arrival_before_t_prime)\n",
    "        # probability that we arrive at t given that we made the connection\n",
    "        print(\n",
    "            \"Multiply\",\n",
    "            probability_departure,\n",
    "            probability_arrival_before_t_prime,\n",
    "            probability_arrival_given_departure,\n",
    "            \"divide by\",\n",
    "            probability_connection_made,\n",
    "        )\n",
    "        probability = (\n",
    "            probability_departure\n",
    "            * probability_arrival_before_t_prime\n",
    "            * probability_arrival_given_departure\n",
    "        ) / probability_connection_made\n",
    "        probabilities.append(probability)\n",
    "    probability_sum = sum(probabilities)\n",
    "    return probability_sum\n",
    "\n",
    "\n",
    "compute_probability_to_arrive_at_t_given_made_connection(\n",
    "    t,\n",
    "    departure_probabilities,\n",
    "    arrival_probabilities_second_stop,\n",
    "    arrival_times_first_stop,\n",
    "    made_connection_1_2,\n",
    "    arrival_departure_tuples_second_station,\n",
    ")"
   ]
  }
 ],
 "metadata": {
  "kernelspec": {
   "display_name": "Python 3",
   "language": "python",
   "name": "python3"
  },
  "language_info": {
   "codemirror_mode": {
    "name": "ipython",
    "version": 2
   },
   "file_extension": ".py",
   "mimetype": "text/x-python",
   "name": "python",
   "nbconvert_exporter": "python",
   "pygments_lexer": "ipython2",
   "version": "2.7.6"
  }
 },
 "nbformat": 4,
 "nbformat_minor": 0
}
